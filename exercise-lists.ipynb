{
 "cells": [
  {
   "cell_type": "markdown",
   "id": "bb398915",
   "metadata": {
    "papermill": {
     "duration": 0.00614,
     "end_time": "2023-04-05T22:33:26.866513",
     "exception": false,
     "start_time": "2023-04-05T22:33:26.860373",
     "status": "completed"
    },
    "tags": []
   },
   "source": [
    "**This notebook is an exercise in the [Python](https://www.kaggle.com/learn/python) course.  You can reference the tutorial at [this link](https://www.kaggle.com/colinmorris/lists).**\n",
    "\n",
    "---\n"
   ]
  },
  {
   "cell_type": "markdown",
   "id": "88b27916",
   "metadata": {
    "papermill": {
     "duration": 0.004517,
     "end_time": "2023-04-05T22:33:26.876066",
     "exception": false,
     "start_time": "2023-04-05T22:33:26.871549",
     "status": "completed"
    },
    "tags": []
   },
   "source": [
    "Things get more interesting with lists. You'll apply your new knowledge to solve the questions below. Remember to run the following cell first."
   ]
  },
  {
   "cell_type": "code",
   "execution_count": 1,
   "id": "d228f607",
   "metadata": {
    "execution": {
     "iopub.execute_input": "2023-04-05T22:33:26.889207Z",
     "iopub.status.busy": "2023-04-05T22:33:26.887764Z",
     "iopub.status.idle": "2023-04-05T22:33:26.942783Z",
     "shell.execute_reply": "2023-04-05T22:33:26.941100Z"
    },
    "papermill": {
     "duration": 0.064345,
     "end_time": "2023-04-05T22:33:26.945461",
     "exception": false,
     "start_time": "2023-04-05T22:33:26.881116",
     "status": "completed"
    },
    "tags": []
   },
   "outputs": [
    {
     "name": "stdout",
     "output_type": "stream",
     "text": [
      "Setup complete.\n"
     ]
    }
   ],
   "source": [
    "from learntools.core import binder; binder.bind(globals())\n",
    "from learntools.python.ex4 import *\n",
    "print('Setup complete.')"
   ]
  },
  {
   "cell_type": "markdown",
   "id": "74f8ebb3",
   "metadata": {
    "papermill": {
     "duration": 0.004849,
     "end_time": "2023-04-05T22:33:26.955450",
     "exception": false,
     "start_time": "2023-04-05T22:33:26.950601",
     "status": "completed"
    },
    "tags": []
   },
   "source": [
    "# 1.\n",
    "\n",
    "Complete the function below according to its docstring."
   ]
  },
  {
   "cell_type": "code",
   "execution_count": 2,
   "id": "a8663b12",
   "metadata": {
    "execution": {
     "iopub.execute_input": "2023-04-05T22:33:26.967493Z",
     "iopub.status.busy": "2023-04-05T22:33:26.966619Z",
     "iopub.status.idle": "2023-04-05T22:33:26.976181Z",
     "shell.execute_reply": "2023-04-05T22:33:26.975228Z"
    },
    "papermill": {
     "duration": 0.01794,
     "end_time": "2023-04-05T22:33:26.978326",
     "exception": false,
     "start_time": "2023-04-05T22:33:26.960386",
     "status": "completed"
    },
    "tags": []
   },
   "outputs": [
    {
     "data": {
      "application/javascript": [
       "parent.postMessage({\"jupyterEvent\": \"custom.exercise_interaction\", \"data\": {\"outcomeType\": 1, \"valueTowardsCompletion\": 0.2, \"interactionType\": 1, \"questionType\": 2, \"questionId\": \"1_SelectSecondItem\", \"learnToolsVersion\": \"0.3.4\", \"failureMessage\": \"\", \"exceptionClass\": \"\", \"trace\": \"\"}}, \"*\")"
      ],
      "text/plain": [
       "<IPython.core.display.Javascript object>"
      ]
     },
     "metadata": {},
     "output_type": "display_data"
    },
    {
     "data": {
      "text/markdown": [
       "<span style=\"color:#33cc33\">Correct</span>"
      ],
      "text/plain": [
       "Correct"
      ]
     },
     "metadata": {},
     "output_type": "display_data"
    }
   ],
   "source": [
    "def select_second(L):\n",
    "    \"\"\"Return the second element of the given list. If the list has no second\n",
    "    element, return None.\n",
    "    \"\"\"\n",
    "    if len(L)<2:\n",
    "        return None\n",
    "    return L[1]\n",
    "    pass\n",
    "\n",
    "# Check your answer\n",
    "q1.check()"
   ]
  },
  {
   "cell_type": "code",
   "execution_count": 3,
   "id": "4808fc8c",
   "metadata": {
    "execution": {
     "iopub.execute_input": "2023-04-05T22:33:26.990857Z",
     "iopub.status.busy": "2023-04-05T22:33:26.990245Z",
     "iopub.status.idle": "2023-04-05T22:33:26.993926Z",
     "shell.execute_reply": "2023-04-05T22:33:26.993063Z"
    },
    "papermill": {
     "duration": 0.012581,
     "end_time": "2023-04-05T22:33:26.996036",
     "exception": false,
     "start_time": "2023-04-05T22:33:26.983455",
     "status": "completed"
    },
    "tags": []
   },
   "outputs": [],
   "source": [
    "#q1.hint()\n",
    "#q1.solution()"
   ]
  },
  {
   "cell_type": "markdown",
   "id": "f3ef664b",
   "metadata": {
    "papermill": {
     "duration": 0.004931,
     "end_time": "2023-04-05T22:33:27.006141",
     "exception": false,
     "start_time": "2023-04-05T22:33:27.001210",
     "status": "completed"
    },
    "tags": []
   },
   "source": [
    "# 2.\n",
    "\n",
    "You are analyzing sports teams.  Members of each team are stored in a list. The Coach is the first name in the list, the captain is the second name in the list, and other players are listed after that. \n",
    "These lists are stored in another list, which starts with the best team and proceeds through the list to the worst team last.  Complete the function below to select the **captain** of the worst team."
   ]
  },
  {
   "cell_type": "code",
   "execution_count": 4,
   "id": "3d21c6a9",
   "metadata": {
    "execution": {
     "iopub.execute_input": "2023-04-05T22:33:27.018624Z",
     "iopub.status.busy": "2023-04-05T22:33:27.017980Z",
     "iopub.status.idle": "2023-04-05T22:33:27.027091Z",
     "shell.execute_reply": "2023-04-05T22:33:27.025810Z"
    },
    "papermill": {
     "duration": 0.018297,
     "end_time": "2023-04-05T22:33:27.029577",
     "exception": false,
     "start_time": "2023-04-05T22:33:27.011280",
     "status": "completed"
    },
    "tags": []
   },
   "outputs": [
    {
     "data": {
      "application/javascript": [
       "parent.postMessage({\"jupyterEvent\": \"custom.exercise_interaction\", \"data\": {\"outcomeType\": 1, \"valueTowardsCompletion\": 0.2, \"interactionType\": 1, \"questionType\": 2, \"questionId\": \"2_LosingTeamCaptain\", \"learnToolsVersion\": \"0.3.4\", \"failureMessage\": \"\", \"exceptionClass\": \"\", \"trace\": \"\"}}, \"*\")"
      ],
      "text/plain": [
       "<IPython.core.display.Javascript object>"
      ]
     },
     "metadata": {},
     "output_type": "display_data"
    },
    {
     "data": {
      "text/markdown": [
       "<span style=\"color:#33cc33\">Correct</span>"
      ],
      "text/plain": [
       "Correct"
      ]
     },
     "metadata": {},
     "output_type": "display_data"
    }
   ],
   "source": [
    "def losing_team_captain(teams):\n",
    "    \"\"\"Given a list of teams, where each team is a list of names, return the 2nd player (captain)\n",
    "    from the last listed team\n",
    "    \"\"\"\n",
    "    return teams[-1][1]\n",
    "    pass\n",
    "\n",
    "# Check your answer\n",
    "q2.check()"
   ]
  },
  {
   "cell_type": "code",
   "execution_count": 5,
   "id": "6b7d5c84",
   "metadata": {
    "execution": {
     "iopub.execute_input": "2023-04-05T22:33:27.042465Z",
     "iopub.status.busy": "2023-04-05T22:33:27.042088Z",
     "iopub.status.idle": "2023-04-05T22:33:27.046504Z",
     "shell.execute_reply": "2023-04-05T22:33:27.045366Z"
    },
    "papermill": {
     "duration": 0.013606,
     "end_time": "2023-04-05T22:33:27.048762",
     "exception": false,
     "start_time": "2023-04-05T22:33:27.035156",
     "status": "completed"
    },
    "tags": []
   },
   "outputs": [],
   "source": [
    "#q2.hint()\n",
    "#q2.solution()"
   ]
  },
  {
   "cell_type": "markdown",
   "id": "80463a40",
   "metadata": {
    "papermill": {
     "duration": 0.005402,
     "end_time": "2023-04-05T22:33:27.060073",
     "exception": false,
     "start_time": "2023-04-05T22:33:27.054671",
     "status": "completed"
    },
    "tags": []
   },
   "source": [
    "# 3.\n",
    "\n",
    "The next iteration of Mario Kart will feature an extra-infuriating new item, the *Purple Shell*. When used, it warps the last place racer into first place and the first place racer into last place. Complete the function below to implement the Purple Shell's effect."
   ]
  },
  {
   "cell_type": "code",
   "execution_count": 6,
   "id": "49c75294",
   "metadata": {
    "execution": {
     "iopub.execute_input": "2023-04-05T22:33:27.074275Z",
     "iopub.status.busy": "2023-04-05T22:33:27.073246Z",
     "iopub.status.idle": "2023-04-05T22:33:27.083969Z",
     "shell.execute_reply": "2023-04-05T22:33:27.082720Z"
    },
    "papermill": {
     "duration": 0.01981,
     "end_time": "2023-04-05T22:33:27.086177",
     "exception": false,
     "start_time": "2023-04-05T22:33:27.066367",
     "status": "completed"
    },
    "tags": []
   },
   "outputs": [
    {
     "data": {
      "application/javascript": [
       "parent.postMessage({\"jupyterEvent\": \"custom.exercise_interaction\", \"data\": {\"outcomeType\": 1, \"valueTowardsCompletion\": 0.2, \"interactionType\": 1, \"questionType\": 2, \"questionId\": \"3_PurpleShell\", \"learnToolsVersion\": \"0.3.4\", \"failureMessage\": \"\", \"exceptionClass\": \"\", \"trace\": \"\"}}, \"*\")"
      ],
      "text/plain": [
       "<IPython.core.display.Javascript object>"
      ]
     },
     "metadata": {},
     "output_type": "display_data"
    },
    {
     "data": {
      "text/markdown": [
       "<span style=\"color:#33cc33\">Correct</span>"
      ],
      "text/plain": [
       "Correct"
      ]
     },
     "metadata": {},
     "output_type": "display_data"
    }
   ],
   "source": [
    "def purple_shell(racers):\n",
    "    \"\"\"Given a list of racers, set the first place racer (at the front of the list) to last\n",
    "    place and vice versa.\n",
    "    \n",
    "    >>> r = [\"Mario\", \"Bowser\", \"Luigi\"]\n",
    "    >>> purple_shell(r)\n",
    "    >>> r\n",
    "    [\"Luigi\", \"Bowser\", \"Mario\"]\n",
    "    \"\"\"\n",
    "    temp = racers[0]\n",
    "    racers[0] = racers[-1]\n",
    "    racers[-1] = temp\n",
    "    pass\n",
    "\n",
    "# Check your answer\n",
    "q3.check()"
   ]
  },
  {
   "cell_type": "code",
   "execution_count": 7,
   "id": "58162f7a",
   "metadata": {
    "execution": {
     "iopub.execute_input": "2023-04-05T22:33:27.099722Z",
     "iopub.status.busy": "2023-04-05T22:33:27.098997Z",
     "iopub.status.idle": "2023-04-05T22:33:27.104175Z",
     "shell.execute_reply": "2023-04-05T22:33:27.103050Z"
    },
    "papermill": {
     "duration": 0.014501,
     "end_time": "2023-04-05T22:33:27.106455",
     "exception": false,
     "start_time": "2023-04-05T22:33:27.091954",
     "status": "completed"
    },
    "tags": []
   },
   "outputs": [],
   "source": [
    "#q3.hint()\n",
    "#q3.solution()"
   ]
  },
  {
   "cell_type": "markdown",
   "id": "020c6053",
   "metadata": {
    "papermill": {
     "duration": 0.005395,
     "end_time": "2023-04-05T22:33:27.117750",
     "exception": false,
     "start_time": "2023-04-05T22:33:27.112355",
     "status": "completed"
    },
    "tags": []
   },
   "source": [
    "# 4.\n",
    "\n",
    "What are the lengths of the following lists? Fill in the variable `lengths` with your predictions. (Try to make a prediction for each list *without* just calling `len()` on it.)"
   ]
  },
  {
   "cell_type": "code",
   "execution_count": 8,
   "id": "c19ab573",
   "metadata": {
    "execution": {
     "iopub.execute_input": "2023-04-05T22:33:27.132159Z",
     "iopub.status.busy": "2023-04-05T22:33:27.131462Z",
     "iopub.status.idle": "2023-04-05T22:33:27.141266Z",
     "shell.execute_reply": "2023-04-05T22:33:27.140095Z"
    },
    "papermill": {
     "duration": 0.020019,
     "end_time": "2023-04-05T22:33:27.143460",
     "exception": false,
     "start_time": "2023-04-05T22:33:27.123441",
     "status": "completed"
    },
    "tags": []
   },
   "outputs": [
    {
     "data": {
      "application/javascript": [
       "parent.postMessage({\"jupyterEvent\": \"custom.exercise_interaction\", \"data\": {\"outcomeType\": 1, \"valueTowardsCompletion\": 0.2, \"interactionType\": 1, \"questionType\": 1, \"questionId\": \"4_UnderstandLen\", \"learnToolsVersion\": \"0.3.4\", \"failureMessage\": \"\", \"exceptionClass\": \"\", \"trace\": \"\"}}, \"*\")"
      ],
      "text/plain": [
       "<IPython.core.display.Javascript object>"
      ]
     },
     "metadata": {},
     "output_type": "display_data"
    },
    {
     "data": {
      "text/markdown": [
       "<span style=\"color:#33cc33\">Correct:</span> \n",
       "\n",
       "\n",
       "- a: There are three items in this list. Nothing tricky yet.\n",
       "- b: The list `[2, 3]` counts as a single item. It has one item before it. So we have 2 items in the list\n",
       "- c: The empty list has 0 items\n",
       "- d: The expression is the same as the list `[2, 3]`, which has length 2."
      ],
      "text/plain": [
       "Correct: \n",
       "\n",
       "\n",
       "- a: There are three items in this list. Nothing tricky yet.\n",
       "- b: The list `[2, 3]` counts as a single item. It has one item before it. So we have 2 items in the list\n",
       "- c: The empty list has 0 items\n",
       "- d: The expression is the same as the list `[2, 3]`, which has length 2."
      ]
     },
     "metadata": {},
     "output_type": "display_data"
    }
   ],
   "source": [
    "a = [1, 2, 3]\n",
    "b = [1, [2, 3]]\n",
    "c = []\n",
    "d = [1, 2, 3][1:]\n",
    "\n",
    "# Put your predictions in the list below. Lengths should contain 4 numbers, the\n",
    "# first being the length of a, the second being the length of b and so on.\n",
    "lengths = []\n",
    "lengths = [3, 2, 0, 2]\n",
    "# Check your answer\n",
    "q4.check()"
   ]
  },
  {
   "cell_type": "code",
   "execution_count": 9,
   "id": "e5466009",
   "metadata": {
    "execution": {
     "iopub.execute_input": "2023-04-05T22:33:27.157379Z",
     "iopub.status.busy": "2023-04-05T22:33:27.156743Z",
     "iopub.status.idle": "2023-04-05T22:33:27.160739Z",
     "shell.execute_reply": "2023-04-05T22:33:27.159640Z"
    },
    "papermill": {
     "duration": 0.01378,
     "end_time": "2023-04-05T22:33:27.163210",
     "exception": false,
     "start_time": "2023-04-05T22:33:27.149430",
     "status": "completed"
    },
    "tags": []
   },
   "outputs": [],
   "source": [
    "# line below provides some explanation\n",
    "#q4.solution()"
   ]
  },
  {
   "cell_type": "markdown",
   "id": "ddce8519",
   "metadata": {
    "papermill": {
     "duration": 0.005743,
     "end_time": "2023-04-05T22:33:27.174950",
     "exception": false,
     "start_time": "2023-04-05T22:33:27.169207",
     "status": "completed"
    },
    "tags": []
   },
   "source": [
    "# 5. <span title=\"A bit spicy\" style=\"color: darkgreen \">🌶️</span>\n",
    "\n",
    "We're using lists to record people who attended our party and what order they arrived in. For example, the following list represents a party with 7 guests, in which Adela showed up first and Ford was the last to arrive:\n",
    "\n",
    "    party_attendees = ['Adela', 'Fleda', 'Owen', 'May', 'Mona', 'Gilbert', 'Ford']\n",
    "\n",
    "A guest is considered 'fashionably late' if they arrived after at least half of the party's guests. However, they must not be the very last guest (that's taking it too far). In the above example, Mona and Gilbert are the only guests who were fashionably late.\n",
    "\n",
    "Complete the function below which takes a list of party attendees as well as a person, and tells us whether that person is fashionably late."
   ]
  },
  {
   "cell_type": "code",
   "execution_count": 10,
   "id": "57c2c3d5",
   "metadata": {
    "execution": {
     "iopub.execute_input": "2023-04-05T22:33:27.188871Z",
     "iopub.status.busy": "2023-04-05T22:33:27.188417Z",
     "iopub.status.idle": "2023-04-05T22:33:27.199165Z",
     "shell.execute_reply": "2023-04-05T22:33:27.198304Z"
    },
    "papermill": {
     "duration": 0.020622,
     "end_time": "2023-04-05T22:33:27.201738",
     "exception": false,
     "start_time": "2023-04-05T22:33:27.181116",
     "status": "completed"
    },
    "tags": []
   },
   "outputs": [
    {
     "data": {
      "application/javascript": [
       "parent.postMessage({\"jupyterEvent\": \"custom.exercise_interaction\", \"data\": {\"outcomeType\": 1, \"valueTowardsCompletion\": 0.2, \"interactionType\": 1, \"questionType\": 2, \"questionId\": \"5_FashionablyLate\", \"learnToolsVersion\": \"0.3.4\", \"failureMessage\": \"\", \"exceptionClass\": \"\", \"trace\": \"\"}}, \"*\")"
      ],
      "text/plain": [
       "<IPython.core.display.Javascript object>"
      ]
     },
     "metadata": {},
     "output_type": "display_data"
    },
    {
     "data": {
      "text/markdown": [
       "<span style=\"color:#33cc33\">Correct</span>"
      ],
      "text/plain": [
       "Correct"
      ]
     },
     "metadata": {},
     "output_type": "display_data"
    }
   ],
   "source": [
    "def fashionably_late(arrivals, name):\n",
    "    \"\"\"Given an ordered list of arrivals to the party and a name, return whether the guest with that\n",
    "    name was fashionably late.\n",
    "    \"\"\"\n",
    "    order = arrivals.index(name)\n",
    "    return order >= len(arrivals) / 2 and order != len(arrivals) - 1\n",
    "    pass\n",
    "\n",
    "# Check your answer\n",
    "q5.check()"
   ]
  },
  {
   "cell_type": "code",
   "execution_count": 11,
   "id": "a36e96d0",
   "metadata": {
    "execution": {
     "iopub.execute_input": "2023-04-05T22:33:27.217347Z",
     "iopub.status.busy": "2023-04-05T22:33:27.216244Z",
     "iopub.status.idle": "2023-04-05T22:33:27.221714Z",
     "shell.execute_reply": "2023-04-05T22:33:27.220655Z"
    },
    "papermill": {
     "duration": 0.015865,
     "end_time": "2023-04-05T22:33:27.224225",
     "exception": false,
     "start_time": "2023-04-05T22:33:27.208360",
     "status": "completed"
    },
    "tags": []
   },
   "outputs": [],
   "source": [
    "#q5.hint()\n",
    "#q5.solution()"
   ]
  },
  {
   "cell_type": "markdown",
   "id": "10dbf743",
   "metadata": {
    "papermill": {
     "duration": 0.006028,
     "end_time": "2023-04-05T22:33:27.237042",
     "exception": false,
     "start_time": "2023-04-05T22:33:27.231014",
     "status": "completed"
    },
    "tags": []
   },
   "source": [
    "# Keep Going\n",
    "\n",
    "That's it for lists and tuples! Now you have the baseline knowledge to **[learn about loops](https://www.kaggle.com/colinmorris/loops-and-list-comprehensions)**, which is where lists and tuples get really interesting. "
   ]
  },
  {
   "cell_type": "markdown",
   "id": "69c0c43f",
   "metadata": {
    "papermill": {
     "duration": 0.005777,
     "end_time": "2023-04-05T22:33:27.248969",
     "exception": false,
     "start_time": "2023-04-05T22:33:27.243192",
     "status": "completed"
    },
    "tags": []
   },
   "source": [
    "---\n",
    "\n",
    "\n",
    "\n",
    "\n",
    "*Have questions or comments? Visit the [course discussion forum](https://www.kaggle.com/learn/python/discussion) to chat with other learners.*"
   ]
  }
 ],
 "metadata": {
  "kernelspec": {
   "display_name": "Python 3",
   "language": "python",
   "name": "python3"
  },
  "language_info": {
   "codemirror_mode": {
    "name": "ipython",
    "version": 3
   },
   "file_extension": ".py",
   "mimetype": "text/x-python",
   "name": "python",
   "nbconvert_exporter": "python",
   "pygments_lexer": "ipython3",
   "version": "3.7.12"
  },
  "papermill": {
   "default_parameters": {},
   "duration": 11.333761,
   "end_time": "2023-04-05T22:33:27.876246",
   "environment_variables": {},
   "exception": null,
   "input_path": "__notebook__.ipynb",
   "output_path": "__notebook__.ipynb",
   "parameters": {},
   "start_time": "2023-04-05T22:33:16.542485",
   "version": "2.4.0"
  }
 },
 "nbformat": 4,
 "nbformat_minor": 5
}
