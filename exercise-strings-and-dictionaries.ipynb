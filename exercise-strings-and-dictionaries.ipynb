{
 "cells": [
  {
   "cell_type": "markdown",
   "id": "65ff0f94",
   "metadata": {
    "papermill": {
     "duration": 0.006738,
     "end_time": "2023-04-06T18:52:28.006974",
     "exception": false,
     "start_time": "2023-04-06T18:52:28.000236",
     "status": "completed"
    },
    "tags": []
   },
   "source": [
    "**This notebook is an exercise in the [Python](https://www.kaggle.com/learn/python) course.  You can reference the tutorial at [this link](https://www.kaggle.com/colinmorris/strings-and-dictionaries).**\n",
    "\n",
    "---\n"
   ]
  },
  {
   "cell_type": "markdown",
   "id": "c0506954",
   "metadata": {
    "papermill": {
     "duration": 0.005109,
     "end_time": "2023-04-06T18:52:28.017731",
     "exception": false,
     "start_time": "2023-04-06T18:52:28.012622",
     "status": "completed"
    },
    "tags": []
   },
   "source": [
    "You are almost done with the course. Nice job!\n",
    "\n",
    "We have a couple more interesting problems for you before you go. \n",
    "\n",
    "As always, run the setup code below before working on the questions."
   ]
  },
  {
   "cell_type": "code",
   "execution_count": 1,
   "id": "2e18ead1",
   "metadata": {
    "execution": {
     "iopub.execute_input": "2023-04-06T18:52:28.030603Z",
     "iopub.status.busy": "2023-04-06T18:52:28.030205Z",
     "iopub.status.idle": "2023-04-06T18:52:28.090029Z",
     "shell.execute_reply": "2023-04-06T18:52:28.088559Z"
    },
    "papermill": {
     "duration": 0.06978,
     "end_time": "2023-04-06T18:52:28.093075",
     "exception": false,
     "start_time": "2023-04-06T18:52:28.023295",
     "status": "completed"
    },
    "tags": []
   },
   "outputs": [
    {
     "name": "stdout",
     "output_type": "stream",
     "text": [
      "Setup complete.\n"
     ]
    }
   ],
   "source": [
    "from learntools.core import binder; binder.bind(globals())\n",
    "from learntools.python.ex6 import *\n",
    "print('Setup complete.')"
   ]
  },
  {
   "cell_type": "markdown",
   "id": "d40b0298",
   "metadata": {
    "papermill": {
     "duration": 0.005479,
     "end_time": "2023-04-06T18:52:28.104536",
     "exception": false,
     "start_time": "2023-04-06T18:52:28.099057",
     "status": "completed"
    },
    "tags": []
   },
   "source": [
    "Let's start with a string lightning round to warm up. What are the lengths of the strings below?\n",
    "\n",
    "For each of the five strings below, predict what `len()` would return when passed that string. Use the variable `length` to record your answer, then run the cell to check whether you were right.  \n",
    "\n",
    "# 0a."
   ]
  },
  {
   "cell_type": "code",
   "execution_count": 2,
   "id": "1f4714ca",
   "metadata": {
    "execution": {
     "iopub.execute_input": "2023-04-06T18:52:28.118962Z",
     "iopub.status.busy": "2023-04-06T18:52:28.117642Z",
     "iopub.status.idle": "2023-04-06T18:52:28.129135Z",
     "shell.execute_reply": "2023-04-06T18:52:28.128068Z"
    },
    "papermill": {
     "duration": 0.021033,
     "end_time": "2023-04-06T18:52:28.131625",
     "exception": false,
     "start_time": "2023-04-06T18:52:28.110592",
     "status": "completed"
    },
    "tags": []
   },
   "outputs": [
    {
     "data": {
      "application/javascript": [
       "parent.postMessage({\"jupyterEvent\": \"custom.exercise_interaction\", \"data\": {\"outcomeType\": 1, \"valueTowardsCompletion\": 0.3333333333333333, \"interactionType\": 1, \"questionType\": 1, \"questionId\": \"0.1_ZA\", \"learnToolsVersion\": \"0.3.4\", \"failureMessage\": \"\", \"exceptionClass\": \"\", \"trace\": \"\"}}, \"*\")"
      ],
      "text/plain": [
       "<IPython.core.display.Javascript object>"
      ]
     },
     "metadata": {},
     "output_type": "display_data"
    },
    {
     "data": {
      "text/markdown": [
       "<span style=\"color:#33cc33\">Correct:</span> \n",
       "\n",
       "The empty string has length zero. Note that the empty string is also the only string that Python considers as False when converting to boolean."
      ],
      "text/plain": [
       "Correct: \n",
       "\n",
       "The empty string has length zero. Note that the empty string is also the only string that Python considers as False when converting to boolean."
      ]
     },
     "metadata": {},
     "output_type": "display_data"
    }
   ],
   "source": [
    "a = \"\"\n",
    "\n",
    "length = len(a)\n",
    "q0.a.check()"
   ]
  },
  {
   "cell_type": "markdown",
   "id": "a8ab50db",
   "metadata": {
    "papermill": {
     "duration": 0.005548,
     "end_time": "2023-04-06T18:52:28.143097",
     "exception": false,
     "start_time": "2023-04-06T18:52:28.137549",
     "status": "completed"
    },
    "tags": []
   },
   "source": [
    "# 0b."
   ]
  },
  {
   "cell_type": "code",
   "execution_count": 3,
   "id": "c15cca93",
   "metadata": {
    "execution": {
     "iopub.execute_input": "2023-04-06T18:52:28.158066Z",
     "iopub.status.busy": "2023-04-06T18:52:28.156683Z",
     "iopub.status.idle": "2023-04-06T18:52:28.166209Z",
     "shell.execute_reply": "2023-04-06T18:52:28.164517Z"
    },
    "papermill": {
     "duration": 0.019338,
     "end_time": "2023-04-06T18:52:28.168687",
     "exception": false,
     "start_time": "2023-04-06T18:52:28.149349",
     "status": "completed"
    },
    "tags": []
   },
   "outputs": [
    {
     "data": {
      "application/javascript": [
       "parent.postMessage({\"jupyterEvent\": \"custom.exercise_interaction\", \"data\": {\"outcomeType\": 1, \"valueTowardsCompletion\": 0.3333333333333333, \"interactionType\": 1, \"questionType\": 1, \"questionId\": \"0.2_ZB\", \"learnToolsVersion\": \"0.3.4\", \"failureMessage\": \"\", \"exceptionClass\": \"\", \"trace\": \"\"}}, \"*\")"
      ],
      "text/plain": [
       "<IPython.core.display.Javascript object>"
      ]
     },
     "metadata": {},
     "output_type": "display_data"
    },
    {
     "data": {
      "text/markdown": [
       "<span style=\"color:#33cc33\">Correct:</span> \n",
       "\n",
       "Keep in mind Python includes spaces (and punctuation) when counting string length."
      ],
      "text/plain": [
       "Correct: \n",
       "\n",
       "Keep in mind Python includes spaces (and punctuation) when counting string length."
      ]
     },
     "metadata": {},
     "output_type": "display_data"
    }
   ],
   "source": [
    "b = \"it's ok\"\n",
    "length = len(b)\n",
    "q0.b.check()"
   ]
  },
  {
   "cell_type": "markdown",
   "id": "b291d73e",
   "metadata": {
    "papermill": {
     "duration": 0.005604,
     "end_time": "2023-04-06T18:52:28.180329",
     "exception": false,
     "start_time": "2023-04-06T18:52:28.174725",
     "status": "completed"
    },
    "tags": []
   },
   "source": [
    "# 0c."
   ]
  },
  {
   "cell_type": "code",
   "execution_count": 4,
   "id": "7113b3e5",
   "metadata": {
    "execution": {
     "iopub.execute_input": "2023-04-06T18:52:28.195119Z",
     "iopub.status.busy": "2023-04-06T18:52:28.193747Z",
     "iopub.status.idle": "2023-04-06T18:52:28.205067Z",
     "shell.execute_reply": "2023-04-06T18:52:28.203906Z"
    },
    "papermill": {
     "duration": 0.021553,
     "end_time": "2023-04-06T18:52:28.207914",
     "exception": false,
     "start_time": "2023-04-06T18:52:28.186361",
     "status": "completed"
    },
    "tags": []
   },
   "outputs": [
    {
     "data": {
      "application/javascript": [
       "parent.postMessage({\"jupyterEvent\": \"custom.exercise_interaction\", \"data\": {\"outcomeType\": 1, \"valueTowardsCompletion\": 0.3333333333333333, \"interactionType\": 1, \"questionType\": 1, \"questionId\": \"0.3_ZC\", \"learnToolsVersion\": \"0.3.4\", \"failureMessage\": \"\", \"exceptionClass\": \"\", \"trace\": \"\"}}, \"*\")"
      ],
      "text/plain": [
       "<IPython.core.display.Javascript object>"
      ]
     },
     "metadata": {},
     "output_type": "display_data"
    },
    {
     "data": {
      "text/markdown": [
       "<span style=\"color:#33cc33\">Correct:</span> \n",
       "\n",
       "Even though we use different syntax to create it, the string `c` is identical to `b`. In particular, note that the backslash is not part of the string, so it doesn't contribute to its length."
      ],
      "text/plain": [
       "Correct: \n",
       "\n",
       "Even though we use different syntax to create it, the string `c` is identical to `b`. In particular, note that the backslash is not part of the string, so it doesn't contribute to its length."
      ]
     },
     "metadata": {},
     "output_type": "display_data"
    }
   ],
   "source": [
    "c = 'it\\'s ok'\n",
    "length = len(c)\n",
    "q0.c.check()"
   ]
  },
  {
   "cell_type": "markdown",
   "id": "8c8870aa",
   "metadata": {
    "papermill": {
     "duration": 0.005993,
     "end_time": "2023-04-06T18:52:28.220347",
     "exception": false,
     "start_time": "2023-04-06T18:52:28.214354",
     "status": "completed"
    },
    "tags": []
   },
   "source": [
    "# 0d."
   ]
  },
  {
   "cell_type": "code",
   "execution_count": 5,
   "id": "0ab21f52",
   "metadata": {
    "execution": {
     "iopub.execute_input": "2023-04-06T18:52:28.234654Z",
     "iopub.status.busy": "2023-04-06T18:52:28.234220Z",
     "iopub.status.idle": "2023-04-06T18:52:28.244509Z",
     "shell.execute_reply": "2023-04-06T18:52:28.243049Z"
    },
    "papermill": {
     "duration": 0.020694,
     "end_time": "2023-04-06T18:52:28.247241",
     "exception": false,
     "start_time": "2023-04-06T18:52:28.226547",
     "status": "completed"
    },
    "tags": []
   },
   "outputs": [
    {
     "data": {
      "application/javascript": [
       "parent.postMessage({\"jupyterEvent\": \"custom.exercise_interaction\", \"data\": {\"outcomeType\": 1, \"valueTowardsCompletion\": 0.3333333333333333, \"interactionType\": 1, \"questionType\": 1, \"questionId\": \"0.4_ZD\", \"learnToolsVersion\": \"0.3.4\", \"failureMessage\": \"\", \"exceptionClass\": \"\", \"trace\": \"\"}}, \"*\")"
      ],
      "text/plain": [
       "<IPython.core.display.Javascript object>"
      ]
     },
     "metadata": {},
     "output_type": "display_data"
    },
    {
     "data": {
      "text/markdown": [
       "<span style=\"color:#33cc33\">Correct:</span> \n",
       "\n",
       "The fact that this string was created using triple-quote syntax doesn't make any difference in terms of its content or length. This string is exactly the same as `'hey'`."
      ],
      "text/plain": [
       "Correct: \n",
       "\n",
       "The fact that this string was created using triple-quote syntax doesn't make any difference in terms of its content or length. This string is exactly the same as `'hey'`."
      ]
     },
     "metadata": {},
     "output_type": "display_data"
    }
   ],
   "source": [
    "d = \"\"\"hey\"\"\"\n",
    "length = len(d)\n",
    "q0.d.check()"
   ]
  },
  {
   "cell_type": "markdown",
   "id": "606e997b",
   "metadata": {
    "papermill": {
     "duration": 0.006298,
     "end_time": "2023-04-06T18:52:28.261272",
     "exception": false,
     "start_time": "2023-04-06T18:52:28.254974",
     "status": "completed"
    },
    "tags": []
   },
   "source": [
    "# 0e."
   ]
  },
  {
   "cell_type": "code",
   "execution_count": 6,
   "id": "6033c8e6",
   "metadata": {
    "execution": {
     "iopub.execute_input": "2023-04-06T18:52:28.277191Z",
     "iopub.status.busy": "2023-04-06T18:52:28.276771Z",
     "iopub.status.idle": "2023-04-06T18:52:28.287950Z",
     "shell.execute_reply": "2023-04-06T18:52:28.286544Z"
    },
    "papermill": {
     "duration": 0.022448,
     "end_time": "2023-04-06T18:52:28.290797",
     "exception": false,
     "start_time": "2023-04-06T18:52:28.268349",
     "status": "completed"
    },
    "tags": []
   },
   "outputs": [
    {
     "data": {
      "application/javascript": [
       "parent.postMessage({\"jupyterEvent\": \"custom.exercise_interaction\", \"data\": {\"outcomeType\": 1, \"valueTowardsCompletion\": 0.3333333333333333, \"interactionType\": 1, \"questionType\": 1, \"questionId\": \"0.5_ZE\", \"learnToolsVersion\": \"0.3.4\", \"failureMessage\": \"\", \"exceptionClass\": \"\", \"trace\": \"\"}}, \"*\")"
      ],
      "text/plain": [
       "<IPython.core.display.Javascript object>"
      ]
     },
     "metadata": {},
     "output_type": "display_data"
    },
    {
     "data": {
      "text/markdown": [
       "<span style=\"color:#33cc33\">Correct:</span> \n",
       "\n",
       "The newline character is just a single character! (Even though we represent it to Python using a combination of two characters.)"
      ],
      "text/plain": [
       "Correct: \n",
       "\n",
       "The newline character is just a single character! (Even though we represent it to Python using a combination of two characters.)"
      ]
     },
     "metadata": {},
     "output_type": "display_data"
    }
   ],
   "source": [
    "e = '\\n'\n",
    "length = len(e)\n",
    "q0.e.check()"
   ]
  },
  {
   "cell_type": "markdown",
   "id": "10840720",
   "metadata": {
    "papermill": {
     "duration": 0.007098,
     "end_time": "2023-04-06T18:52:28.305011",
     "exception": false,
     "start_time": "2023-04-06T18:52:28.297913",
     "status": "completed"
    },
    "tags": []
   },
   "source": [
    "# 1.\n",
    "\n",
    "There is a saying that \"Data scientists spend 80% of their time cleaning data, and 20% of their time complaining about cleaning data.\" Let's see if you can write a function to help clean US zip code data. Given a string, it should return whether or not that string represents a valid zip code. For our purposes, a valid zip code is any string consisting of exactly 5 digits.\n",
    "\n",
    "HINT: `str` has a method that will be useful here. Use `help(str)` to review a list of string methods."
   ]
  },
  {
   "cell_type": "code",
   "execution_count": 7,
   "id": "e744e7d9",
   "metadata": {
    "execution": {
     "iopub.execute_input": "2023-04-06T18:52:28.320993Z",
     "iopub.status.busy": "2023-04-06T18:52:28.320594Z",
     "iopub.status.idle": "2023-04-06T18:52:28.329292Z",
     "shell.execute_reply": "2023-04-06T18:52:28.328358Z"
    },
    "papermill": {
     "duration": 0.019703,
     "end_time": "2023-04-06T18:52:28.331621",
     "exception": false,
     "start_time": "2023-04-06T18:52:28.311918",
     "status": "completed"
    },
    "tags": []
   },
   "outputs": [
    {
     "data": {
      "application/javascript": [
       "parent.postMessage({\"jupyterEvent\": \"custom.exercise_interaction\", \"data\": {\"outcomeType\": 1, \"valueTowardsCompletion\": 0.3333333333333333, \"interactionType\": 1, \"questionType\": 2, \"questionId\": \"1_ZipValidator\", \"learnToolsVersion\": \"0.3.4\", \"failureMessage\": \"\", \"exceptionClass\": \"\", \"trace\": \"\"}}, \"*\")"
      ],
      "text/plain": [
       "<IPython.core.display.Javascript object>"
      ]
     },
     "metadata": {},
     "output_type": "display_data"
    },
    {
     "data": {
      "text/markdown": [
       "<span style=\"color:#33cc33\">Correct</span>"
      ],
      "text/plain": [
       "Correct"
      ]
     },
     "metadata": {},
     "output_type": "display_data"
    }
   ],
   "source": [
    "def is_valid_zip(zip_code):\n",
    "    \"\"\"Returns whether the input string is a valid (5 digit) zip code\n",
    "    \"\"\"\n",
    "    if (len(str(zip_code))==5 and zip_code.isdigit()==True):\n",
    "         return True\n",
    "        \n",
    "    return False\n",
    "\n",
    "# Check your answer\n",
    "q1.check()"
   ]
  },
  {
   "cell_type": "code",
   "execution_count": 8,
   "id": "664e09e5",
   "metadata": {
    "execution": {
     "iopub.execute_input": "2023-04-06T18:52:28.348008Z",
     "iopub.status.busy": "2023-04-06T18:52:28.347612Z",
     "iopub.status.idle": "2023-04-06T18:52:28.351605Z",
     "shell.execute_reply": "2023-04-06T18:52:28.350392Z"
    },
    "papermill": {
     "duration": 0.015757,
     "end_time": "2023-04-06T18:52:28.354512",
     "exception": false,
     "start_time": "2023-04-06T18:52:28.338755",
     "status": "completed"
    },
    "tags": []
   },
   "outputs": [],
   "source": [
    "#q1.hint()\n",
    "#q1.solution()"
   ]
  },
  {
   "cell_type": "markdown",
   "id": "85fad6fb",
   "metadata": {
    "papermill": {
     "duration": 0.006967,
     "end_time": "2023-04-06T18:52:28.368799",
     "exception": false,
     "start_time": "2023-04-06T18:52:28.361832",
     "status": "completed"
    },
    "tags": []
   },
   "source": [
    "# 2.\n",
    "\n",
    "A researcher has gathered thousands of news articles. But she wants to focus her attention on articles including a specific word. Complete the function below to help her filter her list of articles.\n",
    "\n",
    "Your function should meet the following criteria:\n",
    "\n",
    "- Do not include documents where the keyword string shows up only as a part of a larger word. For example, if she were looking for the keyword “closed”, you would not include the string “enclosed.” \n",
    "- She does not want you to distinguish upper case from lower case letters. So the phrase “Closed the case.” would be included when the keyword is “closed”\n",
    "- Do not let periods or commas affect what is matched. “It is closed.” would be included when the keyword is “closed”. But you can assume there are no other types of punctuation."
   ]
  },
  {
   "cell_type": "code",
   "execution_count": 9,
   "id": "7d5f5c3c",
   "metadata": {
    "execution": {
     "iopub.execute_input": "2023-04-06T18:52:28.386110Z",
     "iopub.status.busy": "2023-04-06T18:52:28.385683Z",
     "iopub.status.idle": "2023-04-06T18:52:28.397616Z",
     "shell.execute_reply": "2023-04-06T18:52:28.396462Z"
    },
    "papermill": {
     "duration": 0.02384,
     "end_time": "2023-04-06T18:52:28.400379",
     "exception": false,
     "start_time": "2023-04-06T18:52:28.376539",
     "status": "completed"
    },
    "tags": []
   },
   "outputs": [
    {
     "data": {
      "application/javascript": [
       "parent.postMessage({\"jupyterEvent\": \"custom.exercise_interaction\", \"data\": {\"outcomeType\": 1, \"valueTowardsCompletion\": 0.3333333333333333, \"interactionType\": 1, \"questionType\": 2, \"questionId\": \"2_WordSearch\", \"learnToolsVersion\": \"0.3.4\", \"failureMessage\": \"\", \"exceptionClass\": \"\", \"trace\": \"\"}}, \"*\")"
      ],
      "text/plain": [
       "<IPython.core.display.Javascript object>"
      ]
     },
     "metadata": {},
     "output_type": "display_data"
    },
    {
     "data": {
      "text/markdown": [
       "<span style=\"color:#33cc33\">Correct</span>"
      ],
      "text/plain": [
       "Correct"
      ]
     },
     "metadata": {},
     "output_type": "display_data"
    }
   ],
   "source": [
    "def word_search(documents, keyword):\n",
    "    # list to hold the indices of matching documents\n",
    "    indices = [] \n",
    "    # Iterate through the indices (i) and elements (doc) of documents\n",
    "    for i, doc in enumerate(documents):\n",
    "        # Split the string doc into a list of words (according to whitespace)\n",
    "        tokens = doc.split()\n",
    "        # Make a transformed list where we 'normalize' each word to facilitate matching.\n",
    "        # Periods and commas are removed from the end of each word, and it's set to all lowercase.\n",
    "        normalized = [token.rstrip('.,').lower() for token in tokens]\n",
    "        # Is there a match? If so, update the list of matching indices.\n",
    "        if keyword.lower() in normalized:\n",
    "            indices.append(i)\n",
    "    return indices\n",
    "\n",
    "# Check your answer\n",
    "q2.check()"
   ]
  },
  {
   "cell_type": "code",
   "execution_count": 10,
   "id": "01506d40",
   "metadata": {
    "execution": {
     "iopub.execute_input": "2023-04-06T18:52:28.417811Z",
     "iopub.status.busy": "2023-04-06T18:52:28.417366Z",
     "iopub.status.idle": "2023-04-06T18:52:28.422214Z",
     "shell.execute_reply": "2023-04-06T18:52:28.420997Z"
    },
    "papermill": {
     "duration": 0.017019,
     "end_time": "2023-04-06T18:52:28.424848",
     "exception": false,
     "start_time": "2023-04-06T18:52:28.407829",
     "status": "completed"
    },
    "tags": []
   },
   "outputs": [],
   "source": [
    "#q2.hint()\n",
    "#q2.solution()"
   ]
  },
  {
   "cell_type": "markdown",
   "id": "c07732de",
   "metadata": {
    "papermill": {
     "duration": 0.007144,
     "end_time": "2023-04-06T18:52:28.440120",
     "exception": false,
     "start_time": "2023-04-06T18:52:28.432976",
     "status": "completed"
    },
    "tags": []
   },
   "source": [
    "# 3.\n",
    "\n",
    "Now the researcher wants to supply multiple keywords to search for. Complete the function below to help her.\n",
    "\n",
    "(You're encouraged to use the `word_search` function you just wrote when implementing this function. Reusing code in this way makes your programs more robust and readable - and it saves typing!)"
   ]
  },
  {
   "cell_type": "code",
   "execution_count": 11,
   "id": "3d82fc23",
   "metadata": {
    "execution": {
     "iopub.execute_input": "2023-04-06T18:52:28.456983Z",
     "iopub.status.busy": "2023-04-06T18:52:28.456515Z",
     "iopub.status.idle": "2023-04-06T18:52:28.466407Z",
     "shell.execute_reply": "2023-04-06T18:52:28.465129Z"
    },
    "papermill": {
     "duration": 0.021362,
     "end_time": "2023-04-06T18:52:28.468915",
     "exception": false,
     "start_time": "2023-04-06T18:52:28.447553",
     "status": "completed"
    },
    "tags": []
   },
   "outputs": [
    {
     "data": {
      "application/javascript": [
       "parent.postMessage({\"jupyterEvent\": \"custom.exercise_interaction\", \"data\": {\"outcomeType\": 1, \"valueTowardsCompletion\": 0.3333333333333333, \"interactionType\": 1, \"questionType\": 2, \"questionId\": \"3_MultiWordSearch\", \"learnToolsVersion\": \"0.3.4\", \"failureMessage\": \"\", \"exceptionClass\": \"\", \"trace\": \"\"}}, \"*\")"
      ],
      "text/plain": [
       "<IPython.core.display.Javascript object>"
      ]
     },
     "metadata": {},
     "output_type": "display_data"
    },
    {
     "data": {
      "text/markdown": [
       "<span style=\"color:#33cc33\">Correct</span>"
      ],
      "text/plain": [
       "Correct"
      ]
     },
     "metadata": {},
     "output_type": "display_data"
    }
   ],
   "source": [
    "def multi_word_search(documents, keywords):\n",
    "    keyword_to_indices = {}\n",
    "    for keyword in keywords:\n",
    "        keyword_to_indices[keyword] = word_search(documents, keyword)\n",
    "    return keyword_to_indices\n",
    "# Check your answer\n",
    "q3.check()"
   ]
  },
  {
   "cell_type": "code",
   "execution_count": 12,
   "id": "688f093f",
   "metadata": {
    "execution": {
     "iopub.execute_input": "2023-04-06T18:52:28.486787Z",
     "iopub.status.busy": "2023-04-06T18:52:28.486012Z",
     "iopub.status.idle": "2023-04-06T18:52:28.496051Z",
     "shell.execute_reply": "2023-04-06T18:52:28.494679Z"
    },
    "papermill": {
     "duration": 0.02226,
     "end_time": "2023-04-06T18:52:28.498913",
     "exception": false,
     "start_time": "2023-04-06T18:52:28.476653",
     "status": "completed"
    },
    "tags": []
   },
   "outputs": [
    {
     "data": {
      "application/javascript": [
       "parent.postMessage({\"jupyterEvent\": \"custom.exercise_interaction\", \"data\": {\"interactionType\": 3, \"questionType\": 2, \"questionId\": \"3_MultiWordSearch\", \"learnToolsVersion\": \"0.3.4\", \"valueTowardsCompletion\": 0.0, \"failureMessage\": \"\", \"exceptionClass\": \"\", \"trace\": \"\", \"outcomeType\": 4}}, \"*\")"
      ],
      "text/plain": [
       "<IPython.core.display.Javascript object>"
      ]
     },
     "metadata": {},
     "output_type": "display_data"
    },
    {
     "data": {
      "text/markdown": [
       "<span style=\"color:#33cc99\">Solution:</span> \n",
       "```python\n",
       "def multi_word_search(documents, keywords):\n",
       "    keyword_to_indices = {}\n",
       "    for keyword in keywords:\n",
       "        keyword_to_indices[keyword] = word_search(documents, keyword)\n",
       "    return keyword_to_indices\n",
       "```"
      ],
      "text/plain": [
       "Solution: \n",
       "```python\n",
       "def multi_word_search(documents, keywords):\n",
       "    keyword_to_indices = {}\n",
       "    for keyword in keywords:\n",
       "        keyword_to_indices[keyword] = word_search(documents, keyword)\n",
       "    return keyword_to_indices\n",
       "```"
      ]
     },
     "metadata": {},
     "output_type": "display_data"
    }
   ],
   "source": [
    "q3.solution()"
   ]
  },
  {
   "cell_type": "markdown",
   "id": "9765bd1a",
   "metadata": {
    "papermill": {
     "duration": 0.00836,
     "end_time": "2023-04-06T18:52:28.515349",
     "exception": false,
     "start_time": "2023-04-06T18:52:28.506989",
     "status": "completed"
    },
    "tags": []
   },
   "source": [
    "# Keep Going\n",
    "\n",
    "You've learned a lot. But even the best programmers rely heavily on \"libraries\" of code from other programmers. You'll learn about that in **[the last lesson](https://www.kaggle.com/colinmorris/working-with-external-libraries)**.\n"
   ]
  },
  {
   "cell_type": "markdown",
   "id": "447b9eac",
   "metadata": {
    "papermill": {
     "duration": 0.007424,
     "end_time": "2023-04-06T18:52:28.530940",
     "exception": false,
     "start_time": "2023-04-06T18:52:28.523516",
     "status": "completed"
    },
    "tags": []
   },
   "source": [
    "---\n",
    "\n",
    "\n",
    "\n",
    "\n",
    "*Have questions or comments? Visit the [course discussion forum](https://www.kaggle.com/learn/python/discussion) to chat with other learners.*"
   ]
  }
 ],
 "metadata": {
  "kernelspec": {
   "display_name": "Python 3",
   "language": "python",
   "name": "python3"
  },
  "language_info": {
   "codemirror_mode": {
    "name": "ipython",
    "version": 3
   },
   "file_extension": ".py",
   "mimetype": "text/x-python",
   "name": "python",
   "nbconvert_exporter": "python",
   "pygments_lexer": "ipython3",
   "version": "3.7.12"
  },
  "papermill": {
   "default_parameters": {},
   "duration": 12.568441,
   "end_time": "2023-04-06T18:52:29.261640",
   "environment_variables": {},
   "exception": null,
   "input_path": "__notebook__.ipynb",
   "output_path": "__notebook__.ipynb",
   "parameters": {},
   "start_time": "2023-04-06T18:52:16.693199",
   "version": "2.4.0"
  }
 },
 "nbformat": 4,
 "nbformat_minor": 5
}
