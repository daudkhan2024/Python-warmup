{
 "cells": [
  {
   "cell_type": "markdown",
   "id": "ba10e145",
   "metadata": {
    "papermill": {
     "duration": 0.0107,
     "end_time": "2023-04-06T18:37:17.683910",
     "exception": false,
     "start_time": "2023-04-06T18:37:17.673210",
     "status": "completed"
    },
    "tags": []
   },
   "source": [
    "**This notebook is an exercise in the [Python](https://www.kaggle.com/learn/python) course.  You can reference the tutorial at [this link](https://www.kaggle.com/colinmorris/booleans-and-conditionals).**\n",
    "\n",
    "---\n"
   ]
  },
  {
   "cell_type": "markdown",
   "id": "788a41cf",
   "metadata": {
    "papermill": {
     "duration": 0.009374,
     "end_time": "2023-04-06T18:37:17.702947",
     "exception": false,
     "start_time": "2023-04-06T18:37:17.693573",
     "status": "completed"
    },
    "tags": []
   },
   "source": [
    "In this exercise, you'll put to work what you have learned about booleans and conditionals.\n",
    "\n",
    "To get started, **run the setup code below** before writing your own code (and if you leave this notebook and come back later, don't forget to run the setup code again)."
   ]
  },
  {
   "cell_type": "code",
   "execution_count": 1,
   "id": "1074c61b",
   "metadata": {
    "execution": {
     "iopub.execute_input": "2023-04-06T18:37:17.724960Z",
     "iopub.status.busy": "2023-04-06T18:37:17.724060Z",
     "iopub.status.idle": "2023-04-06T18:37:17.780978Z",
     "shell.execute_reply": "2023-04-06T18:37:17.779436Z"
    },
    "papermill": {
     "duration": 0.071581,
     "end_time": "2023-04-06T18:37:17.784170",
     "exception": false,
     "start_time": "2023-04-06T18:37:17.712589",
     "status": "completed"
    },
    "tags": []
   },
   "outputs": [
    {
     "name": "stdout",
     "output_type": "stream",
     "text": [
      "Setup complete.\n"
     ]
    }
   ],
   "source": [
    "from learntools.core import binder; binder.bind(globals())\n",
    "from learntools.python.ex3 import *\n",
    "print('Setup complete.')"
   ]
  },
  {
   "cell_type": "markdown",
   "id": "6a1bc465",
   "metadata": {
    "papermill": {
     "duration": 0.009273,
     "end_time": "2023-04-06T18:37:17.803437",
     "exception": false,
     "start_time": "2023-04-06T18:37:17.794164",
     "status": "completed"
    },
    "tags": []
   },
   "source": [
    "# 1.\n",
    "\n",
    "Many programming languages have [`sign`](https://en.wikipedia.org/wiki/Sign_function) available as a built-in function. Python doesn't, but we can define our own!\n",
    "\n",
    "In the cell below, define a function called `sign` which takes a numerical argument and returns -1 if it's negative, 1 if it's positive, and 0 if it's 0."
   ]
  },
  {
   "cell_type": "code",
   "execution_count": 2,
   "id": "bd654e22",
   "metadata": {
    "execution": {
     "iopub.execute_input": "2023-04-06T18:37:17.824794Z",
     "iopub.status.busy": "2023-04-06T18:37:17.823786Z",
     "iopub.status.idle": "2023-04-06T18:37:17.835447Z",
     "shell.execute_reply": "2023-04-06T18:37:17.834295Z"
    },
    "papermill": {
     "duration": 0.02508,
     "end_time": "2023-04-06T18:37:17.837966",
     "exception": false,
     "start_time": "2023-04-06T18:37:17.812886",
     "status": "completed"
    },
    "tags": []
   },
   "outputs": [
    {
     "data": {
      "application/javascript": [
       "parent.postMessage({\"jupyterEvent\": \"custom.exercise_interaction\", \"data\": {\"outcomeType\": 1, \"valueTowardsCompletion\": 0.2, \"interactionType\": 1, \"questionType\": 2, \"questionId\": \"1_SignFunctionProblem\", \"learnToolsVersion\": \"0.3.4\", \"failureMessage\": \"\", \"exceptionClass\": \"\", \"trace\": \"\"}}, \"*\")"
      ],
      "text/plain": [
       "<IPython.core.display.Javascript object>"
      ]
     },
     "metadata": {},
     "output_type": "display_data"
    },
    {
     "data": {
      "text/markdown": [
       "<span style=\"color:#33cc33\">Correct</span>"
      ],
      "text/plain": [
       "Correct"
      ]
     },
     "metadata": {},
     "output_type": "display_data"
    }
   ],
   "source": [
    "# Your code goes here. Define a function called 'sign'\n",
    "def sign(num):\n",
    "    if num < 0:\n",
    "        return -1\n",
    "    elif num > 0:\n",
    "        return 1\n",
    "    else:\n",
    "        return 0\n",
    "# Check your answer\n",
    "q1.check()"
   ]
  },
  {
   "cell_type": "code",
   "execution_count": 3,
   "id": "bc769b6c",
   "metadata": {
    "execution": {
     "iopub.execute_input": "2023-04-06T18:37:17.859525Z",
     "iopub.status.busy": "2023-04-06T18:37:17.859059Z",
     "iopub.status.idle": "2023-04-06T18:37:17.863774Z",
     "shell.execute_reply": "2023-04-06T18:37:17.862600Z"
    },
    "papermill": {
     "duration": 0.018832,
     "end_time": "2023-04-06T18:37:17.866596",
     "exception": false,
     "start_time": "2023-04-06T18:37:17.847764",
     "status": "completed"
    },
    "tags": []
   },
   "outputs": [],
   "source": [
    "#q1.solution()"
   ]
  },
  {
   "cell_type": "markdown",
   "id": "8e0ccd91",
   "metadata": {
    "papermill": {
     "duration": 0.009408,
     "end_time": "2023-04-06T18:37:17.886963",
     "exception": false,
     "start_time": "2023-04-06T18:37:17.877555",
     "status": "completed"
    },
    "tags": []
   },
   "source": [
    "# 2.\n",
    "\n",
    "We've decided to add \"logging\" to our `to_smash` function from the previous exercise."
   ]
  },
  {
   "cell_type": "code",
   "execution_count": 4,
   "id": "04418adc",
   "metadata": {
    "execution": {
     "iopub.execute_input": "2023-04-06T18:37:17.909224Z",
     "iopub.status.busy": "2023-04-06T18:37:17.908689Z",
     "iopub.status.idle": "2023-04-06T18:37:17.919242Z",
     "shell.execute_reply": "2023-04-06T18:37:17.917673Z"
    },
    "papermill": {
     "duration": 0.025665,
     "end_time": "2023-04-06T18:37:17.922690",
     "exception": false,
     "start_time": "2023-04-06T18:37:17.897025",
     "status": "completed"
    },
    "tags": []
   },
   "outputs": [
    {
     "name": "stdout",
     "output_type": "stream",
     "text": [
      "Splitting 91 candies\n"
     ]
    },
    {
     "data": {
      "text/plain": [
       "1"
      ]
     },
     "execution_count": 4,
     "metadata": {},
     "output_type": "execute_result"
    }
   ],
   "source": [
    "def to_smash(total_candies):\n",
    "    \"\"\"Return the number of leftover candies that must be smashed after distributing\n",
    "    the given number of candies evenly between 3 friends.\n",
    "    \n",
    "    >>> to_smash(91)\n",
    "    1\n",
    "    \"\"\"\n",
    "    print(\"Splitting\", total_candies, \"candies\")\n",
    "    return total_candies % 3\n",
    "\n",
    "to_smash(91)"
   ]
  },
  {
   "cell_type": "markdown",
   "id": "d75356fc",
   "metadata": {
    "papermill": {
     "duration": 0.009522,
     "end_time": "2023-04-06T18:37:17.942753",
     "exception": false,
     "start_time": "2023-04-06T18:37:17.933231",
     "status": "completed"
    },
    "tags": []
   },
   "source": [
    "What happens if we call it with `total_candies = 1`?"
   ]
  },
  {
   "cell_type": "code",
   "execution_count": 5,
   "id": "d134f19c",
   "metadata": {
    "execution": {
     "iopub.execute_input": "2023-04-06T18:37:17.964865Z",
     "iopub.status.busy": "2023-04-06T18:37:17.964426Z",
     "iopub.status.idle": "2023-04-06T18:37:17.972153Z",
     "shell.execute_reply": "2023-04-06T18:37:17.971153Z"
    },
    "papermill": {
     "duration": 0.021785,
     "end_time": "2023-04-06T18:37:17.974529",
     "exception": false,
     "start_time": "2023-04-06T18:37:17.952744",
     "status": "completed"
    },
    "tags": []
   },
   "outputs": [
    {
     "name": "stdout",
     "output_type": "stream",
     "text": [
      "Splitting 1 candies\n"
     ]
    },
    {
     "data": {
      "text/plain": [
       "1"
      ]
     },
     "execution_count": 5,
     "metadata": {},
     "output_type": "execute_result"
    }
   ],
   "source": [
    "to_smash(1)"
   ]
  },
  {
   "cell_type": "markdown",
   "id": "ebf52271",
   "metadata": {
    "papermill": {
     "duration": 0.010373,
     "end_time": "2023-04-06T18:37:17.995249",
     "exception": false,
     "start_time": "2023-04-06T18:37:17.984876",
     "status": "completed"
    },
    "tags": []
   },
   "source": [
    "That isn't great grammar!\n",
    "\n",
    "Modify the definition in the cell below to correct the grammar of our print statement. (If there's only one candy, we should use the singular \"candy\" instead of the plural \"candies\")"
   ]
  },
  {
   "cell_type": "code",
   "execution_count": 6,
   "id": "255c8d70",
   "metadata": {
    "execution": {
     "iopub.execute_input": "2023-04-06T18:37:18.018708Z",
     "iopub.status.busy": "2023-04-06T18:37:18.018237Z",
     "iopub.status.idle": "2023-04-06T18:37:18.029206Z",
     "shell.execute_reply": "2023-04-06T18:37:18.026865Z"
    },
    "papermill": {
     "duration": 0.026825,
     "end_time": "2023-04-06T18:37:18.032666",
     "exception": false,
     "start_time": "2023-04-06T18:37:18.005841",
     "status": "completed"
    },
    "tags": []
   },
   "outputs": [
    {
     "name": "stdout",
     "output_type": "stream",
     "text": [
      "Splitting 91 candies\n",
      "Splitting 1 candies\n"
     ]
    },
    {
     "data": {
      "text/plain": [
       "1"
      ]
     },
     "execution_count": 6,
     "metadata": {},
     "output_type": "execute_result"
    }
   ],
   "source": [
    "def to_smash(total_candies):\n",
    "    \"\"\"Return the number of leftover candies that must be smashed after distributing\n",
    "    the given number of candies evenly between 3 friends.\n",
    "    \n",
    "    >>> to_smash(91)\n",
    "    1\n",
    "    \"\"\"\n",
    "    print(\"Splitting\", total_candies, \"candies\")\n",
    "    return total_candies % 3\n",
    "\n",
    "to_smash(91)\n",
    "to_smash(1)"
   ]
  },
  {
   "cell_type": "markdown",
   "id": "bb78ccbe",
   "metadata": {
    "papermill": {
     "duration": 0.010002,
     "end_time": "2023-04-06T18:37:18.053992",
     "exception": false,
     "start_time": "2023-04-06T18:37:18.043990",
     "status": "completed"
    },
    "tags": []
   },
   "source": [
    "To get credit for completing this problem, and to see the official answer, run the code cell below."
   ]
  },
  {
   "cell_type": "code",
   "execution_count": 7,
   "id": "de79026f",
   "metadata": {
    "execution": {
     "iopub.execute_input": "2023-04-06T18:37:18.077146Z",
     "iopub.status.busy": "2023-04-06T18:37:18.076749Z",
     "iopub.status.idle": "2023-04-06T18:37:18.087213Z",
     "shell.execute_reply": "2023-04-06T18:37:18.085828Z"
    },
    "papermill": {
     "duration": 0.026111,
     "end_time": "2023-04-06T18:37:18.090213",
     "exception": false,
     "start_time": "2023-04-06T18:37:18.064102",
     "status": "completed"
    },
    "tags": []
   },
   "outputs": [
    {
     "data": {
      "application/javascript": [
       "parent.postMessage({\"jupyterEvent\": \"custom.exercise_interaction\", \"data\": {\"interactionType\": 3, \"questionType\": 4, \"questionId\": \"2_PluralizationProblem\", \"learnToolsVersion\": \"0.3.4\", \"valueTowardsCompletion\": 0.0, \"failureMessage\": \"\", \"exceptionClass\": \"\", \"trace\": \"\", \"outcomeType\": 4}}, \"*\")"
      ],
      "text/plain": [
       "<IPython.core.display.Javascript object>"
      ]
     },
     "metadata": {},
     "output_type": "display_data"
    },
    {
     "data": {
      "text/markdown": [
       "<span style=\"color:#33cc99\">Solution:</span> A straightforward (and totally fine) solution is to replace the original `print` call with:\n",
       "\n",
       "```python\n",
       "if total_candies == 1:\n",
       "    print(\"Splitting 1 candy\")\n",
       "else:\n",
       "    print(\"Splitting\", total_candies, \"candies\")\n",
       "```\n",
       "\n",
       "Here's a slightly more succinct solution using a conditional expression:\n",
       "\n",
       "```python\n",
       "print(\"Splitting\", total_candies, \"candy\" if total_candies == 1 else \"candies\")\n",
       "```"
      ],
      "text/plain": [
       "Solution: A straightforward (and totally fine) solution is to replace the original `print` call with:\n",
       "\n",
       "```python\n",
       "if total_candies == 1:\n",
       "    print(\"Splitting 1 candy\")\n",
       "else:\n",
       "    print(\"Splitting\", total_candies, \"candies\")\n",
       "```\n",
       "\n",
       "Here's a slightly more succinct solution using a conditional expression:\n",
       "\n",
       "```python\n",
       "print(\"Splitting\", total_candies, \"candy\" if total_candies == 1 else \"candies\")\n",
       "```"
      ]
     },
     "metadata": {},
     "output_type": "display_data"
    }
   ],
   "source": [
    "# Check your answer (Run this code cell to receive credit!)\n",
    "q2.solution()"
   ]
  },
  {
   "cell_type": "markdown",
   "id": "c2b6022e",
   "metadata": {
    "papermill": {
     "duration": 0.011156,
     "end_time": "2023-04-06T18:37:18.112114",
     "exception": false,
     "start_time": "2023-04-06T18:37:18.100958",
     "status": "completed"
    },
    "tags": []
   },
   "source": [
    "# 3. <span title=\"A bit spicy\" style=\"color: darkgreen \">🌶️</span>\n",
    "\n",
    "In the tutorial, we talked about deciding whether we're prepared for the weather. I said that I'm safe from today's weather if...\n",
    "- I have an umbrella...\n",
    "- or if the rain isn't too heavy and I have a hood...\n",
    "- otherwise, I'm still fine unless it's raining *and* it's a workday\n",
    "\n",
    "The function below uses our first attempt at turning this logic into a Python expression. I claimed that there was a bug in that code. Can you find it?\n",
    "\n",
    "To prove that `prepared_for_weather` is buggy, come up with a set of inputs where either:\n",
    "- the function returns `False` (but should have returned `True`), or\n",
    "- the function returned `True` (but should have returned `False`).\n",
    "\n",
    "To get credit for completing this question, your code should return a <font color='#33cc33'>Correct</font> result."
   ]
  },
  {
   "cell_type": "code",
   "execution_count": 8,
   "id": "b1b6f0db",
   "metadata": {
    "execution": {
     "iopub.execute_input": "2023-04-06T18:37:18.135522Z",
     "iopub.status.busy": "2023-04-06T18:37:18.135071Z",
     "iopub.status.idle": "2023-04-06T18:37:18.148635Z",
     "shell.execute_reply": "2023-04-06T18:37:18.147322Z"
    },
    "papermill": {
     "duration": 0.027974,
     "end_time": "2023-04-06T18:37:18.150857",
     "exception": false,
     "start_time": "2023-04-06T18:37:18.122883",
     "status": "completed"
    },
    "tags": []
   },
   "outputs": [
    {
     "name": "stdout",
     "output_type": "stream",
     "text": [
      "True\n"
     ]
    },
    {
     "data": {
      "application/javascript": [
       "parent.postMessage({\"jupyterEvent\": \"custom.exercise_interaction\", \"data\": {\"outcomeType\": 2, \"failureMessage\": \"Given `have_umbrella=True`, `rain_level=0.0`, `have_hood=False`, `is_workday=False`, `prepared_for_weather` returned `True`. But I think that's correct. (We want inputs that lead to an incorrect result from `prepared_for_weather`.)\", \"interactionType\": 1, \"questionType\": 1, \"questionId\": \"3_WeatherDebug\", \"learnToolsVersion\": \"0.3.4\", \"valueTowardsCompletion\": 0.0, \"exceptionClass\": \"\", \"trace\": \"\"}}, \"*\")"
      ],
      "text/plain": [
       "<IPython.core.display.Javascript object>"
      ]
     },
     "metadata": {},
     "output_type": "display_data"
    },
    {
     "data": {
      "text/markdown": [
       "<span style=\"color:#cc3333\">Incorrect:</span> Given `have_umbrella=True`, `rain_level=0.0`, `have_hood=False`, `is_workday=False`, `prepared_for_weather` returned `True`. But I think that's correct. (We want inputs that lead to an incorrect result from `prepared_for_weather`.)"
      ],
      "text/plain": [
       "Incorrect: Given `have_umbrella=True`, `rain_level=0.0`, `have_hood=False`, `is_workday=False`, `prepared_for_weather` returned `True`. But I think that's correct. (We want inputs that lead to an incorrect result from `prepared_for_weather`.)"
      ]
     },
     "metadata": {},
     "output_type": "display_data"
    }
   ],
   "source": [
    "def prepared_for_weather(have_umbrella, rain_level, have_hood, is_workday):\n",
    "    # Don't change this code. Our goal is just to find the bug, not fix it!\n",
    "    return have_umbrella or rain_level < 5 and have_hood or not rain_level > 0 and is_workday\n",
    "\n",
    "# Change the values of these inputs so they represent a case where prepared_for_weather\n",
    "# returns the wrong answer.\n",
    "have_umbrella = True\n",
    "rain_level = 0.0\n",
    "have_hood = False\n",
    "is_workday = False\n",
    "\n",
    "# Check what the function returns given the current values of the variables above\n",
    "actual = prepared_for_weather(have_umbrella, rain_level, have_hood, is_workday)\n",
    "print(actual)\n",
    "\n",
    "# Check your answer\n",
    "q3.check()"
   ]
  },
  {
   "cell_type": "code",
   "execution_count": 9,
   "id": "a39e4941",
   "metadata": {
    "execution": {
     "iopub.execute_input": "2023-04-06T18:37:18.175244Z",
     "iopub.status.busy": "2023-04-06T18:37:18.174790Z",
     "iopub.status.idle": "2023-04-06T18:37:18.180766Z",
     "shell.execute_reply": "2023-04-06T18:37:18.179463Z"
    },
    "papermill": {
     "duration": 0.021449,
     "end_time": "2023-04-06T18:37:18.183587",
     "exception": false,
     "start_time": "2023-04-06T18:37:18.162138",
     "status": "completed"
    },
    "tags": []
   },
   "outputs": [],
   "source": [
    "#q3.hint()\n",
    "#q3.solution()"
   ]
  },
  {
   "cell_type": "markdown",
   "id": "6f479118",
   "metadata": {
    "papermill": {
     "duration": 0.011372,
     "end_time": "2023-04-06T18:37:18.206462",
     "exception": false,
     "start_time": "2023-04-06T18:37:18.195090",
     "status": "completed"
    },
    "tags": []
   },
   "source": [
    "# 4.\n",
    "\n",
    "The function `is_negative` below is implemented correctly - it returns True if the given number is negative and False otherwise.\n",
    "\n",
    "However, it's more verbose than it needs to be. We can actually reduce the number of lines of code in this function by *75%* while keeping the same behaviour. \n",
    "\n",
    "See if you can come up with an equivalent body that uses just **one line** of code, and put it in the function `concise_is_negative`. (HINT: you don't even need Python's ternary syntax)"
   ]
  },
  {
   "cell_type": "code",
   "execution_count": 10,
   "id": "474d074b",
   "metadata": {
    "execution": {
     "iopub.execute_input": "2023-04-06T18:37:18.230890Z",
     "iopub.status.busy": "2023-04-06T18:37:18.230475Z",
     "iopub.status.idle": "2023-04-06T18:37:18.240798Z",
     "shell.execute_reply": "2023-04-06T18:37:18.239806Z"
    },
    "papermill": {
     "duration": 0.02606,
     "end_time": "2023-04-06T18:37:18.243458",
     "exception": false,
     "start_time": "2023-04-06T18:37:18.217398",
     "status": "completed"
    },
    "tags": []
   },
   "outputs": [
    {
     "data": {
      "application/javascript": [
       "parent.postMessage({\"jupyterEvent\": \"custom.exercise_interaction\", \"data\": {\"outcomeType\": 1, \"valueTowardsCompletion\": 0.2, \"interactionType\": 1, \"questionType\": 2, \"questionId\": \"4_ConciseIsNegative\", \"learnToolsVersion\": \"0.3.4\", \"failureMessage\": \"\", \"exceptionClass\": \"\", \"trace\": \"\"}}, \"*\")"
      ],
      "text/plain": [
       "<IPython.core.display.Javascript object>"
      ]
     },
     "metadata": {},
     "output_type": "display_data"
    },
    {
     "data": {
      "text/markdown": [
       "<span style=\"color:#33cc33\">Correct</span>"
      ],
      "text/plain": [
       "Correct"
      ]
     },
     "metadata": {},
     "output_type": "display_data"
    }
   ],
   "source": [
    "def is_negative(number):\n",
    "    if number < 0:\n",
    "        return True\n",
    "    else:\n",
    "        return False\n",
    "\n",
    "def concise_is_negative(number):\n",
    "    return number < 0\n",
    "    pass # Your code goes here (try to keep it to one line!)\n",
    "\n",
    "# Check your answer\n",
    "q4.check()"
   ]
  },
  {
   "cell_type": "code",
   "execution_count": 11,
   "id": "6329a784",
   "metadata": {
    "execution": {
     "iopub.execute_input": "2023-04-06T18:37:18.268655Z",
     "iopub.status.busy": "2023-04-06T18:37:18.268205Z",
     "iopub.status.idle": "2023-04-06T18:37:18.273416Z",
     "shell.execute_reply": "2023-04-06T18:37:18.272073Z"
    },
    "papermill": {
     "duration": 0.020562,
     "end_time": "2023-04-06T18:37:18.275933",
     "exception": false,
     "start_time": "2023-04-06T18:37:18.255371",
     "status": "completed"
    },
    "tags": []
   },
   "outputs": [],
   "source": [
    "#q4.hint()\n",
    "#q4.solution()"
   ]
  },
  {
   "cell_type": "markdown",
   "id": "0b22675b",
   "metadata": {
    "papermill": {
     "duration": 0.010834,
     "end_time": "2023-04-06T18:37:18.298108",
     "exception": false,
     "start_time": "2023-04-06T18:37:18.287274",
     "status": "completed"
    },
    "tags": []
   },
   "source": [
    "# 5a.\n",
    "\n",
    "The boolean variables `ketchup`, `mustard` and `onion` represent whether a customer wants a particular topping on their hot dog. We want to implement a number of boolean functions that correspond to some yes-or-no questions about the customer's order. For example:"
   ]
  },
  {
   "cell_type": "code",
   "execution_count": 12,
   "id": "45ef2843",
   "metadata": {
    "execution": {
     "iopub.execute_input": "2023-04-06T18:37:18.322005Z",
     "iopub.status.busy": "2023-04-06T18:37:18.321502Z",
     "iopub.status.idle": "2023-04-06T18:37:18.327460Z",
     "shell.execute_reply": "2023-04-06T18:37:18.326066Z"
    },
    "papermill": {
     "duration": 0.020833,
     "end_time": "2023-04-06T18:37:18.329949",
     "exception": false,
     "start_time": "2023-04-06T18:37:18.309116",
     "status": "completed"
    },
    "tags": []
   },
   "outputs": [],
   "source": [
    "def onionless(ketchup, mustard, onion):\n",
    "    \"\"\"Return whether the customer doesn't want onions.\n",
    "    \"\"\"\n",
    "    return not onion"
   ]
  },
  {
   "cell_type": "markdown",
   "id": "b0fa21f3",
   "metadata": {
    "papermill": {
     "duration": 0.010601,
     "end_time": "2023-04-06T18:37:18.351666",
     "exception": false,
     "start_time": "2023-04-06T18:37:18.341065",
     "status": "completed"
    },
    "tags": []
   },
   "source": [
    "%%"
   ]
  },
  {
   "cell_type": "code",
   "execution_count": 13,
   "id": "948eb731",
   "metadata": {
    "execution": {
     "iopub.execute_input": "2023-04-06T18:37:18.375638Z",
     "iopub.status.busy": "2023-04-06T18:37:18.375194Z",
     "iopub.status.idle": "2023-04-06T18:37:18.385073Z",
     "shell.execute_reply": "2023-04-06T18:37:18.384095Z"
    },
    "papermill": {
     "duration": 0.025017,
     "end_time": "2023-04-06T18:37:18.387633",
     "exception": false,
     "start_time": "2023-04-06T18:37:18.362616",
     "status": "completed"
    },
    "tags": []
   },
   "outputs": [
    {
     "data": {
      "application/javascript": [
       "parent.postMessage({\"jupyterEvent\": \"custom.exercise_interaction\", \"data\": {\"outcomeType\": 1, \"valueTowardsCompletion\": 0.2, \"interactionType\": 1, \"questionType\": 2, \"questionId\": \"5.1_AllToppings\", \"learnToolsVersion\": \"0.3.4\", \"failureMessage\": \"\", \"exceptionClass\": \"\", \"trace\": \"\"}}, \"*\")"
      ],
      "text/plain": [
       "<IPython.core.display.Javascript object>"
      ]
     },
     "metadata": {},
     "output_type": "display_data"
    },
    {
     "data": {
      "text/markdown": [
       "<span style=\"color:#33cc33\">Correct</span>"
      ],
      "text/plain": [
       "Correct"
      ]
     },
     "metadata": {},
     "output_type": "display_data"
    }
   ],
   "source": [
    "def wants_all_toppings(ketchup, mustard, onion):\n",
    "    \"\"\"Return whether the customer wants \"the works\" (all 3 toppings)\n",
    "    \"\"\"\n",
    "    return ketchup and mustard and onion\n",
    "    pass\n",
    "\n",
    "\n",
    "# Check your answer\n",
    "q5.a.check()"
   ]
  },
  {
   "cell_type": "code",
   "execution_count": 14,
   "id": "1931a980",
   "metadata": {
    "execution": {
     "iopub.execute_input": "2023-04-06T18:37:18.412519Z",
     "iopub.status.busy": "2023-04-06T18:37:18.412069Z",
     "iopub.status.idle": "2023-04-06T18:37:18.426052Z",
     "shell.execute_reply": "2023-04-06T18:37:18.424805Z"
    },
    "papermill": {
     "duration": 0.029466,
     "end_time": "2023-04-06T18:37:18.428624",
     "exception": false,
     "start_time": "2023-04-06T18:37:18.399158",
     "status": "completed"
    },
    "tags": []
   },
   "outputs": [
    {
     "data": {
      "application/javascript": [
       "parent.postMessage({\"jupyterEvent\": \"custom.exercise_interaction\", \"data\": {\"interactionType\": 2, \"questionType\": 2, \"questionId\": \"5.1_AllToppings\", \"learnToolsVersion\": \"0.3.4\", \"valueTowardsCompletion\": 0.0, \"failureMessage\": \"\", \"exceptionClass\": \"\", \"trace\": \"\", \"outcomeType\": 4}}, \"*\")"
      ],
      "text/plain": [
       "<IPython.core.display.Javascript object>"
      ]
     },
     "metadata": {},
     "output_type": "display_data"
    },
    {
     "data": {
      "text/markdown": [
       "<span style=\"color:#3366cc\">Hint:</span> You'll need to use the `and` operator."
      ],
      "text/plain": [
       "Hint: You'll need to use the `and` operator."
      ]
     },
     "metadata": {},
     "output_type": "display_data"
    },
    {
     "data": {
      "application/javascript": [
       "parent.postMessage({\"jupyterEvent\": \"custom.exercise_interaction\", \"data\": {\"interactionType\": 3, \"questionType\": 2, \"questionId\": \"5.1_AllToppings\", \"learnToolsVersion\": \"0.3.4\", \"valueTowardsCompletion\": 0.0, \"failureMessage\": \"\", \"exceptionClass\": \"\", \"trace\": \"\", \"outcomeType\": 4}}, \"*\")"
      ],
      "text/plain": [
       "<IPython.core.display.Javascript object>"
      ]
     },
     "metadata": {},
     "output_type": "display_data"
    },
    {
     "data": {
      "text/markdown": [
       "<span style=\"color:#33cc99\">Solution:</span> \n",
       "```python\n",
       "return ketchup and mustard and onion\n",
       "```"
      ],
      "text/plain": [
       "Solution: \n",
       "```python\n",
       "return ketchup and mustard and onion\n",
       "```"
      ]
     },
     "metadata": {},
     "output_type": "display_data"
    }
   ],
   "source": [
    "q5.a.hint()\n",
    "q5.a.solution()"
   ]
  },
  {
   "cell_type": "markdown",
   "id": "da619f4e",
   "metadata": {
    "papermill": {
     "duration": 0.011297,
     "end_time": "2023-04-06T18:37:18.451602",
     "exception": false,
     "start_time": "2023-04-06T18:37:18.440305",
     "status": "completed"
    },
    "tags": []
   },
   "source": [
    "# 5b.\n",
    "\n",
    "For the next function, fill in the body to match the English description in the docstring. "
   ]
  },
  {
   "cell_type": "code",
   "execution_count": 15,
   "id": "c58379bd",
   "metadata": {
    "execution": {
     "iopub.execute_input": "2023-04-06T18:37:18.477585Z",
     "iopub.status.busy": "2023-04-06T18:37:18.477166Z",
     "iopub.status.idle": "2023-04-06T18:37:18.487257Z",
     "shell.execute_reply": "2023-04-06T18:37:18.486030Z"
    },
    "papermill": {
     "duration": 0.025841,
     "end_time": "2023-04-06T18:37:18.489671",
     "exception": false,
     "start_time": "2023-04-06T18:37:18.463830",
     "status": "completed"
    },
    "tags": []
   },
   "outputs": [
    {
     "data": {
      "application/javascript": [
       "parent.postMessage({\"jupyterEvent\": \"custom.exercise_interaction\", \"data\": {\"outcomeType\": 1, \"valueTowardsCompletion\": 0.2, \"interactionType\": 1, \"questionType\": 2, \"questionId\": \"5.2_PlainDog\", \"learnToolsVersion\": \"0.3.4\", \"failureMessage\": \"\", \"exceptionClass\": \"\", \"trace\": \"\"}}, \"*\")"
      ],
      "text/plain": [
       "<IPython.core.display.Javascript object>"
      ]
     },
     "metadata": {},
     "output_type": "display_data"
    },
    {
     "data": {
      "text/markdown": [
       "<span style=\"color:#33cc33\">Correct:</span> \n",
       "\n",
       "One solution looks like:\n",
       "```python\n",
       "return not ketchup and not mustard and not onion\n",
       "```\n",
       "\n",
       "We can also [\"factor out\" the nots](https://en.wikipedia.org/wiki/De_Morgan%27s_laws) to get:\n",
       "\n",
       "```python\n",
       "return not (ketchup or mustard or onion)\n",
       "```"
      ],
      "text/plain": [
       "Correct: \n",
       "\n",
       "One solution looks like:\n",
       "```python\n",
       "return not ketchup and not mustard and not onion\n",
       "```\n",
       "\n",
       "We can also [\"factor out\" the nots](https://en.wikipedia.org/wiki/De_Morgan%27s_laws) to get:\n",
       "\n",
       "```python\n",
       "return not (ketchup or mustard or onion)\n",
       "```"
      ]
     },
     "metadata": {},
     "output_type": "display_data"
    }
   ],
   "source": [
    "def wants_plain_hotdog(ketchup, mustard, onion):\n",
    "    \"\"\"Return whether the customer wants a plain hot dog with no toppings.\n",
    "    \"\"\"\n",
    "    return not ketchup and not mustard and not onion\n",
    "    pass\n",
    "\n",
    "# Check your answer\n",
    "q5.b.check()"
   ]
  },
  {
   "cell_type": "code",
   "execution_count": 16,
   "id": "9ad40c92",
   "metadata": {
    "execution": {
     "iopub.execute_input": "2023-04-06T18:37:18.516089Z",
     "iopub.status.busy": "2023-04-06T18:37:18.515558Z",
     "iopub.status.idle": "2023-04-06T18:37:18.530439Z",
     "shell.execute_reply": "2023-04-06T18:37:18.529008Z"
    },
    "papermill": {
     "duration": 0.031328,
     "end_time": "2023-04-06T18:37:18.533262",
     "exception": false,
     "start_time": "2023-04-06T18:37:18.501934",
     "status": "completed"
    },
    "tags": []
   },
   "outputs": [
    {
     "data": {
      "application/javascript": [
       "parent.postMessage({\"jupyterEvent\": \"custom.exercise_interaction\", \"data\": {\"interactionType\": 2, \"questionType\": 2, \"questionId\": \"5.2_PlainDog\", \"learnToolsVersion\": \"0.3.4\", \"valueTowardsCompletion\": 0.0, \"failureMessage\": \"\", \"exceptionClass\": \"\", \"trace\": \"\", \"outcomeType\": 4}}, \"*\")"
      ],
      "text/plain": [
       "<IPython.core.display.Javascript object>"
      ]
     },
     "metadata": {},
     "output_type": "display_data"
    },
    {
     "data": {
      "text/markdown": [
       "<span style=\"color:#3366cc\">Hint:</span> You'll need to use the `not` operator."
      ],
      "text/plain": [
       "Hint: You'll need to use the `not` operator."
      ]
     },
     "metadata": {},
     "output_type": "display_data"
    },
    {
     "data": {
      "application/javascript": [
       "parent.postMessage({\"jupyterEvent\": \"custom.exercise_interaction\", \"data\": {\"interactionType\": 3, \"questionType\": 2, \"questionId\": \"5.2_PlainDog\", \"learnToolsVersion\": \"0.3.4\", \"valueTowardsCompletion\": 0.0, \"failureMessage\": \"\", \"exceptionClass\": \"\", \"trace\": \"\", \"outcomeType\": 4}}, \"*\")"
      ],
      "text/plain": [
       "<IPython.core.display.Javascript object>"
      ]
     },
     "metadata": {},
     "output_type": "display_data"
    },
    {
     "data": {
      "text/markdown": [
       "<span style=\"color:#33cc99\">Solution:</span> One solution looks like:\n",
       "```python\n",
       "return not ketchup and not mustard and not onion\n",
       "```\n",
       "\n",
       "We can also [\"factor out\" the nots](https://en.wikipedia.org/wiki/De_Morgan%27s_laws) to get:\n",
       "\n",
       "```python\n",
       "return not (ketchup or mustard or onion)\n",
       "```"
      ],
      "text/plain": [
       "Solution: One solution looks like:\n",
       "```python\n",
       "return not ketchup and not mustard and not onion\n",
       "```\n",
       "\n",
       "We can also [\"factor out\" the nots](https://en.wikipedia.org/wiki/De_Morgan%27s_laws) to get:\n",
       "\n",
       "```python\n",
       "return not (ketchup or mustard or onion)\n",
       "```"
      ]
     },
     "metadata": {},
     "output_type": "display_data"
    }
   ],
   "source": [
    "q5.b.hint()\n",
    "q5.b.solution()"
   ]
  },
  {
   "cell_type": "markdown",
   "id": "a9907b26",
   "metadata": {
    "papermill": {
     "duration": 0.012381,
     "end_time": "2023-04-06T18:37:18.558517",
     "exception": false,
     "start_time": "2023-04-06T18:37:18.546136",
     "status": "completed"
    },
    "tags": []
   },
   "source": [
    "# 5c.\n",
    "\n",
    "You know what to do: for the next function, fill in the body to match the English description in the docstring."
   ]
  },
  {
   "cell_type": "code",
   "execution_count": 17,
   "id": "8b4695be",
   "metadata": {
    "execution": {
     "iopub.execute_input": "2023-04-06T18:37:18.585972Z",
     "iopub.status.busy": "2023-04-06T18:37:18.585242Z",
     "iopub.status.idle": "2023-04-06T18:37:18.596496Z",
     "shell.execute_reply": "2023-04-06T18:37:18.595293Z"
    },
    "papermill": {
     "duration": 0.027974,
     "end_time": "2023-04-06T18:37:18.599056",
     "exception": false,
     "start_time": "2023-04-06T18:37:18.571082",
     "status": "completed"
    },
    "tags": []
   },
   "outputs": [
    {
     "data": {
      "application/javascript": [
       "parent.postMessage({\"jupyterEvent\": \"custom.exercise_interaction\", \"data\": {\"outcomeType\": 1, \"valueTowardsCompletion\": 0.2, \"interactionType\": 1, \"questionType\": 2, \"questionId\": \"5.3_OneSauce\", \"learnToolsVersion\": \"0.3.4\", \"failureMessage\": \"\", \"exceptionClass\": \"\", \"trace\": \"\"}}, \"*\")"
      ],
      "text/plain": [
       "<IPython.core.display.Javascript object>"
      ]
     },
     "metadata": {},
     "output_type": "display_data"
    },
    {
     "data": {
      "text/markdown": [
       "<span style=\"color:#33cc33\">Correct</span>"
      ],
      "text/plain": [
       "Correct"
      ]
     },
     "metadata": {},
     "output_type": "display_data"
    }
   ],
   "source": [
    "def exactly_one_sauce(ketchup, mustard, onion):\n",
    "    \"\"\"Return whether the customer wants either ketchup or mustard, but not both.\n",
    "    (You may be familiar with this operation under the name \"exclusive or\")\n",
    "    \"\"\"\n",
    "    return  (ketchup and not mustard) or (mustard and not ketchup)\n",
    "    pass\n",
    "\n",
    "# Check your answer\n",
    "q5.c.check()"
   ]
  },
  {
   "cell_type": "code",
   "execution_count": 18,
   "id": "547ca2ee",
   "metadata": {
    "execution": {
     "iopub.execute_input": "2023-04-06T18:37:18.627915Z",
     "iopub.status.busy": "2023-04-06T18:37:18.626641Z",
     "iopub.status.idle": "2023-04-06T18:37:18.642922Z",
     "shell.execute_reply": "2023-04-06T18:37:18.641589Z"
    },
    "papermill": {
     "duration": 0.03391,
     "end_time": "2023-04-06T18:37:18.645736",
     "exception": false,
     "start_time": "2023-04-06T18:37:18.611826",
     "status": "completed"
    },
    "tags": []
   },
   "outputs": [
    {
     "data": {
      "application/javascript": [
       "parent.postMessage({\"jupyterEvent\": \"custom.exercise_interaction\", \"data\": {\"interactionType\": 2, \"questionType\": 2, \"questionId\": \"5.3_OneSauce\", \"learnToolsVersion\": \"0.3.4\", \"valueTowardsCompletion\": 0.0, \"failureMessage\": \"\", \"exceptionClass\": \"\", \"trace\": \"\", \"outcomeType\": 4}}, \"*\")"
      ],
      "text/plain": [
       "<IPython.core.display.Javascript object>"
      ]
     },
     "metadata": {},
     "output_type": "display_data"
    },
    {
     "data": {
      "text/markdown": [
       "<span style=\"color:#3366cc\">Hint:</span> There are exactly two ways to set ketchup and mustard to make this true. What are they?"
      ],
      "text/plain": [
       "Hint: There are exactly two ways to set ketchup and mustard to make this true. What are they?"
      ]
     },
     "metadata": {},
     "output_type": "display_data"
    },
    {
     "data": {
      "application/javascript": [
       "parent.postMessage({\"jupyterEvent\": \"custom.exercise_interaction\", \"data\": {\"interactionType\": 3, \"questionType\": 2, \"questionId\": \"5.3_OneSauce\", \"learnToolsVersion\": \"0.3.4\", \"valueTowardsCompletion\": 0.0, \"failureMessage\": \"\", \"exceptionClass\": \"\", \"trace\": \"\", \"outcomeType\": 4}}, \"*\")"
      ],
      "text/plain": [
       "<IPython.core.display.Javascript object>"
      ]
     },
     "metadata": {},
     "output_type": "display_data"
    },
    {
     "data": {
      "text/markdown": [
       "<span style=\"color:#33cc99\">Solution:</span> \n",
       "```python\n",
       "return (ketchup and not mustard) or (mustard and not ketchup)\n",
       "```"
      ],
      "text/plain": [
       "Solution: \n",
       "```python\n",
       "return (ketchup and not mustard) or (mustard and not ketchup)\n",
       "```"
      ]
     },
     "metadata": {},
     "output_type": "display_data"
    }
   ],
   "source": [
    "q5.c.hint()\n",
    "q5.c.solution()"
   ]
  },
  {
   "cell_type": "markdown",
   "id": "700ba692",
   "metadata": {
    "papermill": {
     "duration": 0.013091,
     "end_time": "2023-04-06T18:37:18.672138",
     "exception": false,
     "start_time": "2023-04-06T18:37:18.659047",
     "status": "completed"
    },
    "tags": []
   },
   "source": [
    "# 6. <span title=\"A bit spicy\" style=\"color: darkgreen \">🌶️</span>\n",
    "\n",
    "We’ve seen that calling `bool()` on an integer returns `False` if it’s equal to 0 and `True` otherwise. What happens if we call `int()` on a bool? Try it out in the notebook cell below.\n",
    "\n",
    "Can you take advantage of this to write a succinct function that corresponds to the English sentence \"does the customer want exactly one topping?\"?"
   ]
  },
  {
   "cell_type": "code",
   "execution_count": 19,
   "id": "e20b26a8",
   "metadata": {
    "execution": {
     "iopub.execute_input": "2023-04-06T18:37:18.701614Z",
     "iopub.status.busy": "2023-04-06T18:37:18.700208Z",
     "iopub.status.idle": "2023-04-06T18:37:18.712203Z",
     "shell.execute_reply": "2023-04-06T18:37:18.710874Z"
    },
    "papermill": {
     "duration": 0.029077,
     "end_time": "2023-04-06T18:37:18.714665",
     "exception": false,
     "start_time": "2023-04-06T18:37:18.685588",
     "status": "completed"
    },
    "tags": []
   },
   "outputs": [
    {
     "data": {
      "application/javascript": [
       "parent.postMessage({\"jupyterEvent\": \"custom.exercise_interaction\", \"data\": {\"outcomeType\": 1, \"valueTowardsCompletion\": 0.2, \"interactionType\": 1, \"questionType\": 2, \"questionId\": \"6_OneTopping\", \"learnToolsVersion\": \"0.3.4\", \"failureMessage\": \"\", \"exceptionClass\": \"\", \"trace\": \"\"}}, \"*\")"
      ],
      "text/plain": [
       "<IPython.core.display.Javascript object>"
      ]
     },
     "metadata": {},
     "output_type": "display_data"
    },
    {
     "data": {
      "text/markdown": [
       "<span style=\"color:#33cc33\">Correct:</span> \n",
       "\n",
       "This condition would be pretty complicated to express using just `and`, `or` and `not`, but using boolean-to-integer conversion gives us this short solution:\n",
       "```python\n",
       "return (int(ketchup) + int(mustard) + int(onion)) == 1\n",
       "```\n",
       "\n",
       "Fun fact: we don't technically need to call `int` on the arguments. Just by doing addition with booleans, Python implicitly does the integer conversion. So we could also write...\n",
       "\n",
       "```python\n",
       "return (ketchup + mustard + onion) == 1\n",
       "```"
      ],
      "text/plain": [
       "Correct: \n",
       "\n",
       "This condition would be pretty complicated to express using just `and`, `or` and `not`, but using boolean-to-integer conversion gives us this short solution:\n",
       "```python\n",
       "return (int(ketchup) + int(mustard) + int(onion)) == 1\n",
       "```\n",
       "\n",
       "Fun fact: we don't technically need to call `int` on the arguments. Just by doing addition with booleans, Python implicitly does the integer conversion. So we could also write...\n",
       "\n",
       "```python\n",
       "return (ketchup + mustard + onion) == 1\n",
       "```"
      ]
     },
     "metadata": {},
     "output_type": "display_data"
    }
   ],
   "source": [
    "def exactly_one_topping(ketchup, mustard, onion):\n",
    "    \"\"\"Return whether the customer wants exactly one of the three available toppings\n",
    "    on their hot dog.\n",
    "    \"\"\"\n",
    "    return (ketchup + mustard + onion) == 1\n",
    "    pass\n",
    "\n",
    "#Check your answer\n",
    "q6.check()"
   ]
  },
  {
   "cell_type": "code",
   "execution_count": 20,
   "id": "4bd34d03",
   "metadata": {
    "execution": {
     "iopub.execute_input": "2023-04-06T18:37:18.743933Z",
     "iopub.status.busy": "2023-04-06T18:37:18.743077Z",
     "iopub.status.idle": "2023-04-06T18:37:18.757441Z",
     "shell.execute_reply": "2023-04-06T18:37:18.756156Z"
    },
    "papermill": {
     "duration": 0.031839,
     "end_time": "2023-04-06T18:37:18.759943",
     "exception": false,
     "start_time": "2023-04-06T18:37:18.728104",
     "status": "completed"
    },
    "tags": []
   },
   "outputs": [
    {
     "data": {
      "application/javascript": [
       "parent.postMessage({\"jupyterEvent\": \"custom.exercise_interaction\", \"data\": {\"interactionType\": 2, \"questionType\": 2, \"questionId\": \"6_OneTopping\", \"learnToolsVersion\": \"0.3.4\", \"valueTowardsCompletion\": 0.0, \"failureMessage\": \"\", \"exceptionClass\": \"\", \"trace\": \"\", \"outcomeType\": 4}}, \"*\")"
      ],
      "text/plain": [
       "<IPython.core.display.Javascript object>"
      ]
     },
     "metadata": {},
     "output_type": "display_data"
    },
    {
     "data": {
      "text/markdown": [
       "<span style=\"color:#3366cc\">Hint:</span> You may have already found that `int(True)` is 1, and `int(False)` is 0. Think about what kinds of basic arithmetic operations you might want to perform on `ketchup`, `mustard`, and `onion` after converting them to integers."
      ],
      "text/plain": [
       "Hint: You may have already found that `int(True)` is 1, and `int(False)` is 0. Think about what kinds of basic arithmetic operations you might want to perform on `ketchup`, `mustard`, and `onion` after converting them to integers."
      ]
     },
     "metadata": {},
     "output_type": "display_data"
    },
    {
     "data": {
      "application/javascript": [
       "parent.postMessage({\"jupyterEvent\": \"custom.exercise_interaction\", \"data\": {\"interactionType\": 3, \"questionType\": 2, \"questionId\": \"6_OneTopping\", \"learnToolsVersion\": \"0.3.4\", \"valueTowardsCompletion\": 0.0, \"failureMessage\": \"\", \"exceptionClass\": \"\", \"trace\": \"\", \"outcomeType\": 4}}, \"*\")"
      ],
      "text/plain": [
       "<IPython.core.display.Javascript object>"
      ]
     },
     "metadata": {},
     "output_type": "display_data"
    },
    {
     "data": {
      "text/markdown": [
       "<span style=\"color:#33cc99\">Solution:</span> This condition would be pretty complicated to express using just `and`, `or` and `not`, but using boolean-to-integer conversion gives us this short solution:\n",
       "```python\n",
       "return (int(ketchup) + int(mustard) + int(onion)) == 1\n",
       "```\n",
       "\n",
       "Fun fact: we don't technically need to call `int` on the arguments. Just by doing addition with booleans, Python implicitly does the integer conversion. So we could also write...\n",
       "\n",
       "```python\n",
       "return (ketchup + mustard + onion) == 1\n",
       "```"
      ],
      "text/plain": [
       "Solution: This condition would be pretty complicated to express using just `and`, `or` and `not`, but using boolean-to-integer conversion gives us this short solution:\n",
       "```python\n",
       "return (int(ketchup) + int(mustard) + int(onion)) == 1\n",
       "```\n",
       "\n",
       "Fun fact: we don't technically need to call `int` on the arguments. Just by doing addition with booleans, Python implicitly does the integer conversion. So we could also write...\n",
       "\n",
       "```python\n",
       "return (ketchup + mustard + onion) == 1\n",
       "```"
      ]
     },
     "metadata": {},
     "output_type": "display_data"
    }
   ],
   "source": [
    "q6.hint()\n",
    "q6.solution()"
   ]
  },
  {
   "cell_type": "markdown",
   "id": "2754edfd",
   "metadata": {
    "papermill": {
     "duration": 0.014318,
     "end_time": "2023-04-06T18:37:18.790301",
     "exception": false,
     "start_time": "2023-04-06T18:37:18.775983",
     "status": "completed"
    },
    "tags": []
   },
   "source": [
    "# 7. <span title=\"A bit spicy\" style=\"color: darkgreen \">🌶️</span> (Optional)\n",
    "\n",
    "In this problem we'll be working with a simplified version of [blackjack](https://en.wikipedia.org/wiki/Blackjack) (aka twenty-one). In this version there is one player (who you'll control) and a dealer. Play proceeds as follows:\n",
    "\n",
    "- The player is dealt two face-up cards. The dealer is dealt one face-up card.\n",
    "- The player may ask to be dealt another card ('hit') as many times as they wish. If the sum of their cards exceeds 21, they lose the round immediately.\n",
    "- The dealer then deals additional cards to himself until either:\n",
    "    - the sum of the dealer's cards exceeds 21, in which case the player wins the round\n",
    "    - the sum of the dealer's cards is greater than or equal to 17. If the player's total is greater than the dealer's, the player wins. Otherwise, the dealer wins (even in case of a tie).\n",
    "    \n",
    "When calculating the sum of cards, Jack, Queen, and King count for 10. Aces can count as 1 or 11 (when referring to a player's \"total\" above, we mean the largest total that can be made without exceeding 21. So e.g. A+8 = 19, A+8+8 = 17)\n",
    "\n",
    "For this problem, you'll write a function representing the player's decision-making strategy in this game. We've provided a very unintelligent implementation below:"
   ]
  },
  {
   "cell_type": "code",
   "execution_count": 21,
   "id": "c7bc9071",
   "metadata": {
    "execution": {
     "iopub.execute_input": "2023-04-06T18:37:18.822179Z",
     "iopub.status.busy": "2023-04-06T18:37:18.820872Z",
     "iopub.status.idle": "2023-04-06T18:37:18.827403Z",
     "shell.execute_reply": "2023-04-06T18:37:18.826422Z"
    },
    "papermill": {
     "duration": 0.025374,
     "end_time": "2023-04-06T18:37:18.830109",
     "exception": false,
     "start_time": "2023-04-06T18:37:18.804735",
     "status": "completed"
    },
    "tags": []
   },
   "outputs": [],
   "source": [
    "def should_hit(dealer_total, player_total, player_low_aces, player_high_aces):\n",
    "    \"\"\"Return True if the player should hit (request another card) given the current game\n",
    "    state, or False if the player should stay.\n",
    "    When calculating a hand's total value, we count aces as \"high\" (with value 11) if doing so\n",
    "    doesn't bring the total above 21, otherwise we count them as low (with value 1). \n",
    "    For example, if the player's hand is {A, A, A, 7}, we will count it as 11 + 1 + 1 + 7,\n",
    "    and therefore set player_total=20, player_low_aces=2, player_high_aces=1.\n",
    "    \"\"\"\n",
    "    return False"
   ]
  },
  {
   "cell_type": "markdown",
   "id": "00a13a03",
   "metadata": {
    "papermill": {
     "duration": 0.01375,
     "end_time": "2023-04-06T18:37:18.857901",
     "exception": false,
     "start_time": "2023-04-06T18:37:18.844151",
     "status": "completed"
    },
    "tags": []
   },
   "source": [
    "This very conservative agent *always* sticks with the hand of two cards that they're dealt.\n",
    "\n",
    "We'll be simulating games between your player agent and our own dealer agent by calling your function.\n",
    "\n",
    "Try running the function below to see an example of a simulated game:"
   ]
  },
  {
   "cell_type": "code",
   "execution_count": 22,
   "id": "9baea9a9",
   "metadata": {
    "execution": {
     "iopub.execute_input": "2023-04-06T18:37:18.888918Z",
     "iopub.status.busy": "2023-04-06T18:37:18.888493Z",
     "iopub.status.idle": "2023-04-06T18:37:18.896237Z",
     "shell.execute_reply": "2023-04-06T18:37:18.894775Z"
    },
    "papermill": {
     "duration": 0.025767,
     "end_time": "2023-04-06T18:37:18.898667",
     "exception": false,
     "start_time": "2023-04-06T18:37:18.872900",
     "status": "completed"
    },
    "tags": []
   },
   "outputs": [
    {
     "name": "stdout",
     "output_type": "stream",
     "text": [
      "Player starts with A and 4 (total = 15)\n",
      "Dealer starts with 10\n",
      "\n",
      "__Player's turn__\n",
      "Player stays\n",
      "\n",
      "__Dealer's turn__\n",
      "Dealer hits and receives J. (total = 20)\n",
      "Dealer stands.\n",
      "Dealer wins. 20 >= 15\n"
     ]
    }
   ],
   "source": [
    "q7.simulate_one_game()"
   ]
  },
  {
   "cell_type": "markdown",
   "id": "0b8f2354",
   "metadata": {
    "papermill": {
     "duration": 0.013861,
     "end_time": "2023-04-06T18:37:18.926877",
     "exception": false,
     "start_time": "2023-04-06T18:37:18.913016",
     "status": "completed"
    },
    "tags": []
   },
   "source": [
    "The real test of your agent's mettle is their average win rate over many games. Try calling the function below to simulate 50000 games of blackjack (it may take a couple seconds):"
   ]
  },
  {
   "cell_type": "code",
   "execution_count": 23,
   "id": "bc50605c",
   "metadata": {
    "execution": {
     "iopub.execute_input": "2023-04-06T18:37:18.959326Z",
     "iopub.status.busy": "2023-04-06T18:37:18.957955Z",
     "iopub.status.idle": "2023-04-06T18:37:20.614664Z",
     "shell.execute_reply": "2023-04-06T18:37:20.613380Z"
    },
    "papermill": {
     "duration": 1.675442,
     "end_time": "2023-04-06T18:37:20.617384",
     "exception": false,
     "start_time": "2023-04-06T18:37:18.941942",
     "status": "completed"
    },
    "tags": []
   },
   "outputs": [
    {
     "name": "stdout",
     "output_type": "stream",
     "text": [
      "Player won 19175 out of 50000 games (win rate = 38.4%)\n"
     ]
    }
   ],
   "source": [
    "q7.simulate(n_games=50000)"
   ]
  },
  {
   "cell_type": "markdown",
   "id": "67516567",
   "metadata": {
    "papermill": {
     "duration": 0.014344,
     "end_time": "2023-04-06T18:37:20.645893",
     "exception": false,
     "start_time": "2023-04-06T18:37:20.631549",
     "status": "completed"
    },
    "tags": []
   },
   "source": [
    "Our dumb agent that completely ignores the game state still manages to win shockingly often!\n",
    "\n",
    "Try adding some more smarts to the `should_hit` function and see how it affects the results."
   ]
  },
  {
   "cell_type": "code",
   "execution_count": 24,
   "id": "0304e728",
   "metadata": {
    "execution": {
     "iopub.execute_input": "2023-04-06T18:37:20.676860Z",
     "iopub.status.busy": "2023-04-06T18:37:20.675665Z",
     "iopub.status.idle": "2023-04-06T18:37:22.350823Z",
     "shell.execute_reply": "2023-04-06T18:37:22.349272Z"
    },
    "papermill": {
     "duration": 1.694027,
     "end_time": "2023-04-06T18:37:22.354156",
     "exception": false,
     "start_time": "2023-04-06T18:37:20.660129",
     "status": "completed"
    },
    "tags": []
   },
   "outputs": [
    {
     "name": "stdout",
     "output_type": "stream",
     "text": [
      "Player won 18990 out of 50000 games (win rate = 38.0%)\n"
     ]
    }
   ],
   "source": [
    "def should_hit(dealer_total, player_total, player_low_aces, player_high_aces):\n",
    "    \"\"\"Return True if the player should hit (request another card) given the current game\n",
    "    state, or False if the player should stay.\n",
    "    When calculating a hand's total value, we count aces as \"high\" (with value 11) if doing so\n",
    "    doesn't bring the total above 21, otherwise we count them as low (with value 1). \n",
    "    For example, if the player's hand is {A, A, A, 7}, we will count it as 11 + 1 + 1 + 7,\n",
    "    and therefore set player_total=20, player_low_aces=2, player_high_aces=1.\n",
    "    \"\"\"\n",
    "    return False\n",
    "\n",
    "q7.simulate(n_games=50000)"
   ]
  },
  {
   "cell_type": "markdown",
   "id": "a2774c4b",
   "metadata": {
    "papermill": {
     "duration": 0.013803,
     "end_time": "2023-04-06T18:37:22.382303",
     "exception": false,
     "start_time": "2023-04-06T18:37:22.368500",
     "status": "completed"
    },
    "tags": []
   },
   "source": [
    "# Keep Going\n",
    "\n",
    "Learn about **[lists and tuples](https://www.kaggle.com/colinmorris/lists)** to handle multiple items of data in a systematic way."
   ]
  },
  {
   "cell_type": "markdown",
   "id": "a213f6a7",
   "metadata": {
    "papermill": {
     "duration": 0.014305,
     "end_time": "2023-04-06T18:37:22.411636",
     "exception": false,
     "start_time": "2023-04-06T18:37:22.397331",
     "status": "completed"
    },
    "tags": []
   },
   "source": [
    "---\n",
    "\n",
    "\n",
    "\n",
    "\n",
    "*Have questions or comments? Visit the [course discussion forum](https://www.kaggle.com/learn/python/discussion) to chat with other learners.*"
   ]
  }
 ],
 "metadata": {
  "kernelspec": {
   "display_name": "Python 3",
   "language": "python",
   "name": "python3"
  },
  "language_info": {
   "codemirror_mode": {
    "name": "ipython",
    "version": 3
   },
   "file_extension": ".py",
   "mimetype": "text/x-python",
   "name": "python",
   "nbconvert_exporter": "python",
   "pygments_lexer": "ipython3",
   "version": "3.7.12"
  },
  "papermill": {
   "default_parameters": {},
   "duration": 17.014279,
   "end_time": "2023-04-06T18:37:23.150614",
   "environment_variables": {},
   "exception": null,
   "input_path": "__notebook__.ipynb",
   "output_path": "__notebook__.ipynb",
   "parameters": {},
   "start_time": "2023-04-06T18:37:06.136335",
   "version": "2.4.0"
  }
 },
 "nbformat": 4,
 "nbformat_minor": 5
}
