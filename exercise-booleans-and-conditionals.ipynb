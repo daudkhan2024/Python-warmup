{
 "cells": [
  {
   "cell_type": "markdown",
   "id": "80e81168",
   "metadata": {
    "papermill": {
     "duration": 0.010385,
     "end_time": "2023-04-06T18:31:36.011918",
     "exception": false,
     "start_time": "2023-04-06T18:31:36.001533",
     "status": "completed"
    },
    "tags": []
   },
   "source": [
    "**This notebook is an exercise in the [Python](https://www.kaggle.com/learn/python) course.  You can reference the tutorial at [this link](https://www.kaggle.com/colinmorris/booleans-and-conditionals).**\n",
    "\n",
    "---\n"
   ]
  },
  {
   "cell_type": "markdown",
   "id": "6bc0c078",
   "metadata": {
    "papermill": {
     "duration": 0.00865,
     "end_time": "2023-04-06T18:31:36.029697",
     "exception": false,
     "start_time": "2023-04-06T18:31:36.021047",
     "status": "completed"
    },
    "tags": []
   },
   "source": [
    "In this exercise, you'll put to work what you have learned about booleans and conditionals.\n",
    "\n",
    "To get started, **run the setup code below** before writing your own code (and if you leave this notebook and come back later, don't forget to run the setup code again)."
   ]
  },
  {
   "cell_type": "code",
   "execution_count": 1,
   "id": "70968c0d",
   "metadata": {
    "execution": {
     "iopub.execute_input": "2023-04-06T18:31:36.051393Z",
     "iopub.status.busy": "2023-04-06T18:31:36.050534Z",
     "iopub.status.idle": "2023-04-06T18:31:36.096047Z",
     "shell.execute_reply": "2023-04-06T18:31:36.094743Z"
    },
    "papermill": {
     "duration": 0.05968,
     "end_time": "2023-04-06T18:31:36.098776",
     "exception": false,
     "start_time": "2023-04-06T18:31:36.039096",
     "status": "completed"
    },
    "tags": []
   },
   "outputs": [
    {
     "name": "stdout",
     "output_type": "stream",
     "text": [
      "Setup complete.\n"
     ]
    }
   ],
   "source": [
    "from learntools.core import binder; binder.bind(globals())\n",
    "from learntools.python.ex3 import *\n",
    "print('Setup complete.')"
   ]
  },
  {
   "cell_type": "markdown",
   "id": "e81eefdd",
   "metadata": {
    "papermill": {
     "duration": 0.008759,
     "end_time": "2023-04-06T18:31:36.116796",
     "exception": false,
     "start_time": "2023-04-06T18:31:36.108037",
     "status": "completed"
    },
    "tags": []
   },
   "source": [
    "# 1.\n",
    "\n",
    "Many programming languages have [`sign`](https://en.wikipedia.org/wiki/Sign_function) available as a built-in function. Python doesn't, but we can define our own!\n",
    "\n",
    "In the cell below, define a function called `sign` which takes a numerical argument and returns -1 if it's negative, 1 if it's positive, and 0 if it's 0."
   ]
  },
  {
   "cell_type": "code",
   "execution_count": 2,
   "id": "c34e7dea",
   "metadata": {
    "execution": {
     "iopub.execute_input": "2023-04-06T18:31:36.137227Z",
     "iopub.status.busy": "2023-04-06T18:31:36.136468Z",
     "iopub.status.idle": "2023-04-06T18:31:36.147715Z",
     "shell.execute_reply": "2023-04-06T18:31:36.146516Z"
    },
    "papermill": {
     "duration": 0.024079,
     "end_time": "2023-04-06T18:31:36.149873",
     "exception": false,
     "start_time": "2023-04-06T18:31:36.125794",
     "status": "completed"
    },
    "tags": []
   },
   "outputs": [
    {
     "data": {
      "application/javascript": [
       "parent.postMessage({\"jupyterEvent\": \"custom.exercise_interaction\", \"data\": {\"outcomeType\": 1, \"valueTowardsCompletion\": 0.2, \"interactionType\": 1, \"questionType\": 2, \"questionId\": \"1_SignFunctionProblem\", \"learnToolsVersion\": \"0.3.4\", \"failureMessage\": \"\", \"exceptionClass\": \"\", \"trace\": \"\"}}, \"*\")"
      ],
      "text/plain": [
       "<IPython.core.display.Javascript object>"
      ]
     },
     "metadata": {},
     "output_type": "display_data"
    },
    {
     "data": {
      "text/markdown": [
       "<span style=\"color:#33cc33\">Correct</span>"
      ],
      "text/plain": [
       "Correct"
      ]
     },
     "metadata": {},
     "output_type": "display_data"
    }
   ],
   "source": [
    "# Your code goes here. Define a function called 'sign'\n",
    "def sign(num):\n",
    "    if num < 0:\n",
    "        return -1\n",
    "    elif num > 0:\n",
    "        return 1\n",
    "    else:\n",
    "        return 0\n",
    "# Check your answer\n",
    "q1.check()"
   ]
  },
  {
   "cell_type": "code",
   "execution_count": 3,
   "id": "28ca7daf",
   "metadata": {
    "execution": {
     "iopub.execute_input": "2023-04-06T18:31:36.170658Z",
     "iopub.status.busy": "2023-04-06T18:31:36.169976Z",
     "iopub.status.idle": "2023-04-06T18:31:36.174653Z",
     "shell.execute_reply": "2023-04-06T18:31:36.173858Z"
    },
    "papermill": {
     "duration": 0.017756,
     "end_time": "2023-04-06T18:31:36.176871",
     "exception": false,
     "start_time": "2023-04-06T18:31:36.159115",
     "status": "completed"
    },
    "tags": []
   },
   "outputs": [],
   "source": [
    "#q1.solution()"
   ]
  },
  {
   "cell_type": "markdown",
   "id": "cbf2d40c",
   "metadata": {
    "papermill": {
     "duration": 0.008937,
     "end_time": "2023-04-06T18:31:36.196097",
     "exception": false,
     "start_time": "2023-04-06T18:31:36.187160",
     "status": "completed"
    },
    "tags": []
   },
   "source": [
    "# 2.\n",
    "\n",
    "We've decided to add \"logging\" to our `to_smash` function from the previous exercise."
   ]
  },
  {
   "cell_type": "code",
   "execution_count": 4,
   "id": "ed221bb0",
   "metadata": {
    "execution": {
     "iopub.execute_input": "2023-04-06T18:31:36.216472Z",
     "iopub.status.busy": "2023-04-06T18:31:36.215834Z",
     "iopub.status.idle": "2023-04-06T18:31:36.224379Z",
     "shell.execute_reply": "2023-04-06T18:31:36.223262Z"
    },
    "papermill": {
     "duration": 0.022024,
     "end_time": "2023-04-06T18:31:36.227257",
     "exception": false,
     "start_time": "2023-04-06T18:31:36.205233",
     "status": "completed"
    },
    "tags": []
   },
   "outputs": [
    {
     "name": "stdout",
     "output_type": "stream",
     "text": [
      "Splitting 91 candies\n"
     ]
    },
    {
     "data": {
      "text/plain": [
       "1"
      ]
     },
     "execution_count": 4,
     "metadata": {},
     "output_type": "execute_result"
    }
   ],
   "source": [
    "def to_smash(total_candies):\n",
    "    \"\"\"Return the number of leftover candies that must be smashed after distributing\n",
    "    the given number of candies evenly between 3 friends.\n",
    "    \n",
    "    >>> to_smash(91)\n",
    "    1\n",
    "    \"\"\"\n",
    "    print(\"Splitting\", total_candies, \"candies\")\n",
    "    return total_candies % 3\n",
    "\n",
    "to_smash(91)"
   ]
  },
  {
   "cell_type": "markdown",
   "id": "8f77484f",
   "metadata": {
    "papermill": {
     "duration": 0.009034,
     "end_time": "2023-04-06T18:31:36.245755",
     "exception": false,
     "start_time": "2023-04-06T18:31:36.236721",
     "status": "completed"
    },
    "tags": []
   },
   "source": [
    "What happens if we call it with `total_candies = 1`?"
   ]
  },
  {
   "cell_type": "code",
   "execution_count": 5,
   "id": "24ce7bb2",
   "metadata": {
    "execution": {
     "iopub.execute_input": "2023-04-06T18:31:36.265970Z",
     "iopub.status.busy": "2023-04-06T18:31:36.265568Z",
     "iopub.status.idle": "2023-04-06T18:31:36.272240Z",
     "shell.execute_reply": "2023-04-06T18:31:36.271064Z"
    },
    "papermill": {
     "duration": 0.019694,
     "end_time": "2023-04-06T18:31:36.274713",
     "exception": false,
     "start_time": "2023-04-06T18:31:36.255019",
     "status": "completed"
    },
    "tags": []
   },
   "outputs": [
    {
     "name": "stdout",
     "output_type": "stream",
     "text": [
      "Splitting 1 candies\n"
     ]
    },
    {
     "data": {
      "text/plain": [
       "1"
      ]
     },
     "execution_count": 5,
     "metadata": {},
     "output_type": "execute_result"
    }
   ],
   "source": [
    "to_smash(1)"
   ]
  },
  {
   "cell_type": "markdown",
   "id": "1d7dac52",
   "metadata": {
    "papermill": {
     "duration": 0.009112,
     "end_time": "2023-04-06T18:31:36.293314",
     "exception": false,
     "start_time": "2023-04-06T18:31:36.284202",
     "status": "completed"
    },
    "tags": []
   },
   "source": [
    "That isn't great grammar!\n",
    "\n",
    "Modify the definition in the cell below to correct the grammar of our print statement. (If there's only one candy, we should use the singular \"candy\" instead of the plural \"candies\")"
   ]
  },
  {
   "cell_type": "code",
   "execution_count": 6,
   "id": "2487db20",
   "metadata": {
    "execution": {
     "iopub.execute_input": "2023-04-06T18:31:36.314881Z",
     "iopub.status.busy": "2023-04-06T18:31:36.313990Z",
     "iopub.status.idle": "2023-04-06T18:31:36.323000Z",
     "shell.execute_reply": "2023-04-06T18:31:36.321749Z"
    },
    "papermill": {
     "duration": 0.022394,
     "end_time": "2023-04-06T18:31:36.325455",
     "exception": false,
     "start_time": "2023-04-06T18:31:36.303061",
     "status": "completed"
    },
    "tags": []
   },
   "outputs": [
    {
     "name": "stdout",
     "output_type": "stream",
     "text": [
      "Splitting 91 candies\n",
      "Splitting 1 candies\n"
     ]
    },
    {
     "data": {
      "text/plain": [
       "1"
      ]
     },
     "execution_count": 6,
     "metadata": {},
     "output_type": "execute_result"
    }
   ],
   "source": [
    "def to_smash(total_candies):\n",
    "    \"\"\"Return the number of leftover candies that must be smashed after distributing\n",
    "    the given number of candies evenly between 3 friends.\n",
    "    \n",
    "    >>> to_smash(91)\n",
    "    1\n",
    "    \"\"\"\n",
    "    print(\"Splitting\", total_candies, \"candies\")\n",
    "    return total_candies % 3\n",
    "\n",
    "to_smash(91)\n",
    "to_smash(1)"
   ]
  },
  {
   "cell_type": "markdown",
   "id": "6ae70093",
   "metadata": {
    "papermill": {
     "duration": 0.009581,
     "end_time": "2023-04-06T18:31:36.344856",
     "exception": false,
     "start_time": "2023-04-06T18:31:36.335275",
     "status": "completed"
    },
    "tags": []
   },
   "source": [
    "To get credit for completing this problem, and to see the official answer, run the code cell below."
   ]
  },
  {
   "cell_type": "code",
   "execution_count": 7,
   "id": "22895ae3",
   "metadata": {
    "execution": {
     "iopub.execute_input": "2023-04-06T18:31:36.366465Z",
     "iopub.status.busy": "2023-04-06T18:31:36.366045Z",
     "iopub.status.idle": "2023-04-06T18:31:36.374328Z",
     "shell.execute_reply": "2023-04-06T18:31:36.373422Z"
    },
    "papermill": {
     "duration": 0.022843,
     "end_time": "2023-04-06T18:31:36.377483",
     "exception": false,
     "start_time": "2023-04-06T18:31:36.354640",
     "status": "completed"
    },
    "tags": []
   },
   "outputs": [
    {
     "data": {
      "application/javascript": [
       "parent.postMessage({\"jupyterEvent\": \"custom.exercise_interaction\", \"data\": {\"interactionType\": 3, \"questionType\": 4, \"questionId\": \"2_PluralizationProblem\", \"learnToolsVersion\": \"0.3.4\", \"valueTowardsCompletion\": 0.0, \"failureMessage\": \"\", \"exceptionClass\": \"\", \"trace\": \"\", \"outcomeType\": 4}}, \"*\")"
      ],
      "text/plain": [
       "<IPython.core.display.Javascript object>"
      ]
     },
     "metadata": {},
     "output_type": "display_data"
    },
    {
     "data": {
      "text/markdown": [
       "<span style=\"color:#33cc99\">Solution:</span> A straightforward (and totally fine) solution is to replace the original `print` call with:\n",
       "\n",
       "```python\n",
       "if total_candies == 1:\n",
       "    print(\"Splitting 1 candy\")\n",
       "else:\n",
       "    print(\"Splitting\", total_candies, \"candies\")\n",
       "```\n",
       "\n",
       "Here's a slightly more succinct solution using a conditional expression:\n",
       "\n",
       "```python\n",
       "print(\"Splitting\", total_candies, \"candy\" if total_candies == 1 else \"candies\")\n",
       "```"
      ],
      "text/plain": [
       "Solution: A straightforward (and totally fine) solution is to replace the original `print` call with:\n",
       "\n",
       "```python\n",
       "if total_candies == 1:\n",
       "    print(\"Splitting 1 candy\")\n",
       "else:\n",
       "    print(\"Splitting\", total_candies, \"candies\")\n",
       "```\n",
       "\n",
       "Here's a slightly more succinct solution using a conditional expression:\n",
       "\n",
       "```python\n",
       "print(\"Splitting\", total_candies, \"candy\" if total_candies == 1 else \"candies\")\n",
       "```"
      ]
     },
     "metadata": {},
     "output_type": "display_data"
    }
   ],
   "source": [
    "# Check your answer (Run this code cell to receive credit!)\n",
    "q2.solution()"
   ]
  },
  {
   "cell_type": "markdown",
   "id": "6c2892e9",
   "metadata": {
    "papermill": {
     "duration": 0.009705,
     "end_time": "2023-04-06T18:31:36.397494",
     "exception": false,
     "start_time": "2023-04-06T18:31:36.387789",
     "status": "completed"
    },
    "tags": []
   },
   "source": [
    "# 3. <span title=\"A bit spicy\" style=\"color: darkgreen \">🌶️</span>\n",
    "\n",
    "In the tutorial, we talked about deciding whether we're prepared for the weather. I said that I'm safe from today's weather if...\n",
    "- I have an umbrella...\n",
    "- or if the rain isn't too heavy and I have a hood...\n",
    "- otherwise, I'm still fine unless it's raining *and* it's a workday\n",
    "\n",
    "The function below uses our first attempt at turning this logic into a Python expression. I claimed that there was a bug in that code. Can you find it?\n",
    "\n",
    "To prove that `prepared_for_weather` is buggy, come up with a set of inputs where either:\n",
    "- the function returns `False` (but should have returned `True`), or\n",
    "- the function returned `True` (but should have returned `False`).\n",
    "\n",
    "To get credit for completing this question, your code should return a <font color='#33cc33'>Correct</font> result."
   ]
  },
  {
   "cell_type": "code",
   "execution_count": 8,
   "id": "7ac21bd7",
   "metadata": {
    "execution": {
     "iopub.execute_input": "2023-04-06T18:31:36.419863Z",
     "iopub.status.busy": "2023-04-06T18:31:36.418819Z",
     "iopub.status.idle": "2023-04-06T18:31:36.430473Z",
     "shell.execute_reply": "2023-04-06T18:31:36.429507Z"
    },
    "papermill": {
     "duration": 0.025087,
     "end_time": "2023-04-06T18:31:36.432603",
     "exception": false,
     "start_time": "2023-04-06T18:31:36.407516",
     "status": "completed"
    },
    "tags": []
   },
   "outputs": [
    {
     "name": "stdout",
     "output_type": "stream",
     "text": [
      "True\n"
     ]
    },
    {
     "data": {
      "application/javascript": [
       "parent.postMessage({\"jupyterEvent\": \"custom.exercise_interaction\", \"data\": {\"outcomeType\": 2, \"failureMessage\": \"Given `have_umbrella=True`, `rain_level=0.0`, `have_hood=False`, `is_workday=False`, `prepared_for_weather` returned `True`. But I think that's correct. (We want inputs that lead to an incorrect result from `prepared_for_weather`.)\", \"interactionType\": 1, \"questionType\": 1, \"questionId\": \"3_WeatherDebug\", \"learnToolsVersion\": \"0.3.4\", \"valueTowardsCompletion\": 0.0, \"exceptionClass\": \"\", \"trace\": \"\"}}, \"*\")"
      ],
      "text/plain": [
       "<IPython.core.display.Javascript object>"
      ]
     },
     "metadata": {},
     "output_type": "display_data"
    },
    {
     "data": {
      "text/markdown": [
       "<span style=\"color:#cc3333\">Incorrect:</span> Given `have_umbrella=True`, `rain_level=0.0`, `have_hood=False`, `is_workday=False`, `prepared_for_weather` returned `True`. But I think that's correct. (We want inputs that lead to an incorrect result from `prepared_for_weather`.)"
      ],
      "text/plain": [
       "Incorrect: Given `have_umbrella=True`, `rain_level=0.0`, `have_hood=False`, `is_workday=False`, `prepared_for_weather` returned `True`. But I think that's correct. (We want inputs that lead to an incorrect result from `prepared_for_weather`.)"
      ]
     },
     "metadata": {},
     "output_type": "display_data"
    }
   ],
   "source": [
    "def prepared_for_weather(have_umbrella, rain_level, have_hood, is_workday):\n",
    "    # Don't change this code. Our goal is just to find the bug, not fix it!\n",
    "    return have_umbrella or rain_level < 5 and have_hood or not rain_level > 0 and is_workday\n",
    "\n",
    "# Change the values of these inputs so they represent a case where prepared_for_weather\n",
    "# returns the wrong answer.\n",
    "have_umbrella = True\n",
    "rain_level = 0.0\n",
    "have_hood = False\n",
    "is_workday = False\n",
    "\n",
    "# Check what the function returns given the current values of the variables above\n",
    "actual = prepared_for_weather(have_umbrella, rain_level, have_hood, is_workday)\n",
    "print(actual)\n",
    "\n",
    "# Check your answer\n",
    "q3.check()"
   ]
  },
  {
   "cell_type": "code",
   "execution_count": 9,
   "id": "ceee857a",
   "metadata": {
    "execution": {
     "iopub.execute_input": "2023-04-06T18:31:36.455611Z",
     "iopub.status.busy": "2023-04-06T18:31:36.455025Z",
     "iopub.status.idle": "2023-04-06T18:31:36.458987Z",
     "shell.execute_reply": "2023-04-06T18:31:36.458070Z"
    },
    "papermill": {
     "duration": 0.018191,
     "end_time": "2023-04-06T18:31:36.461179",
     "exception": false,
     "start_time": "2023-04-06T18:31:36.442988",
     "status": "completed"
    },
    "tags": []
   },
   "outputs": [],
   "source": [
    "#q3.hint()\n",
    "#q3.solution()"
   ]
  },
  {
   "cell_type": "markdown",
   "id": "806a2c2a",
   "metadata": {
    "papermill": {
     "duration": 0.010133,
     "end_time": "2023-04-06T18:31:36.481625",
     "exception": false,
     "start_time": "2023-04-06T18:31:36.471492",
     "status": "completed"
    },
    "tags": []
   },
   "source": [
    "# 4.\n",
    "\n",
    "The function `is_negative` below is implemented correctly - it returns True if the given number is negative and False otherwise.\n",
    "\n",
    "However, it's more verbose than it needs to be. We can actually reduce the number of lines of code in this function by *75%* while keeping the same behaviour. \n",
    "\n",
    "See if you can come up with an equivalent body that uses just **one line** of code, and put it in the function `concise_is_negative`. (HINT: you don't even need Python's ternary syntax)"
   ]
  },
  {
   "cell_type": "code",
   "execution_count": 10,
   "id": "fd900861",
   "metadata": {
    "execution": {
     "iopub.execute_input": "2023-04-06T18:31:36.504999Z",
     "iopub.status.busy": "2023-04-06T18:31:36.504333Z",
     "iopub.status.idle": "2023-04-06T18:31:36.512918Z",
     "shell.execute_reply": "2023-04-06T18:31:36.512088Z"
    },
    "papermill": {
     "duration": 0.022736,
     "end_time": "2023-04-06T18:31:36.514849",
     "exception": false,
     "start_time": "2023-04-06T18:31:36.492113",
     "status": "completed"
    },
    "tags": []
   },
   "outputs": [
    {
     "data": {
      "application/javascript": [
       "parent.postMessage({\"jupyterEvent\": \"custom.exercise_interaction\", \"data\": {\"outcomeType\": 1, \"valueTowardsCompletion\": 0.2, \"interactionType\": 1, \"questionType\": 2, \"questionId\": \"4_ConciseIsNegative\", \"learnToolsVersion\": \"0.3.4\", \"failureMessage\": \"\", \"exceptionClass\": \"\", \"trace\": \"\"}}, \"*\")"
      ],
      "text/plain": [
       "<IPython.core.display.Javascript object>"
      ]
     },
     "metadata": {},
     "output_type": "display_data"
    },
    {
     "data": {
      "text/markdown": [
       "<span style=\"color:#33cc33\">Correct</span>"
      ],
      "text/plain": [
       "Correct"
      ]
     },
     "metadata": {},
     "output_type": "display_data"
    }
   ],
   "source": [
    "def is_negative(number):\n",
    "    if number < 0:\n",
    "        return True\n",
    "    else:\n",
    "        return False\n",
    "\n",
    "def concise_is_negative(number):\n",
    "    return number < 0\n",
    "    pass # Your code goes here (try to keep it to one line!)\n",
    "\n",
    "# Check your answer\n",
    "q4.check()"
   ]
  },
  {
   "cell_type": "code",
   "execution_count": 11,
   "id": "40bd8adb",
   "metadata": {
    "execution": {
     "iopub.execute_input": "2023-04-06T18:31:36.538386Z",
     "iopub.status.busy": "2023-04-06T18:31:36.537284Z",
     "iopub.status.idle": "2023-04-06T18:31:36.541579Z",
     "shell.execute_reply": "2023-04-06T18:31:36.540741Z"
    },
    "papermill": {
     "duration": 0.018314,
     "end_time": "2023-04-06T18:31:36.543769",
     "exception": false,
     "start_time": "2023-04-06T18:31:36.525455",
     "status": "completed"
    },
    "tags": []
   },
   "outputs": [],
   "source": [
    "#q4.hint()\n",
    "#q4.solution()"
   ]
  },
  {
   "cell_type": "markdown",
   "id": "1262187e",
   "metadata": {
    "papermill": {
     "duration": 0.010263,
     "end_time": "2023-04-06T18:31:36.564713",
     "exception": false,
     "start_time": "2023-04-06T18:31:36.554450",
     "status": "completed"
    },
    "tags": []
   },
   "source": [
    "# 5a.\n",
    "\n",
    "The boolean variables `ketchup`, `mustard` and `onion` represent whether a customer wants a particular topping on their hot dog. We want to implement a number of boolean functions that correspond to some yes-or-no questions about the customer's order. For example:"
   ]
  },
  {
   "cell_type": "code",
   "execution_count": 12,
   "id": "6eb415be",
   "metadata": {
    "execution": {
     "iopub.execute_input": "2023-04-06T18:31:36.587937Z",
     "iopub.status.busy": "2023-04-06T18:31:36.587186Z",
     "iopub.status.idle": "2023-04-06T18:31:36.591834Z",
     "shell.execute_reply": "2023-04-06T18:31:36.590954Z"
    },
    "papermill": {
     "duration": 0.01863,
     "end_time": "2023-04-06T18:31:36.593945",
     "exception": false,
     "start_time": "2023-04-06T18:31:36.575315",
     "status": "completed"
    },
    "tags": []
   },
   "outputs": [],
   "source": [
    "def onionless(ketchup, mustard, onion):\n",
    "    \"\"\"Return whether the customer doesn't want onions.\n",
    "    \"\"\"\n",
    "    return not onion"
   ]
  },
  {
   "cell_type": "markdown",
   "id": "bd611bbf",
   "metadata": {
    "papermill": {
     "duration": 0.010268,
     "end_time": "2023-04-06T18:31:36.614815",
     "exception": false,
     "start_time": "2023-04-06T18:31:36.604547",
     "status": "completed"
    },
    "tags": []
   },
   "source": [
    "%%"
   ]
  },
  {
   "cell_type": "code",
   "execution_count": 13,
   "id": "7c326abe",
   "metadata": {
    "execution": {
     "iopub.execute_input": "2023-04-06T18:31:36.638340Z",
     "iopub.status.busy": "2023-04-06T18:31:36.637617Z",
     "iopub.status.idle": "2023-04-06T18:31:36.645569Z",
     "shell.execute_reply": "2023-04-06T18:31:36.644828Z"
    },
    "papermill": {
     "duration": 0.022078,
     "end_time": "2023-04-06T18:31:36.647793",
     "exception": false,
     "start_time": "2023-04-06T18:31:36.625715",
     "status": "completed"
    },
    "tags": []
   },
   "outputs": [
    {
     "data": {
      "application/javascript": [
       "parent.postMessage({\"jupyterEvent\": \"custom.exercise_interaction\", \"data\": {\"outcomeType\": 1, \"valueTowardsCompletion\": 0.2, \"interactionType\": 1, \"questionType\": 2, \"questionId\": \"5.1_AllToppings\", \"learnToolsVersion\": \"0.3.4\", \"failureMessage\": \"\", \"exceptionClass\": \"\", \"trace\": \"\"}}, \"*\")"
      ],
      "text/plain": [
       "<IPython.core.display.Javascript object>"
      ]
     },
     "metadata": {},
     "output_type": "display_data"
    },
    {
     "data": {
      "text/markdown": [
       "<span style=\"color:#33cc33\">Correct</span>"
      ],
      "text/plain": [
       "Correct"
      ]
     },
     "metadata": {},
     "output_type": "display_data"
    }
   ],
   "source": [
    "def wants_all_toppings(ketchup, mustard, onion):\n",
    "    \"\"\"Return whether the customer wants \"the works\" (all 3 toppings)\n",
    "    \"\"\"\n",
    "    return ketchup and mustard and onion\n",
    "    pass\n",
    "\n",
    "\n",
    "# Check your answer\n",
    "q5.a.check()"
   ]
  },
  {
   "cell_type": "code",
   "execution_count": 14,
   "id": "1cda7fda",
   "metadata": {
    "execution": {
     "iopub.execute_input": "2023-04-06T18:31:36.671783Z",
     "iopub.status.busy": "2023-04-06T18:31:36.671047Z",
     "iopub.status.idle": "2023-04-06T18:31:36.674846Z",
     "shell.execute_reply": "2023-04-06T18:31:36.674030Z"
    },
    "papermill": {
     "duration": 0.018292,
     "end_time": "2023-04-06T18:31:36.677145",
     "exception": false,
     "start_time": "2023-04-06T18:31:36.658853",
     "status": "completed"
    },
    "tags": []
   },
   "outputs": [],
   "source": [
    "#q5.a.hint()\n",
    "#q5.a.solution()"
   ]
  },
  {
   "cell_type": "markdown",
   "id": "0466e77c",
   "metadata": {
    "papermill": {
     "duration": 0.010681,
     "end_time": "2023-04-06T18:31:36.698930",
     "exception": false,
     "start_time": "2023-04-06T18:31:36.688249",
     "status": "completed"
    },
    "tags": []
   },
   "source": [
    "# 5b.\n",
    "\n",
    "For the next function, fill in the body to match the English description in the docstring. "
   ]
  },
  {
   "cell_type": "code",
   "execution_count": 15,
   "id": "12f773f1",
   "metadata": {
    "execution": {
     "iopub.execute_input": "2023-04-06T18:31:36.723182Z",
     "iopub.status.busy": "2023-04-06T18:31:36.722776Z",
     "iopub.status.idle": "2023-04-06T18:31:36.732255Z",
     "shell.execute_reply": "2023-04-06T18:31:36.731134Z"
    },
    "papermill": {
     "duration": 0.024535,
     "end_time": "2023-04-06T18:31:36.734570",
     "exception": false,
     "start_time": "2023-04-06T18:31:36.710035",
     "status": "completed"
    },
    "tags": []
   },
   "outputs": [
    {
     "data": {
      "application/javascript": [
       "parent.postMessage({\"jupyterEvent\": \"custom.exercise_interaction\", \"data\": {\"outcomeType\": 1, \"valueTowardsCompletion\": 0.2, \"interactionType\": 1, \"questionType\": 2, \"questionId\": \"5.2_PlainDog\", \"learnToolsVersion\": \"0.3.4\", \"failureMessage\": \"\", \"exceptionClass\": \"\", \"trace\": \"\"}}, \"*\")"
      ],
      "text/plain": [
       "<IPython.core.display.Javascript object>"
      ]
     },
     "metadata": {},
     "output_type": "display_data"
    },
    {
     "data": {
      "text/markdown": [
       "<span style=\"color:#33cc33\">Correct:</span> \n",
       "\n",
       "One solution looks like:\n",
       "```python\n",
       "return not ketchup and not mustard and not onion\n",
       "```\n",
       "\n",
       "We can also [\"factor out\" the nots](https://en.wikipedia.org/wiki/De_Morgan%27s_laws) to get:\n",
       "\n",
       "```python\n",
       "return not (ketchup or mustard or onion)\n",
       "```"
      ],
      "text/plain": [
       "Correct: \n",
       "\n",
       "One solution looks like:\n",
       "```python\n",
       "return not ketchup and not mustard and not onion\n",
       "```\n",
       "\n",
       "We can also [\"factor out\" the nots](https://en.wikipedia.org/wiki/De_Morgan%27s_laws) to get:\n",
       "\n",
       "```python\n",
       "return not (ketchup or mustard or onion)\n",
       "```"
      ]
     },
     "metadata": {},
     "output_type": "display_data"
    }
   ],
   "source": [
    "def wants_plain_hotdog(ketchup, mustard, onion):\n",
    "    \"\"\"Return whether the customer wants a plain hot dog with no toppings.\n",
    "    \"\"\"\n",
    "    return not ketchup and not mustard and not onion\n",
    "    pass\n",
    "\n",
    "# Check your answer\n",
    "q5.b.check()"
   ]
  },
  {
   "cell_type": "code",
   "execution_count": 16,
   "id": "dfb4afb0",
   "metadata": {
    "execution": {
     "iopub.execute_input": "2023-04-06T18:31:36.758455Z",
     "iopub.status.busy": "2023-04-06T18:31:36.758055Z",
     "iopub.status.idle": "2023-04-06T18:31:36.761831Z",
     "shell.execute_reply": "2023-04-06T18:31:36.760997Z"
    },
    "papermill": {
     "duration": 0.018476,
     "end_time": "2023-04-06T18:31:36.764047",
     "exception": false,
     "start_time": "2023-04-06T18:31:36.745571",
     "status": "completed"
    },
    "tags": []
   },
   "outputs": [],
   "source": [
    "#q5.b.hint()\n",
    "#q5.b.solution()"
   ]
  },
  {
   "cell_type": "markdown",
   "id": "41aa9860",
   "metadata": {
    "papermill": {
     "duration": 0.010576,
     "end_time": "2023-04-06T18:31:36.785734",
     "exception": false,
     "start_time": "2023-04-06T18:31:36.775158",
     "status": "completed"
    },
    "tags": []
   },
   "source": [
    "# 5c.\n",
    "\n",
    "You know what to do: for the next function, fill in the body to match the English description in the docstring."
   ]
  },
  {
   "cell_type": "code",
   "execution_count": 17,
   "id": "f467a25e",
   "metadata": {
    "execution": {
     "iopub.execute_input": "2023-04-06T18:31:36.809523Z",
     "iopub.status.busy": "2023-04-06T18:31:36.809075Z",
     "iopub.status.idle": "2023-04-06T18:31:36.819063Z",
     "shell.execute_reply": "2023-04-06T18:31:36.817978Z"
    },
    "papermill": {
     "duration": 0.024746,
     "end_time": "2023-04-06T18:31:36.821393",
     "exception": false,
     "start_time": "2023-04-06T18:31:36.796647",
     "status": "completed"
    },
    "tags": []
   },
   "outputs": [
    {
     "data": {
      "application/javascript": [
       "parent.postMessage({\"jupyterEvent\": \"custom.exercise_interaction\", \"data\": {\"outcomeType\": 1, \"valueTowardsCompletion\": 0.2, \"interactionType\": 1, \"questionType\": 2, \"questionId\": \"5.3_OneSauce\", \"learnToolsVersion\": \"0.3.4\", \"failureMessage\": \"\", \"exceptionClass\": \"\", \"trace\": \"\"}}, \"*\")"
      ],
      "text/plain": [
       "<IPython.core.display.Javascript object>"
      ]
     },
     "metadata": {},
     "output_type": "display_data"
    },
    {
     "data": {
      "text/markdown": [
       "<span style=\"color:#33cc33\">Correct</span>"
      ],
      "text/plain": [
       "Correct"
      ]
     },
     "metadata": {},
     "output_type": "display_data"
    }
   ],
   "source": [
    "def exactly_one_sauce(ketchup, mustard, onion):\n",
    "    \"\"\"Return whether the customer wants either ketchup or mustard, but not both.\n",
    "    (You may be familiar with this operation under the name \"exclusive or\")\n",
    "    \"\"\"\n",
    "    return  (ketchup and not mustard) or (mustard and not ketchup)\n",
    "    pass\n",
    "\n",
    "# Check your answer\n",
    "q5.c.check()"
   ]
  },
  {
   "cell_type": "code",
   "execution_count": 18,
   "id": "0fec42db",
   "metadata": {
    "execution": {
     "iopub.execute_input": "2023-04-06T18:31:36.846581Z",
     "iopub.status.busy": "2023-04-06T18:31:36.846178Z",
     "iopub.status.idle": "2023-04-06T18:31:36.853143Z",
     "shell.execute_reply": "2023-04-06T18:31:36.851765Z"
    },
    "papermill": {
     "duration": 0.025824,
     "end_time": "2023-04-06T18:31:36.858594",
     "exception": false,
     "start_time": "2023-04-06T18:31:36.832770",
     "status": "completed"
    },
    "tags": []
   },
   "outputs": [],
   "source": [
    "#q5.c.hint()\n",
    "#q5.c.solution()"
   ]
  },
  {
   "cell_type": "markdown",
   "id": "c6c23463",
   "metadata": {
    "papermill": {
     "duration": 0.013585,
     "end_time": "2023-04-06T18:31:36.886048",
     "exception": false,
     "start_time": "2023-04-06T18:31:36.872463",
     "status": "completed"
    },
    "tags": []
   },
   "source": [
    "# 6. <span title=\"A bit spicy\" style=\"color: darkgreen \">🌶️</span>\n",
    "\n",
    "We’ve seen that calling `bool()` on an integer returns `False` if it’s equal to 0 and `True` otherwise. What happens if we call `int()` on a bool? Try it out in the notebook cell below.\n",
    "\n",
    "Can you take advantage of this to write a succinct function that corresponds to the English sentence \"does the customer want exactly one topping?\"?"
   ]
  },
  {
   "cell_type": "code",
   "execution_count": 19,
   "id": "04bc8ad9",
   "metadata": {
    "execution": {
     "iopub.execute_input": "2023-04-06T18:31:36.917933Z",
     "iopub.status.busy": "2023-04-06T18:31:36.917160Z",
     "iopub.status.idle": "2023-04-06T18:31:36.928960Z",
     "shell.execute_reply": "2023-04-06T18:31:36.927596Z"
    },
    "papermill": {
     "duration": 0.029049,
     "end_time": "2023-04-06T18:31:36.932396",
     "exception": false,
     "start_time": "2023-04-06T18:31:36.903347",
     "status": "completed"
    },
    "tags": []
   },
   "outputs": [
    {
     "data": {
      "application/javascript": [
       "parent.postMessage({\"jupyterEvent\": \"custom.exercise_interaction\", \"data\": {\"outcomeType\": 1, \"valueTowardsCompletion\": 0.2, \"interactionType\": 1, \"questionType\": 2, \"questionId\": \"6_OneTopping\", \"learnToolsVersion\": \"0.3.4\", \"failureMessage\": \"\", \"exceptionClass\": \"\", \"trace\": \"\"}}, \"*\")"
      ],
      "text/plain": [
       "<IPython.core.display.Javascript object>"
      ]
     },
     "metadata": {},
     "output_type": "display_data"
    },
    {
     "data": {
      "text/markdown": [
       "<span style=\"color:#33cc33\">Correct:</span> \n",
       "\n",
       "This condition would be pretty complicated to express using just `and`, `or` and `not`, but using boolean-to-integer conversion gives us this short solution:\n",
       "```python\n",
       "return (int(ketchup) + int(mustard) + int(onion)) == 1\n",
       "```\n",
       "\n",
       "Fun fact: we don't technically need to call `int` on the arguments. Just by doing addition with booleans, Python implicitly does the integer conversion. So we could also write...\n",
       "\n",
       "```python\n",
       "return (ketchup + mustard + onion) == 1\n",
       "```"
      ],
      "text/plain": [
       "Correct: \n",
       "\n",
       "This condition would be pretty complicated to express using just `and`, `or` and `not`, but using boolean-to-integer conversion gives us this short solution:\n",
       "```python\n",
       "return (int(ketchup) + int(mustard) + int(onion)) == 1\n",
       "```\n",
       "\n",
       "Fun fact: we don't technically need to call `int` on the arguments. Just by doing addition with booleans, Python implicitly does the integer conversion. So we could also write...\n",
       "\n",
       "```python\n",
       "return (ketchup + mustard + onion) == 1\n",
       "```"
      ]
     },
     "metadata": {},
     "output_type": "display_data"
    }
   ],
   "source": [
    "def exactly_one_topping(ketchup, mustard, onion):\n",
    "    \"\"\"Return whether the customer wants exactly one of the three available toppings\n",
    "    on their hot dog.\n",
    "    \"\"\"\n",
    "    return (ketchup + mustard + onion) == 1\n",
    "    pass\n",
    "\n",
    "# Check your answer\n",
    "q6.check()"
   ]
  },
  {
   "cell_type": "code",
   "execution_count": 20,
   "id": "69495273",
   "metadata": {
    "execution": {
     "iopub.execute_input": "2023-04-06T18:31:36.960729Z",
     "iopub.status.busy": "2023-04-06T18:31:36.959566Z",
     "iopub.status.idle": "2023-04-06T18:31:36.963930Z",
     "shell.execute_reply": "2023-04-06T18:31:36.963042Z"
    },
    "papermill": {
     "duration": 0.019754,
     "end_time": "2023-04-06T18:31:36.966136",
     "exception": false,
     "start_time": "2023-04-06T18:31:36.946382",
     "status": "completed"
    },
    "tags": []
   },
   "outputs": [],
   "source": [
    "#q6.hint()\n",
    "#q6.solution()"
   ]
  },
  {
   "cell_type": "markdown",
   "id": "4f5938e4",
   "metadata": {
    "papermill": {
     "duration": 0.011496,
     "end_time": "2023-04-06T18:31:36.989518",
     "exception": false,
     "start_time": "2023-04-06T18:31:36.978022",
     "status": "completed"
    },
    "tags": []
   },
   "source": [
    "# 7. <span title=\"A bit spicy\" style=\"color: darkgreen \">🌶️</span> (Optional)\n",
    "\n",
    "In this problem we'll be working with a simplified version of [blackjack](https://en.wikipedia.org/wiki/Blackjack) (aka twenty-one). In this version there is one player (who you'll control) and a dealer. Play proceeds as follows:\n",
    "\n",
    "- The player is dealt two face-up cards. The dealer is dealt one face-up card.\n",
    "- The player may ask to be dealt another card ('hit') as many times as they wish. If the sum of their cards exceeds 21, they lose the round immediately.\n",
    "- The dealer then deals additional cards to himself until either:\n",
    "    - the sum of the dealer's cards exceeds 21, in which case the player wins the round\n",
    "    - the sum of the dealer's cards is greater than or equal to 17. If the player's total is greater than the dealer's, the player wins. Otherwise, the dealer wins (even in case of a tie).\n",
    "    \n",
    "When calculating the sum of cards, Jack, Queen, and King count for 10. Aces can count as 1 or 11 (when referring to a player's \"total\" above, we mean the largest total that can be made without exceeding 21. So e.g. A+8 = 19, A+8+8 = 17)\n",
    "\n",
    "For this problem, you'll write a function representing the player's decision-making strategy in this game. We've provided a very unintelligent implementation below:"
   ]
  },
  {
   "cell_type": "code",
   "execution_count": 21,
   "id": "956b3307",
   "metadata": {
    "execution": {
     "iopub.execute_input": "2023-04-06T18:31:37.015345Z",
     "iopub.status.busy": "2023-04-06T18:31:37.014432Z",
     "iopub.status.idle": "2023-04-06T18:31:37.020194Z",
     "shell.execute_reply": "2023-04-06T18:31:37.019084Z"
    },
    "papermill": {
     "duration": 0.021157,
     "end_time": "2023-04-06T18:31:37.022439",
     "exception": false,
     "start_time": "2023-04-06T18:31:37.001282",
     "status": "completed"
    },
    "tags": []
   },
   "outputs": [],
   "source": [
    "def should_hit(dealer_total, player_total, player_low_aces, player_high_aces):\n",
    "    \"\"\"Return True if the player should hit (request another card) given the current game\n",
    "    state, or False if the player should stay.\n",
    "    When calculating a hand's total value, we count aces as \"high\" (with value 11) if doing so\n",
    "    doesn't bring the total above 21, otherwise we count them as low (with value 1). \n",
    "    For example, if the player's hand is {A, A, A, 7}, we will count it as 11 + 1 + 1 + 7,\n",
    "    and therefore set player_total=20, player_low_aces=2, player_high_aces=1.\n",
    "    \"\"\"\n",
    "    return False"
   ]
  },
  {
   "cell_type": "markdown",
   "id": "0f419435",
   "metadata": {
    "papermill": {
     "duration": 0.011417,
     "end_time": "2023-04-06T18:31:37.045523",
     "exception": false,
     "start_time": "2023-04-06T18:31:37.034106",
     "status": "completed"
    },
    "tags": []
   },
   "source": [
    "This very conservative agent *always* sticks with the hand of two cards that they're dealt.\n",
    "\n",
    "We'll be simulating games between your player agent and our own dealer agent by calling your function.\n",
    "\n",
    "Try running the function below to see an example of a simulated game:"
   ]
  },
  {
   "cell_type": "code",
   "execution_count": 22,
   "id": "57e26a48",
   "metadata": {
    "execution": {
     "iopub.execute_input": "2023-04-06T18:31:37.072174Z",
     "iopub.status.busy": "2023-04-06T18:31:37.071364Z",
     "iopub.status.idle": "2023-04-06T18:31:37.077155Z",
     "shell.execute_reply": "2023-04-06T18:31:37.075819Z"
    },
    "papermill": {
     "duration": 0.021648,
     "end_time": "2023-04-06T18:31:37.079391",
     "exception": false,
     "start_time": "2023-04-06T18:31:37.057743",
     "status": "completed"
    },
    "tags": []
   },
   "outputs": [
    {
     "name": "stdout",
     "output_type": "stream",
     "text": [
      "Player starts with 4 and 9 (total = 13)\n",
      "Dealer starts with A\n",
      "\n",
      "__Player's turn__\n",
      "Player stays\n",
      "\n",
      "__Dealer's turn__\n",
      "Dealer hits and receives 6. (total = 17)\n",
      "Dealer stands.\n",
      "Dealer wins. 17 >= 13\n"
     ]
    }
   ],
   "source": [
    "q7.simulate_one_game()"
   ]
  },
  {
   "cell_type": "markdown",
   "id": "7499f3fc",
   "metadata": {
    "papermill": {
     "duration": 0.011574,
     "end_time": "2023-04-06T18:31:37.102739",
     "exception": false,
     "start_time": "2023-04-06T18:31:37.091165",
     "status": "completed"
    },
    "tags": []
   },
   "source": [
    "The real test of your agent's mettle is their average win rate over many games. Try calling the function below to simulate 50000 games of blackjack (it may take a couple seconds):"
   ]
  },
  {
   "cell_type": "code",
   "execution_count": 23,
   "id": "b76895da",
   "metadata": {
    "execution": {
     "iopub.execute_input": "2023-04-06T18:31:37.128276Z",
     "iopub.status.busy": "2023-04-06T18:31:37.127317Z",
     "iopub.status.idle": "2023-04-06T18:31:38.769103Z",
     "shell.execute_reply": "2023-04-06T18:31:38.767900Z"
    },
    "papermill": {
     "duration": 1.657123,
     "end_time": "2023-04-06T18:31:38.771576",
     "exception": false,
     "start_time": "2023-04-06T18:31:37.114453",
     "status": "completed"
    },
    "tags": []
   },
   "outputs": [
    {
     "name": "stdout",
     "output_type": "stream",
     "text": [
      "Player won 18859 out of 50000 games (win rate = 37.7%)\n"
     ]
    }
   ],
   "source": [
    "q7.simulate(n_games=50000)"
   ]
  },
  {
   "cell_type": "markdown",
   "id": "d82febe5",
   "metadata": {
    "papermill": {
     "duration": 0.011441,
     "end_time": "2023-04-06T18:31:38.795035",
     "exception": false,
     "start_time": "2023-04-06T18:31:38.783594",
     "status": "completed"
    },
    "tags": []
   },
   "source": [
    "Our dumb agent that completely ignores the game state still manages to win shockingly often!\n",
    "\n",
    "Try adding some more smarts to the `should_hit` function and see how it affects the results."
   ]
  },
  {
   "cell_type": "code",
   "execution_count": 24,
   "id": "96dac562",
   "metadata": {
    "execution": {
     "iopub.execute_input": "2023-04-06T18:31:38.821819Z",
     "iopub.status.busy": "2023-04-06T18:31:38.821390Z",
     "iopub.status.idle": "2023-04-06T18:31:40.477144Z",
     "shell.execute_reply": "2023-04-06T18:31:40.475812Z"
    },
    "papermill": {
     "duration": 1.672468,
     "end_time": "2023-04-06T18:31:40.479622",
     "exception": false,
     "start_time": "2023-04-06T18:31:38.807154",
     "status": "completed"
    },
    "tags": []
   },
   "outputs": [
    {
     "name": "stdout",
     "output_type": "stream",
     "text": [
      "Player won 19045 out of 50000 games (win rate = 38.1%)\n"
     ]
    }
   ],
   "source": [
    "def should_hit(dealer_total, player_total, player_low_aces, player_high_aces):\n",
    "    \"\"\"Return True if the player should hit (request another card) given the current game\n",
    "    state, or False if the player should stay.\n",
    "    When calculating a hand's total value, we count aces as \"high\" (with value 11) if doing so\n",
    "    doesn't bring the total above 21, otherwise we count them as low (with value 1). \n",
    "    For example, if the player's hand is {A, A, A, 7}, we will count it as 11 + 1 + 1 + 7,\n",
    "    and therefore set player_total=20, player_low_aces=2, player_high_aces=1.\n",
    "    \"\"\"\n",
    "    return False\n",
    "\n",
    "q7.simulate(n_games=50000)"
   ]
  },
  {
   "cell_type": "markdown",
   "id": "3118fc15",
   "metadata": {
    "papermill": {
     "duration": 0.011293,
     "end_time": "2023-04-06T18:31:40.502738",
     "exception": false,
     "start_time": "2023-04-06T18:31:40.491445",
     "status": "completed"
    },
    "tags": []
   },
   "source": [
    "# Keep Going\n",
    "\n",
    "Learn about **[lists and tuples](https://www.kaggle.com/colinmorris/lists)** to handle multiple items of data in a systematic way."
   ]
  },
  {
   "cell_type": "markdown",
   "id": "061d8140",
   "metadata": {
    "papermill": {
     "duration": 0.011321,
     "end_time": "2023-04-06T18:31:40.525963",
     "exception": false,
     "start_time": "2023-04-06T18:31:40.514642",
     "status": "completed"
    },
    "tags": []
   },
   "source": [
    "---\n",
    "\n",
    "\n",
    "\n",
    "\n",
    "*Have questions or comments? Visit the [course discussion forum](https://www.kaggle.com/learn/python/discussion) to chat with other learners.*"
   ]
  }
 ],
 "metadata": {
  "kernelspec": {
   "display_name": "Python 3",
   "language": "python",
   "name": "python3"
  },
  "language_info": {
   "codemirror_mode": {
    "name": "ipython",
    "version": 3
   },
   "file_extension": ".py",
   "mimetype": "text/x-python",
   "name": "python",
   "nbconvert_exporter": "python",
   "pygments_lexer": "ipython3",
   "version": "3.7.12"
  },
  "papermill": {
   "default_parameters": {},
   "duration": 15.010811,
   "end_time": "2023-04-06T18:31:41.159205",
   "environment_variables": {},
   "exception": null,
   "input_path": "__notebook__.ipynb",
   "output_path": "__notebook__.ipynb",
   "parameters": {},
   "start_time": "2023-04-06T18:31:26.148394",
   "version": "2.4.0"
  }
 },
 "nbformat": 4,
 "nbformat_minor": 5
}
