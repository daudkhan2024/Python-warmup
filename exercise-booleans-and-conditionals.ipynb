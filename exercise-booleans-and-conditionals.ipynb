{
 "cells": [
  {
   "cell_type": "markdown",
   "id": "2f46bac2",
   "metadata": {
    "papermill": {
     "duration": 0.009012,
     "end_time": "2023-04-05T22:17:20.928029",
     "exception": false,
     "start_time": "2023-04-05T22:17:20.919017",
     "status": "completed"
    },
    "tags": []
   },
   "source": [
    "**This notebook is an exercise in the [Python](https://www.kaggle.com/learn/python) course.  You can reference the tutorial at [this link](https://www.kaggle.com/colinmorris/booleans-and-conditionals).**\n",
    "\n",
    "---\n"
   ]
  },
  {
   "cell_type": "markdown",
   "id": "91020c97",
   "metadata": {
    "papermill": {
     "duration": 0.007529,
     "end_time": "2023-04-05T22:17:20.943554",
     "exception": false,
     "start_time": "2023-04-05T22:17:20.936025",
     "status": "completed"
    },
    "tags": []
   },
   "source": [
    "In this exercise, you'll put to work what you have learned about booleans and conditionals.\n",
    "\n",
    "To get started, **run the setup code below** before writing your own code (and if you leave this notebook and come back later, don't forget to run the setup code again)."
   ]
  },
  {
   "cell_type": "code",
   "execution_count": 1,
   "id": "55b736e3",
   "metadata": {
    "execution": {
     "iopub.execute_input": "2023-04-05T22:17:20.962216Z",
     "iopub.status.busy": "2023-04-05T22:17:20.961756Z",
     "iopub.status.idle": "2023-04-05T22:17:21.017648Z",
     "shell.execute_reply": "2023-04-05T22:17:21.015648Z"
    },
    "papermill": {
     "duration": 0.069107,
     "end_time": "2023-04-05T22:17:21.020789",
     "exception": false,
     "start_time": "2023-04-05T22:17:20.951682",
     "status": "completed"
    },
    "tags": []
   },
   "outputs": [
    {
     "name": "stdout",
     "output_type": "stream",
     "text": [
      "Setup complete.\n"
     ]
    }
   ],
   "source": [
    "from learntools.core import binder; binder.bind(globals())\n",
    "from learntools.python.ex3 import *\n",
    "print('Setup complete.')"
   ]
  },
  {
   "cell_type": "markdown",
   "id": "4ffebdf2",
   "metadata": {
    "papermill": {
     "duration": 0.008067,
     "end_time": "2023-04-05T22:17:21.038166",
     "exception": false,
     "start_time": "2023-04-05T22:17:21.030099",
     "status": "completed"
    },
    "tags": []
   },
   "source": [
    "# 1.\n",
    "\n",
    "Many programming languages have [`sign`](https://en.wikipedia.org/wiki/Sign_function) available as a built-in function. Python doesn't, but we can define our own!\n",
    "\n",
    "In the cell below, define a function called `sign` which takes a numerical argument and returns -1 if it's negative, 1 if it's positive, and 0 if it's 0."
   ]
  },
  {
   "cell_type": "code",
   "execution_count": 2,
   "id": "094e53cf",
   "metadata": {
    "execution": {
     "iopub.execute_input": "2023-04-05T22:17:21.057013Z",
     "iopub.status.busy": "2023-04-05T22:17:21.056603Z",
     "iopub.status.idle": "2023-04-05T22:17:21.070633Z",
     "shell.execute_reply": "2023-04-05T22:17:21.068291Z"
    },
    "papermill": {
     "duration": 0.026756,
     "end_time": "2023-04-05T22:17:21.073489",
     "exception": false,
     "start_time": "2023-04-05T22:17:21.046733",
     "status": "completed"
    },
    "tags": []
   },
   "outputs": [
    {
     "data": {
      "application/javascript": [
       "parent.postMessage({\"jupyterEvent\": \"custom.exercise_interaction\", \"data\": {\"outcomeType\": 1, \"valueTowardsCompletion\": 0.2, \"interactionType\": 1, \"questionType\": 2, \"questionId\": \"1_SignFunctionProblem\", \"learnToolsVersion\": \"0.3.4\", \"failureMessage\": \"\", \"exceptionClass\": \"\", \"trace\": \"\"}}, \"*\")"
      ],
      "text/plain": [
       "<IPython.core.display.Javascript object>"
      ]
     },
     "metadata": {},
     "output_type": "display_data"
    },
    {
     "data": {
      "text/markdown": [
       "<span style=\"color:#33cc33\">Correct</span>"
      ],
      "text/plain": [
       "Correct"
      ]
     },
     "metadata": {},
     "output_type": "display_data"
    }
   ],
   "source": [
    "# Your code goes here. Define a function called 'sign'\n",
    "def sign(num):\n",
    "    if num < 0:\n",
    "        return -1\n",
    "    elif num > 0:\n",
    "        return 1\n",
    "    else:\n",
    "        return 0\n",
    "# Check your answer\n",
    "q1.check()"
   ]
  },
  {
   "cell_type": "code",
   "execution_count": 3,
   "id": "5d603fe8",
   "metadata": {
    "execution": {
     "iopub.execute_input": "2023-04-05T22:17:21.092651Z",
     "iopub.status.busy": "2023-04-05T22:17:21.091737Z",
     "iopub.status.idle": "2023-04-05T22:17:21.096984Z",
     "shell.execute_reply": "2023-04-05T22:17:21.095728Z"
    },
    "papermill": {
     "duration": 0.017127,
     "end_time": "2023-04-05T22:17:21.098946",
     "exception": false,
     "start_time": "2023-04-05T22:17:21.081819",
     "status": "completed"
    },
    "tags": []
   },
   "outputs": [],
   "source": [
    "#q1.solution()"
   ]
  },
  {
   "cell_type": "markdown",
   "id": "4e966584",
   "metadata": {
    "papermill": {
     "duration": 0.007702,
     "end_time": "2023-04-05T22:17:21.114885",
     "exception": false,
     "start_time": "2023-04-05T22:17:21.107183",
     "status": "completed"
    },
    "tags": []
   },
   "source": [
    "# 2.\n",
    "\n",
    "We've decided to add \"logging\" to our `to_smash` function from the previous exercise."
   ]
  },
  {
   "cell_type": "code",
   "execution_count": 4,
   "id": "92f14cb5",
   "metadata": {
    "execution": {
     "iopub.execute_input": "2023-04-05T22:17:21.133672Z",
     "iopub.status.busy": "2023-04-05T22:17:21.133270Z",
     "iopub.status.idle": "2023-04-05T22:17:21.142438Z",
     "shell.execute_reply": "2023-04-05T22:17:21.140853Z"
    },
    "papermill": {
     "duration": 0.021304,
     "end_time": "2023-04-05T22:17:21.144949",
     "exception": false,
     "start_time": "2023-04-05T22:17:21.123645",
     "status": "completed"
    },
    "tags": []
   },
   "outputs": [
    {
     "name": "stdout",
     "output_type": "stream",
     "text": [
      "Splitting 91 candies\n"
     ]
    },
    {
     "data": {
      "text/plain": [
       "1"
      ]
     },
     "execution_count": 4,
     "metadata": {},
     "output_type": "execute_result"
    }
   ],
   "source": [
    "def to_smash(total_candies):\n",
    "    \"\"\"Return the number of leftover candies that must be smashed after distributing\n",
    "    the given number of candies evenly between 3 friends.\n",
    "    \n",
    "    >>> to_smash(91)\n",
    "    1\n",
    "    \"\"\"\n",
    "    print(\"Splitting\", total_candies, \"candies\")\n",
    "    return total_candies % 3\n",
    "\n",
    "to_smash(91)"
   ]
  },
  {
   "cell_type": "markdown",
   "id": "45a38962",
   "metadata": {
    "papermill": {
     "duration": 0.008756,
     "end_time": "2023-04-05T22:17:21.162331",
     "exception": false,
     "start_time": "2023-04-05T22:17:21.153575",
     "status": "completed"
    },
    "tags": []
   },
   "source": [
    "What happens if we call it with `total_candies = 1`?"
   ]
  },
  {
   "cell_type": "code",
   "execution_count": 5,
   "id": "6ee62121",
   "metadata": {
    "execution": {
     "iopub.execute_input": "2023-04-05T22:17:21.182583Z",
     "iopub.status.busy": "2023-04-05T22:17:21.182163Z",
     "iopub.status.idle": "2023-04-05T22:17:21.189073Z",
     "shell.execute_reply": "2023-04-05T22:17:21.187890Z"
    },
    "papermill": {
     "duration": 0.019133,
     "end_time": "2023-04-05T22:17:21.190956",
     "exception": false,
     "start_time": "2023-04-05T22:17:21.171823",
     "status": "completed"
    },
    "tags": []
   },
   "outputs": [
    {
     "name": "stdout",
     "output_type": "stream",
     "text": [
      "Splitting 1 candies\n"
     ]
    },
    {
     "data": {
      "text/plain": [
       "1"
      ]
     },
     "execution_count": 5,
     "metadata": {},
     "output_type": "execute_result"
    }
   ],
   "source": [
    "to_smash(1)"
   ]
  },
  {
   "cell_type": "markdown",
   "id": "c9766904",
   "metadata": {
    "papermill": {
     "duration": 0.008196,
     "end_time": "2023-04-05T22:17:21.207677",
     "exception": false,
     "start_time": "2023-04-05T22:17:21.199481",
     "status": "completed"
    },
    "tags": []
   },
   "source": [
    "That isn't great grammar!\n",
    "\n",
    "Modify the definition in the cell below to correct the grammar of our print statement. (If there's only one candy, we should use the singular \"candy\" instead of the plural \"candies\")"
   ]
  },
  {
   "cell_type": "code",
   "execution_count": 6,
   "id": "e35162e6",
   "metadata": {
    "execution": {
     "iopub.execute_input": "2023-04-05T22:17:21.226717Z",
     "iopub.status.busy": "2023-04-05T22:17:21.226303Z",
     "iopub.status.idle": "2023-04-05T22:17:21.235044Z",
     "shell.execute_reply": "2023-04-05T22:17:21.233900Z"
    },
    "papermill": {
     "duration": 0.021362,
     "end_time": "2023-04-05T22:17:21.237613",
     "exception": false,
     "start_time": "2023-04-05T22:17:21.216251",
     "status": "completed"
    },
    "tags": []
   },
   "outputs": [
    {
     "name": "stdout",
     "output_type": "stream",
     "text": [
      "Splitting 91 candies\n",
      "Splitting 1 candies\n"
     ]
    },
    {
     "data": {
      "text/plain": [
       "1"
      ]
     },
     "execution_count": 6,
     "metadata": {},
     "output_type": "execute_result"
    }
   ],
   "source": [
    "def to_smash(total_candies):\n",
    "    \"\"\"Return the number of leftover candies that must be smashed after distributing\n",
    "    the given number of candies evenly between 3 friends.\n",
    "    \n",
    "    >>> to_smash(91)\n",
    "    1\n",
    "    \"\"\"\n",
    "    print(\"Splitting\", total_candies, \"candies\")\n",
    "    return total_candies % 3\n",
    "\n",
    "to_smash(91)\n",
    "to_smash(1)"
   ]
  },
  {
   "cell_type": "markdown",
   "id": "0bfd2bd7",
   "metadata": {
    "papermill": {
     "duration": 0.008223,
     "end_time": "2023-04-05T22:17:21.254563",
     "exception": false,
     "start_time": "2023-04-05T22:17:21.246340",
     "status": "completed"
    },
    "tags": []
   },
   "source": [
    "To get credit for completing this problem, and to see the official answer, run the code cell below."
   ]
  },
  {
   "cell_type": "code",
   "execution_count": 7,
   "id": "8256cd75",
   "metadata": {
    "execution": {
     "iopub.execute_input": "2023-04-05T22:17:21.274396Z",
     "iopub.status.busy": "2023-04-05T22:17:21.274048Z",
     "iopub.status.idle": "2023-04-05T22:17:21.280844Z",
     "shell.execute_reply": "2023-04-05T22:17:21.279876Z"
    },
    "papermill": {
     "duration": 0.019866,
     "end_time": "2023-04-05T22:17:21.282962",
     "exception": false,
     "start_time": "2023-04-05T22:17:21.263096",
     "status": "completed"
    },
    "tags": []
   },
   "outputs": [
    {
     "data": {
      "application/javascript": [
       "parent.postMessage({\"jupyterEvent\": \"custom.exercise_interaction\", \"data\": {\"interactionType\": 3, \"questionType\": 4, \"questionId\": \"2_PluralizationProblem\", \"learnToolsVersion\": \"0.3.4\", \"valueTowardsCompletion\": 0.0, \"failureMessage\": \"\", \"exceptionClass\": \"\", \"trace\": \"\", \"outcomeType\": 4}}, \"*\")"
      ],
      "text/plain": [
       "<IPython.core.display.Javascript object>"
      ]
     },
     "metadata": {},
     "output_type": "display_data"
    },
    {
     "data": {
      "text/markdown": [
       "<span style=\"color:#33cc99\">Solution:</span> A straightforward (and totally fine) solution is to replace the original `print` call with:\n",
       "\n",
       "```python\n",
       "if total_candies == 1:\n",
       "    print(\"Splitting 1 candy\")\n",
       "else:\n",
       "    print(\"Splitting\", total_candies, \"candies\")\n",
       "```\n",
       "\n",
       "Here's a slightly more succinct solution using a conditional expression:\n",
       "\n",
       "```python\n",
       "print(\"Splitting\", total_candies, \"candy\" if total_candies == 1 else \"candies\")\n",
       "```"
      ],
      "text/plain": [
       "Solution: A straightforward (and totally fine) solution is to replace the original `print` call with:\n",
       "\n",
       "```python\n",
       "if total_candies == 1:\n",
       "    print(\"Splitting 1 candy\")\n",
       "else:\n",
       "    print(\"Splitting\", total_candies, \"candies\")\n",
       "```\n",
       "\n",
       "Here's a slightly more succinct solution using a conditional expression:\n",
       "\n",
       "```python\n",
       "print(\"Splitting\", total_candies, \"candy\" if total_candies == 1 else \"candies\")\n",
       "```"
      ]
     },
     "metadata": {},
     "output_type": "display_data"
    }
   ],
   "source": [
    "# Check your answer (Run this code cell to receive credit!)\n",
    "q2.solution()"
   ]
  },
  {
   "cell_type": "markdown",
   "id": "aa8afbe2",
   "metadata": {
    "papermill": {
     "duration": 0.008655,
     "end_time": "2023-04-05T22:17:21.300686",
     "exception": false,
     "start_time": "2023-04-05T22:17:21.292031",
     "status": "completed"
    },
    "tags": []
   },
   "source": [
    "# 3. <span title=\"A bit spicy\" style=\"color: darkgreen \">🌶️</span>\n",
    "\n",
    "In the tutorial, we talked about deciding whether we're prepared for the weather. I said that I'm safe from today's weather if...\n",
    "- I have an umbrella...\n",
    "- or if the rain isn't too heavy and I have a hood...\n",
    "- otherwise, I'm still fine unless it's raining *and* it's a workday\n",
    "\n",
    "The function below uses our first attempt at turning this logic into a Python expression. I claimed that there was a bug in that code. Can you find it?\n",
    "\n",
    "To prove that `prepared_for_weather` is buggy, come up with a set of inputs where either:\n",
    "- the function returns `False` (but should have returned `True`), or\n",
    "- the function returned `True` (but should have returned `False`).\n",
    "\n",
    "To get credit for completing this question, your code should return a <font color='#33cc33'>Correct</font> result."
   ]
  },
  {
   "cell_type": "code",
   "execution_count": 8,
   "id": "7ed0b463",
   "metadata": {
    "execution": {
     "iopub.execute_input": "2023-04-05T22:17:21.320321Z",
     "iopub.status.busy": "2023-04-05T22:17:21.319998Z",
     "iopub.status.idle": "2023-04-05T22:17:21.332205Z",
     "shell.execute_reply": "2023-04-05T22:17:21.330997Z"
    },
    "papermill": {
     "duration": 0.024447,
     "end_time": "2023-04-05T22:17:21.334152",
     "exception": false,
     "start_time": "2023-04-05T22:17:21.309705",
     "status": "completed"
    },
    "tags": []
   },
   "outputs": [
    {
     "name": "stdout",
     "output_type": "stream",
     "text": [
      "True\n"
     ]
    },
    {
     "data": {
      "application/javascript": [
       "parent.postMessage({\"jupyterEvent\": \"custom.exercise_interaction\", \"data\": {\"outcomeType\": 2, \"failureMessage\": \"Given `have_umbrella=True`, `rain_level=0.0`, `have_hood=False`, `is_workday=False`, `prepared_for_weather` returned `True`. But I think that's correct. (We want inputs that lead to an incorrect result from `prepared_for_weather`.)\", \"interactionType\": 1, \"questionType\": 1, \"questionId\": \"3_WeatherDebug\", \"learnToolsVersion\": \"0.3.4\", \"valueTowardsCompletion\": 0.0, \"exceptionClass\": \"\", \"trace\": \"\"}}, \"*\")"
      ],
      "text/plain": [
       "<IPython.core.display.Javascript object>"
      ]
     },
     "metadata": {},
     "output_type": "display_data"
    },
    {
     "data": {
      "text/markdown": [
       "<span style=\"color:#cc3333\">Incorrect:</span> Given `have_umbrella=True`, `rain_level=0.0`, `have_hood=False`, `is_workday=False`, `prepared_for_weather` returned `True`. But I think that's correct. (We want inputs that lead to an incorrect result from `prepared_for_weather`.)"
      ],
      "text/plain": [
       "Incorrect: Given `have_umbrella=True`, `rain_level=0.0`, `have_hood=False`, `is_workday=False`, `prepared_for_weather` returned `True`. But I think that's correct. (We want inputs that lead to an incorrect result from `prepared_for_weather`.)"
      ]
     },
     "metadata": {},
     "output_type": "display_data"
    }
   ],
   "source": [
    "def prepared_for_weather(have_umbrella, rain_level, have_hood, is_workday):\n",
    "    # Don't change this code. Our goal is just to find the bug, not fix it!\n",
    "    return have_umbrella or rain_level < 5 and have_hood or not rain_level > 0 and is_workday\n",
    "\n",
    "# Change the values of these inputs so they represent a case where prepared_for_weather\n",
    "# returns the wrong answer.\n",
    "have_umbrella = True\n",
    "rain_level = 0.0\n",
    "have_hood = False\n",
    "is_workday = False\n",
    "\n",
    "# Check what the function returns given the current values of the variables above\n",
    "actual = prepared_for_weather(have_umbrella, rain_level, have_hood, is_workday)\n",
    "print(actual)\n",
    "\n",
    "# Check your answer\n",
    "q3.check()"
   ]
  },
  {
   "cell_type": "code",
   "execution_count": 9,
   "id": "62fb3852",
   "metadata": {
    "execution": {
     "iopub.execute_input": "2023-04-05T22:17:21.355128Z",
     "iopub.status.busy": "2023-04-05T22:17:21.354774Z",
     "iopub.status.idle": "2023-04-05T22:17:21.359184Z",
     "shell.execute_reply": "2023-04-05T22:17:21.357761Z"
    },
    "papermill": {
     "duration": 0.018418,
     "end_time": "2023-04-05T22:17:21.362225",
     "exception": false,
     "start_time": "2023-04-05T22:17:21.343807",
     "status": "completed"
    },
    "tags": []
   },
   "outputs": [],
   "source": [
    "#q3.hint()\n",
    "#q3.solution()"
   ]
  },
  {
   "cell_type": "markdown",
   "id": "1317e9db",
   "metadata": {
    "papermill": {
     "duration": 0.008674,
     "end_time": "2023-04-05T22:17:21.380243",
     "exception": false,
     "start_time": "2023-04-05T22:17:21.371569",
     "status": "completed"
    },
    "tags": []
   },
   "source": [
    "# 4.\n",
    "\n",
    "The function `is_negative` below is implemented correctly - it returns True if the given number is negative and False otherwise.\n",
    "\n",
    "However, it's more verbose than it needs to be. We can actually reduce the number of lines of code in this function by *75%* while keeping the same behaviour. \n",
    "\n",
    "See if you can come up with an equivalent body that uses just **one line** of code, and put it in the function `concise_is_negative`. (HINT: you don't even need Python's ternary syntax)"
   ]
  },
  {
   "cell_type": "code",
   "execution_count": 10,
   "id": "0ae04e3b",
   "metadata": {
    "execution": {
     "iopub.execute_input": "2023-04-05T22:17:21.401008Z",
     "iopub.status.busy": "2023-04-05T22:17:21.400617Z",
     "iopub.status.idle": "2023-04-05T22:17:21.410333Z",
     "shell.execute_reply": "2023-04-05T22:17:21.409515Z"
    },
    "papermill": {
     "duration": 0.023649,
     "end_time": "2023-04-05T22:17:21.413136",
     "exception": false,
     "start_time": "2023-04-05T22:17:21.389487",
     "status": "completed"
    },
    "tags": []
   },
   "outputs": [
    {
     "data": {
      "application/javascript": [
       "parent.postMessage({\"jupyterEvent\": \"custom.exercise_interaction\", \"data\": {\"outcomeType\": 1, \"valueTowardsCompletion\": 0.2, \"interactionType\": 1, \"questionType\": 2, \"questionId\": \"4_ConciseIsNegative\", \"learnToolsVersion\": \"0.3.4\", \"failureMessage\": \"\", \"exceptionClass\": \"\", \"trace\": \"\"}}, \"*\")"
      ],
      "text/plain": [
       "<IPython.core.display.Javascript object>"
      ]
     },
     "metadata": {},
     "output_type": "display_data"
    },
    {
     "data": {
      "text/markdown": [
       "<span style=\"color:#33cc33\">Correct</span>"
      ],
      "text/plain": [
       "Correct"
      ]
     },
     "metadata": {},
     "output_type": "display_data"
    }
   ],
   "source": [
    "def is_negative(number):\n",
    "    if number < 0:\n",
    "        return True\n",
    "    else:\n",
    "        return False\n",
    "\n",
    "def concise_is_negative(number):\n",
    "    return number < 0\n",
    "    pass # Your code goes here (try to keep it to one line!)\n",
    "\n",
    "# Check your answer\n",
    "q4.check()"
   ]
  },
  {
   "cell_type": "code",
   "execution_count": 11,
   "id": "c3ba4f83",
   "metadata": {
    "execution": {
     "iopub.execute_input": "2023-04-05T22:17:21.435088Z",
     "iopub.status.busy": "2023-04-05T22:17:21.434687Z",
     "iopub.status.idle": "2023-04-05T22:17:21.439601Z",
     "shell.execute_reply": "2023-04-05T22:17:21.437949Z"
    },
    "papermill": {
     "duration": 0.01936,
     "end_time": "2023-04-05T22:17:21.442651",
     "exception": false,
     "start_time": "2023-04-05T22:17:21.423291",
     "status": "completed"
    },
    "tags": []
   },
   "outputs": [],
   "source": [
    "#q4.hint()\n",
    "#q4.solution()"
   ]
  },
  {
   "cell_type": "markdown",
   "id": "88e866fe",
   "metadata": {
    "papermill": {
     "duration": 0.009139,
     "end_time": "2023-04-05T22:17:21.461223",
     "exception": false,
     "start_time": "2023-04-05T22:17:21.452084",
     "status": "completed"
    },
    "tags": []
   },
   "source": [
    "# 5a.\n",
    "\n",
    "The boolean variables `ketchup`, `mustard` and `onion` represent whether a customer wants a particular topping on their hot dog. We want to implement a number of boolean functions that correspond to some yes-or-no questions about the customer's order. For example:"
   ]
  },
  {
   "cell_type": "code",
   "execution_count": 12,
   "id": "8e81f1dc",
   "metadata": {
    "execution": {
     "iopub.execute_input": "2023-04-05T22:17:21.482761Z",
     "iopub.status.busy": "2023-04-05T22:17:21.482332Z",
     "iopub.status.idle": "2023-04-05T22:17:21.488437Z",
     "shell.execute_reply": "2023-04-05T22:17:21.486623Z"
    },
    "papermill": {
     "duration": 0.019847,
     "end_time": "2023-04-05T22:17:21.490936",
     "exception": false,
     "start_time": "2023-04-05T22:17:21.471089",
     "status": "completed"
    },
    "tags": []
   },
   "outputs": [],
   "source": [
    "def onionless(ketchup, mustard, onion):\n",
    "    \"\"\"Return whether the customer doesn't want onions.\n",
    "    \"\"\"\n",
    "    return not onion"
   ]
  },
  {
   "cell_type": "code",
   "execution_count": 13,
   "id": "788a355f",
   "metadata": {
    "execution": {
     "iopub.execute_input": "2023-04-05T22:17:21.511474Z",
     "iopub.status.busy": "2023-04-05T22:17:21.511097Z",
     "iopub.status.idle": "2023-04-05T22:17:21.519759Z",
     "shell.execute_reply": "2023-04-05T22:17:21.518763Z"
    },
    "papermill": {
     "duration": 0.021346,
     "end_time": "2023-04-05T22:17:21.521755",
     "exception": false,
     "start_time": "2023-04-05T22:17:21.500409",
     "status": "completed"
    },
    "tags": []
   },
   "outputs": [
    {
     "data": {
      "application/javascript": [
       "parent.postMessage({\"jupyterEvent\": \"custom.exercise_interaction\", \"data\": {\"outcomeType\": 1, \"valueTowardsCompletion\": 0.2, \"interactionType\": 1, \"questionType\": 2, \"questionId\": \"5.1_AllToppings\", \"learnToolsVersion\": \"0.3.4\", \"failureMessage\": \"\", \"exceptionClass\": \"\", \"trace\": \"\"}}, \"*\")"
      ],
      "text/plain": [
       "<IPython.core.display.Javascript object>"
      ]
     },
     "metadata": {},
     "output_type": "display_data"
    },
    {
     "data": {
      "text/markdown": [
       "<span style=\"color:#33cc33\">Correct</span>"
      ],
      "text/plain": [
       "Correct"
      ]
     },
     "metadata": {},
     "output_type": "display_data"
    }
   ],
   "source": [
    "def wants_all_toppings(ketchup, mustard, onion):\n",
    "    \"\"\"Return whether the customer wants \"the works\" (all 3 toppings)\n",
    "    \"\"\"\n",
    "    return ketchup and mustard and onion\n",
    "    pass\n",
    "\n",
    "\n",
    "# Check your answer\n",
    "q5.a.check()"
   ]
  },
  {
   "cell_type": "code",
   "execution_count": 14,
   "id": "2eca73dc",
   "metadata": {
    "execution": {
     "iopub.execute_input": "2023-04-05T22:17:21.542813Z",
     "iopub.status.busy": "2023-04-05T22:17:21.542474Z",
     "iopub.status.idle": "2023-04-05T22:17:21.546274Z",
     "shell.execute_reply": "2023-04-05T22:17:21.544968Z"
    },
    "papermill": {
     "duration": 0.017602,
     "end_time": "2023-04-05T22:17:21.549166",
     "exception": false,
     "start_time": "2023-04-05T22:17:21.531564",
     "status": "completed"
    },
    "tags": []
   },
   "outputs": [],
   "source": [
    "#q5.a.hint()\n",
    "#q5.a.solution()"
   ]
  },
  {
   "cell_type": "markdown",
   "id": "09ced6a9",
   "metadata": {
    "papermill": {
     "duration": 0.00965,
     "end_time": "2023-04-05T22:17:21.568911",
     "exception": false,
     "start_time": "2023-04-05T22:17:21.559261",
     "status": "completed"
    },
    "tags": []
   },
   "source": [
    "# 5b.\n",
    "\n",
    "For the next function, fill in the body to match the English description in the docstring. "
   ]
  },
  {
   "cell_type": "code",
   "execution_count": 15,
   "id": "9cfa3875",
   "metadata": {
    "execution": {
     "iopub.execute_input": "2023-04-05T22:17:21.590861Z",
     "iopub.status.busy": "2023-04-05T22:17:21.590448Z",
     "iopub.status.idle": "2023-04-05T22:17:21.601678Z",
     "shell.execute_reply": "2023-04-05T22:17:21.600202Z"
    },
    "papermill": {
     "duration": 0.025058,
     "end_time": "2023-04-05T22:17:21.604050",
     "exception": false,
     "start_time": "2023-04-05T22:17:21.578992",
     "status": "completed"
    },
    "tags": []
   },
   "outputs": [
    {
     "data": {
      "application/javascript": [
       "parent.postMessage({\"jupyterEvent\": \"custom.exercise_interaction\", \"data\": {\"outcomeType\": 1, \"valueTowardsCompletion\": 0.2, \"interactionType\": 1, \"questionType\": 2, \"questionId\": \"5.2_PlainDog\", \"learnToolsVersion\": \"0.3.4\", \"failureMessage\": \"\", \"exceptionClass\": \"\", \"trace\": \"\"}}, \"*\")"
      ],
      "text/plain": [
       "<IPython.core.display.Javascript object>"
      ]
     },
     "metadata": {},
     "output_type": "display_data"
    },
    {
     "data": {
      "text/markdown": [
       "<span style=\"color:#33cc33\">Correct:</span> \n",
       "\n",
       "One solution looks like:\n",
       "```python\n",
       "return not ketchup and not mustard and not onion\n",
       "```\n",
       "\n",
       "We can also [\"factor out\" the nots](https://en.wikipedia.org/wiki/De_Morgan%27s_laws) to get:\n",
       "\n",
       "```python\n",
       "return not (ketchup or mustard or onion)\n",
       "```"
      ],
      "text/plain": [
       "Correct: \n",
       "\n",
       "One solution looks like:\n",
       "```python\n",
       "return not ketchup and not mustard and not onion\n",
       "```\n",
       "\n",
       "We can also [\"factor out\" the nots](https://en.wikipedia.org/wiki/De_Morgan%27s_laws) to get:\n",
       "\n",
       "```python\n",
       "return not (ketchup or mustard or onion)\n",
       "```"
      ]
     },
     "metadata": {},
     "output_type": "display_data"
    }
   ],
   "source": [
    "def wants_plain_hotdog(ketchup, mustard, onion):\n",
    "    \"\"\"Return whether the customer wants a plain hot dog with no toppings.\n",
    "    \"\"\"\n",
    "    return not ketchup and not mustard and not onion\n",
    "    pass\n",
    "\n",
    "# Check your answer\n",
    "q5.b.check()"
   ]
  },
  {
   "cell_type": "code",
   "execution_count": 16,
   "id": "4d601d3f",
   "metadata": {
    "execution": {
     "iopub.execute_input": "2023-04-05T22:17:21.626055Z",
     "iopub.status.busy": "2023-04-05T22:17:21.625721Z",
     "iopub.status.idle": "2023-04-05T22:17:21.631266Z",
     "shell.execute_reply": "2023-04-05T22:17:21.629643Z"
    },
    "papermill": {
     "duration": 0.01953,
     "end_time": "2023-04-05T22:17:21.633584",
     "exception": false,
     "start_time": "2023-04-05T22:17:21.614054",
     "status": "completed"
    },
    "tags": []
   },
   "outputs": [],
   "source": [
    "#q5.b.hint()\n",
    "#q5.b.solution()"
   ]
  },
  {
   "cell_type": "markdown",
   "id": "51a2d4a4",
   "metadata": {
    "papermill": {
     "duration": 0.009444,
     "end_time": "2023-04-05T22:17:21.653052",
     "exception": false,
     "start_time": "2023-04-05T22:17:21.643608",
     "status": "completed"
    },
    "tags": []
   },
   "source": [
    "# 5c.\n",
    "\n",
    "You know what to do: for the next function, fill in the body to match the English description in the docstring."
   ]
  },
  {
   "cell_type": "code",
   "execution_count": 17,
   "id": "c12ff434",
   "metadata": {
    "execution": {
     "iopub.execute_input": "2023-04-05T22:17:21.674758Z",
     "iopub.status.busy": "2023-04-05T22:17:21.674394Z",
     "iopub.status.idle": "2023-04-05T22:17:21.684154Z",
     "shell.execute_reply": "2023-04-05T22:17:21.682965Z"
    },
    "papermill": {
     "duration": 0.024204,
     "end_time": "2023-04-05T22:17:21.687174",
     "exception": false,
     "start_time": "2023-04-05T22:17:21.662970",
     "status": "completed"
    },
    "tags": []
   },
   "outputs": [
    {
     "data": {
      "application/javascript": [
       "parent.postMessage({\"jupyterEvent\": \"custom.exercise_interaction\", \"data\": {\"outcomeType\": 1, \"valueTowardsCompletion\": 0.2, \"interactionType\": 1, \"questionType\": 2, \"questionId\": \"5.3_OneSauce\", \"learnToolsVersion\": \"0.3.4\", \"failureMessage\": \"\", \"exceptionClass\": \"\", \"trace\": \"\"}}, \"*\")"
      ],
      "text/plain": [
       "<IPython.core.display.Javascript object>"
      ]
     },
     "metadata": {},
     "output_type": "display_data"
    },
    {
     "data": {
      "text/markdown": [
       "<span style=\"color:#33cc33\">Correct</span>"
      ],
      "text/plain": [
       "Correct"
      ]
     },
     "metadata": {},
     "output_type": "display_data"
    }
   ],
   "source": [
    "def exactly_one_sauce(ketchup, mustard, onion):\n",
    "    \"\"\"Return whether the customer wants either ketchup or mustard, but not both.\n",
    "    (You may be familiar with this operation under the name \"exclusive or\")\n",
    "    \"\"\"\n",
    "    return  (ketchup and not mustard) or (mustard and not ketchup)\n",
    "    pass\n",
    "\n",
    "# Check your answer\n",
    "q5.c.check()"
   ]
  },
  {
   "cell_type": "code",
   "execution_count": 18,
   "id": "36be6321",
   "metadata": {
    "execution": {
     "iopub.execute_input": "2023-04-05T22:17:21.709018Z",
     "iopub.status.busy": "2023-04-05T22:17:21.708687Z",
     "iopub.status.idle": "2023-04-05T22:17:21.713597Z",
     "shell.execute_reply": "2023-04-05T22:17:21.711982Z"
    },
    "papermill": {
     "duration": 0.019057,
     "end_time": "2023-04-05T22:17:21.716488",
     "exception": false,
     "start_time": "2023-04-05T22:17:21.697431",
     "status": "completed"
    },
    "tags": []
   },
   "outputs": [],
   "source": [
    "#q5.c.hint()\n",
    "#q5.c.solution()"
   ]
  },
  {
   "cell_type": "markdown",
   "id": "7768de92",
   "metadata": {
    "papermill": {
     "duration": 0.009665,
     "end_time": "2023-04-05T22:17:21.736377",
     "exception": false,
     "start_time": "2023-04-05T22:17:21.726712",
     "status": "completed"
    },
    "tags": []
   },
   "source": [
    "# 6. <span title=\"A bit spicy\" style=\"color: darkgreen \">🌶️</span>\n",
    "\n",
    "We’ve seen that calling `bool()` on an integer returns `False` if it’s equal to 0 and `True` otherwise. What happens if we call `int()` on a bool? Try it out in the notebook cell below.\n",
    "\n",
    "Can you take advantage of this to write a succinct function that corresponds to the English sentence \"does the customer want exactly one topping?\"?"
   ]
  },
  {
   "cell_type": "code",
   "execution_count": 19,
   "id": "0f079e0b",
   "metadata": {
    "execution": {
     "iopub.execute_input": "2023-04-05T22:17:21.758597Z",
     "iopub.status.busy": "2023-04-05T22:17:21.758245Z",
     "iopub.status.idle": "2023-04-05T22:17:21.767340Z",
     "shell.execute_reply": "2023-04-05T22:17:21.766283Z"
    },
    "papermill": {
     "duration": 0.022788,
     "end_time": "2023-04-05T22:17:21.769436",
     "exception": false,
     "start_time": "2023-04-05T22:17:21.746648",
     "status": "completed"
    },
    "tags": []
   },
   "outputs": [
    {
     "data": {
      "application/javascript": [
       "parent.postMessage({\"jupyterEvent\": \"custom.exercise_interaction\", \"data\": {\"outcomeType\": 1, \"valueTowardsCompletion\": 0.2, \"interactionType\": 1, \"questionType\": 2, \"questionId\": \"6_OneTopping\", \"learnToolsVersion\": \"0.3.4\", \"failureMessage\": \"\", \"exceptionClass\": \"\", \"trace\": \"\"}}, \"*\")"
      ],
      "text/plain": [
       "<IPython.core.display.Javascript object>"
      ]
     },
     "metadata": {},
     "output_type": "display_data"
    },
    {
     "data": {
      "text/markdown": [
       "<span style=\"color:#33cc33\">Correct:</span> \n",
       "\n",
       "This condition would be pretty complicated to express using just `and`, `or` and `not`, but using boolean-to-integer conversion gives us this short solution:\n",
       "```python\n",
       "return (int(ketchup) + int(mustard) + int(onion)) == 1\n",
       "```\n",
       "\n",
       "Fun fact: we don't technically need to call `int` on the arguments. Just by doing addition with booleans, Python implicitly does the integer conversion. So we could also write...\n",
       "\n",
       "```python\n",
       "return (ketchup + mustard + onion) == 1\n",
       "```"
      ],
      "text/plain": [
       "Correct: \n",
       "\n",
       "This condition would be pretty complicated to express using just `and`, `or` and `not`, but using boolean-to-integer conversion gives us this short solution:\n",
       "```python\n",
       "return (int(ketchup) + int(mustard) + int(onion)) == 1\n",
       "```\n",
       "\n",
       "Fun fact: we don't technically need to call `int` on the arguments. Just by doing addition with booleans, Python implicitly does the integer conversion. So we could also write...\n",
       "\n",
       "```python\n",
       "return (ketchup + mustard + onion) == 1\n",
       "```"
      ]
     },
     "metadata": {},
     "output_type": "display_data"
    }
   ],
   "source": [
    "def exactly_one_topping(ketchup, mustard, onion):\n",
    "    \"\"\"Return whether the customer wants exactly one of the three available toppings\n",
    "    on their hot dog.\n",
    "    \"\"\"\n",
    "    return (ketchup + mustard + onion) == 1\n",
    "    pass\n",
    "\n",
    "# Check your answer\n",
    "q6.check()"
   ]
  },
  {
   "cell_type": "code",
   "execution_count": 20,
   "id": "0bd2dc7a",
   "metadata": {
    "execution": {
     "iopub.execute_input": "2023-04-05T22:17:21.794946Z",
     "iopub.status.busy": "2023-04-05T22:17:21.794610Z",
     "iopub.status.idle": "2023-04-05T22:17:21.799446Z",
     "shell.execute_reply": "2023-04-05T22:17:21.798107Z"
    },
    "papermill": {
     "duration": 0.020962,
     "end_time": "2023-04-05T22:17:21.802049",
     "exception": false,
     "start_time": "2023-04-05T22:17:21.781087",
     "status": "completed"
    },
    "tags": []
   },
   "outputs": [],
   "source": [
    "#q6.hint()\n",
    "#q6.solution()"
   ]
  },
  {
   "cell_type": "markdown",
   "id": "235f1dcf",
   "metadata": {
    "papermill": {
     "duration": 0.010186,
     "end_time": "2023-04-05T22:17:21.822752",
     "exception": false,
     "start_time": "2023-04-05T22:17:21.812566",
     "status": "completed"
    },
    "tags": []
   },
   "source": [
    "# 7. <span title=\"A bit spicy\" style=\"color: darkgreen \">🌶️</span> (Optional)\n",
    "\n",
    "In this problem we'll be working with a simplified version of [blackjack](https://en.wikipedia.org/wiki/Blackjack) (aka twenty-one). In this version there is one player (who you'll control) and a dealer. Play proceeds as follows:\n",
    "\n",
    "- The player is dealt two face-up cards. The dealer is dealt one face-up card.\n",
    "- The player may ask to be dealt another card ('hit') as many times as they wish. If the sum of their cards exceeds 21, they lose the round immediately.\n",
    "- The dealer then deals additional cards to himself until either:\n",
    "    - the sum of the dealer's cards exceeds 21, in which case the player wins the round\n",
    "    - the sum of the dealer's cards is greater than or equal to 17. If the player's total is greater than the dealer's, the player wins. Otherwise, the dealer wins (even in case of a tie).\n",
    "    \n",
    "When calculating the sum of cards, Jack, Queen, and King count for 10. Aces can count as 1 or 11 (when referring to a player's \"total\" above, we mean the largest total that can be made without exceeding 21. So e.g. A+8 = 19, A+8+8 = 17)\n",
    "\n",
    "For this problem, you'll write a function representing the player's decision-making strategy in this game. We've provided a very unintelligent implementation below:"
   ]
  },
  {
   "cell_type": "code",
   "execution_count": 21,
   "id": "f8252aa1",
   "metadata": {
    "execution": {
     "iopub.execute_input": "2023-04-05T22:17:21.845287Z",
     "iopub.status.busy": "2023-04-05T22:17:21.844961Z",
     "iopub.status.idle": "2023-04-05T22:17:21.851197Z",
     "shell.execute_reply": "2023-04-05T22:17:21.849473Z"
    },
    "papermill": {
     "duration": 0.021147,
     "end_time": "2023-04-05T22:17:21.854273",
     "exception": false,
     "start_time": "2023-04-05T22:17:21.833126",
     "status": "completed"
    },
    "tags": []
   },
   "outputs": [],
   "source": [
    "def should_hit(dealer_total, player_total, player_low_aces, player_high_aces):\n",
    "    \"\"\"Return True if the player should hit (request another card) given the current game\n",
    "    state, or False if the player should stay.\n",
    "    When calculating a hand's total value, we count aces as \"high\" (with value 11) if doing so\n",
    "    doesn't bring the total above 21, otherwise we count them as low (with value 1). \n",
    "    For example, if the player's hand is {A, A, A, 7}, we will count it as 11 + 1 + 1 + 7,\n",
    "    and therefore set player_total=20, player_low_aces=2, player_high_aces=1.\n",
    "    \"\"\"\n",
    "    return False"
   ]
  },
  {
   "cell_type": "markdown",
   "id": "1fa099c8",
   "metadata": {
    "papermill": {
     "duration": 0.010787,
     "end_time": "2023-04-05T22:17:21.875560",
     "exception": false,
     "start_time": "2023-04-05T22:17:21.864773",
     "status": "completed"
    },
    "tags": []
   },
   "source": [
    "This very conservative agent *always* sticks with the hand of two cards that they're dealt.\n",
    "\n",
    "We'll be simulating games between your player agent and our own dealer agent by calling your function.\n",
    "\n",
    "Try running the function below to see an example of a simulated game:"
   ]
  },
  {
   "cell_type": "code",
   "execution_count": 22,
   "id": "46ecc68e",
   "metadata": {
    "execution": {
     "iopub.execute_input": "2023-04-05T22:17:21.898332Z",
     "iopub.status.busy": "2023-04-05T22:17:21.897968Z",
     "iopub.status.idle": "2023-04-05T22:17:21.904139Z",
     "shell.execute_reply": "2023-04-05T22:17:21.902884Z"
    },
    "papermill": {
     "duration": 0.020097,
     "end_time": "2023-04-05T22:17:21.906443",
     "exception": false,
     "start_time": "2023-04-05T22:17:21.886346",
     "status": "completed"
    },
    "tags": []
   },
   "outputs": [
    {
     "name": "stdout",
     "output_type": "stream",
     "text": [
      "Player starts with A and 10 (total = 21)\n",
      "Dealer starts with 7\n",
      "\n",
      "__Player's turn__\n",
      "Player stays\n",
      "\n",
      "__Dealer's turn__\n",
      "Dealer hits and receives 3. (total = 10)\n",
      "Dealer hits and receives K. (total = 20)\n",
      "Dealer stands.\n",
      "Player wins. 21 > 20\n"
     ]
    }
   ],
   "source": [
    "q7.simulate_one_game()"
   ]
  },
  {
   "cell_type": "markdown",
   "id": "a4530d4e",
   "metadata": {
    "papermill": {
     "duration": 0.013296,
     "end_time": "2023-04-05T22:17:21.931016",
     "exception": false,
     "start_time": "2023-04-05T22:17:21.917720",
     "status": "completed"
    },
    "tags": []
   },
   "source": [
    "The real test of your agent's mettle is their average win rate over many games. Try calling the function below to simulate 50000 games of blackjack (it may take a couple seconds):"
   ]
  },
  {
   "cell_type": "code",
   "execution_count": 23,
   "id": "b6bd8d51",
   "metadata": {
    "execution": {
     "iopub.execute_input": "2023-04-05T22:17:21.956316Z",
     "iopub.status.busy": "2023-04-05T22:17:21.955894Z",
     "iopub.status.idle": "2023-04-05T22:17:23.519900Z",
     "shell.execute_reply": "2023-04-05T22:17:23.518237Z"
    },
    "papermill": {
     "duration": 1.579913,
     "end_time": "2023-04-05T22:17:23.522239",
     "exception": false,
     "start_time": "2023-04-05T22:17:21.942326",
     "status": "completed"
    },
    "tags": []
   },
   "outputs": [
    {
     "name": "stdout",
     "output_type": "stream",
     "text": [
      "Player won 18972 out of 50000 games (win rate = 37.9%)\n"
     ]
    }
   ],
   "source": [
    "q7.simulate(n_games=50000)"
   ]
  },
  {
   "cell_type": "markdown",
   "id": "1790aa9b",
   "metadata": {
    "papermill": {
     "duration": 0.010306,
     "end_time": "2023-04-05T22:17:23.543376",
     "exception": false,
     "start_time": "2023-04-05T22:17:23.533070",
     "status": "completed"
    },
    "tags": []
   },
   "source": [
    "Our dumb agent that completely ignores the game state still manages to win shockingly often!\n",
    "\n",
    "Try adding some more smarts to the `should_hit` function and see how it affects the results."
   ]
  },
  {
   "cell_type": "code",
   "execution_count": 24,
   "id": "71bb597b",
   "metadata": {
    "execution": {
     "iopub.execute_input": "2023-04-05T22:17:23.567184Z",
     "iopub.status.busy": "2023-04-05T22:17:23.566733Z",
     "iopub.status.idle": "2023-04-05T22:17:25.114390Z",
     "shell.execute_reply": "2023-04-05T22:17:25.112698Z"
    },
    "papermill": {
     "duration": 1.563194,
     "end_time": "2023-04-05T22:17:25.117332",
     "exception": false,
     "start_time": "2023-04-05T22:17:23.554138",
     "status": "completed"
    },
    "tags": []
   },
   "outputs": [
    {
     "name": "stdout",
     "output_type": "stream",
     "text": [
      "Player won 19060 out of 50000 games (win rate = 38.1%)\n"
     ]
    }
   ],
   "source": [
    "def should_hit(dealer_total, player_total, player_low_aces, player_high_aces):\n",
    "    \"\"\"Return True if the player should hit (request another card) given the current game\n",
    "    state, or False if the player should stay.\n",
    "    When calculating a hand's total value, we count aces as \"high\" (with value 11) if doing so\n",
    "    doesn't bring the total above 21, otherwise we count them as low (with value 1). \n",
    "    For example, if the player's hand is {A, A, A, 7}, we will count it as 11 + 1 + 1 + 7,\n",
    "    and therefore set player_total=20, player_low_aces=2, player_high_aces=1.\n",
    "    \"\"\"\n",
    "    return False\n",
    "\n",
    "q7.simulate(n_games=50000)"
   ]
  },
  {
   "cell_type": "markdown",
   "id": "5c5b889f",
   "metadata": {
    "papermill": {
     "duration": 0.010683,
     "end_time": "2023-04-05T22:17:25.139034",
     "exception": false,
     "start_time": "2023-04-05T22:17:25.128351",
     "status": "completed"
    },
    "tags": []
   },
   "source": [
    "# Keep Going\n",
    "\n",
    "Learn about **[lists and tuples](https://www.kaggle.com/colinmorris/lists)** to handle multiple items of data in a systematic way."
   ]
  },
  {
   "cell_type": "markdown",
   "id": "4e12270d",
   "metadata": {
    "papermill": {
     "duration": 0.010608,
     "end_time": "2023-04-05T22:17:25.160733",
     "exception": false,
     "start_time": "2023-04-05T22:17:25.150125",
     "status": "completed"
    },
    "tags": []
   },
   "source": [
    "---\n",
    "\n",
    "\n",
    "\n",
    "\n",
    "*Have questions or comments? Visit the [course discussion forum](https://www.kaggle.com/learn/python/discussion) to chat with other learners.*"
   ]
  }
 ],
 "metadata": {
  "kernelspec": {
   "display_name": "Python 3",
   "language": "python",
   "name": "python3"
  },
  "language_info": {
   "codemirror_mode": {
    "name": "ipython",
    "version": 3
   },
   "file_extension": ".py",
   "mimetype": "text/x-python",
   "name": "python",
   "nbconvert_exporter": "python",
   "pygments_lexer": "ipython3",
   "version": "3.7.12"
  },
  "papermill": {
   "default_parameters": {},
   "duration": 14.664751,
   "end_time": "2023-04-05T22:17:25.893613",
   "environment_variables": {},
   "exception": null,
   "input_path": "__notebook__.ipynb",
   "output_path": "__notebook__.ipynb",
   "parameters": {},
   "start_time": "2023-04-05T22:17:11.228862",
   "version": "2.4.0"
  }
 },
 "nbformat": 4,
 "nbformat_minor": 5
}
