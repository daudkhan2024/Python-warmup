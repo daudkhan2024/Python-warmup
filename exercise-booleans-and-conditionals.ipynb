{
 "cells": [
  {
   "cell_type": "markdown",
   "id": "3a948639",
   "metadata": {
    "papermill": {
     "duration": 0.011763,
     "end_time": "2023-04-06T21:20:05.989061",
     "exception": false,
     "start_time": "2023-04-06T21:20:05.977298",
     "status": "completed"
    },
    "tags": []
   },
   "source": [
    "**This notebook is an exercise in the [Python](https://www.kaggle.com/learn/python) course.  You can reference the tutorial at [this link](https://www.kaggle.com/colinmorris/booleans-and-conditionals).**\n",
    "\n",
    "---\n"
   ]
  },
  {
   "cell_type": "markdown",
   "id": "b4fb7eba",
   "metadata": {
    "papermill": {
     "duration": 0.009977,
     "end_time": "2023-04-06T21:20:06.009637",
     "exception": false,
     "start_time": "2023-04-06T21:20:05.999660",
     "status": "completed"
    },
    "tags": []
   },
   "source": [
    "In this exercise, you'll put to work what you have learned about booleans and conditionals.\n",
    "\n",
    "To get started, **run the setup code below** before writing your own code (and if you leave this notebook and come back later, don't forget to run the setup code again)."
   ]
  },
  {
   "cell_type": "code",
   "execution_count": 1,
   "id": "a3631d24",
   "metadata": {
    "execution": {
     "iopub.execute_input": "2023-04-06T21:20:06.032834Z",
     "iopub.status.busy": "2023-04-06T21:20:06.031865Z",
     "iopub.status.idle": "2023-04-06T21:20:06.082297Z",
     "shell.execute_reply": "2023-04-06T21:20:06.081222Z"
    },
    "papermill": {
     "duration": 0.065504,
     "end_time": "2023-04-06T21:20:06.085437",
     "exception": false,
     "start_time": "2023-04-06T21:20:06.019933",
     "status": "completed"
    },
    "tags": []
   },
   "outputs": [
    {
     "name": "stdout",
     "output_type": "stream",
     "text": [
      "Setup complete.\n"
     ]
    }
   ],
   "source": [
    "from learntools.core import binder; binder.bind(globals())\n",
    "from learntools.python.ex3 import *\n",
    "print('Setup complete.')"
   ]
  },
  {
   "cell_type": "markdown",
   "id": "a50a9e5d",
   "metadata": {
    "papermill": {
     "duration": 0.011548,
     "end_time": "2023-04-06T21:20:06.107407",
     "exception": false,
     "start_time": "2023-04-06T21:20:06.095859",
     "status": "completed"
    },
    "tags": []
   },
   "source": [
    "# 1.\n",
    "\n",
    "Many programming languages have [`sign`](https://en.wikipedia.org/wiki/Sign_function) available as a built-in function. Python doesn't, but we can define our own!\n",
    "\n",
    "In the cell below, define a function called `sign` which takes a numerical argument and returns -1 if it's negative, 1 if it's positive, and 0 if it's 0."
   ]
  },
  {
   "cell_type": "code",
   "execution_count": 2,
   "id": "f796ee3c",
   "metadata": {
    "execution": {
     "iopub.execute_input": "2023-04-06T21:20:06.130733Z",
     "iopub.status.busy": "2023-04-06T21:20:06.130187Z",
     "iopub.status.idle": "2023-04-06T21:20:06.142771Z",
     "shell.execute_reply": "2023-04-06T21:20:06.141382Z"
    },
    "papermill": {
     "duration": 0.027621,
     "end_time": "2023-04-06T21:20:06.145422",
     "exception": false,
     "start_time": "2023-04-06T21:20:06.117801",
     "status": "completed"
    },
    "tags": []
   },
   "outputs": [
    {
     "data": {
      "application/javascript": [
       "parent.postMessage({\"jupyterEvent\": \"custom.exercise_interaction\", \"data\": {\"outcomeType\": 1, \"valueTowardsCompletion\": 0.2, \"interactionType\": 1, \"questionType\": 2, \"questionId\": \"1_SignFunctionProblem\", \"learnToolsVersion\": \"0.3.4\", \"failureMessage\": \"\", \"exceptionClass\": \"\", \"trace\": \"\"}}, \"*\")"
      ],
      "text/plain": [
       "<IPython.core.display.Javascript object>"
      ]
     },
     "metadata": {},
     "output_type": "display_data"
    },
    {
     "data": {
      "text/markdown": [
       "<span style=\"color:#33cc33\">Correct</span>"
      ],
      "text/plain": [
       "Correct"
      ]
     },
     "metadata": {},
     "output_type": "display_data"
    }
   ],
   "source": [
    "# Your code goes here. Define a function called 'sign'\n",
    "def sign(num):\n",
    "    if num < 0:\n",
    "        return -1\n",
    "    elif num > 0:\n",
    "        return 1\n",
    "    else:\n",
    "        return 0\n",
    "# Check your answer\n",
    "q1.check()"
   ]
  },
  {
   "cell_type": "code",
   "execution_count": 3,
   "id": "2eea7601",
   "metadata": {
    "execution": {
     "iopub.execute_input": "2023-04-06T21:20:06.169264Z",
     "iopub.status.busy": "2023-04-06T21:20:06.168764Z",
     "iopub.status.idle": "2023-04-06T21:20:06.177676Z",
     "shell.execute_reply": "2023-04-06T21:20:06.176725Z"
    },
    "papermill": {
     "duration": 0.023732,
     "end_time": "2023-04-06T21:20:06.180132",
     "exception": false,
     "start_time": "2023-04-06T21:20:06.156400",
     "status": "completed"
    },
    "tags": []
   },
   "outputs": [
    {
     "data": {
      "application/javascript": [
       "parent.postMessage({\"jupyterEvent\": \"custom.exercise_interaction\", \"data\": {\"outcomeType\": 1, \"valueTowardsCompletion\": 0.2, \"interactionType\": 1, \"questionType\": 2, \"questionId\": \"1_SignFunctionProblem\", \"learnToolsVersion\": \"0.3.4\", \"failureMessage\": \"\", \"exceptionClass\": \"\", \"trace\": \"\"}}, \"*\")"
      ],
      "text/plain": [
       "<IPython.core.display.Javascript object>"
      ]
     },
     "metadata": {},
     "output_type": "display_data"
    },
    {
     "data": {
      "text/markdown": [
       "<span style=\"color:#33cc33\">Correct</span>"
      ],
      "text/plain": [
       "Correct"
      ]
     },
     "metadata": {},
     "output_type": "display_data"
    }
   ],
   "source": [
    "q1.check()"
   ]
  },
  {
   "cell_type": "code",
   "execution_count": 4,
   "id": "78e41e24",
   "metadata": {
    "execution": {
     "iopub.execute_input": "2023-04-06T21:20:06.204350Z",
     "iopub.status.busy": "2023-04-06T21:20:06.203815Z",
     "iopub.status.idle": "2023-04-06T21:20:06.208931Z",
     "shell.execute_reply": "2023-04-06T21:20:06.207778Z"
    },
    "papermill": {
     "duration": 0.020482,
     "end_time": "2023-04-06T21:20:06.211596",
     "exception": false,
     "start_time": "2023-04-06T21:20:06.191114",
     "status": "completed"
    },
    "tags": []
   },
   "outputs": [],
   "source": [
    "#q1.solution()"
   ]
  },
  {
   "cell_type": "markdown",
   "id": "e2c77d7f",
   "metadata": {
    "papermill": {
     "duration": 0.010653,
     "end_time": "2023-04-06T21:20:06.233540",
     "exception": false,
     "start_time": "2023-04-06T21:20:06.222887",
     "status": "completed"
    },
    "tags": []
   },
   "source": [
    "# 2.\n",
    "\n",
    "We've decided to add \"logging\" to our `to_smash` function from the previous exercise."
   ]
  },
  {
   "cell_type": "code",
   "execution_count": 5,
   "id": "169a00a1",
   "metadata": {
    "execution": {
     "iopub.execute_input": "2023-04-06T21:20:06.259106Z",
     "iopub.status.busy": "2023-04-06T21:20:06.258563Z",
     "iopub.status.idle": "2023-04-06T21:20:06.271979Z",
     "shell.execute_reply": "2023-04-06T21:20:06.270677Z"
    },
    "papermill": {
     "duration": 0.029539,
     "end_time": "2023-04-06T21:20:06.274764",
     "exception": false,
     "start_time": "2023-04-06T21:20:06.245225",
     "status": "completed"
    },
    "tags": []
   },
   "outputs": [
    {
     "name": "stdout",
     "output_type": "stream",
     "text": [
      "Splitting 91 candies\n",
      "Splitting 1 candies\n"
     ]
    },
    {
     "data": {
      "application/javascript": [
       "parent.postMessage({\"jupyterEvent\": \"custom.exercise_interaction\", \"data\": {\"outcomeType\": 1, \"valueTowardsCompletion\": 0.2, \"interactionType\": 1, \"questionType\": 4, \"questionId\": \"2_PluralizationProblem\", \"learnToolsVersion\": \"0.3.4\", \"failureMessage\": \"\", \"exceptionClass\": \"\", \"trace\": \"\"}}, \"*\")"
      ],
      "text/plain": [
       "<IPython.core.display.Javascript object>"
      ]
     },
     "metadata": {},
     "output_type": "display_data"
    },
    {
     "data": {
      "text/markdown": [
       "<span style=\"color:#33cc33\">Correct:</span> \n",
       "\n",
       "A straightforward (and totally fine) solution is to replace the original `print` call with:\n",
       "\n",
       "```python\n",
       "if total_candies == 1:\n",
       "    print(\"Splitting 1 candy\")\n",
       "else:\n",
       "    print(\"Splitting\", total_candies, \"candies\")\n",
       "```\n",
       "\n",
       "Here's a slightly more succinct solution using a conditional expression:\n",
       "\n",
       "```python\n",
       "print(\"Splitting\", total_candies, \"candy\" if total_candies == 1 else \"candies\")\n",
       "```"
      ],
      "text/plain": [
       "Correct: \n",
       "\n",
       "A straightforward (and totally fine) solution is to replace the original `print` call with:\n",
       "\n",
       "```python\n",
       "if total_candies == 1:\n",
       "    print(\"Splitting 1 candy\")\n",
       "else:\n",
       "    print(\"Splitting\", total_candies, \"candies\")\n",
       "```\n",
       "\n",
       "Here's a slightly more succinct solution using a conditional expression:\n",
       "\n",
       "```python\n",
       "print(\"Splitting\", total_candies, \"candy\" if total_candies == 1 else \"candies\")\n",
       "```"
      ]
     },
     "metadata": {},
     "output_type": "display_data"
    }
   ],
   "source": [
    "def to_smash(total_candies):\n",
    "    \"\"\"Return the number of leftover candies that must be smashed after distributing\n",
    "    the given number of candies evenly between 3 friends.\n",
    "    \n",
    "    >>> to_smash(91)\n",
    "    1\n",
    "    \"\"\"\n",
    "    print(\"Splitting\", total_candies, \"candies\")\n",
    "    return total_candies % 3\n",
    "\n",
    "to_smash(91)\n",
    "to_smash(1)\n",
    "q2.check()"
   ]
  },
  {
   "cell_type": "markdown",
   "id": "bf66b920",
   "metadata": {
    "papermill": {
     "duration": 0.010753,
     "end_time": "2023-04-06T21:20:06.297841",
     "exception": false,
     "start_time": "2023-04-06T21:20:06.287088",
     "status": "completed"
    },
    "tags": []
   },
   "source": [
    "What happens if we call it with `total_candies = 1`?"
   ]
  },
  {
   "cell_type": "code",
   "execution_count": 6,
   "id": "435a1159",
   "metadata": {
    "execution": {
     "iopub.execute_input": "2023-04-06T21:20:06.322279Z",
     "iopub.status.busy": "2023-04-06T21:20:06.321731Z",
     "iopub.status.idle": "2023-04-06T21:20:06.333372Z",
     "shell.execute_reply": "2023-04-06T21:20:06.332033Z"
    },
    "papermill": {
     "duration": 0.027286,
     "end_time": "2023-04-06T21:20:06.336270",
     "exception": false,
     "start_time": "2023-04-06T21:20:06.308984",
     "status": "completed"
    },
    "tags": []
   },
   "outputs": [
    {
     "data": {
      "application/javascript": [
       "parent.postMessage({\"jupyterEvent\": \"custom.exercise_interaction\", \"data\": {\"interactionType\": 3, \"questionType\": 4, \"questionId\": \"2_PluralizationProblem\", \"learnToolsVersion\": \"0.3.4\", \"valueTowardsCompletion\": 0.0, \"failureMessage\": \"\", \"exceptionClass\": \"\", \"trace\": \"\", \"outcomeType\": 4}}, \"*\")"
      ],
      "text/plain": [
       "<IPython.core.display.Javascript object>"
      ]
     },
     "metadata": {},
     "output_type": "display_data"
    },
    {
     "data": {
      "text/markdown": [
       "<span style=\"color:#33cc99\">Solution:</span> A straightforward (and totally fine) solution is to replace the original `print` call with:\n",
       "\n",
       "```python\n",
       "if total_candies == 1:\n",
       "    print(\"Splitting 1 candy\")\n",
       "else:\n",
       "    print(\"Splitting\", total_candies, \"candies\")\n",
       "```\n",
       "\n",
       "Here's a slightly more succinct solution using a conditional expression:\n",
       "\n",
       "```python\n",
       "print(\"Splitting\", total_candies, \"candy\" if total_candies == 1 else \"candies\")\n",
       "```"
      ],
      "text/plain": [
       "Solution: A straightforward (and totally fine) solution is to replace the original `print` call with:\n",
       "\n",
       "```python\n",
       "if total_candies == 1:\n",
       "    print(\"Splitting 1 candy\")\n",
       "else:\n",
       "    print(\"Splitting\", total_candies, \"candies\")\n",
       "```\n",
       "\n",
       "Here's a slightly more succinct solution using a conditional expression:\n",
       "\n",
       "```python\n",
       "print(\"Splitting\", total_candies, \"candy\" if total_candies == 1 else \"candies\")\n",
       "```"
      ]
     },
     "metadata": {},
     "output_type": "display_data"
    }
   ],
   "source": [
    "q2.solution()"
   ]
  },
  {
   "cell_type": "markdown",
   "id": "cd155517",
   "metadata": {
    "papermill": {
     "duration": 0.010953,
     "end_time": "2023-04-06T21:20:06.358989",
     "exception": false,
     "start_time": "2023-04-06T21:20:06.348036",
     "status": "completed"
    },
    "tags": []
   },
   "source": [
    "That isn't great grammar!\n",
    "\n",
    "Modify the definition in the cell below to correct the grammar of our print statement. (If there's only one candy, we should use the singular \"candy\" instead of the plural \"candies\")"
   ]
  },
  {
   "cell_type": "code",
   "execution_count": 7,
   "id": "f316c81d",
   "metadata": {
    "execution": {
     "iopub.execute_input": "2023-04-06T21:20:06.384462Z",
     "iopub.status.busy": "2023-04-06T21:20:06.383980Z",
     "iopub.status.idle": "2023-04-06T21:20:06.395294Z",
     "shell.execute_reply": "2023-04-06T21:20:06.394015Z"
    },
    "papermill": {
     "duration": 0.027445,
     "end_time": "2023-04-06T21:20:06.398033",
     "exception": false,
     "start_time": "2023-04-06T21:20:06.370588",
     "status": "completed"
    },
    "tags": []
   },
   "outputs": [
    {
     "name": "stdout",
     "output_type": "stream",
     "text": [
      "Splitting 91 candies\n",
      "Splitting 1 candies\n"
     ]
    },
    {
     "data": {
      "application/javascript": [
       "parent.postMessage({\"jupyterEvent\": \"custom.exercise_interaction\", \"data\": {\"outcomeType\": 1, \"valueTowardsCompletion\": 0.2, \"interactionType\": 1, \"questionType\": 4, \"questionId\": \"2_PluralizationProblem\", \"learnToolsVersion\": \"0.3.4\", \"failureMessage\": \"\", \"exceptionClass\": \"\", \"trace\": \"\"}}, \"*\")"
      ],
      "text/plain": [
       "<IPython.core.display.Javascript object>"
      ]
     },
     "metadata": {},
     "output_type": "display_data"
    },
    {
     "data": {
      "text/markdown": [
       "<span style=\"color:#33cc33\">Correct:</span> \n",
       "\n",
       "A straightforward (and totally fine) solution is to replace the original `print` call with:\n",
       "\n",
       "```python\n",
       "if total_candies == 1:\n",
       "    print(\"Splitting 1 candy\")\n",
       "else:\n",
       "    print(\"Splitting\", total_candies, \"candies\")\n",
       "```\n",
       "\n",
       "Here's a slightly more succinct solution using a conditional expression:\n",
       "\n",
       "```python\n",
       "print(\"Splitting\", total_candies, \"candy\" if total_candies == 1 else \"candies\")\n",
       "```"
      ],
      "text/plain": [
       "Correct: \n",
       "\n",
       "A straightforward (and totally fine) solution is to replace the original `print` call with:\n",
       "\n",
       "```python\n",
       "if total_candies == 1:\n",
       "    print(\"Splitting 1 candy\")\n",
       "else:\n",
       "    print(\"Splitting\", total_candies, \"candies\")\n",
       "```\n",
       "\n",
       "Here's a slightly more succinct solution using a conditional expression:\n",
       "\n",
       "```python\n",
       "print(\"Splitting\", total_candies, \"candy\" if total_candies == 1 else \"candies\")\n",
       "```"
      ]
     },
     "metadata": {},
     "output_type": "display_data"
    }
   ],
   "source": [
    "def to_smash(total_candies):\n",
    "    \"\"\"Return the number of leftover candies that must be smashed after distributing\n",
    "    the given number of candies evenly between 3 friends.\n",
    "    \n",
    "    >>> to_smash(91)\n",
    "    1\n",
    "    \"\"\"\n",
    "    print(\"Splitting\", total_candies, \"candies\")\n",
    "    return total_candies % 3\n",
    "\n",
    "to_smash(91)\n",
    "to_smash(1)\n",
    "q2.check()"
   ]
  },
  {
   "cell_type": "markdown",
   "id": "4a21d3d2",
   "metadata": {
    "papermill": {
     "duration": 0.011454,
     "end_time": "2023-04-06T21:20:06.421539",
     "exception": false,
     "start_time": "2023-04-06T21:20:06.410085",
     "status": "completed"
    },
    "tags": []
   },
   "source": [
    "To get credit for completing this problem, and to see the official answer, run the code cell below."
   ]
  },
  {
   "cell_type": "code",
   "execution_count": 8,
   "id": "44b5a7ec",
   "metadata": {
    "execution": {
     "iopub.execute_input": "2023-04-06T21:20:06.447363Z",
     "iopub.status.busy": "2023-04-06T21:20:06.446836Z",
     "iopub.status.idle": "2023-04-06T21:20:06.457045Z",
     "shell.execute_reply": "2023-04-06T21:20:06.455747Z"
    },
    "papermill": {
     "duration": 0.026304,
     "end_time": "2023-04-06T21:20:06.459565",
     "exception": false,
     "start_time": "2023-04-06T21:20:06.433261",
     "status": "completed"
    },
    "tags": []
   },
   "outputs": [
    {
     "data": {
      "application/javascript": [
       "parent.postMessage({\"jupyterEvent\": \"custom.exercise_interaction\", \"data\": {\"interactionType\": 3, \"questionType\": 4, \"questionId\": \"2_PluralizationProblem\", \"learnToolsVersion\": \"0.3.4\", \"valueTowardsCompletion\": 0.0, \"failureMessage\": \"\", \"exceptionClass\": \"\", \"trace\": \"\", \"outcomeType\": 4}}, \"*\")"
      ],
      "text/plain": [
       "<IPython.core.display.Javascript object>"
      ]
     },
     "metadata": {},
     "output_type": "display_data"
    },
    {
     "data": {
      "text/markdown": [
       "<span style=\"color:#33cc99\">Solution:</span> A straightforward (and totally fine) solution is to replace the original `print` call with:\n",
       "\n",
       "```python\n",
       "if total_candies == 1:\n",
       "    print(\"Splitting 1 candy\")\n",
       "else:\n",
       "    print(\"Splitting\", total_candies, \"candies\")\n",
       "```\n",
       "\n",
       "Here's a slightly more succinct solution using a conditional expression:\n",
       "\n",
       "```python\n",
       "print(\"Splitting\", total_candies, \"candy\" if total_candies == 1 else \"candies\")\n",
       "```"
      ],
      "text/plain": [
       "Solution: A straightforward (and totally fine) solution is to replace the original `print` call with:\n",
       "\n",
       "```python\n",
       "if total_candies == 1:\n",
       "    print(\"Splitting 1 candy\")\n",
       "else:\n",
       "    print(\"Splitting\", total_candies, \"candies\")\n",
       "```\n",
       "\n",
       "Here's a slightly more succinct solution using a conditional expression:\n",
       "\n",
       "```python\n",
       "print(\"Splitting\", total_candies, \"candy\" if total_candies == 1 else \"candies\")\n",
       "```"
      ]
     },
     "metadata": {},
     "output_type": "display_data"
    }
   ],
   "source": [
    "# Check your answer (Run this code cell to receive credit!)\n",
    "q2.solution()"
   ]
  },
  {
   "cell_type": "markdown",
   "id": "c78c1e75",
   "metadata": {
    "papermill": {
     "duration": 0.012431,
     "end_time": "2023-04-06T21:20:06.484214",
     "exception": false,
     "start_time": "2023-04-06T21:20:06.471783",
     "status": "completed"
    },
    "tags": []
   },
   "source": [
    "# 3. <span title=\"A bit spicy\" style=\"color: darkgreen \">🌶️</span>\n",
    "\n",
    "In the tutorial, we talked about deciding whether we're prepared for the weather. I said that I'm safe from today's weather if...\n",
    "- I have an umbrella...\n",
    "- or if the rain isn't too heavy and I have a hood...\n",
    "- otherwise, I'm still fine unless it's raining *and* it's a workday\n",
    "\n",
    "The function below uses our first attempt at turning this logic into a Python expression. I claimed that there was a bug in that code. Can you find it?\n",
    "\n",
    "To prove that `prepared_for_weather` is buggy, come up with a set of inputs where either:\n",
    "- the function returns `False` (but should have returned `True`), or\n",
    "- the function returned `True` (but should have returned `False`).\n",
    "\n",
    "To get credit for completing this question, your code should return a <font color='#33cc33'>Correct</font> result."
   ]
  },
  {
   "cell_type": "code",
   "execution_count": 9,
   "id": "36c4369a",
   "metadata": {
    "execution": {
     "iopub.execute_input": "2023-04-06T21:20:06.512399Z",
     "iopub.status.busy": "2023-04-06T21:20:06.511872Z",
     "iopub.status.idle": "2023-04-06T21:20:06.525259Z",
     "shell.execute_reply": "2023-04-06T21:20:06.523933Z"
    },
    "papermill": {
     "duration": 0.03026,
     "end_time": "2023-04-06T21:20:06.527800",
     "exception": false,
     "start_time": "2023-04-06T21:20:06.497540",
     "status": "completed"
    },
    "tags": []
   },
   "outputs": [
    {
     "name": "stdout",
     "output_type": "stream",
     "text": [
      "True\n"
     ]
    },
    {
     "data": {
      "application/javascript": [
       "parent.postMessage({\"jupyterEvent\": \"custom.exercise_interaction\", \"data\": {\"outcomeType\": 2, \"failureMessage\": \"Given `have_umbrella=True`, `rain_level=0.0`, `have_hood=False`, `is_workday=False`, `prepared_for_weather` returned `True`. But I think that's correct. (We want inputs that lead to an incorrect result from `prepared_for_weather`.)\", \"interactionType\": 1, \"questionType\": 1, \"questionId\": \"3_WeatherDebug\", \"learnToolsVersion\": \"0.3.4\", \"valueTowardsCompletion\": 0.0, \"exceptionClass\": \"\", \"trace\": \"\"}}, \"*\")"
      ],
      "text/plain": [
       "<IPython.core.display.Javascript object>"
      ]
     },
     "metadata": {},
     "output_type": "display_data"
    },
    {
     "data": {
      "text/markdown": [
       "<span style=\"color:#cc3333\">Incorrect:</span> Given `have_umbrella=True`, `rain_level=0.0`, `have_hood=False`, `is_workday=False`, `prepared_for_weather` returned `True`. But I think that's correct. (We want inputs that lead to an incorrect result from `prepared_for_weather`.)"
      ],
      "text/plain": [
       "Incorrect: Given `have_umbrella=True`, `rain_level=0.0`, `have_hood=False`, `is_workday=False`, `prepared_for_weather` returned `True`. But I think that's correct. (We want inputs that lead to an incorrect result from `prepared_for_weather`.)"
      ]
     },
     "metadata": {},
     "output_type": "display_data"
    }
   ],
   "source": [
    "def prepared_for_weather(have_umbrella, rain_level, have_hood, is_workday):\n",
    "    # Don't change this code. Our goal is just to find the bug, not fix it!\n",
    "    return have_umbrella or rain_level < 5 and have_hood or not rain_level > 0 and is_workday\n",
    "\n",
    "# Change the values of these inputs so they represent a case where prepared_for_weather\n",
    "# returns the wrong answer.\n",
    "have_umbrella = True\n",
    "rain_level = 0.0\n",
    "have_hood = False\n",
    "is_workday = False\n",
    "\n",
    "# Check what the function returns given the current values of the variables above\n",
    "actual = prepared_for_weather(have_umbrella, rain_level, have_hood, is_workday)\n",
    "print(actual)\n",
    "\n",
    "# Check your answer\n",
    "q3.check()"
   ]
  },
  {
   "cell_type": "code",
   "execution_count": 10,
   "id": "41bb7254",
   "metadata": {
    "execution": {
     "iopub.execute_input": "2023-04-06T21:20:06.555806Z",
     "iopub.status.busy": "2023-04-06T21:20:06.555340Z",
     "iopub.status.idle": "2023-04-06T21:20:06.560384Z",
     "shell.execute_reply": "2023-04-06T21:20:06.558934Z"
    },
    "papermill": {
     "duration": 0.022393,
     "end_time": "2023-04-06T21:20:06.563043",
     "exception": false,
     "start_time": "2023-04-06T21:20:06.540650",
     "status": "completed"
    },
    "tags": []
   },
   "outputs": [],
   "source": [
    "#q3.hint()\n",
    "#q3.solution()"
   ]
  },
  {
   "cell_type": "markdown",
   "id": "8508d985",
   "metadata": {
    "papermill": {
     "duration": 0.012101,
     "end_time": "2023-04-06T21:20:06.587804",
     "exception": false,
     "start_time": "2023-04-06T21:20:06.575703",
     "status": "completed"
    },
    "tags": []
   },
   "source": [
    "# 4.\n",
    "\n",
    "The function `is_negative` below is implemented correctly - it returns True if the given number is negative and False otherwise.\n",
    "\n",
    "However, it's more verbose than it needs to be. We can actually reduce the number of lines of code in this function by *75%* while keeping the same behaviour. \n",
    "\n",
    "See if you can come up with an equivalent body that uses just **one line** of code, and put it in the function `concise_is_negative`. (HINT: you don't even need Python's ternary syntax)"
   ]
  },
  {
   "cell_type": "code",
   "execution_count": 11,
   "id": "bcb28dab",
   "metadata": {
    "execution": {
     "iopub.execute_input": "2023-04-06T21:20:06.615356Z",
     "iopub.status.busy": "2023-04-06T21:20:06.614841Z",
     "iopub.status.idle": "2023-04-06T21:20:06.627676Z",
     "shell.execute_reply": "2023-04-06T21:20:06.626398Z"
    },
    "papermill": {
     "duration": 0.029505,
     "end_time": "2023-04-06T21:20:06.630197",
     "exception": false,
     "start_time": "2023-04-06T21:20:06.600692",
     "status": "completed"
    },
    "tags": []
   },
   "outputs": [
    {
     "data": {
      "application/javascript": [
       "parent.postMessage({\"jupyterEvent\": \"custom.exercise_interaction\", \"data\": {\"outcomeType\": 1, \"valueTowardsCompletion\": 0.2, \"interactionType\": 1, \"questionType\": 2, \"questionId\": \"4_ConciseIsNegative\", \"learnToolsVersion\": \"0.3.4\", \"failureMessage\": \"\", \"exceptionClass\": \"\", \"trace\": \"\"}}, \"*\")"
      ],
      "text/plain": [
       "<IPython.core.display.Javascript object>"
      ]
     },
     "metadata": {},
     "output_type": "display_data"
    },
    {
     "data": {
      "text/markdown": [
       "<span style=\"color:#33cc33\">Correct</span>"
      ],
      "text/plain": [
       "Correct"
      ]
     },
     "metadata": {},
     "output_type": "display_data"
    }
   ],
   "source": [
    "def is_negative(number):\n",
    "    if number < 0:\n",
    "        return True\n",
    "    else:\n",
    "        return False\n",
    "\n",
    "def concise_is_negative(number):\n",
    "    return number < 0\n",
    "    pass # Your code goes here (try to keep it to one line!)\n",
    "\n",
    "# Check your answer\n",
    "q4.check()"
   ]
  },
  {
   "cell_type": "code",
   "execution_count": 12,
   "id": "e70b9acb",
   "metadata": {
    "execution": {
     "iopub.execute_input": "2023-04-06T21:20:06.659040Z",
     "iopub.status.busy": "2023-04-06T21:20:06.657870Z",
     "iopub.status.idle": "2023-04-06T21:20:06.663707Z",
     "shell.execute_reply": "2023-04-06T21:20:06.662527Z"
    },
    "papermill": {
     "duration": 0.02355,
     "end_time": "2023-04-06T21:20:06.666403",
     "exception": false,
     "start_time": "2023-04-06T21:20:06.642853",
     "status": "completed"
    },
    "tags": []
   },
   "outputs": [],
   "source": [
    "#q4.hint()\n",
    "#q4.solution()"
   ]
  },
  {
   "cell_type": "markdown",
   "id": "5e4b4a77",
   "metadata": {
    "papermill": {
     "duration": 0.012329,
     "end_time": "2023-04-06T21:20:06.691644",
     "exception": false,
     "start_time": "2023-04-06T21:20:06.679315",
     "status": "completed"
    },
    "tags": []
   },
   "source": [
    "# 5a.\n",
    "\n",
    "The boolean variables `ketchup`, `mustard` and `onion` represent whether a customer wants a particular topping on their hot dog. We want to implement a number of boolean functions that correspond to some yes-or-no questions about the customer's order. For example:"
   ]
  },
  {
   "cell_type": "code",
   "execution_count": 13,
   "id": "ae73d677",
   "metadata": {
    "execution": {
     "iopub.execute_input": "2023-04-06T21:20:06.719342Z",
     "iopub.status.busy": "2023-04-06T21:20:06.718827Z",
     "iopub.status.idle": "2023-04-06T21:20:06.724698Z",
     "shell.execute_reply": "2023-04-06T21:20:06.723421Z"
    },
    "papermill": {
     "duration": 0.022864,
     "end_time": "2023-04-06T21:20:06.727338",
     "exception": false,
     "start_time": "2023-04-06T21:20:06.704474",
     "status": "completed"
    },
    "tags": []
   },
   "outputs": [],
   "source": [
    "def onionless(ketchup, mustard, onion):\n",
    "     \"\"\"Return whether the customer doesn't want onions.\n",
    "     \"\"\"\n",
    "     return not onion"
   ]
  },
  {
   "cell_type": "markdown",
   "id": "b89229c4",
   "metadata": {
    "papermill": {
     "duration": 0.012786,
     "end_time": "2023-04-06T21:20:06.753028",
     "exception": false,
     "start_time": "2023-04-06T21:20:06.740242",
     "status": "completed"
    },
    "tags": []
   },
   "source": [
    "%%"
   ]
  },
  {
   "cell_type": "code",
   "execution_count": 14,
   "id": "1ee2d1cb",
   "metadata": {
    "execution": {
     "iopub.execute_input": "2023-04-06T21:20:06.781262Z",
     "iopub.status.busy": "2023-04-06T21:20:06.780068Z",
     "iopub.status.idle": "2023-04-06T21:20:06.785391Z",
     "shell.execute_reply": "2023-04-06T21:20:06.784371Z"
    },
    "papermill": {
     "duration": 0.022187,
     "end_time": "2023-04-06T21:20:06.787948",
     "exception": false,
     "start_time": "2023-04-06T21:20:06.765761",
     "status": "completed"
    },
    "tags": []
   },
   "outputs": [],
   "source": [
    "# For each of the remaining functions, fill in the body to match the English description in the docstring. "
   ]
  },
  {
   "cell_type": "code",
   "execution_count": 15,
   "id": "e66521e9",
   "metadata": {
    "execution": {
     "iopub.execute_input": "2023-04-06T21:20:06.815762Z",
     "iopub.status.busy": "2023-04-06T21:20:06.815287Z",
     "iopub.status.idle": "2023-04-06T21:20:06.824910Z",
     "shell.execute_reply": "2023-04-06T21:20:06.823580Z"
    },
    "papermill": {
     "duration": 0.026819,
     "end_time": "2023-04-06T21:20:06.827603",
     "exception": false,
     "start_time": "2023-04-06T21:20:06.800784",
     "status": "completed"
    },
    "tags": []
   },
   "outputs": [
    {
     "data": {
      "application/javascript": [
       "parent.postMessage({\"jupyterEvent\": \"custom.exercise_interaction\", \"data\": {\"outcomeType\": 1, \"valueTowardsCompletion\": 0.2, \"interactionType\": 1, \"questionType\": 2, \"questionId\": \"5.1_AllToppings\", \"learnToolsVersion\": \"0.3.4\", \"failureMessage\": \"\", \"exceptionClass\": \"\", \"trace\": \"\"}}, \"*\")"
      ],
      "text/plain": [
       "<IPython.core.display.Javascript object>"
      ]
     },
     "metadata": {},
     "output_type": "display_data"
    },
    {
     "data": {
      "text/markdown": [
       "<span style=\"color:#33cc33\">Correct</span>"
      ],
      "text/plain": [
       "Correct"
      ]
     },
     "metadata": {},
     "output_type": "display_data"
    }
   ],
   "source": [
    "def wants_all_toppings(ketchup, mustard, onion):\n",
    "    \"\"\"Return whether the customer wants \"the works\" (all 3 toppings)\n",
    "    \"\"\"\n",
    "    return ketchup and mustard and onion\n",
    "    pass\n",
    "\n",
    "\n",
    "# Check your answer\n",
    "q5.a.check()"
   ]
  },
  {
   "cell_type": "code",
   "execution_count": 16,
   "id": "f9bbc3fe",
   "metadata": {
    "execution": {
     "iopub.execute_input": "2023-04-06T21:20:06.855578Z",
     "iopub.status.busy": "2023-04-06T21:20:06.855068Z",
     "iopub.status.idle": "2023-04-06T21:20:06.869829Z",
     "shell.execute_reply": "2023-04-06T21:20:06.868606Z"
    },
    "papermill": {
     "duration": 0.032145,
     "end_time": "2023-04-06T21:20:06.872768",
     "exception": false,
     "start_time": "2023-04-06T21:20:06.840623",
     "status": "completed"
    },
    "tags": []
   },
   "outputs": [
    {
     "data": {
      "application/javascript": [
       "parent.postMessage({\"jupyterEvent\": \"custom.exercise_interaction\", \"data\": {\"interactionType\": 2, \"questionType\": 2, \"questionId\": \"5.1_AllToppings\", \"learnToolsVersion\": \"0.3.4\", \"valueTowardsCompletion\": 0.0, \"failureMessage\": \"\", \"exceptionClass\": \"\", \"trace\": \"\", \"outcomeType\": 4}}, \"*\")"
      ],
      "text/plain": [
       "<IPython.core.display.Javascript object>"
      ]
     },
     "metadata": {},
     "output_type": "display_data"
    },
    {
     "data": {
      "text/markdown": [
       "<span style=\"color:#3366cc\">Hint:</span> You'll need to use the `and` operator."
      ],
      "text/plain": [
       "Hint: You'll need to use the `and` operator."
      ]
     },
     "metadata": {},
     "output_type": "display_data"
    },
    {
     "data": {
      "application/javascript": [
       "parent.postMessage({\"jupyterEvent\": \"custom.exercise_interaction\", \"data\": {\"interactionType\": 3, \"questionType\": 2, \"questionId\": \"5.1_AllToppings\", \"learnToolsVersion\": \"0.3.4\", \"valueTowardsCompletion\": 0.0, \"failureMessage\": \"\", \"exceptionClass\": \"\", \"trace\": \"\", \"outcomeType\": 4}}, \"*\")"
      ],
      "text/plain": [
       "<IPython.core.display.Javascript object>"
      ]
     },
     "metadata": {},
     "output_type": "display_data"
    },
    {
     "data": {
      "text/markdown": [
       "<span style=\"color:#33cc99\">Solution:</span> \n",
       "```python\n",
       "return ketchup and mustard and onion\n",
       "```"
      ],
      "text/plain": [
       "Solution: \n",
       "```python\n",
       "return ketchup and mustard and onion\n",
       "```"
      ]
     },
     "metadata": {},
     "output_type": "display_data"
    }
   ],
   "source": [
    "q5.a.hint()\n",
    "q5.a.solution()"
   ]
  },
  {
   "cell_type": "markdown",
   "id": "c4bdc9b3",
   "metadata": {
    "papermill": {
     "duration": 0.013051,
     "end_time": "2023-04-06T21:20:06.899508",
     "exception": false,
     "start_time": "2023-04-06T21:20:06.886457",
     "status": "completed"
    },
    "tags": []
   },
   "source": [
    "# 5b.\n",
    "\n",
    "For the next function, fill in the body to match the English description in the docstring. "
   ]
  },
  {
   "cell_type": "code",
   "execution_count": 17,
   "id": "1b2b25dc",
   "metadata": {
    "execution": {
     "iopub.execute_input": "2023-04-06T21:20:06.929933Z",
     "iopub.status.busy": "2023-04-06T21:20:06.928846Z",
     "iopub.status.idle": "2023-04-06T21:20:06.939428Z",
     "shell.execute_reply": "2023-04-06T21:20:06.938353Z"
    },
    "papermill": {
     "duration": 0.028371,
     "end_time": "2023-04-06T21:20:06.941843",
     "exception": false,
     "start_time": "2023-04-06T21:20:06.913472",
     "status": "completed"
    },
    "tags": []
   },
   "outputs": [
    {
     "data": {
      "application/javascript": [
       "parent.postMessage({\"jupyterEvent\": \"custom.exercise_interaction\", \"data\": {\"outcomeType\": 1, \"valueTowardsCompletion\": 0.2, \"interactionType\": 1, \"questionType\": 2, \"questionId\": \"5.2_PlainDog\", \"learnToolsVersion\": \"0.3.4\", \"failureMessage\": \"\", \"exceptionClass\": \"\", \"trace\": \"\"}}, \"*\")"
      ],
      "text/plain": [
       "<IPython.core.display.Javascript object>"
      ]
     },
     "metadata": {},
     "output_type": "display_data"
    },
    {
     "data": {
      "text/markdown": [
       "<span style=\"color:#33cc33\">Correct:</span> \n",
       "\n",
       "One solution looks like:\n",
       "```python\n",
       "return not ketchup and not mustard and not onion\n",
       "```\n",
       "\n",
       "We can also [\"factor out\" the nots](https://en.wikipedia.org/wiki/De_Morgan%27s_laws) to get:\n",
       "\n",
       "```python\n",
       "return not (ketchup or mustard or onion)\n",
       "```"
      ],
      "text/plain": [
       "Correct: \n",
       "\n",
       "One solution looks like:\n",
       "```python\n",
       "return not ketchup and not mustard and not onion\n",
       "```\n",
       "\n",
       "We can also [\"factor out\" the nots](https://en.wikipedia.org/wiki/De_Morgan%27s_laws) to get:\n",
       "\n",
       "```python\n",
       "return not (ketchup or mustard or onion)\n",
       "```"
      ]
     },
     "metadata": {},
     "output_type": "display_data"
    }
   ],
   "source": [
    "def wants_plain_hotdog(ketchup, mustard, onion):\n",
    "    \"\"\"Return whether the customer wants a plain hot dog with no toppings.\n",
    "    \"\"\"\n",
    "    return not ketchup and not mustard and not onion\n",
    "    pass\n",
    "\n",
    "# Check your answer\n",
    "q5.b.check()"
   ]
  },
  {
   "cell_type": "code",
   "execution_count": 18,
   "id": "faec58b1",
   "metadata": {
    "execution": {
     "iopub.execute_input": "2023-04-06T21:20:06.971288Z",
     "iopub.status.busy": "2023-04-06T21:20:06.970744Z",
     "iopub.status.idle": "2023-04-06T21:20:06.985621Z",
     "shell.execute_reply": "2023-04-06T21:20:06.984256Z"
    },
    "papermill": {
     "duration": 0.032979,
     "end_time": "2023-04-06T21:20:06.988590",
     "exception": false,
     "start_time": "2023-04-06T21:20:06.955611",
     "status": "completed"
    },
    "tags": []
   },
   "outputs": [
    {
     "data": {
      "application/javascript": [
       "parent.postMessage({\"jupyterEvent\": \"custom.exercise_interaction\", \"data\": {\"interactionType\": 2, \"questionType\": 2, \"questionId\": \"5.2_PlainDog\", \"learnToolsVersion\": \"0.3.4\", \"valueTowardsCompletion\": 0.0, \"failureMessage\": \"\", \"exceptionClass\": \"\", \"trace\": \"\", \"outcomeType\": 4}}, \"*\")"
      ],
      "text/plain": [
       "<IPython.core.display.Javascript object>"
      ]
     },
     "metadata": {},
     "output_type": "display_data"
    },
    {
     "data": {
      "text/markdown": [
       "<span style=\"color:#3366cc\">Hint:</span> You'll need to use the `not` operator."
      ],
      "text/plain": [
       "Hint: You'll need to use the `not` operator."
      ]
     },
     "metadata": {},
     "output_type": "display_data"
    },
    {
     "data": {
      "application/javascript": [
       "parent.postMessage({\"jupyterEvent\": \"custom.exercise_interaction\", \"data\": {\"interactionType\": 3, \"questionType\": 2, \"questionId\": \"5.2_PlainDog\", \"learnToolsVersion\": \"0.3.4\", \"valueTowardsCompletion\": 0.0, \"failureMessage\": \"\", \"exceptionClass\": \"\", \"trace\": \"\", \"outcomeType\": 4}}, \"*\")"
      ],
      "text/plain": [
       "<IPython.core.display.Javascript object>"
      ]
     },
     "metadata": {},
     "output_type": "display_data"
    },
    {
     "data": {
      "text/markdown": [
       "<span style=\"color:#33cc99\">Solution:</span> One solution looks like:\n",
       "```python\n",
       "return not ketchup and not mustard and not onion\n",
       "```\n",
       "\n",
       "We can also [\"factor out\" the nots](https://en.wikipedia.org/wiki/De_Morgan%27s_laws) to get:\n",
       "\n",
       "```python\n",
       "return not (ketchup or mustard or onion)\n",
       "```"
      ],
      "text/plain": [
       "Solution: One solution looks like:\n",
       "```python\n",
       "return not ketchup and not mustard and not onion\n",
       "```\n",
       "\n",
       "We can also [\"factor out\" the nots](https://en.wikipedia.org/wiki/De_Morgan%27s_laws) to get:\n",
       "\n",
       "```python\n",
       "return not (ketchup or mustard or onion)\n",
       "```"
      ]
     },
     "metadata": {},
     "output_type": "display_data"
    }
   ],
   "source": [
    "q5.b.hint()\n",
    "q5.b.solution()"
   ]
  },
  {
   "cell_type": "markdown",
   "id": "aa68a985",
   "metadata": {
    "papermill": {
     "duration": 0.013716,
     "end_time": "2023-04-06T21:20:07.017367",
     "exception": false,
     "start_time": "2023-04-06T21:20:07.003651",
     "status": "completed"
    },
    "tags": []
   },
   "source": [
    "# 5c.\n",
    "\n",
    "You know what to do: for the next function, fill in the body to match the English description in the docstring."
   ]
  },
  {
   "cell_type": "code",
   "execution_count": 19,
   "id": "c8fa8e89",
   "metadata": {
    "execution": {
     "iopub.execute_input": "2023-04-06T21:20:07.048567Z",
     "iopub.status.busy": "2023-04-06T21:20:07.047198Z",
     "iopub.status.idle": "2023-04-06T21:20:07.058895Z",
     "shell.execute_reply": "2023-04-06T21:20:07.057626Z"
    },
    "papermill": {
     "duration": 0.029829,
     "end_time": "2023-04-06T21:20:07.061380",
     "exception": false,
     "start_time": "2023-04-06T21:20:07.031551",
     "status": "completed"
    },
    "tags": []
   },
   "outputs": [
    {
     "data": {
      "application/javascript": [
       "parent.postMessage({\"jupyterEvent\": \"custom.exercise_interaction\", \"data\": {\"outcomeType\": 1, \"valueTowardsCompletion\": 0.2, \"interactionType\": 1, \"questionType\": 2, \"questionId\": \"5.3_OneSauce\", \"learnToolsVersion\": \"0.3.4\", \"failureMessage\": \"\", \"exceptionClass\": \"\", \"trace\": \"\"}}, \"*\")"
      ],
      "text/plain": [
       "<IPython.core.display.Javascript object>"
      ]
     },
     "metadata": {},
     "output_type": "display_data"
    },
    {
     "data": {
      "text/markdown": [
       "<span style=\"color:#33cc33\">Correct</span>"
      ],
      "text/plain": [
       "Correct"
      ]
     },
     "metadata": {},
     "output_type": "display_data"
    }
   ],
   "source": [
    "def exactly_one_sauce(ketchup, mustard, onion):\n",
    "    \"\"\"Return whether the customer wants either ketchup or mustard, but not both.\n",
    "    (You may be familiar with this operation under the name \"exclusive or\")\n",
    "    \"\"\"\n",
    "    return  (ketchup and not mustard) or (mustard and not ketchup)\n",
    "    pass\n",
    "\n",
    "# Check your answer\n",
    "q5.c.check()"
   ]
  },
  {
   "cell_type": "code",
   "execution_count": 20,
   "id": "9829e7c3",
   "metadata": {
    "execution": {
     "iopub.execute_input": "2023-04-06T21:20:07.092293Z",
     "iopub.status.busy": "2023-04-06T21:20:07.091771Z",
     "iopub.status.idle": "2023-04-06T21:20:07.107384Z",
     "shell.execute_reply": "2023-04-06T21:20:07.106231Z"
    },
    "papermill": {
     "duration": 0.034312,
     "end_time": "2023-04-06T21:20:07.110064",
     "exception": false,
     "start_time": "2023-04-06T21:20:07.075752",
     "status": "completed"
    },
    "tags": []
   },
   "outputs": [
    {
     "data": {
      "application/javascript": [
       "parent.postMessage({\"jupyterEvent\": \"custom.exercise_interaction\", \"data\": {\"interactionType\": 2, \"questionType\": 2, \"questionId\": \"5.3_OneSauce\", \"learnToolsVersion\": \"0.3.4\", \"valueTowardsCompletion\": 0.0, \"failureMessage\": \"\", \"exceptionClass\": \"\", \"trace\": \"\", \"outcomeType\": 4}}, \"*\")"
      ],
      "text/plain": [
       "<IPython.core.display.Javascript object>"
      ]
     },
     "metadata": {},
     "output_type": "display_data"
    },
    {
     "data": {
      "text/markdown": [
       "<span style=\"color:#3366cc\">Hint:</span> There are exactly two ways to set ketchup and mustard to make this true. What are they?"
      ],
      "text/plain": [
       "Hint: There are exactly two ways to set ketchup and mustard to make this true. What are they?"
      ]
     },
     "metadata": {},
     "output_type": "display_data"
    },
    {
     "data": {
      "application/javascript": [
       "parent.postMessage({\"jupyterEvent\": \"custom.exercise_interaction\", \"data\": {\"interactionType\": 3, \"questionType\": 2, \"questionId\": \"5.3_OneSauce\", \"learnToolsVersion\": \"0.3.4\", \"valueTowardsCompletion\": 0.0, \"failureMessage\": \"\", \"exceptionClass\": \"\", \"trace\": \"\", \"outcomeType\": 4}}, \"*\")"
      ],
      "text/plain": [
       "<IPython.core.display.Javascript object>"
      ]
     },
     "metadata": {},
     "output_type": "display_data"
    },
    {
     "data": {
      "text/markdown": [
       "<span style=\"color:#33cc99\">Solution:</span> \n",
       "```python\n",
       "return (ketchup and not mustard) or (mustard and not ketchup)\n",
       "```"
      ],
      "text/plain": [
       "Solution: \n",
       "```python\n",
       "return (ketchup and not mustard) or (mustard and not ketchup)\n",
       "```"
      ]
     },
     "metadata": {},
     "output_type": "display_data"
    }
   ],
   "source": [
    "q5.c.hint()\n",
    "q5.c.solution()"
   ]
  },
  {
   "cell_type": "markdown",
   "id": "47d7241a",
   "metadata": {
    "papermill": {
     "duration": 0.014361,
     "end_time": "2023-04-06T21:20:07.139259",
     "exception": false,
     "start_time": "2023-04-06T21:20:07.124898",
     "status": "completed"
    },
    "tags": []
   },
   "source": [
    "# 6. <span title=\"A bit spicy\" style=\"color: darkgreen \">🌶️</span>\n",
    "\n",
    "We’ve seen that calling `bool()` on an integer returns `False` if it’s equal to 0 and `True` otherwise. What happens if we call `int()` on a bool? Try it out in the notebook cell below.\n",
    "\n",
    "Can you take advantage of this to write a succinct function that corresponds to the English sentence \"does the customer want exactly one topping?\"?"
   ]
  },
  {
   "cell_type": "code",
   "execution_count": 21,
   "id": "e64df1ee",
   "metadata": {
    "execution": {
     "iopub.execute_input": "2023-04-06T21:20:07.171311Z",
     "iopub.status.busy": "2023-04-06T21:20:07.170782Z",
     "iopub.status.idle": "2023-04-06T21:20:07.182533Z",
     "shell.execute_reply": "2023-04-06T21:20:07.181125Z"
    },
    "papermill": {
     "duration": 0.030456,
     "end_time": "2023-04-06T21:20:07.184931",
     "exception": false,
     "start_time": "2023-04-06T21:20:07.154475",
     "status": "completed"
    },
    "tags": []
   },
   "outputs": [
    {
     "data": {
      "application/javascript": [
       "parent.postMessage({\"jupyterEvent\": \"custom.exercise_interaction\", \"data\": {\"outcomeType\": 1, \"valueTowardsCompletion\": 0.2, \"interactionType\": 1, \"questionType\": 2, \"questionId\": \"6_OneTopping\", \"learnToolsVersion\": \"0.3.4\", \"failureMessage\": \"\", \"exceptionClass\": \"\", \"trace\": \"\"}}, \"*\")"
      ],
      "text/plain": [
       "<IPython.core.display.Javascript object>"
      ]
     },
     "metadata": {},
     "output_type": "display_data"
    },
    {
     "data": {
      "text/markdown": [
       "<span style=\"color:#33cc33\">Correct:</span> \n",
       "\n",
       "This condition would be pretty complicated to express using just `and`, `or` and `not`, but using boolean-to-integer conversion gives us this short solution:\n",
       "```python\n",
       "return (int(ketchup) + int(mustard) + int(onion)) == 1\n",
       "```\n",
       "\n",
       "Fun fact: we don't technically need to call `int` on the arguments. Just by doing addition with booleans, Python implicitly does the integer conversion. So we could also write...\n",
       "\n",
       "```python\n",
       "return (ketchup + mustard + onion) == 1\n",
       "```"
      ],
      "text/plain": [
       "Correct: \n",
       "\n",
       "This condition would be pretty complicated to express using just `and`, `or` and `not`, but using boolean-to-integer conversion gives us this short solution:\n",
       "```python\n",
       "return (int(ketchup) + int(mustard) + int(onion)) == 1\n",
       "```\n",
       "\n",
       "Fun fact: we don't technically need to call `int` on the arguments. Just by doing addition with booleans, Python implicitly does the integer conversion. So we could also write...\n",
       "\n",
       "```python\n",
       "return (ketchup + mustard + onion) == 1\n",
       "```"
      ]
     },
     "metadata": {},
     "output_type": "display_data"
    }
   ],
   "source": [
    "def exactly_one_topping(ketchup, mustard, onion):\n",
    "    \"\"\"Return whether the customer wants exactly one of the three available toppings\n",
    "    on their hot dog.\n",
    "    \"\"\"\n",
    "    return (ketchup + mustard + onion) == 1\n",
    "    pass\n",
    "\n",
    "#Check your answer\n",
    "q6.check()"
   ]
  },
  {
   "cell_type": "code",
   "execution_count": 22,
   "id": "2cee35b6",
   "metadata": {
    "execution": {
     "iopub.execute_input": "2023-04-06T21:20:07.218083Z",
     "iopub.status.busy": "2023-04-06T21:20:07.216898Z",
     "iopub.status.idle": "2023-04-06T21:20:07.231535Z",
     "shell.execute_reply": "2023-04-06T21:20:07.230403Z"
    },
    "papermill": {
     "duration": 0.033919,
     "end_time": "2023-04-06T21:20:07.233956",
     "exception": false,
     "start_time": "2023-04-06T21:20:07.200037",
     "status": "completed"
    },
    "tags": []
   },
   "outputs": [
    {
     "data": {
      "application/javascript": [
       "parent.postMessage({\"jupyterEvent\": \"custom.exercise_interaction\", \"data\": {\"interactionType\": 2, \"questionType\": 2, \"questionId\": \"6_OneTopping\", \"learnToolsVersion\": \"0.3.4\", \"valueTowardsCompletion\": 0.0, \"failureMessage\": \"\", \"exceptionClass\": \"\", \"trace\": \"\", \"outcomeType\": 4}}, \"*\")"
      ],
      "text/plain": [
       "<IPython.core.display.Javascript object>"
      ]
     },
     "metadata": {},
     "output_type": "display_data"
    },
    {
     "data": {
      "text/markdown": [
       "<span style=\"color:#3366cc\">Hint:</span> You may have already found that `int(True)` is 1, and `int(False)` is 0. Think about what kinds of basic arithmetic operations you might want to perform on `ketchup`, `mustard`, and `onion` after converting them to integers."
      ],
      "text/plain": [
       "Hint: You may have already found that `int(True)` is 1, and `int(False)` is 0. Think about what kinds of basic arithmetic operations you might want to perform on `ketchup`, `mustard`, and `onion` after converting them to integers."
      ]
     },
     "metadata": {},
     "output_type": "display_data"
    },
    {
     "data": {
      "application/javascript": [
       "parent.postMessage({\"jupyterEvent\": \"custom.exercise_interaction\", \"data\": {\"interactionType\": 3, \"questionType\": 2, \"questionId\": \"6_OneTopping\", \"learnToolsVersion\": \"0.3.4\", \"valueTowardsCompletion\": 0.0, \"failureMessage\": \"\", \"exceptionClass\": \"\", \"trace\": \"\", \"outcomeType\": 4}}, \"*\")"
      ],
      "text/plain": [
       "<IPython.core.display.Javascript object>"
      ]
     },
     "metadata": {},
     "output_type": "display_data"
    },
    {
     "data": {
      "text/markdown": [
       "<span style=\"color:#33cc99\">Solution:</span> This condition would be pretty complicated to express using just `and`, `or` and `not`, but using boolean-to-integer conversion gives us this short solution:\n",
       "```python\n",
       "return (int(ketchup) + int(mustard) + int(onion)) == 1\n",
       "```\n",
       "\n",
       "Fun fact: we don't technically need to call `int` on the arguments. Just by doing addition with booleans, Python implicitly does the integer conversion. So we could also write...\n",
       "\n",
       "```python\n",
       "return (ketchup + mustard + onion) == 1\n",
       "```"
      ],
      "text/plain": [
       "Solution: This condition would be pretty complicated to express using just `and`, `or` and `not`, but using boolean-to-integer conversion gives us this short solution:\n",
       "```python\n",
       "return (int(ketchup) + int(mustard) + int(onion)) == 1\n",
       "```\n",
       "\n",
       "Fun fact: we don't technically need to call `int` on the arguments. Just by doing addition with booleans, Python implicitly does the integer conversion. So we could also write...\n",
       "\n",
       "```python\n",
       "return (ketchup + mustard + onion) == 1\n",
       "```"
      ]
     },
     "metadata": {},
     "output_type": "display_data"
    }
   ],
   "source": [
    "q6.hint()\n",
    "q6.solution()"
   ]
  },
  {
   "cell_type": "markdown",
   "id": "17cfe79e",
   "metadata": {
    "papermill": {
     "duration": 0.015256,
     "end_time": "2023-04-06T21:20:07.264971",
     "exception": false,
     "start_time": "2023-04-06T21:20:07.249715",
     "status": "completed"
    },
    "tags": []
   },
   "source": [
    "# 7. <span title=\"A bit spicy\" style=\"color: darkgreen \">🌶️</span> (Optional)\n",
    "\n",
    "In this problem we'll be working with a simplified version of [blackjack](https://en.wikipedia.org/wiki/Blackjack) (aka twenty-one). In this version there is one player (who you'll control) and a dealer. Play proceeds as follows:\n",
    "\n",
    "- The player is dealt two face-up cards. The dealer is dealt one face-up card.\n",
    "- The player may ask to be dealt another card ('hit') as many times as they wish. If the sum of their cards exceeds 21, they lose the round immediately.\n",
    "- The dealer then deals additional cards to himself until either:\n",
    "    - the sum of the dealer's cards exceeds 21, in which case the player wins the round\n",
    "    - the sum of the dealer's cards is greater than or equal to 17. If the player's total is greater than the dealer's, the player wins. Otherwise, the dealer wins (even in case of a tie).\n",
    "    \n",
    "When calculating the sum of cards, Jack, Queen, and King count for 10. Aces can count as 1 or 11 (when referring to a player's \"total\" above, we mean the largest total that can be made without exceeding 21. So e.g. A+8 = 19, A+8+8 = 17)\n",
    "\n",
    "For this problem, you'll write a function representing the player's decision-making strategy in this game. We've provided a very unintelligent implementation below:"
   ]
  },
  {
   "cell_type": "code",
   "execution_count": 23,
   "id": "ef2f3d48",
   "metadata": {
    "execution": {
     "iopub.execute_input": "2023-04-06T21:20:07.298851Z",
     "iopub.status.busy": "2023-04-06T21:20:07.298348Z",
     "iopub.status.idle": "2023-04-06T21:20:07.303909Z",
     "shell.execute_reply": "2023-04-06T21:20:07.302934Z"
    },
    "papermill": {
     "duration": 0.0256,
     "end_time": "2023-04-06T21:20:07.306358",
     "exception": false,
     "start_time": "2023-04-06T21:20:07.280758",
     "status": "completed"
    },
    "tags": []
   },
   "outputs": [],
   "source": [
    "def should_hit(dealer_total, player_total, player_low_aces, player_high_aces):\n",
    "     \"\"\"Return True if the player should hit (request another card) given the current game\n",
    "     state, or False if the player should stay.\n",
    "     When calculating a hand's total value, we count aces as \"high\" (with value 11) if doing so\n",
    "     doesn't bring the total above 21, otherwise we count them as low (with value 1). \n",
    "     For example, if the player's hand is {A, A, A, 7}, we will count it as 11 + 1 + 1 + 7,\n",
    "     and therefore set player_total=20, player_low_aces=2, player_high_aces=1.\n",
    "     \"\"\"\n",
    "     return False or dealer_total==1 "
   ]
  },
  {
   "cell_type": "markdown",
   "id": "41576792",
   "metadata": {
    "papermill": {
     "duration": 0.015568,
     "end_time": "2023-04-06T21:20:07.339080",
     "exception": false,
     "start_time": "2023-04-06T21:20:07.323512",
     "status": "completed"
    },
    "tags": []
   },
   "source": [
    "This very conservative agent *always* sticks with the hand of two cards that they're dealt.\n",
    "\n",
    "We'll be simulating games between your player agent and our own dealer agent by calling your function.\n",
    "\n",
    "Try running the function below to see an example of a simulated game:"
   ]
  },
  {
   "cell_type": "code",
   "execution_count": 24,
   "id": "e486732c",
   "metadata": {
    "execution": {
     "iopub.execute_input": "2023-04-06T21:20:07.373510Z",
     "iopub.status.busy": "2023-04-06T21:20:07.372561Z",
     "iopub.status.idle": "2023-04-06T21:20:07.378494Z",
     "shell.execute_reply": "2023-04-06T21:20:07.377520Z"
    },
    "papermill": {
     "duration": 0.025826,
     "end_time": "2023-04-06T21:20:07.380773",
     "exception": false,
     "start_time": "2023-04-06T21:20:07.354947",
     "status": "completed"
    },
    "tags": []
   },
   "outputs": [
    {
     "name": "stdout",
     "output_type": "stream",
     "text": [
      "Player starts with 4 and 9 (total = 13)\n",
      "Dealer starts with 6\n",
      "\n",
      "__Player's turn__\n",
      "Player stays\n",
      "\n",
      "__Dealer's turn__\n",
      "Dealer hits and receives J. (total = 16)\n",
      "Dealer hits and receives 7. (total = 23)\n",
      "Dealer busts! Player wins.\n"
     ]
    }
   ],
   "source": [
    "q7.simulate_one_game()"
   ]
  },
  {
   "cell_type": "markdown",
   "id": "8978b679",
   "metadata": {
    "papermill": {
     "duration": 0.01546,
     "end_time": "2023-04-06T21:20:07.412399",
     "exception": false,
     "start_time": "2023-04-06T21:20:07.396939",
     "status": "completed"
    },
    "tags": []
   },
   "source": [
    "The real test of your agent's mettle is their average win rate over many games. Try calling the function below to simulate 50000 games of blackjack (it may take a couple seconds):"
   ]
  },
  {
   "cell_type": "code",
   "execution_count": 25,
   "id": "522b2e17",
   "metadata": {
    "execution": {
     "iopub.execute_input": "2023-04-06T21:20:07.446599Z",
     "iopub.status.busy": "2023-04-06T21:20:07.445664Z",
     "iopub.status.idle": "2023-04-06T21:20:09.085818Z",
     "shell.execute_reply": "2023-04-06T21:20:09.084237Z"
    },
    "papermill": {
     "duration": 1.660576,
     "end_time": "2023-04-06T21:20:09.088927",
     "exception": false,
     "start_time": "2023-04-06T21:20:07.428351",
     "status": "completed"
    },
    "tags": []
   },
   "outputs": [
    {
     "name": "stdout",
     "output_type": "stream",
     "text": [
      "Player won 19051 out of 50000 games (win rate = 38.1%)\n"
     ]
    }
   ],
   "source": [
    "q7.simulate(n_games=50000)"
   ]
  },
  {
   "cell_type": "markdown",
   "id": "bb9dd19a",
   "metadata": {
    "papermill": {
     "duration": 0.015422,
     "end_time": "2023-04-06T21:20:09.120433",
     "exception": false,
     "start_time": "2023-04-06T21:20:09.105011",
     "status": "completed"
    },
    "tags": []
   },
   "source": [
    "Our dumb agent that completely ignores the game state still manages to win shockingly often!\n",
    "\n",
    "Try adding some more smarts to the `should_hit` function and see how it affects the results."
   ]
  },
  {
   "cell_type": "code",
   "execution_count": 26,
   "id": "81de49ad",
   "metadata": {
    "execution": {
     "iopub.execute_input": "2023-04-06T21:20:09.155180Z",
     "iopub.status.busy": "2023-04-06T21:20:09.154646Z",
     "iopub.status.idle": "2023-04-06T21:20:10.826706Z",
     "shell.execute_reply": "2023-04-06T21:20:10.825265Z"
    },
    "papermill": {
     "duration": 1.692764,
     "end_time": "2023-04-06T21:20:10.829749",
     "exception": false,
     "start_time": "2023-04-06T21:20:09.136985",
     "status": "completed"
    },
    "tags": []
   },
   "outputs": [
    {
     "name": "stdout",
     "output_type": "stream",
     "text": [
      "Player won 19151 out of 50000 games (win rate = 38.3%)\n"
     ]
    }
   ],
   "source": [
    "def should_hit(dealer_total, player_total, player_low_aces, player_high_aces):\n",
    "    \"\"\"Return True if the player should hit (request another card) given the current game\n",
    "    state, or False if the player should stay.\n",
    "    When calculating a hand's total value, we count aces as \"high\" (with value 11) if doing so\n",
    "    doesn't bring the total above 21, otherwise we count them as low (with value 1). \n",
    "    For example, if the player's hand is {A, A, A, 7}, we will count it as 11 + 1 + 1 + 7,\n",
    "    and therefore set player_total=20, player_low_aces=2, player_high_aces=1.\n",
    "    \"\"\"\n",
    "    return False\n",
    "\n",
    "q7.simulate(n_games=50000)"
   ]
  },
  {
   "cell_type": "markdown",
   "id": "012e492a",
   "metadata": {
    "papermill": {
     "duration": 0.015214,
     "end_time": "2023-04-06T21:20:10.860801",
     "exception": false,
     "start_time": "2023-04-06T21:20:10.845587",
     "status": "completed"
    },
    "tags": []
   },
   "source": [
    "# Keep Going\n",
    "\n",
    "Learn about **[lists and tuples](https://www.kaggle.com/colinmorris/lists)** to handle multiple items of data in a systematic way."
   ]
  },
  {
   "cell_type": "markdown",
   "id": "293659dc",
   "metadata": {
    "papermill": {
     "duration": 0.015241,
     "end_time": "2023-04-06T21:20:10.891678",
     "exception": false,
     "start_time": "2023-04-06T21:20:10.876437",
     "status": "completed"
    },
    "tags": []
   },
   "source": [
    "---\n",
    "\n",
    "\n",
    "\n",
    "\n",
    "*Have questions or comments? Visit the [course discussion forum](https://www.kaggle.com/learn/python/discussion) to chat with other learners.*"
   ]
  }
 ],
 "metadata": {
  "kernelspec": {
   "display_name": "Python 3",
   "language": "python",
   "name": "python3"
  },
  "language_info": {
   "codemirror_mode": {
    "name": "ipython",
    "version": 3
   },
   "file_extension": ".py",
   "mimetype": "text/x-python",
   "name": "python",
   "nbconvert_exporter": "python",
   "pygments_lexer": "ipython3",
   "version": "3.7.12"
  },
  "papermill": {
   "default_parameters": {},
   "duration": 16.847781,
   "end_time": "2023-04-06T21:20:11.633453",
   "environment_variables": {},
   "exception": null,
   "input_path": "__notebook__.ipynb",
   "output_path": "__notebook__.ipynb",
   "parameters": {},
   "start_time": "2023-04-06T21:19:54.785672",
   "version": "2.4.0"
  }
 },
 "nbformat": 4,
 "nbformat_minor": 5
}
