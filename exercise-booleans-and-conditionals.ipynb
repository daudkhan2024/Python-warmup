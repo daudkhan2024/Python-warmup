{
 "cells": [
  {
   "cell_type": "markdown",
   "id": "ca1b9131",
   "metadata": {
    "papermill": {
     "duration": 0.01427,
     "end_time": "2023-04-14T12:38:22.125634",
     "exception": false,
     "start_time": "2023-04-14T12:38:22.111364",
     "status": "completed"
    },
    "tags": []
   },
   "source": [
    "**This notebook is an exercise in the [Python](https://www.kaggle.com/learn/python) course.  You can reference the tutorial at [this link](https://www.kaggle.com/colinmorris/booleans-and-conditionals).**\n",
    "\n",
    "---\n"
   ]
  },
  {
   "cell_type": "markdown",
   "id": "37f2c5f7",
   "metadata": {
    "execution": {
     "iopub.execute_input": "2023-04-06T21:25:24.082062Z",
     "iopub.status.busy": "2023-04-06T21:25:24.081627Z",
     "iopub.status.idle": "2023-04-06T21:25:24.087694Z",
     "shell.execute_reply": "2023-04-06T21:25:24.086320Z",
     "shell.execute_reply.started": "2023-04-06T21:25:24.082029Z"
    },
    "papermill": {
     "duration": 0.009245,
     "end_time": "2023-04-14T12:38:22.146007",
     "exception": false,
     "start_time": "2023-04-14T12:38:22.136762",
     "status": "completed"
    },
    "tags": []
   },
   "source": [
    "Think you are ready to use Booleans and Conditionals? Try it yourself and find out."
   ]
  },
  {
   "cell_type": "markdown",
   "id": "deaae4c5",
   "metadata": {
    "papermill": {
     "duration": 0.009048,
     "end_time": "2023-04-14T12:38:22.164644",
     "exception": false,
     "start_time": "2023-04-14T12:38:22.155596",
     "status": "completed"
    },
    "tags": []
   },
   "source": [
    "In this exercise, you'll put to work what you have learned about booleans and conditionals.\n",
    "\n",
    "To get started, **run the setup code below** before writing your own code (and if you leave this notebook and come back later, don't forget to run the setup code again)."
   ]
  },
  {
   "cell_type": "code",
   "execution_count": 1,
   "id": "d04f46e1",
   "metadata": {
    "execution": {
     "iopub.execute_input": "2023-04-14T12:38:22.185887Z",
     "iopub.status.busy": "2023-04-14T12:38:22.184956Z",
     "iopub.status.idle": "2023-04-14T12:38:22.249275Z",
     "shell.execute_reply": "2023-04-14T12:38:22.248223Z"
    },
    "papermill": {
     "duration": 0.079167,
     "end_time": "2023-04-14T12:38:22.253191",
     "exception": false,
     "start_time": "2023-04-14T12:38:22.174024",
     "status": "completed"
    },
    "tags": []
   },
   "outputs": [
    {
     "name": "stdout",
     "output_type": "stream",
     "text": [
      "Setup complete.\n"
     ]
    }
   ],
   "source": [
    "from learntools.core import binder; binder.bind(globals())\n",
    "from learntools.python.ex3 import *\n",
    "print('Setup complete.')"
   ]
  },
  {
   "cell_type": "markdown",
   "id": "e2258081",
   "metadata": {
    "papermill": {
     "duration": 0.00968,
     "end_time": "2023-04-14T12:38:22.277168",
     "exception": false,
     "start_time": "2023-04-14T12:38:22.267488",
     "status": "completed"
    },
    "tags": []
   },
   "source": [
    "# 1.\n",
    "\n",
    "Many programming languages have [`sign`](https://en.wikipedia.org/wiki/Sign_function) available as a built-in function. Python doesn't, but we can define our own!\n",
    "\n",
    "In the cell below, define a function called `sign` which takes a numerical argument and returns -1 if it's negative, 1 if it's positive, and 0 if it's 0."
   ]
  },
  {
   "cell_type": "code",
   "execution_count": 2,
   "id": "ccdd826d",
   "metadata": {
    "execution": {
     "iopub.execute_input": "2023-04-14T12:38:22.299434Z",
     "iopub.status.busy": "2023-04-14T12:38:22.298430Z",
     "iopub.status.idle": "2023-04-14T12:38:22.312304Z",
     "shell.execute_reply": "2023-04-14T12:38:22.311022Z"
    },
    "papermill": {
     "duration": 0.028217,
     "end_time": "2023-04-14T12:38:22.315046",
     "exception": false,
     "start_time": "2023-04-14T12:38:22.286829",
     "status": "completed"
    },
    "tags": []
   },
   "outputs": [
    {
     "data": {
      "application/javascript": [
       "parent.postMessage({\"jupyterEvent\": \"custom.exercise_interaction\", \"data\": {\"outcomeType\": 1, \"valueTowardsCompletion\": 0.2, \"interactionType\": 1, \"questionType\": 2, \"questionId\": \"1_SignFunctionProblem\", \"learnToolsVersion\": \"0.3.4\", \"failureMessage\": \"\", \"exceptionClass\": \"\", \"trace\": \"\"}}, \"*\")"
      ],
      "text/plain": [
       "<IPython.core.display.Javascript object>"
      ]
     },
     "metadata": {},
     "output_type": "display_data"
    },
    {
     "data": {
      "text/markdown": [
       "<span style=\"color:#33cc33\">Correct</span>"
      ],
      "text/plain": [
       "Correct"
      ]
     },
     "metadata": {},
     "output_type": "display_data"
    }
   ],
   "source": [
    "# Your code goes here. Define a function called 'sign'\n",
    "def sign(x):\n",
    "    if x < 0:\n",
    "        return -1\n",
    "    elif x > 0:\n",
    "        return 1\n",
    "    else:\n",
    "        return 0\n",
    "# Check your answer\n",
    "q1.check()"
   ]
  },
  {
   "cell_type": "code",
   "execution_count": 3,
   "id": "63209c4e",
   "metadata": {
    "execution": {
     "iopub.execute_input": "2023-04-14T12:38:22.338533Z",
     "iopub.status.busy": "2023-04-14T12:38:22.337557Z",
     "iopub.status.idle": "2023-04-14T12:38:22.343040Z",
     "shell.execute_reply": "2023-04-14T12:38:22.341882Z"
    },
    "papermill": {
     "duration": 0.020069,
     "end_time": "2023-04-14T12:38:22.345740",
     "exception": false,
     "start_time": "2023-04-14T12:38:22.325671",
     "status": "completed"
    },
    "tags": []
   },
   "outputs": [],
   "source": [
    "#q1.solution()"
   ]
  },
  {
   "cell_type": "markdown",
   "id": "b2213890",
   "metadata": {
    "papermill": {
     "duration": 0.012718,
     "end_time": "2023-04-14T12:38:22.368722",
     "exception": false,
     "start_time": "2023-04-14T12:38:22.356004",
     "status": "completed"
    },
    "tags": []
   },
   "source": [
    "# 2.\n",
    "\n",
    "We've decided to add \"logging\" to our `to_smash` function from the previous exercise."
   ]
  },
  {
   "cell_type": "code",
   "execution_count": 4,
   "id": "c55ecd86",
   "metadata": {
    "execution": {
     "iopub.execute_input": "2023-04-14T12:38:22.391753Z",
     "iopub.status.busy": "2023-04-14T12:38:22.390730Z",
     "iopub.status.idle": "2023-04-14T12:38:22.405094Z",
     "shell.execute_reply": "2023-04-14T12:38:22.403863Z"
    },
    "papermill": {
     "duration": 0.028917,
     "end_time": "2023-04-14T12:38:22.407871",
     "exception": false,
     "start_time": "2023-04-14T12:38:22.378954",
     "status": "completed"
    },
    "tags": []
   },
   "outputs": [
    {
     "name": "stdout",
     "output_type": "stream",
     "text": [
      "Splitting 91 candies\n",
      "Splitting 1 candies\n"
     ]
    },
    {
     "data": {
      "application/javascript": [
       "parent.postMessage({\"jupyterEvent\": \"custom.exercise_interaction\", \"data\": {\"outcomeType\": 1, \"valueTowardsCompletion\": 0.2, \"interactionType\": 1, \"questionType\": 4, \"questionId\": \"2_PluralizationProblem\", \"learnToolsVersion\": \"0.3.4\", \"failureMessage\": \"\", \"exceptionClass\": \"\", \"trace\": \"\"}}, \"*\")"
      ],
      "text/plain": [
       "<IPython.core.display.Javascript object>"
      ]
     },
     "metadata": {},
     "output_type": "display_data"
    },
    {
     "data": {
      "text/markdown": [
       "<span style=\"color:#33cc33\">Correct:</span> \n",
       "\n",
       "A straightforward (and totally fine) solution is to replace the original `print` call with:\n",
       "\n",
       "```python\n",
       "if total_candies == 1:\n",
       "    print(\"Splitting 1 candy\")\n",
       "else:\n",
       "    print(\"Splitting\", total_candies, \"candies\")\n",
       "```\n",
       "\n",
       "Here's a slightly more succinct solution using a conditional expression:\n",
       "\n",
       "```python\n",
       "print(\"Splitting\", total_candies, \"candy\" if total_candies == 1 else \"candies\")\n",
       "```"
      ],
      "text/plain": [
       "Correct: \n",
       "\n",
       "A straightforward (and totally fine) solution is to replace the original `print` call with:\n",
       "\n",
       "```python\n",
       "if total_candies == 1:\n",
       "    print(\"Splitting 1 candy\")\n",
       "else:\n",
       "    print(\"Splitting\", total_candies, \"candies\")\n",
       "```\n",
       "\n",
       "Here's a slightly more succinct solution using a conditional expression:\n",
       "\n",
       "```python\n",
       "print(\"Splitting\", total_candies, \"candy\" if total_candies == 1 else \"candies\")\n",
       "```"
      ]
     },
     "metadata": {},
     "output_type": "display_data"
    }
   ],
   "source": [
    "def to_smash(total_candies):\n",
    "    \"\"\"Return the number of leftover candies that must be smashed after distributing\n",
    "    the given number of candies evenly between 3 friends.\n",
    "    \n",
    "    >>> to_smash(91)\n",
    "    1\n",
    "    \"\"\"\n",
    "    print(\"Splitting\", total_candies, \"candies\")\n",
    "    return total_candies % 3\n",
    "\n",
    "to_smash(91)\n",
    "to_smash(1)\n",
    "q2.check()"
   ]
  },
  {
   "cell_type": "markdown",
   "id": "0909dc4f",
   "metadata": {
    "papermill": {
     "duration": 0.010022,
     "end_time": "2023-04-14T12:38:22.428828",
     "exception": false,
     "start_time": "2023-04-14T12:38:22.418806",
     "status": "completed"
    },
    "tags": []
   },
   "source": [
    "What happens if we call it with `total_candies = 1`?"
   ]
  },
  {
   "cell_type": "code",
   "execution_count": 5,
   "id": "4acd4f59",
   "metadata": {
    "execution": {
     "iopub.execute_input": "2023-04-14T12:38:22.452513Z",
     "iopub.status.busy": "2023-04-14T12:38:22.451360Z",
     "iopub.status.idle": "2023-04-14T12:38:22.462460Z",
     "shell.execute_reply": "2023-04-14T12:38:22.461192Z"
    },
    "papermill": {
     "duration": 0.026525,
     "end_time": "2023-04-14T12:38:22.465659",
     "exception": false,
     "start_time": "2023-04-14T12:38:22.439134",
     "status": "completed"
    },
    "tags": []
   },
   "outputs": [
    {
     "data": {
      "application/javascript": [
       "parent.postMessage({\"jupyterEvent\": \"custom.exercise_interaction\", \"data\": {\"interactionType\": 3, \"questionType\": 4, \"questionId\": \"2_PluralizationProblem\", \"learnToolsVersion\": \"0.3.4\", \"valueTowardsCompletion\": 0.0, \"failureMessage\": \"\", \"exceptionClass\": \"\", \"trace\": \"\", \"outcomeType\": 4}}, \"*\")"
      ],
      "text/plain": [
       "<IPython.core.display.Javascript object>"
      ]
     },
     "metadata": {},
     "output_type": "display_data"
    },
    {
     "data": {
      "text/markdown": [
       "<span style=\"color:#33cc99\">Solution:</span> A straightforward (and totally fine) solution is to replace the original `print` call with:\n",
       "\n",
       "```python\n",
       "if total_candies == 1:\n",
       "    print(\"Splitting 1 candy\")\n",
       "else:\n",
       "    print(\"Splitting\", total_candies, \"candies\")\n",
       "```\n",
       "\n",
       "Here's a slightly more succinct solution using a conditional expression:\n",
       "\n",
       "```python\n",
       "print(\"Splitting\", total_candies, \"candy\" if total_candies == 1 else \"candies\")\n",
       "```"
      ],
      "text/plain": [
       "Solution: A straightforward (and totally fine) solution is to replace the original `print` call with:\n",
       "\n",
       "```python\n",
       "if total_candies == 1:\n",
       "    print(\"Splitting 1 candy\")\n",
       "else:\n",
       "    print(\"Splitting\", total_candies, \"candies\")\n",
       "```\n",
       "\n",
       "Here's a slightly more succinct solution using a conditional expression:\n",
       "\n",
       "```python\n",
       "print(\"Splitting\", total_candies, \"candy\" if total_candies == 1 else \"candies\")\n",
       "```"
      ]
     },
     "metadata": {},
     "output_type": "display_data"
    }
   ],
   "source": [
    "q2.solution()"
   ]
  },
  {
   "cell_type": "markdown",
   "id": "8c37a0d7",
   "metadata": {
    "papermill": {
     "duration": 0.012436,
     "end_time": "2023-04-14T12:38:22.489009",
     "exception": false,
     "start_time": "2023-04-14T12:38:22.476573",
     "status": "completed"
    },
    "tags": []
   },
   "source": [
    "That isn't great grammar!\n",
    "\n",
    "Modify the definition in the cell below to correct the grammar of our print statement. (If there's only one candy, we should use the singular \"candy\" instead of the plural \"candies\")"
   ]
  },
  {
   "cell_type": "code",
   "execution_count": 6,
   "id": "1639b323",
   "metadata": {
    "execution": {
     "iopub.execute_input": "2023-04-14T12:38:22.522008Z",
     "iopub.status.busy": "2023-04-14T12:38:22.521212Z",
     "iopub.status.idle": "2023-04-14T12:38:22.533731Z",
     "shell.execute_reply": "2023-04-14T12:38:22.532511Z"
    },
    "papermill": {
     "duration": 0.032139,
     "end_time": "2023-04-14T12:38:22.537330",
     "exception": false,
     "start_time": "2023-04-14T12:38:22.505191",
     "status": "completed"
    },
    "tags": []
   },
   "outputs": [
    {
     "name": "stdout",
     "output_type": "stream",
     "text": [
      "Splitting 91 candies\n",
      "Splitting 1 candies\n"
     ]
    },
    {
     "data": {
      "application/javascript": [
       "parent.postMessage({\"jupyterEvent\": \"custom.exercise_interaction\", \"data\": {\"outcomeType\": 1, \"valueTowardsCompletion\": 0.2, \"interactionType\": 1, \"questionType\": 4, \"questionId\": \"2_PluralizationProblem\", \"learnToolsVersion\": \"0.3.4\", \"failureMessage\": \"\", \"exceptionClass\": \"\", \"trace\": \"\"}}, \"*\")"
      ],
      "text/plain": [
       "<IPython.core.display.Javascript object>"
      ]
     },
     "metadata": {},
     "output_type": "display_data"
    },
    {
     "data": {
      "text/markdown": [
       "<span style=\"color:#33cc33\">Correct:</span> \n",
       "\n",
       "A straightforward (and totally fine) solution is to replace the original `print` call with:\n",
       "\n",
       "```python\n",
       "if total_candies == 1:\n",
       "    print(\"Splitting 1 candy\")\n",
       "else:\n",
       "    print(\"Splitting\", total_candies, \"candies\")\n",
       "```\n",
       "\n",
       "Here's a slightly more succinct solution using a conditional expression:\n",
       "\n",
       "```python\n",
       "print(\"Splitting\", total_candies, \"candy\" if total_candies == 1 else \"candies\")\n",
       "```"
      ],
      "text/plain": [
       "Correct: \n",
       "\n",
       "A straightforward (and totally fine) solution is to replace the original `print` call with:\n",
       "\n",
       "```python\n",
       "if total_candies == 1:\n",
       "    print(\"Splitting 1 candy\")\n",
       "else:\n",
       "    print(\"Splitting\", total_candies, \"candies\")\n",
       "```\n",
       "\n",
       "Here's a slightly more succinct solution using a conditional expression:\n",
       "\n",
       "```python\n",
       "print(\"Splitting\", total_candies, \"candy\" if total_candies == 1 else \"candies\")\n",
       "```"
      ]
     },
     "metadata": {},
     "output_type": "display_data"
    }
   ],
   "source": [
    "def to_smash(total_candies):\n",
    "    \"\"\"Return the number of leftover candies that must be smashed after distributing\n",
    "    the given number of candies evenly between 3 friends.\n",
    "    \n",
    "    >>> to_smash(91)\n",
    "    1\n",
    "    \"\"\"\n",
    "    print(\"Splitting\", total_candies, \"candies\")\n",
    "    return total_candies % 3\n",
    "\n",
    "to_smash(91)\n",
    "to_smash(1)\n",
    "q2.check()"
   ]
  },
  {
   "cell_type": "markdown",
   "id": "acf222cf",
   "metadata": {
    "papermill": {
     "duration": 0.015595,
     "end_time": "2023-04-14T12:38:22.569382",
     "exception": false,
     "start_time": "2023-04-14T12:38:22.553787",
     "status": "completed"
    },
    "tags": []
   },
   "source": [
    "To get credit for completing this problem, and to see the official answer, run the code cell below."
   ]
  },
  {
   "cell_type": "code",
   "execution_count": 7,
   "id": "81898e9f",
   "metadata": {
    "execution": {
     "iopub.execute_input": "2023-04-14T12:38:22.593555Z",
     "iopub.status.busy": "2023-04-14T12:38:22.593094Z",
     "iopub.status.idle": "2023-04-14T12:38:22.603682Z",
     "shell.execute_reply": "2023-04-14T12:38:22.602205Z"
    },
    "papermill": {
     "duration": 0.026456,
     "end_time": "2023-04-14T12:38:22.607100",
     "exception": false,
     "start_time": "2023-04-14T12:38:22.580644",
     "status": "completed"
    },
    "tags": []
   },
   "outputs": [
    {
     "data": {
      "application/javascript": [
       "parent.postMessage({\"jupyterEvent\": \"custom.exercise_interaction\", \"data\": {\"interactionType\": 3, \"questionType\": 4, \"questionId\": \"2_PluralizationProblem\", \"learnToolsVersion\": \"0.3.4\", \"valueTowardsCompletion\": 0.0, \"failureMessage\": \"\", \"exceptionClass\": \"\", \"trace\": \"\", \"outcomeType\": 4}}, \"*\")"
      ],
      "text/plain": [
       "<IPython.core.display.Javascript object>"
      ]
     },
     "metadata": {},
     "output_type": "display_data"
    },
    {
     "data": {
      "text/markdown": [
       "<span style=\"color:#33cc99\">Solution:</span> A straightforward (and totally fine) solution is to replace the original `print` call with:\n",
       "\n",
       "```python\n",
       "if total_candies == 1:\n",
       "    print(\"Splitting 1 candy\")\n",
       "else:\n",
       "    print(\"Splitting\", total_candies, \"candies\")\n",
       "```\n",
       "\n",
       "Here's a slightly more succinct solution using a conditional expression:\n",
       "\n",
       "```python\n",
       "print(\"Splitting\", total_candies, \"candy\" if total_candies == 1 else \"candies\")\n",
       "```"
      ],
      "text/plain": [
       "Solution: A straightforward (and totally fine) solution is to replace the original `print` call with:\n",
       "\n",
       "```python\n",
       "if total_candies == 1:\n",
       "    print(\"Splitting 1 candy\")\n",
       "else:\n",
       "    print(\"Splitting\", total_candies, \"candies\")\n",
       "```\n",
       "\n",
       "Here's a slightly more succinct solution using a conditional expression:\n",
       "\n",
       "```python\n",
       "print(\"Splitting\", total_candies, \"candy\" if total_candies == 1 else \"candies\")\n",
       "```"
      ]
     },
     "metadata": {},
     "output_type": "display_data"
    }
   ],
   "source": [
    " #Check your answer (Run this code cell to receive credit!)\n",
    "q2.solution()"
   ]
  },
  {
   "cell_type": "markdown",
   "id": "63bcc73b",
   "metadata": {
    "papermill": {
     "duration": 0.010968,
     "end_time": "2023-04-14T12:38:22.636479",
     "exception": false,
     "start_time": "2023-04-14T12:38:22.625511",
     "status": "completed"
    },
    "tags": []
   },
   "source": [
    "# 3. <span title=\"A bit spicy\" style=\"color: darkgreen \">🌶️</span>\n",
    "\n",
    "In the tutorial, we talked about deciding whether we're prepared for the weather. I said that I'm safe from today's weather if...\n",
    "- I have an umbrella...\n",
    "- or if the rain isn't too heavy and I have a hood...\n",
    "- otherwise, I'm still fine unless it's raining *and* it's a workday\n",
    "\n",
    "The function below uses our first attempt at turning this logic into a Python expression. I claimed that there was a bug in that code. Can you find it?\n",
    "\n",
    "To prove that `prepared_for_weather` is buggy, come up with a set of inputs where either:\n",
    "- the function returns `False` (but should have returned `True`), or\n",
    "- the function returned `True` (but should have returned `False`).\n",
    "\n",
    "To get credit for completing this question, your code should return a <font color='#33cc33'>Correct</font> result."
   ]
  },
  {
   "cell_type": "code",
   "execution_count": 8,
   "id": "82c96c68",
   "metadata": {
    "execution": {
     "iopub.execute_input": "2023-04-14T12:38:22.660548Z",
     "iopub.status.busy": "2023-04-14T12:38:22.660132Z",
     "iopub.status.idle": "2023-04-14T12:38:22.673710Z",
     "shell.execute_reply": "2023-04-14T12:38:22.672443Z"
    },
    "papermill": {
     "duration": 0.028828,
     "end_time": "2023-04-14T12:38:22.676404",
     "exception": false,
     "start_time": "2023-04-14T12:38:22.647576",
     "status": "completed"
    },
    "tags": []
   },
   "outputs": [
    {
     "name": "stdout",
     "output_type": "stream",
     "text": [
      "False\n"
     ]
    },
    {
     "data": {
      "application/javascript": [
       "parent.postMessage({\"jupyterEvent\": \"custom.exercise_interaction\", \"data\": {\"outcomeType\": 1, \"valueTowardsCompletion\": 0.2, \"interactionType\": 1, \"questionType\": 1, \"questionId\": \"3_WeatherDebug\", \"learnToolsVersion\": \"0.3.4\", \"failureMessage\": \"\", \"exceptionClass\": \"\", \"trace\": \"\"}}, \"*\")"
      ],
      "text/plain": [
       "<IPython.core.display.Javascript object>"
      ]
     },
     "metadata": {},
     "output_type": "display_data"
    },
    {
     "data": {
      "text/markdown": [
       "<span style=\"color:#33cc33\">Correct:</span> \n",
       "\n",
       "One example of a failing test case is:\n",
       "\n",
       "```python\n",
       "have_umbrella = False\n",
       "rain_level = 0.0\n",
       "have_hood = False\n",
       "is_workday = False\n",
       "```\n",
       "\n",
       "Clearly we're prepared for the weather in this case. It's not raining. Not only that, it's not a workday, so we don't even need to leave the house! But our function will return False on these inputs.\n",
       "\n",
       "The key problem is that Python implictly parenthesizes the last part as:\n",
       "\n",
       "```python\n",
       "(not (rain_level > 0)) and is_workday\n",
       "```\n",
       "\n",
       "Whereas what we were trying to express would look more like:\n",
       "\n",
       "```python\n",
       "not (rain_level > 0 and is_workday)\n",
       "```\n"
      ],
      "text/plain": [
       "Correct: \n",
       "\n",
       "One example of a failing test case is:\n",
       "\n",
       "```python\n",
       "have_umbrella = False\n",
       "rain_level = 0.0\n",
       "have_hood = False\n",
       "is_workday = False\n",
       "```\n",
       "\n",
       "Clearly we're prepared for the weather in this case. It's not raining. Not only that, it's not a workday, so we don't even need to leave the house! But our function will return False on these inputs.\n",
       "\n",
       "The key problem is that Python implictly parenthesizes the last part as:\n",
       "\n",
       "```python\n",
       "(not (rain_level > 0)) and is_workday\n",
       "```\n",
       "\n",
       "Whereas what we were trying to express would look more like:\n",
       "\n",
       "```python\n",
       "not (rain_level > 0 and is_workday)\n",
       "```"
      ]
     },
     "metadata": {},
     "output_type": "display_data"
    }
   ],
   "source": [
    "def prepared_for_weather(have_umbrella, rain_level, have_hood, is_workday):\n",
    "    # Don't change this code. Our goal is just to find the bug, not fix it!\n",
    "    return have_umbrella or rain_level < 5 and have_hood or not rain_level > 0 and is_workday\n",
    "\n",
    "# Change the values of these inputs so they represent a case where prepared_for_weather\n",
    "# returns the wrong answer.\n",
    "have_umbrella = False\n",
    "rain_level = 0.0\n",
    "have_hood = False\n",
    "is_workday = False\n",
    "\n",
    "# Check what the function returns given the current values of the variables above\n",
    "actual = prepared_for_weather(have_umbrella, rain_level, have_hood, is_workday)\n",
    "print(actual)\n",
    "\n",
    "# Check your answer\n",
    "q3.check()"
   ]
  },
  {
   "cell_type": "code",
   "execution_count": 9,
   "id": "935be238",
   "metadata": {
    "execution": {
     "iopub.execute_input": "2023-04-14T12:38:22.702492Z",
     "iopub.status.busy": "2023-04-14T12:38:22.701602Z",
     "iopub.status.idle": "2023-04-14T12:38:22.711648Z",
     "shell.execute_reply": "2023-04-14T12:38:22.710404Z"
    },
    "papermill": {
     "duration": 0.025864,
     "end_time": "2023-04-14T12:38:22.714151",
     "exception": false,
     "start_time": "2023-04-14T12:38:22.688287",
     "status": "completed"
    },
    "tags": []
   },
   "outputs": [
    {
     "data": {
      "application/javascript": [
       "parent.postMessage({\"jupyterEvent\": \"custom.exercise_interaction\", \"data\": {\"interactionType\": 3, \"questionType\": 1, \"questionId\": \"3_WeatherDebug\", \"learnToolsVersion\": \"0.3.4\", \"valueTowardsCompletion\": 0.0, \"failureMessage\": \"\", \"exceptionClass\": \"\", \"trace\": \"\", \"outcomeType\": 4}}, \"*\")"
      ],
      "text/plain": [
       "<IPython.core.display.Javascript object>"
      ]
     },
     "metadata": {},
     "output_type": "display_data"
    },
    {
     "data": {
      "text/markdown": [
       "<span style=\"color:#33cc99\">Solution:</span> One example of a failing test case is:\n",
       "\n",
       "```python\n",
       "have_umbrella = False\n",
       "rain_level = 0.0\n",
       "have_hood = False\n",
       "is_workday = False\n",
       "```\n",
       "\n",
       "Clearly we're prepared for the weather in this case. It's not raining. Not only that, it's not a workday, so we don't even need to leave the house! But our function will return False on these inputs.\n",
       "\n",
       "The key problem is that Python implictly parenthesizes the last part as:\n",
       "\n",
       "```python\n",
       "(not (rain_level > 0)) and is_workday\n",
       "```\n",
       "\n",
       "Whereas what we were trying to express would look more like:\n",
       "\n",
       "```python\n",
       "not (rain_level > 0 and is_workday)\n",
       "```\n"
      ],
      "text/plain": [
       "Solution: One example of a failing test case is:\n",
       "\n",
       "```python\n",
       "have_umbrella = False\n",
       "rain_level = 0.0\n",
       "have_hood = False\n",
       "is_workday = False\n",
       "```\n",
       "\n",
       "Clearly we're prepared for the weather in this case. It's not raining. Not only that, it's not a workday, so we don't even need to leave the house! But our function will return False on these inputs.\n",
       "\n",
       "The key problem is that Python implictly parenthesizes the last part as:\n",
       "\n",
       "```python\n",
       "(not (rain_level > 0)) and is_workday\n",
       "```\n",
       "\n",
       "Whereas what we were trying to express would look more like:\n",
       "\n",
       "```python\n",
       "not (rain_level > 0 and is_workday)\n",
       "```"
      ]
     },
     "metadata": {},
     "output_type": "display_data"
    }
   ],
   "source": [
    "#q3.hint()\n",
    "q3.solution()"
   ]
  },
  {
   "cell_type": "markdown",
   "id": "47751c18",
   "metadata": {
    "papermill": {
     "duration": 0.011438,
     "end_time": "2023-04-14T12:38:22.737622",
     "exception": false,
     "start_time": "2023-04-14T12:38:22.726184",
     "status": "completed"
    },
    "tags": []
   },
   "source": [
    "# 4.\n",
    "\n",
    "The function `is_negative` below is implemented correctly - it returns True if the given number is negative and False otherwise.\n",
    "\n",
    "However, it's more verbose than it needs to be. We can actually reduce the number of lines of code in this function by *75%* while keeping the same behaviour. \n",
    "\n",
    "See if you can come up with an equivalent body that uses just **one line** of code, and put it in the function `concise_is_negative`. (HINT: you don't even need Python's ternary syntax)"
   ]
  },
  {
   "cell_type": "code",
   "execution_count": 10,
   "id": "d8ea3357",
   "metadata": {
    "execution": {
     "iopub.execute_input": "2023-04-14T12:38:22.763250Z",
     "iopub.status.busy": "2023-04-14T12:38:22.762826Z",
     "iopub.status.idle": "2023-04-14T12:38:22.773232Z",
     "shell.execute_reply": "2023-04-14T12:38:22.771937Z"
    },
    "papermill": {
     "duration": 0.026535,
     "end_time": "2023-04-14T12:38:22.775838",
     "exception": false,
     "start_time": "2023-04-14T12:38:22.749303",
     "status": "completed"
    },
    "tags": []
   },
   "outputs": [
    {
     "data": {
      "application/javascript": [
       "parent.postMessage({\"jupyterEvent\": \"custom.exercise_interaction\", \"data\": {\"outcomeType\": 1, \"valueTowardsCompletion\": 0.2, \"interactionType\": 1, \"questionType\": 2, \"questionId\": \"4_ConciseIsNegative\", \"learnToolsVersion\": \"0.3.4\", \"failureMessage\": \"\", \"exceptionClass\": \"\", \"trace\": \"\"}}, \"*\")"
      ],
      "text/plain": [
       "<IPython.core.display.Javascript object>"
      ]
     },
     "metadata": {},
     "output_type": "display_data"
    },
    {
     "data": {
      "text/markdown": [
       "<span style=\"color:#33cc33\">Correct</span>"
      ],
      "text/plain": [
       "Correct"
      ]
     },
     "metadata": {},
     "output_type": "display_data"
    }
   ],
   "source": [
    "def is_negative(number):\n",
    "    if number < 0:\n",
    "        return True\n",
    "    else:\n",
    "        return False\n",
    "\n",
    "def concise_is_negative(number):\n",
    "    return number < 0\n",
    "    pass # Your code goes here (try to keep it to one line!)\n",
    "\n",
    "# Check your answer\n",
    "q4.check()"
   ]
  },
  {
   "cell_type": "code",
   "execution_count": 11,
   "id": "24819442",
   "metadata": {
    "execution": {
     "iopub.execute_input": "2023-04-14T12:38:22.801668Z",
     "iopub.status.busy": "2023-04-14T12:38:22.800969Z",
     "iopub.status.idle": "2023-04-14T12:38:22.805664Z",
     "shell.execute_reply": "2023-04-14T12:38:22.804716Z"
    },
    "papermill": {
     "duration": 0.020454,
     "end_time": "2023-04-14T12:38:22.808042",
     "exception": false,
     "start_time": "2023-04-14T12:38:22.787588",
     "status": "completed"
    },
    "tags": []
   },
   "outputs": [],
   "source": [
    "#q4.hint()\n",
    "#q4.solution()"
   ]
  },
  {
   "cell_type": "markdown",
   "id": "8fa94236",
   "metadata": {
    "papermill": {
     "duration": 0.011571,
     "end_time": "2023-04-14T12:38:22.832575",
     "exception": false,
     "start_time": "2023-04-14T12:38:22.821004",
     "status": "completed"
    },
    "tags": []
   },
   "source": [
    "# 5a.\n",
    "\n",
    "The boolean variables `ketchup`, `mustard` and `onion` represent whether a customer wants a particular topping on their hot dog. We want to implement a number of boolean functions that correspond to some yes-or-no questions about the customer's order. For example:"
   ]
  },
  {
   "cell_type": "code",
   "execution_count": 12,
   "id": "f51eec62",
   "metadata": {
    "execution": {
     "iopub.execute_input": "2023-04-14T12:38:22.859171Z",
     "iopub.status.busy": "2023-04-14T12:38:22.858448Z",
     "iopub.status.idle": "2023-04-14T12:38:22.863784Z",
     "shell.execute_reply": "2023-04-14T12:38:22.862914Z"
    },
    "papermill": {
     "duration": 0.021367,
     "end_time": "2023-04-14T12:38:22.866239",
     "exception": false,
     "start_time": "2023-04-14T12:38:22.844872",
     "status": "completed"
    },
    "tags": []
   },
   "outputs": [],
   "source": [
    "def onionless(ketchup, mustard, onion):\n",
    "    return not onion"
   ]
  },
  {
   "cell_type": "markdown",
   "id": "6973a7b0",
   "metadata": {
    "execution": {
     "iopub.execute_input": "2023-04-06T21:29:57.319793Z",
     "iopub.status.busy": "2023-04-06T21:29:57.319346Z",
     "iopub.status.idle": "2023-04-06T21:29:57.325815Z",
     "shell.execute_reply": "2023-04-06T21:29:57.323915Z",
     "shell.execute_reply.started": "2023-04-06T21:29:57.319759Z"
    },
    "papermill": {
     "duration": 0.011513,
     "end_time": "2023-04-14T12:38:22.889826",
     "exception": false,
     "start_time": "2023-04-14T12:38:22.878313",
     "status": "completed"
    },
    "tags": []
   },
   "source": [
    "For each of the remaining functions, fill in the body to match the English description in the docstring. "
   ]
  },
  {
   "cell_type": "code",
   "execution_count": 13,
   "id": "9c605aca",
   "metadata": {
    "execution": {
     "iopub.execute_input": "2023-04-14T12:38:22.916540Z",
     "iopub.status.busy": "2023-04-14T12:38:22.915274Z",
     "iopub.status.idle": "2023-04-14T12:38:22.926512Z",
     "shell.execute_reply": "2023-04-14T12:38:22.925552Z"
    },
    "papermill": {
     "duration": 0.027086,
     "end_time": "2023-04-14T12:38:22.928945",
     "exception": false,
     "start_time": "2023-04-14T12:38:22.901859",
     "status": "completed"
    },
    "tags": []
   },
   "outputs": [
    {
     "data": {
      "application/javascript": [
       "parent.postMessage({\"jupyterEvent\": \"custom.exercise_interaction\", \"data\": {\"outcomeType\": 1, \"valueTowardsCompletion\": 0.2, \"interactionType\": 1, \"questionType\": 2, \"questionId\": \"5.1_AllToppings\", \"learnToolsVersion\": \"0.3.4\", \"failureMessage\": \"\", \"exceptionClass\": \"\", \"trace\": \"\"}}, \"*\")"
      ],
      "text/plain": [
       "<IPython.core.display.Javascript object>"
      ]
     },
     "metadata": {},
     "output_type": "display_data"
    },
    {
     "data": {
      "text/markdown": [
       "<span style=\"color:#33cc33\">Correct</span>"
      ],
      "text/plain": [
       "Correct"
      ]
     },
     "metadata": {},
     "output_type": "display_data"
    }
   ],
   "source": [
    "def wants_all_toppings(ketchup, mustard, onion):\n",
    "    \"\"\"Return whether the customer wants \"the works\" (all 3 toppings)\n",
    "    \"\"\"\n",
    "    return ketchup and mustard and onion\n",
    "    pass\n",
    "\n",
    "\n",
    "# Check your answer\n",
    "q5.a.check()"
   ]
  },
  {
   "cell_type": "code",
   "execution_count": 14,
   "id": "2d05a042",
   "metadata": {
    "execution": {
     "iopub.execute_input": "2023-04-14T12:38:22.958616Z",
     "iopub.status.busy": "2023-04-14T12:38:22.957721Z",
     "iopub.status.idle": "2023-04-14T12:38:22.967529Z",
     "shell.execute_reply": "2023-04-14T12:38:22.966527Z"
    },
    "papermill": {
     "duration": 0.026672,
     "end_time": "2023-04-14T12:38:22.970066",
     "exception": false,
     "start_time": "2023-04-14T12:38:22.943394",
     "status": "completed"
    },
    "tags": []
   },
   "outputs": [
    {
     "data": {
      "application/javascript": [
       "parent.postMessage({\"jupyterEvent\": \"custom.exercise_interaction\", \"data\": {\"interactionType\": 3, \"questionType\": 2, \"questionId\": \"5.1_AllToppings\", \"learnToolsVersion\": \"0.3.4\", \"valueTowardsCompletion\": 0.0, \"failureMessage\": \"\", \"exceptionClass\": \"\", \"trace\": \"\", \"outcomeType\": 4}}, \"*\")"
      ],
      "text/plain": [
       "<IPython.core.display.Javascript object>"
      ]
     },
     "metadata": {},
     "output_type": "display_data"
    },
    {
     "data": {
      "text/markdown": [
       "<span style=\"color:#33cc99\">Solution:</span> \n",
       "```python\n",
       "return ketchup and mustard and onion\n",
       "```"
      ],
      "text/plain": [
       "Solution: \n",
       "```python\n",
       "return ketchup and mustard and onion\n",
       "```"
      ]
     },
     "metadata": {},
     "output_type": "display_data"
    }
   ],
   "source": [
    "#q5.a.hint()\n",
    "q5.a.solution()"
   ]
  },
  {
   "cell_type": "markdown",
   "id": "d81e5670",
   "metadata": {
    "papermill": {
     "duration": 0.012207,
     "end_time": "2023-04-14T12:38:22.994827",
     "exception": false,
     "start_time": "2023-04-14T12:38:22.982620",
     "status": "completed"
    },
    "tags": []
   },
   "source": [
    "# 5b.\n",
    "\n",
    "For the next function, fill in the body to match the English description in the docstring. "
   ]
  },
  {
   "cell_type": "code",
   "execution_count": 15,
   "id": "90e78262",
   "metadata": {
    "execution": {
     "iopub.execute_input": "2023-04-14T12:38:23.024468Z",
     "iopub.status.busy": "2023-04-14T12:38:23.023634Z",
     "iopub.status.idle": "2023-04-14T12:38:23.034182Z",
     "shell.execute_reply": "2023-04-14T12:38:23.033208Z"
    },
    "papermill": {
     "duration": 0.027942,
     "end_time": "2023-04-14T12:38:23.036655",
     "exception": false,
     "start_time": "2023-04-14T12:38:23.008713",
     "status": "completed"
    },
    "tags": []
   },
   "outputs": [
    {
     "data": {
      "application/javascript": [
       "parent.postMessage({\"jupyterEvent\": \"custom.exercise_interaction\", \"data\": {\"outcomeType\": 1, \"valueTowardsCompletion\": 0.2, \"interactionType\": 1, \"questionType\": 2, \"questionId\": \"5.2_PlainDog\", \"learnToolsVersion\": \"0.3.4\", \"failureMessage\": \"\", \"exceptionClass\": \"\", \"trace\": \"\"}}, \"*\")"
      ],
      "text/plain": [
       "<IPython.core.display.Javascript object>"
      ]
     },
     "metadata": {},
     "output_type": "display_data"
    },
    {
     "data": {
      "text/markdown": [
       "<span style=\"color:#33cc33\">Correct:</span> \n",
       "\n",
       "One solution looks like:\n",
       "```python\n",
       "return not ketchup and not mustard and not onion\n",
       "```\n",
       "\n",
       "We can also [\"factor out\" the nots](https://en.wikipedia.org/wiki/De_Morgan%27s_laws) to get:\n",
       "\n",
       "```python\n",
       "return not (ketchup or mustard or onion)\n",
       "```"
      ],
      "text/plain": [
       "Correct: \n",
       "\n",
       "One solution looks like:\n",
       "```python\n",
       "return not ketchup and not mustard and not onion\n",
       "```\n",
       "\n",
       "We can also [\"factor out\" the nots](https://en.wikipedia.org/wiki/De_Morgan%27s_laws) to get:\n",
       "\n",
       "```python\n",
       "return not (ketchup or mustard or onion)\n",
       "```"
      ]
     },
     "metadata": {},
     "output_type": "display_data"
    }
   ],
   "source": [
    "def wants_plain_hotdog(ketchup, mustard, onion):\n",
    "    \"\"\"Return whether the customer wants a plain hot dog with no toppings.\n",
    "    \"\"\"\n",
    "    return not ketchup and not mustard and not onion\n",
    "    pass\n",
    "\n",
    "# Check your answer\n",
    "q5.b.check()"
   ]
  },
  {
   "cell_type": "code",
   "execution_count": 16,
   "id": "a228d5ed",
   "metadata": {
    "execution": {
     "iopub.execute_input": "2023-04-14T12:38:23.065024Z",
     "iopub.status.busy": "2023-04-14T12:38:23.063909Z",
     "iopub.status.idle": "2023-04-14T12:38:23.070686Z",
     "shell.execute_reply": "2023-04-14T12:38:23.069495Z"
    },
    "papermill": {
     "duration": 0.023818,
     "end_time": "2023-04-14T12:38:23.073087",
     "exception": false,
     "start_time": "2023-04-14T12:38:23.049269",
     "status": "completed"
    },
    "tags": []
   },
   "outputs": [],
   "source": [
    "#q5.b.hint()\n",
    "#q5.b.solution()"
   ]
  },
  {
   "cell_type": "markdown",
   "id": "55a6032e",
   "metadata": {
    "papermill": {
     "duration": 0.012559,
     "end_time": "2023-04-14T12:38:23.099435",
     "exception": false,
     "start_time": "2023-04-14T12:38:23.086876",
     "status": "completed"
    },
    "tags": []
   },
   "source": [
    "# 5c.\n",
    "\n",
    "You know what to do: for the next function, fill in the body to match the English description in the docstring."
   ]
  },
  {
   "cell_type": "code",
   "execution_count": 17,
   "id": "e7107fb8",
   "metadata": {
    "execution": {
     "iopub.execute_input": "2023-04-14T12:38:23.127444Z",
     "iopub.status.busy": "2023-04-14T12:38:23.127034Z",
     "iopub.status.idle": "2023-04-14T12:38:23.136991Z",
     "shell.execute_reply": "2023-04-14T12:38:23.135857Z"
    },
    "papermill": {
     "duration": 0.027212,
     "end_time": "2023-04-14T12:38:23.139510",
     "exception": false,
     "start_time": "2023-04-14T12:38:23.112298",
     "status": "completed"
    },
    "tags": []
   },
   "outputs": [
    {
     "data": {
      "application/javascript": [
       "parent.postMessage({\"jupyterEvent\": \"custom.exercise_interaction\", \"data\": {\"outcomeType\": 1, \"valueTowardsCompletion\": 0.2, \"interactionType\": 1, \"questionType\": 2, \"questionId\": \"5.3_OneSauce\", \"learnToolsVersion\": \"0.3.4\", \"failureMessage\": \"\", \"exceptionClass\": \"\", \"trace\": \"\"}}, \"*\")"
      ],
      "text/plain": [
       "<IPython.core.display.Javascript object>"
      ]
     },
     "metadata": {},
     "output_type": "display_data"
    },
    {
     "data": {
      "text/markdown": [
       "<span style=\"color:#33cc33\">Correct</span>"
      ],
      "text/plain": [
       "Correct"
      ]
     },
     "metadata": {},
     "output_type": "display_data"
    }
   ],
   "source": [
    "def exactly_one_sauce(ketchup, mustard, onion):\n",
    "    \"\"\"Return whether the customer wants either ketchup or mustard, but not both.\n",
    "    (You may be familiar with this operation under the name \"exclusive or\")\n",
    "    \"\"\"\n",
    "    return  (ketchup and not mustard) or (mustard and not ketchup)\n",
    "    pass\n",
    "\n",
    "# Check your answer\n",
    "q5.c.check()"
   ]
  },
  {
   "cell_type": "code",
   "execution_count": 18,
   "id": "8c6f0051",
   "metadata": {
    "execution": {
     "iopub.execute_input": "2023-04-14T12:38:23.168953Z",
     "iopub.status.busy": "2023-04-14T12:38:23.167657Z",
     "iopub.status.idle": "2023-04-14T12:38:23.173510Z",
     "shell.execute_reply": "2023-04-14T12:38:23.171996Z"
    },
    "papermill": {
     "duration": 0.023503,
     "end_time": "2023-04-14T12:38:23.176027",
     "exception": false,
     "start_time": "2023-04-14T12:38:23.152524",
     "status": "completed"
    },
    "tags": []
   },
   "outputs": [],
   "source": [
    "#q5.c.hint()\n",
    "#q5.c.solution()"
   ]
  },
  {
   "cell_type": "markdown",
   "id": "72ed326d",
   "metadata": {
    "papermill": {
     "duration": 0.012667,
     "end_time": "2023-04-14T12:38:23.202198",
     "exception": false,
     "start_time": "2023-04-14T12:38:23.189531",
     "status": "completed"
    },
    "tags": []
   },
   "source": [
    "# 6. <span title=\"A bit spicy\" style=\"color: darkgreen \">🌶️</span>\n",
    "\n",
    "We’ve seen that calling `bool()` on an integer returns `False` if it’s equal to 0 and `True` otherwise. What happens if we call `int()` on a bool? Try it out in the notebook cell below.\n",
    "\n",
    "Can you take advantage of this to write a succinct function that corresponds to the English sentence \"does the customer want exactly one topping?\"?"
   ]
  },
  {
   "cell_type": "code",
   "execution_count": 19,
   "id": "a0d8ff85",
   "metadata": {
    "execution": {
     "iopub.execute_input": "2023-04-14T12:38:23.229763Z",
     "iopub.status.busy": "2023-04-14T12:38:23.229315Z",
     "iopub.status.idle": "2023-04-14T12:38:23.239139Z",
     "shell.execute_reply": "2023-04-14T12:38:23.238005Z"
    },
    "papermill": {
     "duration": 0.026698,
     "end_time": "2023-04-14T12:38:23.241710",
     "exception": false,
     "start_time": "2023-04-14T12:38:23.215012",
     "status": "completed"
    },
    "tags": []
   },
   "outputs": [
    {
     "data": {
      "application/javascript": [
       "parent.postMessage({\"jupyterEvent\": \"custom.exercise_interaction\", \"data\": {\"outcomeType\": 1, \"valueTowardsCompletion\": 0.2, \"interactionType\": 1, \"questionType\": 2, \"questionId\": \"6_OneTopping\", \"learnToolsVersion\": \"0.3.4\", \"failureMessage\": \"\", \"exceptionClass\": \"\", \"trace\": \"\"}}, \"*\")"
      ],
      "text/plain": [
       "<IPython.core.display.Javascript object>"
      ]
     },
     "metadata": {},
     "output_type": "display_data"
    },
    {
     "data": {
      "text/markdown": [
       "<span style=\"color:#33cc33\">Correct:</span> \n",
       "\n",
       "This condition would be pretty complicated to express using just `and`, `or` and `not`, but using boolean-to-integer conversion gives us this short solution:\n",
       "```python\n",
       "return (int(ketchup) + int(mustard) + int(onion)) == 1\n",
       "```\n",
       "\n",
       "Fun fact: we don't technically need to call `int` on the arguments. Just by doing addition with booleans, Python implicitly does the integer conversion. So we could also write...\n",
       "\n",
       "```python\n",
       "return (ketchup + mustard + onion) == 1\n",
       "```"
      ],
      "text/plain": [
       "Correct: \n",
       "\n",
       "This condition would be pretty complicated to express using just `and`, `or` and `not`, but using boolean-to-integer conversion gives us this short solution:\n",
       "```python\n",
       "return (int(ketchup) + int(mustard) + int(onion)) == 1\n",
       "```\n",
       "\n",
       "Fun fact: we don't technically need to call `int` on the arguments. Just by doing addition with booleans, Python implicitly does the integer conversion. So we could also write...\n",
       "\n",
       "```python\n",
       "return (ketchup + mustard + onion) == 1\n",
       "```"
      ]
     },
     "metadata": {},
     "output_type": "display_data"
    }
   ],
   "source": [
    "def exactly_one_topping(ketchup, mustard, onion):\n",
    "    \"\"\"Return whether the customer wants exactly one of the three available toppings\n",
    "    on their hot dog.\n",
    "    \"\"\"\n",
    "    return (ketchup + mustard + onion) == 1\n",
    "    pass\n",
    "\n",
    "#Check your answer\n",
    "q6.check()"
   ]
  },
  {
   "cell_type": "code",
   "execution_count": 20,
   "id": "3827dc3e",
   "metadata": {
    "execution": {
     "iopub.execute_input": "2023-04-14T12:38:23.270021Z",
     "iopub.status.busy": "2023-04-14T12:38:23.269584Z",
     "iopub.status.idle": "2023-04-14T12:38:23.274907Z",
     "shell.execute_reply": "2023-04-14T12:38:23.273700Z"
    },
    "papermill": {
     "duration": 0.022511,
     "end_time": "2023-04-14T12:38:23.277501",
     "exception": false,
     "start_time": "2023-04-14T12:38:23.254990",
     "status": "completed"
    },
    "tags": []
   },
   "outputs": [],
   "source": [
    "#q6.hint()\n",
    "#q6.solution()"
   ]
  },
  {
   "cell_type": "markdown",
   "id": "d47f2fce",
   "metadata": {
    "papermill": {
     "duration": 0.012727,
     "end_time": "2023-04-14T12:38:23.303345",
     "exception": false,
     "start_time": "2023-04-14T12:38:23.290618",
     "status": "completed"
    },
    "tags": []
   },
   "source": [
    "# 7. <span title=\"A bit spicy\" style=\"color: darkgreen \">🌶️</span> (Optional)\n",
    "\n",
    "In this problem we'll be working with a simplified version of [blackjack](https://en.wikipedia.org/wiki/Blackjack) (aka twenty-one). In this version there is one player (who you'll control) and a dealer. Play proceeds as follows:\n",
    "\n",
    "- The player is dealt two face-up cards. The dealer is dealt one face-up card.\n",
    "- The player may ask to be dealt another card ('hit') as many times as they wish. If the sum of their cards exceeds 21, they lose the round immediately.\n",
    "- The dealer then deals additional cards to himself until either:\n",
    "    - the sum of the dealer's cards exceeds 21, in which case the player wins the round\n",
    "    - the sum of the dealer's cards is greater than or equal to 17. If the player's total is greater than the dealer's, the player wins. Otherwise, the dealer wins (even in case of a tie).\n",
    "    \n",
    "When calculating the sum of cards, Jack, Queen, and King count for 10. Aces can count as 1 or 11 (when referring to a player's \"total\" above, we mean the largest total that can be made without exceeding 21. So e.g. A+8 = 19, A+8+8 = 17)\n",
    "\n",
    "For this problem, you'll write a function representing the player's decision-making strategy in this game. We've provided a very unintelligent implementation below:"
   ]
  },
  {
   "cell_type": "code",
   "execution_count": 21,
   "id": "278a524d",
   "metadata": {
    "execution": {
     "iopub.execute_input": "2023-04-14T12:38:23.333228Z",
     "iopub.status.busy": "2023-04-14T12:38:23.332793Z",
     "iopub.status.idle": "2023-04-14T12:38:23.338884Z",
     "shell.execute_reply": "2023-04-14T12:38:23.337513Z"
    },
    "papermill": {
     "duration": 0.024628,
     "end_time": "2023-04-14T12:38:23.341694",
     "exception": false,
     "start_time": "2023-04-14T12:38:23.317066",
     "status": "completed"
    },
    "tags": []
   },
   "outputs": [],
   "source": [
    "def should_hit(dealer_total, player_total, player_low_aces, player_high_aces):\n",
    "    return False or dealer_total==1 "
   ]
  },
  {
   "cell_type": "markdown",
   "id": "494d77e6",
   "metadata": {
    "papermill": {
     "duration": 0.012764,
     "end_time": "2023-04-14T12:38:23.367657",
     "exception": false,
     "start_time": "2023-04-14T12:38:23.354893",
     "status": "completed"
    },
    "tags": []
   },
   "source": [
    "This very conservative agent *always* sticks with the hand of two cards that they're dealt.\n",
    "\n",
    "We'll be simulating games between your player agent and our own dealer agent by calling your function.\n",
    "\n",
    "Try running the function below to see an example of a simulated game:"
   ]
  },
  {
   "cell_type": "code",
   "execution_count": 22,
   "id": "454bb40d",
   "metadata": {
    "execution": {
     "iopub.execute_input": "2023-04-14T12:38:23.395794Z",
     "iopub.status.busy": "2023-04-14T12:38:23.395354Z",
     "iopub.status.idle": "2023-04-14T12:38:23.402349Z",
     "shell.execute_reply": "2023-04-14T12:38:23.400639Z"
    },
    "papermill": {
     "duration": 0.024333,
     "end_time": "2023-04-14T12:38:23.405154",
     "exception": false,
     "start_time": "2023-04-14T12:38:23.380821",
     "status": "completed"
    },
    "tags": []
   },
   "outputs": [
    {
     "name": "stdout",
     "output_type": "stream",
     "text": [
      "Player starts with 9 and J (total = 19)\n",
      "Dealer starts with J\n",
      "\n",
      "__Player's turn__\n",
      "Player stays\n",
      "\n",
      "__Dealer's turn__\n",
      "Dealer hits and receives J. (total = 20)\n",
      "Dealer stands.\n",
      "Dealer wins. 20 >= 19\n"
     ]
    }
   ],
   "source": [
    "q7.simulate_one_game()"
   ]
  },
  {
   "cell_type": "markdown",
   "id": "42a8bbc8",
   "metadata": {
    "papermill": {
     "duration": 0.013458,
     "end_time": "2023-04-14T12:38:23.432196",
     "exception": false,
     "start_time": "2023-04-14T12:38:23.418738",
     "status": "completed"
    },
    "tags": []
   },
   "source": [
    "The real test of your agent's mettle is their average win rate over many games. Try calling the function below to simulate 50000 games of blackjack (it may take a couple seconds):"
   ]
  },
  {
   "cell_type": "code",
   "execution_count": 23,
   "id": "39c53505",
   "metadata": {
    "execution": {
     "iopub.execute_input": "2023-04-14T12:38:23.460241Z",
     "iopub.status.busy": "2023-04-14T12:38:23.459824Z",
     "iopub.status.idle": "2023-04-14T12:38:25.172051Z",
     "shell.execute_reply": "2023-04-14T12:38:25.170525Z"
    },
    "papermill": {
     "duration": 1.729475,
     "end_time": "2023-04-14T12:38:25.174811",
     "exception": false,
     "start_time": "2023-04-14T12:38:23.445336",
     "status": "completed"
    },
    "tags": []
   },
   "outputs": [
    {
     "name": "stdout",
     "output_type": "stream",
     "text": [
      "Player won 18824 out of 50000 games (win rate = 37.6%)\n"
     ]
    }
   ],
   "source": [
    "q7.simulate(n_games=50000)"
   ]
  },
  {
   "cell_type": "markdown",
   "id": "bddcc12f",
   "metadata": {
    "papermill": {
     "duration": 0.013793,
     "end_time": "2023-04-14T12:38:25.202587",
     "exception": false,
     "start_time": "2023-04-14T12:38:25.188794",
     "status": "completed"
    },
    "tags": []
   },
   "source": [
    "Our dumb agent that completely ignores the game state still manages to win shockingly often!\n",
    "\n",
    "Try adding some more smarts to the `should_hit` function and see how it affects the results."
   ]
  },
  {
   "cell_type": "code",
   "execution_count": 24,
   "id": "9cdbcef3",
   "metadata": {
    "execution": {
     "iopub.execute_input": "2023-04-14T12:38:25.231779Z",
     "iopub.status.busy": "2023-04-14T12:38:25.230974Z",
     "iopub.status.idle": "2023-04-14T12:38:26.876540Z",
     "shell.execute_reply": "2023-04-14T12:38:26.875092Z"
    },
    "papermill": {
     "duration": 1.663249,
     "end_time": "2023-04-14T12:38:26.879288",
     "exception": false,
     "start_time": "2023-04-14T12:38:25.216039",
     "status": "completed"
    },
    "tags": []
   },
   "outputs": [
    {
     "name": "stdout",
     "output_type": "stream",
     "text": [
      "Player won 18992 out of 50000 games (win rate = 38.0%)\n"
     ]
    }
   ],
   "source": [
    "def should_hit(dealer_total, player_total, player_low_aces, player_high_aces):\n",
    "    \"\"\"Return True if the player should hit (request another card) given the current game\n",
    "    state, or False if the player should stay.\n",
    "    When calculating a hand's total value, we count aces as \"high\" (with value 11) if doing so\n",
    "    doesn't bring the total above 21, otherwise we count them as low (with value 1). \n",
    "    For example, if the player's hand is {A, A, A, 7}, we will count it as 11 + 1 + 1 + 7,\n",
    "    and therefore set player_total=20, player_low_aces=2, player_high_aces=1.\n",
    "    \"\"\"\n",
    "    return False\n",
    "\n",
    "q7.simulate(n_games=50000)\n"
   ]
  },
  {
   "cell_type": "markdown",
   "id": "df4cde15",
   "metadata": {
    "papermill": {
     "duration": 0.013108,
     "end_time": "2023-04-14T12:38:26.905887",
     "exception": false,
     "start_time": "2023-04-14T12:38:26.892779",
     "status": "completed"
    },
    "tags": []
   },
   "source": [
    "# Keep Going\n",
    "\n",
    "Learn about **[lists and tuples](https://www.kaggle.com/colinmorris/lists)** to handle multiple items of data in a systematic way."
   ]
  },
  {
   "cell_type": "markdown",
   "id": "26011ce0",
   "metadata": {
    "papermill": {
     "duration": 0.013212,
     "end_time": "2023-04-14T12:38:26.932521",
     "exception": false,
     "start_time": "2023-04-14T12:38:26.919309",
     "status": "completed"
    },
    "tags": []
   },
   "source": [
    "---\n",
    "\n",
    "\n",
    "\n",
    "\n",
    "*Have questions or comments? Visit the [course discussion forum](https://www.kaggle.com/learn/python/discussion) to chat with other learners.*"
   ]
  }
 ],
 "metadata": {
  "kernelspec": {
   "display_name": "Python 3",
   "language": "python",
   "name": "python3"
  },
  "language_info": {
   "codemirror_mode": {
    "name": "ipython",
    "version": 3
   },
   "file_extension": ".py",
   "mimetype": "text/x-python",
   "name": "python",
   "nbconvert_exporter": "python",
   "pygments_lexer": "ipython3",
   "version": "3.7.12"
  },
  "papermill": {
   "default_parameters": {},
   "duration": 16.740527,
   "end_time": "2023-04-14T12:38:27.669444",
   "environment_variables": {},
   "exception": null,
   "input_path": "__notebook__.ipynb",
   "output_path": "__notebook__.ipynb",
   "parameters": {},
   "start_time": "2023-04-14T12:38:10.928917",
   "version": "2.4.0"
  }
 },
 "nbformat": 4,
 "nbformat_minor": 5
}
