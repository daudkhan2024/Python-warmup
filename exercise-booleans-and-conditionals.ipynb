{
 "cells": [
  {
   "cell_type": "markdown",
   "id": "79c083b9",
   "metadata": {
    "papermill": {
     "duration": 0.010791,
     "end_time": "2023-04-06T18:22:49.458638",
     "exception": false,
     "start_time": "2023-04-06T18:22:49.447847",
     "status": "completed"
    },
    "tags": []
   },
   "source": [
    "**This notebook is an exercise in the [Python](https://www.kaggle.com/learn/python) course.  You can reference the tutorial at [this link](https://www.kaggle.com/colinmorris/booleans-and-conditionals).**\n",
    "\n",
    "---\n"
   ]
  },
  {
   "cell_type": "markdown",
   "id": "8cfba75f",
   "metadata": {
    "papermill": {
     "duration": 0.008638,
     "end_time": "2023-04-06T18:22:49.476384",
     "exception": false,
     "start_time": "2023-04-06T18:22:49.467746",
     "status": "completed"
    },
    "tags": []
   },
   "source": [
    "In this exercise, you'll put to work what you have learned about booleans and conditionals.\n",
    "\n",
    "To get started, **run the setup code below** before writing your own code (and if you leave this notebook and come back later, don't forget to run the setup code again)."
   ]
  },
  {
   "cell_type": "code",
   "execution_count": 1,
   "id": "ce528be3",
   "metadata": {
    "execution": {
     "iopub.execute_input": "2023-04-06T18:22:49.497255Z",
     "iopub.status.busy": "2023-04-06T18:22:49.496222Z",
     "iopub.status.idle": "2023-04-06T18:22:49.557741Z",
     "shell.execute_reply": "2023-04-06T18:22:49.556456Z"
    },
    "papermill": {
     "duration": 0.075531,
     "end_time": "2023-04-06T18:22:49.560750",
     "exception": false,
     "start_time": "2023-04-06T18:22:49.485219",
     "status": "completed"
    },
    "tags": []
   },
   "outputs": [
    {
     "name": "stdout",
     "output_type": "stream",
     "text": [
      "Setup complete.\n"
     ]
    }
   ],
   "source": [
    "from learntools.core import binder; binder.bind(globals())\n",
    "from learntools.python.ex3 import *\n",
    "print('Setup complete.')"
   ]
  },
  {
   "cell_type": "markdown",
   "id": "4c8dbe3a",
   "metadata": {
    "papermill": {
     "duration": 0.008722,
     "end_time": "2023-04-06T18:22:49.578633",
     "exception": false,
     "start_time": "2023-04-06T18:22:49.569911",
     "status": "completed"
    },
    "tags": []
   },
   "source": [
    "# 1.\n",
    "\n",
    "Many programming languages have [`sign`](https://en.wikipedia.org/wiki/Sign_function) available as a built-in function. Python doesn't, but we can define our own!\n",
    "\n",
    "In the cell below, define a function called `sign` which takes a numerical argument and returns -1 if it's negative, 1 if it's positive, and 0 if it's 0."
   ]
  },
  {
   "cell_type": "code",
   "execution_count": 2,
   "id": "3b4878a6",
   "metadata": {
    "execution": {
     "iopub.execute_input": "2023-04-06T18:22:49.599893Z",
     "iopub.status.busy": "2023-04-06T18:22:49.598380Z",
     "iopub.status.idle": "2023-04-06T18:22:49.614398Z",
     "shell.execute_reply": "2023-04-06T18:22:49.613032Z"
    },
    "papermill": {
     "duration": 0.029511,
     "end_time": "2023-04-06T18:22:49.617199",
     "exception": false,
     "start_time": "2023-04-06T18:22:49.587688",
     "status": "completed"
    },
    "tags": []
   },
   "outputs": [
    {
     "data": {
      "application/javascript": [
       "parent.postMessage({\"jupyterEvent\": \"custom.exercise_interaction\", \"data\": {\"outcomeType\": 1, \"valueTowardsCompletion\": 0.2, \"interactionType\": 1, \"questionType\": 2, \"questionId\": \"1_SignFunctionProblem\", \"learnToolsVersion\": \"0.3.4\", \"failureMessage\": \"\", \"exceptionClass\": \"\", \"trace\": \"\"}}, \"*\")"
      ],
      "text/plain": [
       "<IPython.core.display.Javascript object>"
      ]
     },
     "metadata": {},
     "output_type": "display_data"
    },
    {
     "data": {
      "text/markdown": [
       "<span style=\"color:#33cc33\">Correct</span>"
      ],
      "text/plain": [
       "Correct"
      ]
     },
     "metadata": {},
     "output_type": "display_data"
    }
   ],
   "source": [
    "# Your code goes here. Define a function called 'sign'\n",
    "def sign(num):\n",
    "    if num < 0:\n",
    "        return -1\n",
    "    elif num > 0:\n",
    "        return 1\n",
    "    else:\n",
    "        return 0\n",
    "# Check your answer\n",
    "q1.check()"
   ]
  },
  {
   "cell_type": "code",
   "execution_count": 3,
   "id": "90969d3e",
   "metadata": {
    "execution": {
     "iopub.execute_input": "2023-04-06T18:22:49.644317Z",
     "iopub.status.busy": "2023-04-06T18:22:49.643502Z",
     "iopub.status.idle": "2023-04-06T18:22:49.648693Z",
     "shell.execute_reply": "2023-04-06T18:22:49.647678Z"
    },
    "papermill": {
     "duration": 0.022431,
     "end_time": "2023-04-06T18:22:49.651175",
     "exception": false,
     "start_time": "2023-04-06T18:22:49.628744",
     "status": "completed"
    },
    "tags": []
   },
   "outputs": [],
   "source": [
    "#q1.solution()"
   ]
  },
  {
   "cell_type": "markdown",
   "id": "a6738b66",
   "metadata": {
    "papermill": {
     "duration": 0.008952,
     "end_time": "2023-04-06T18:22:49.669637",
     "exception": false,
     "start_time": "2023-04-06T18:22:49.660685",
     "status": "completed"
    },
    "tags": []
   },
   "source": [
    "# 2.\n",
    "\n",
    "We've decided to add \"logging\" to our `to_smash` function from the previous exercise."
   ]
  },
  {
   "cell_type": "code",
   "execution_count": 4,
   "id": "c8de46b5",
   "metadata": {
    "execution": {
     "iopub.execute_input": "2023-04-06T18:22:49.694848Z",
     "iopub.status.busy": "2023-04-06T18:22:49.694149Z",
     "iopub.status.idle": "2023-04-06T18:22:49.704015Z",
     "shell.execute_reply": "2023-04-06T18:22:49.702709Z"
    },
    "papermill": {
     "duration": 0.026175,
     "end_time": "2023-04-06T18:22:49.706248",
     "exception": false,
     "start_time": "2023-04-06T18:22:49.680073",
     "status": "completed"
    },
    "tags": []
   },
   "outputs": [
    {
     "name": "stdout",
     "output_type": "stream",
     "text": [
      "Splitting 91 candies\n"
     ]
    },
    {
     "data": {
      "text/plain": [
       "1"
      ]
     },
     "execution_count": 4,
     "metadata": {},
     "output_type": "execute_result"
    }
   ],
   "source": [
    "def to_smash(total_candies):\n",
    "    \"\"\"Return the number of leftover candies that must be smashed after distributing\n",
    "    the given number of candies evenly between 3 friends.\n",
    "    \n",
    "    >>> to_smash(91)\n",
    "    1\n",
    "    \"\"\"\n",
    "    print(\"Splitting\", total_candies, \"candies\")\n",
    "    return total_candies % 3\n",
    "\n",
    "to_smash(91)"
   ]
  },
  {
   "cell_type": "markdown",
   "id": "e9027caa",
   "metadata": {
    "papermill": {
     "duration": 0.009182,
     "end_time": "2023-04-06T18:22:49.724809",
     "exception": false,
     "start_time": "2023-04-06T18:22:49.715627",
     "status": "completed"
    },
    "tags": []
   },
   "source": [
    "What happens if we call it with `total_candies = 1`?"
   ]
  },
  {
   "cell_type": "code",
   "execution_count": 5,
   "id": "fe07bc49",
   "metadata": {
    "execution": {
     "iopub.execute_input": "2023-04-06T18:22:49.747548Z",
     "iopub.status.busy": "2023-04-06T18:22:49.746792Z",
     "iopub.status.idle": "2023-04-06T18:22:49.755040Z",
     "shell.execute_reply": "2023-04-06T18:22:49.753752Z"
    },
    "papermill": {
     "duration": 0.021395,
     "end_time": "2023-04-06T18:22:49.757242",
     "exception": false,
     "start_time": "2023-04-06T18:22:49.735847",
     "status": "completed"
    },
    "tags": []
   },
   "outputs": [
    {
     "name": "stdout",
     "output_type": "stream",
     "text": [
      "Splitting 1 candies\n"
     ]
    },
    {
     "data": {
      "text/plain": [
       "1"
      ]
     },
     "execution_count": 5,
     "metadata": {},
     "output_type": "execute_result"
    }
   ],
   "source": [
    "to_smash(1)"
   ]
  },
  {
   "cell_type": "markdown",
   "id": "db8cd97d",
   "metadata": {
    "papermill": {
     "duration": 0.009394,
     "end_time": "2023-04-06T18:22:49.776112",
     "exception": false,
     "start_time": "2023-04-06T18:22:49.766718",
     "status": "completed"
    },
    "tags": []
   },
   "source": [
    "That isn't great grammar!\n",
    "\n",
    "Modify the definition in the cell below to correct the grammar of our print statement. (If there's only one candy, we should use the singular \"candy\" instead of the plural \"candies\")"
   ]
  },
  {
   "cell_type": "code",
   "execution_count": 6,
   "id": "e4462aac",
   "metadata": {
    "execution": {
     "iopub.execute_input": "2023-04-06T18:22:49.797359Z",
     "iopub.status.busy": "2023-04-06T18:22:49.796614Z",
     "iopub.status.idle": "2023-04-06T18:22:49.806315Z",
     "shell.execute_reply": "2023-04-06T18:22:49.805045Z"
    },
    "papermill": {
     "duration": 0.022909,
     "end_time": "2023-04-06T18:22:49.808539",
     "exception": false,
     "start_time": "2023-04-06T18:22:49.785630",
     "status": "completed"
    },
    "tags": []
   },
   "outputs": [
    {
     "name": "stdout",
     "output_type": "stream",
     "text": [
      "Splitting 91 candies\n",
      "Splitting 1 candies\n"
     ]
    },
    {
     "data": {
      "text/plain": [
       "1"
      ]
     },
     "execution_count": 6,
     "metadata": {},
     "output_type": "execute_result"
    }
   ],
   "source": [
    "def to_smash(total_candies):\n",
    "    \"\"\"Return the number of leftover candies that must be smashed after distributing\n",
    "    the given number of candies evenly between 3 friends.\n",
    "    \n",
    "    >>> to_smash(91)\n",
    "    1\n",
    "    \"\"\"\n",
    "    print(\"Splitting\", total_candies, \"candies\")\n",
    "    return total_candies % 3\n",
    "\n",
    "to_smash(91)\n",
    "to_smash(1)"
   ]
  },
  {
   "cell_type": "markdown",
   "id": "949d8f86",
   "metadata": {
    "papermill": {
     "duration": 0.009409,
     "end_time": "2023-04-06T18:22:49.827623",
     "exception": false,
     "start_time": "2023-04-06T18:22:49.818214",
     "status": "completed"
    },
    "tags": []
   },
   "source": [
    "To get credit for completing this problem, and to see the official answer, run the code cell below."
   ]
  },
  {
   "cell_type": "code",
   "execution_count": 7,
   "id": "b5b854d2",
   "metadata": {
    "execution": {
     "iopub.execute_input": "2023-04-06T18:22:49.849252Z",
     "iopub.status.busy": "2023-04-06T18:22:49.848529Z",
     "iopub.status.idle": "2023-04-06T18:22:49.857920Z",
     "shell.execute_reply": "2023-04-06T18:22:49.857046Z"
    },
    "papermill": {
     "duration": 0.022802,
     "end_time": "2023-04-06T18:22:49.860148",
     "exception": false,
     "start_time": "2023-04-06T18:22:49.837346",
     "status": "completed"
    },
    "tags": []
   },
   "outputs": [
    {
     "data": {
      "application/javascript": [
       "parent.postMessage({\"jupyterEvent\": \"custom.exercise_interaction\", \"data\": {\"interactionType\": 3, \"questionType\": 4, \"questionId\": \"2_PluralizationProblem\", \"learnToolsVersion\": \"0.3.4\", \"valueTowardsCompletion\": 0.0, \"failureMessage\": \"\", \"exceptionClass\": \"\", \"trace\": \"\", \"outcomeType\": 4}}, \"*\")"
      ],
      "text/plain": [
       "<IPython.core.display.Javascript object>"
      ]
     },
     "metadata": {},
     "output_type": "display_data"
    },
    {
     "data": {
      "text/markdown": [
       "<span style=\"color:#33cc99\">Solution:</span> A straightforward (and totally fine) solution is to replace the original `print` call with:\n",
       "\n",
       "```python\n",
       "if total_candies == 1:\n",
       "    print(\"Splitting 1 candy\")\n",
       "else:\n",
       "    print(\"Splitting\", total_candies, \"candies\")\n",
       "```\n",
       "\n",
       "Here's a slightly more succinct solution using a conditional expression:\n",
       "\n",
       "```python\n",
       "print(\"Splitting\", total_candies, \"candy\" if total_candies == 1 else \"candies\")\n",
       "```"
      ],
      "text/plain": [
       "Solution: A straightforward (and totally fine) solution is to replace the original `print` call with:\n",
       "\n",
       "```python\n",
       "if total_candies == 1:\n",
       "    print(\"Splitting 1 candy\")\n",
       "else:\n",
       "    print(\"Splitting\", total_candies, \"candies\")\n",
       "```\n",
       "\n",
       "Here's a slightly more succinct solution using a conditional expression:\n",
       "\n",
       "```python\n",
       "print(\"Splitting\", total_candies, \"candy\" if total_candies == 1 else \"candies\")\n",
       "```"
      ]
     },
     "metadata": {},
     "output_type": "display_data"
    }
   ],
   "source": [
    "# Check your answer (Run this code cell to receive credit!)\n",
    "q2.solution()"
   ]
  },
  {
   "cell_type": "markdown",
   "id": "7c5f72df",
   "metadata": {
    "papermill": {
     "duration": 0.009743,
     "end_time": "2023-04-06T18:22:49.880021",
     "exception": false,
     "start_time": "2023-04-06T18:22:49.870278",
     "status": "completed"
    },
    "tags": []
   },
   "source": [
    "# 3. <span title=\"A bit spicy\" style=\"color: darkgreen \">🌶️</span>\n",
    "\n",
    "In the tutorial, we talked about deciding whether we're prepared for the weather. I said that I'm safe from today's weather if...\n",
    "- I have an umbrella...\n",
    "- or if the rain isn't too heavy and I have a hood...\n",
    "- otherwise, I'm still fine unless it's raining *and* it's a workday\n",
    "\n",
    "The function below uses our first attempt at turning this logic into a Python expression. I claimed that there was a bug in that code. Can you find it?\n",
    "\n",
    "To prove that `prepared_for_weather` is buggy, come up with a set of inputs where either:\n",
    "- the function returns `False` (but should have returned `True`), or\n",
    "- the function returned `True` (but should have returned `False`).\n",
    "\n",
    "To get credit for completing this question, your code should return a <font color='#33cc33'>Correct</font> result."
   ]
  },
  {
   "cell_type": "code",
   "execution_count": 8,
   "id": "833c77f7",
   "metadata": {
    "execution": {
     "iopub.execute_input": "2023-04-06T18:22:49.902677Z",
     "iopub.status.busy": "2023-04-06T18:22:49.902269Z",
     "iopub.status.idle": "2023-04-06T18:22:49.914599Z",
     "shell.execute_reply": "2023-04-06T18:22:49.913326Z"
    },
    "papermill": {
     "duration": 0.027149,
     "end_time": "2023-04-06T18:22:49.917660",
     "exception": false,
     "start_time": "2023-04-06T18:22:49.890511",
     "status": "completed"
    },
    "tags": []
   },
   "outputs": [
    {
     "name": "stdout",
     "output_type": "stream",
     "text": [
      "True\n"
     ]
    },
    {
     "data": {
      "application/javascript": [
       "parent.postMessage({\"jupyterEvent\": \"custom.exercise_interaction\", \"data\": {\"outcomeType\": 2, \"failureMessage\": \"Given `have_umbrella=True`, `rain_level=0.0`, `have_hood=False`, `is_workday=False`, `prepared_for_weather` returned `True`. But I think that's correct. (We want inputs that lead to an incorrect result from `prepared_for_weather`.)\", \"interactionType\": 1, \"questionType\": 1, \"questionId\": \"3_WeatherDebug\", \"learnToolsVersion\": \"0.3.4\", \"valueTowardsCompletion\": 0.0, \"exceptionClass\": \"\", \"trace\": \"\"}}, \"*\")"
      ],
      "text/plain": [
       "<IPython.core.display.Javascript object>"
      ]
     },
     "metadata": {},
     "output_type": "display_data"
    },
    {
     "data": {
      "text/markdown": [
       "<span style=\"color:#cc3333\">Incorrect:</span> Given `have_umbrella=True`, `rain_level=0.0`, `have_hood=False`, `is_workday=False`, `prepared_for_weather` returned `True`. But I think that's correct. (We want inputs that lead to an incorrect result from `prepared_for_weather`.)"
      ],
      "text/plain": [
       "Incorrect: Given `have_umbrella=True`, `rain_level=0.0`, `have_hood=False`, `is_workday=False`, `prepared_for_weather` returned `True`. But I think that's correct. (We want inputs that lead to an incorrect result from `prepared_for_weather`.)"
      ]
     },
     "metadata": {},
     "output_type": "display_data"
    }
   ],
   "source": [
    "def prepared_for_weather(have_umbrella, rain_level, have_hood, is_workday):\n",
    "    # Don't change this code. Our goal is just to find the bug, not fix it!\n",
    "    return have_umbrella or rain_level < 5 and have_hood or not rain_level > 0 and is_workday\n",
    "\n",
    "# Change the values of these inputs so they represent a case where prepared_for_weather\n",
    "# returns the wrong answer.\n",
    "have_umbrella = True\n",
    "rain_level = 0.0\n",
    "have_hood = False\n",
    "is_workday = False\n",
    "\n",
    "# Check what the function returns given the current values of the variables above\n",
    "actual = prepared_for_weather(have_umbrella, rain_level, have_hood, is_workday)\n",
    "print(actual)\n",
    "\n",
    "# Check your answer\n",
    "q3.check()"
   ]
  },
  {
   "cell_type": "code",
   "execution_count": 9,
   "id": "09b46cb6",
   "metadata": {
    "execution": {
     "iopub.execute_input": "2023-04-06T18:22:49.941227Z",
     "iopub.status.busy": "2023-04-06T18:22:49.939938Z",
     "iopub.status.idle": "2023-04-06T18:22:49.945269Z",
     "shell.execute_reply": "2023-04-06T18:22:49.944371Z"
    },
    "papermill": {
     "duration": 0.019277,
     "end_time": "2023-04-06T18:22:49.947665",
     "exception": false,
     "start_time": "2023-04-06T18:22:49.928388",
     "status": "completed"
    },
    "tags": []
   },
   "outputs": [],
   "source": [
    "#q3.hint()\n",
    "#q3.solution()"
   ]
  },
  {
   "cell_type": "markdown",
   "id": "80e2655b",
   "metadata": {
    "papermill": {
     "duration": 0.009909,
     "end_time": "2023-04-06T18:22:49.968036",
     "exception": false,
     "start_time": "2023-04-06T18:22:49.958127",
     "status": "completed"
    },
    "tags": []
   },
   "source": [
    "# 4.\n",
    "\n",
    "The function `is_negative` below is implemented correctly - it returns True if the given number is negative and False otherwise.\n",
    "\n",
    "However, it's more verbose than it needs to be. We can actually reduce the number of lines of code in this function by *75%* while keeping the same behaviour. \n",
    "\n",
    "See if you can come up with an equivalent body that uses just **one line** of code, and put it in the function `concise_is_negative`. (HINT: you don't even need Python's ternary syntax)"
   ]
  },
  {
   "cell_type": "code",
   "execution_count": 10,
   "id": "6d2ac4da",
   "metadata": {
    "execution": {
     "iopub.execute_input": "2023-04-06T18:22:49.991987Z",
     "iopub.status.busy": "2023-04-06T18:22:49.990898Z",
     "iopub.status.idle": "2023-04-06T18:22:50.001679Z",
     "shell.execute_reply": "2023-04-06T18:22:50.000469Z"
    },
    "papermill": {
     "duration": 0.025773,
     "end_time": "2023-04-06T18:22:50.004138",
     "exception": false,
     "start_time": "2023-04-06T18:22:49.978365",
     "status": "completed"
    },
    "tags": []
   },
   "outputs": [
    {
     "data": {
      "application/javascript": [
       "parent.postMessage({\"jupyterEvent\": \"custom.exercise_interaction\", \"data\": {\"outcomeType\": 1, \"valueTowardsCompletion\": 0.2, \"interactionType\": 1, \"questionType\": 2, \"questionId\": \"4_ConciseIsNegative\", \"learnToolsVersion\": \"0.3.4\", \"failureMessage\": \"\", \"exceptionClass\": \"\", \"trace\": \"\"}}, \"*\")"
      ],
      "text/plain": [
       "<IPython.core.display.Javascript object>"
      ]
     },
     "metadata": {},
     "output_type": "display_data"
    },
    {
     "data": {
      "text/markdown": [
       "<span style=\"color:#33cc33\">Correct</span>"
      ],
      "text/plain": [
       "Correct"
      ]
     },
     "metadata": {},
     "output_type": "display_data"
    }
   ],
   "source": [
    "def is_negative(number):\n",
    "    if number < 0:\n",
    "        return True\n",
    "    else:\n",
    "        return False\n",
    "\n",
    "def concise_is_negative(number):\n",
    "    return number < 0\n",
    "    pass # Your code goes here (try to keep it to one line!)\n",
    "\n",
    "# Check your answer\n",
    "q4.check()"
   ]
  },
  {
   "cell_type": "code",
   "execution_count": 11,
   "id": "168dd633",
   "metadata": {
    "execution": {
     "iopub.execute_input": "2023-04-06T18:22:50.028193Z",
     "iopub.status.busy": "2023-04-06T18:22:50.027787Z",
     "iopub.status.idle": "2023-04-06T18:22:50.031660Z",
     "shell.execute_reply": "2023-04-06T18:22:50.030491Z"
    },
    "papermill": {
     "duration": 0.019098,
     "end_time": "2023-04-06T18:22:50.034198",
     "exception": false,
     "start_time": "2023-04-06T18:22:50.015100",
     "status": "completed"
    },
    "tags": []
   },
   "outputs": [],
   "source": [
    "#q4.hint()\n",
    "#q4.solution()"
   ]
  },
  {
   "cell_type": "markdown",
   "id": "f4fbf898",
   "metadata": {
    "papermill": {
     "duration": 0.010134,
     "end_time": "2023-04-06T18:22:50.055105",
     "exception": false,
     "start_time": "2023-04-06T18:22:50.044971",
     "status": "completed"
    },
    "tags": []
   },
   "source": [
    "# 5a.\n",
    "\n",
    "The boolean variables `ketchup`, `mustard` and `onion` represent whether a customer wants a particular topping on their hot dog. We want to implement a number of boolean functions that correspond to some yes-or-no questions about the customer's order. For example:"
   ]
  },
  {
   "cell_type": "code",
   "execution_count": 12,
   "id": "92d7a56f",
   "metadata": {
    "execution": {
     "iopub.execute_input": "2023-04-06T18:22:50.079882Z",
     "iopub.status.busy": "2023-04-06T18:22:50.079245Z",
     "iopub.status.idle": "2023-04-06T18:22:50.083816Z",
     "shell.execute_reply": "2023-04-06T18:22:50.082932Z"
    },
    "papermill": {
     "duration": 0.019111,
     "end_time": "2023-04-06T18:22:50.086177",
     "exception": false,
     "start_time": "2023-04-06T18:22:50.067066",
     "status": "completed"
    },
    "tags": []
   },
   "outputs": [],
   "source": [
    "def onionless(ketchup, mustard, onion):\n",
    "    \"\"\"Return whether the customer doesn't want onions.\n",
    "    \"\"\"\n",
    "    return not onion"
   ]
  },
  {
   "cell_type": "code",
   "execution_count": 13,
   "id": "96f159e0",
   "metadata": {
    "execution": {
     "iopub.execute_input": "2023-04-06T18:22:50.110089Z",
     "iopub.status.busy": "2023-04-06T18:22:50.109427Z",
     "iopub.status.idle": "2023-04-06T18:22:50.118812Z",
     "shell.execute_reply": "2023-04-06T18:22:50.117689Z"
    },
    "papermill": {
     "duration": 0.024566,
     "end_time": "2023-04-06T18:22:50.121315",
     "exception": false,
     "start_time": "2023-04-06T18:22:50.096749",
     "status": "completed"
    },
    "tags": []
   },
   "outputs": [
    {
     "data": {
      "application/javascript": [
       "parent.postMessage({\"jupyterEvent\": \"custom.exercise_interaction\", \"data\": {\"outcomeType\": 1, \"valueTowardsCompletion\": 0.2, \"interactionType\": 1, \"questionType\": 2, \"questionId\": \"5.1_AllToppings\", \"learnToolsVersion\": \"0.3.4\", \"failureMessage\": \"\", \"exceptionClass\": \"\", \"trace\": \"\"}}, \"*\")"
      ],
      "text/plain": [
       "<IPython.core.display.Javascript object>"
      ]
     },
     "metadata": {},
     "output_type": "display_data"
    },
    {
     "data": {
      "text/markdown": [
       "<span style=\"color:#33cc33\">Correct</span>"
      ],
      "text/plain": [
       "Correct"
      ]
     },
     "metadata": {},
     "output_type": "display_data"
    }
   ],
   "source": [
    "def wants_all_toppings(ketchup, mustard, onion):\n",
    "    \"\"\"Return whether the customer wants \"the works\" (all 3 toppings)\n",
    "    \"\"\"\n",
    "    return ketchup and mustard and onion\n",
    "    pass\n",
    "\n",
    "\n",
    "# Check your answer\n",
    "q5.a.check()"
   ]
  },
  {
   "cell_type": "code",
   "execution_count": 14,
   "id": "ca82739f",
   "metadata": {
    "execution": {
     "iopub.execute_input": "2023-04-06T18:22:50.144964Z",
     "iopub.status.busy": "2023-04-06T18:22:50.144551Z",
     "iopub.status.idle": "2023-04-06T18:22:50.148804Z",
     "shell.execute_reply": "2023-04-06T18:22:50.147635Z"
    },
    "papermill": {
     "duration": 0.019281,
     "end_time": "2023-04-06T18:22:50.151389",
     "exception": false,
     "start_time": "2023-04-06T18:22:50.132108",
     "status": "completed"
    },
    "tags": []
   },
   "outputs": [],
   "source": [
    "#q5.a.hint()\n",
    "#q5.a.solution()"
   ]
  },
  {
   "cell_type": "markdown",
   "id": "ea87db2a",
   "metadata": {
    "papermill": {
     "duration": 0.010853,
     "end_time": "2023-04-06T18:22:50.173250",
     "exception": false,
     "start_time": "2023-04-06T18:22:50.162397",
     "status": "completed"
    },
    "tags": []
   },
   "source": [
    "# 5b.\n",
    "\n",
    "For the next function, fill in the body to match the English description in the docstring. "
   ]
  },
  {
   "cell_type": "code",
   "execution_count": 15,
   "id": "40a73b10",
   "metadata": {
    "execution": {
     "iopub.execute_input": "2023-04-06T18:22:50.197776Z",
     "iopub.status.busy": "2023-04-06T18:22:50.196733Z",
     "iopub.status.idle": "2023-04-06T18:22:50.206919Z",
     "shell.execute_reply": "2023-04-06T18:22:50.205732Z"
    },
    "papermill": {
     "duration": 0.02506,
     "end_time": "2023-04-06T18:22:50.209429",
     "exception": false,
     "start_time": "2023-04-06T18:22:50.184369",
     "status": "completed"
    },
    "tags": []
   },
   "outputs": [
    {
     "data": {
      "application/javascript": [
       "parent.postMessage({\"jupyterEvent\": \"custom.exercise_interaction\", \"data\": {\"outcomeType\": 1, \"valueTowardsCompletion\": 0.2, \"interactionType\": 1, \"questionType\": 2, \"questionId\": \"5.2_PlainDog\", \"learnToolsVersion\": \"0.3.4\", \"failureMessage\": \"\", \"exceptionClass\": \"\", \"trace\": \"\"}}, \"*\")"
      ],
      "text/plain": [
       "<IPython.core.display.Javascript object>"
      ]
     },
     "metadata": {},
     "output_type": "display_data"
    },
    {
     "data": {
      "text/markdown": [
       "<span style=\"color:#33cc33\">Correct:</span> \n",
       "\n",
       "One solution looks like:\n",
       "```python\n",
       "return not ketchup and not mustard and not onion\n",
       "```\n",
       "\n",
       "We can also [\"factor out\" the nots](https://en.wikipedia.org/wiki/De_Morgan%27s_laws) to get:\n",
       "\n",
       "```python\n",
       "return not (ketchup or mustard or onion)\n",
       "```"
      ],
      "text/plain": [
       "Correct: \n",
       "\n",
       "One solution looks like:\n",
       "```python\n",
       "return not ketchup and not mustard and not onion\n",
       "```\n",
       "\n",
       "We can also [\"factor out\" the nots](https://en.wikipedia.org/wiki/De_Morgan%27s_laws) to get:\n",
       "\n",
       "```python\n",
       "return not (ketchup or mustard or onion)\n",
       "```"
      ]
     },
     "metadata": {},
     "output_type": "display_data"
    }
   ],
   "source": [
    "def wants_plain_hotdog(ketchup, mustard, onion):\n",
    "    \"\"\"Return whether the customer wants a plain hot dog with no toppings.\n",
    "    \"\"\"\n",
    "    return not ketchup and not mustard and not onion\n",
    "    pass\n",
    "\n",
    "# Check your answer\n",
    "q5.b.check()"
   ]
  },
  {
   "cell_type": "code",
   "execution_count": 16,
   "id": "489e9dbb",
   "metadata": {
    "execution": {
     "iopub.execute_input": "2023-04-06T18:22:50.234086Z",
     "iopub.status.busy": "2023-04-06T18:22:50.233618Z",
     "iopub.status.idle": "2023-04-06T18:22:50.239712Z",
     "shell.execute_reply": "2023-04-06T18:22:50.238140Z"
    },
    "papermill": {
     "duration": 0.021383,
     "end_time": "2023-04-06T18:22:50.242448",
     "exception": false,
     "start_time": "2023-04-06T18:22:50.221065",
     "status": "completed"
    },
    "tags": []
   },
   "outputs": [],
   "source": [
    "#q5.b.hint()\n",
    "#q5.b.solution()"
   ]
  },
  {
   "cell_type": "markdown",
   "id": "a8194507",
   "metadata": {
    "papermill": {
     "duration": 0.011233,
     "end_time": "2023-04-06T18:22:50.264857",
     "exception": false,
     "start_time": "2023-04-06T18:22:50.253624",
     "status": "completed"
    },
    "tags": []
   },
   "source": [
    "# 5c.\n",
    "\n",
    "You know what to do: for the next function, fill in the body to match the English description in the docstring."
   ]
  },
  {
   "cell_type": "code",
   "execution_count": 17,
   "id": "e96d7872",
   "metadata": {
    "execution": {
     "iopub.execute_input": "2023-04-06T18:22:50.289909Z",
     "iopub.status.busy": "2023-04-06T18:22:50.289127Z",
     "iopub.status.idle": "2023-04-06T18:22:50.298344Z",
     "shell.execute_reply": "2023-04-06T18:22:50.297252Z"
    },
    "papermill": {
     "duration": 0.024562,
     "end_time": "2023-04-06T18:22:50.300821",
     "exception": false,
     "start_time": "2023-04-06T18:22:50.276259",
     "status": "completed"
    },
    "tags": []
   },
   "outputs": [
    {
     "data": {
      "application/javascript": [
       "parent.postMessage({\"jupyterEvent\": \"custom.exercise_interaction\", \"data\": {\"outcomeType\": 1, \"valueTowardsCompletion\": 0.2, \"interactionType\": 1, \"questionType\": 2, \"questionId\": \"5.3_OneSauce\", \"learnToolsVersion\": \"0.3.4\", \"failureMessage\": \"\", \"exceptionClass\": \"\", \"trace\": \"\"}}, \"*\")"
      ],
      "text/plain": [
       "<IPython.core.display.Javascript object>"
      ]
     },
     "metadata": {},
     "output_type": "display_data"
    },
    {
     "data": {
      "text/markdown": [
       "<span style=\"color:#33cc33\">Correct</span>"
      ],
      "text/plain": [
       "Correct"
      ]
     },
     "metadata": {},
     "output_type": "display_data"
    }
   ],
   "source": [
    "def exactly_one_sauce(ketchup, mustard, onion):\n",
    "    \"\"\"Return whether the customer wants either ketchup or mustard, but not both.\n",
    "    (You may be familiar with this operation under the name \"exclusive or\")\n",
    "    \"\"\"\n",
    "    return  (ketchup and not mustard) or (mustard and not ketchup)\n",
    "    pass\n",
    "\n",
    "# Check your answer\n",
    "q5.c.check()"
   ]
  },
  {
   "cell_type": "code",
   "execution_count": 18,
   "id": "43c3b32e",
   "metadata": {
    "execution": {
     "iopub.execute_input": "2023-04-06T18:22:50.326487Z",
     "iopub.status.busy": "2023-04-06T18:22:50.325011Z",
     "iopub.status.idle": "2023-04-06T18:22:50.330477Z",
     "shell.execute_reply": "2023-04-06T18:22:50.329341Z"
    },
    "papermill": {
     "duration": 0.020921,
     "end_time": "2023-04-06T18:22:50.333060",
     "exception": false,
     "start_time": "2023-04-06T18:22:50.312139",
     "status": "completed"
    },
    "tags": []
   },
   "outputs": [],
   "source": [
    "#q5.c.hint()\n",
    "#q5.c.solution()"
   ]
  },
  {
   "cell_type": "markdown",
   "id": "cb30cb0a",
   "metadata": {
    "papermill": {
     "duration": 0.011148,
     "end_time": "2023-04-06T18:22:50.355908",
     "exception": false,
     "start_time": "2023-04-06T18:22:50.344760",
     "status": "completed"
    },
    "tags": []
   },
   "source": [
    "# 6. <span title=\"A bit spicy\" style=\"color: darkgreen \">🌶️</span>\n",
    "\n",
    "We’ve seen that calling `bool()` on an integer returns `False` if it’s equal to 0 and `True` otherwise. What happens if we call `int()` on a bool? Try it out in the notebook cell below.\n",
    "\n",
    "Can you take advantage of this to write a succinct function that corresponds to the English sentence \"does the customer want exactly one topping?\"?"
   ]
  },
  {
   "cell_type": "code",
   "execution_count": 19,
   "id": "379d0d1d",
   "metadata": {
    "execution": {
     "iopub.execute_input": "2023-04-06T18:22:50.381099Z",
     "iopub.status.busy": "2023-04-06T18:22:50.380059Z",
     "iopub.status.idle": "2023-04-06T18:22:50.391226Z",
     "shell.execute_reply": "2023-04-06T18:22:50.390172Z"
    },
    "papermill": {
     "duration": 0.026395,
     "end_time": "2023-04-06T18:22:50.393693",
     "exception": false,
     "start_time": "2023-04-06T18:22:50.367298",
     "status": "completed"
    },
    "tags": []
   },
   "outputs": [
    {
     "data": {
      "application/javascript": [
       "parent.postMessage({\"jupyterEvent\": \"custom.exercise_interaction\", \"data\": {\"outcomeType\": 1, \"valueTowardsCompletion\": 0.2, \"interactionType\": 1, \"questionType\": 2, \"questionId\": \"6_OneTopping\", \"learnToolsVersion\": \"0.3.4\", \"failureMessage\": \"\", \"exceptionClass\": \"\", \"trace\": \"\"}}, \"*\")"
      ],
      "text/plain": [
       "<IPython.core.display.Javascript object>"
      ]
     },
     "metadata": {},
     "output_type": "display_data"
    },
    {
     "data": {
      "text/markdown": [
       "<span style=\"color:#33cc33\">Correct:</span> \n",
       "\n",
       "This condition would be pretty complicated to express using just `and`, `or` and `not`, but using boolean-to-integer conversion gives us this short solution:\n",
       "```python\n",
       "return (int(ketchup) + int(mustard) + int(onion)) == 1\n",
       "```\n",
       "\n",
       "Fun fact: we don't technically need to call `int` on the arguments. Just by doing addition with booleans, Python implicitly does the integer conversion. So we could also write...\n",
       "\n",
       "```python\n",
       "return (ketchup + mustard + onion) == 1\n",
       "```"
      ],
      "text/plain": [
       "Correct: \n",
       "\n",
       "This condition would be pretty complicated to express using just `and`, `or` and `not`, but using boolean-to-integer conversion gives us this short solution:\n",
       "```python\n",
       "return (int(ketchup) + int(mustard) + int(onion)) == 1\n",
       "```\n",
       "\n",
       "Fun fact: we don't technically need to call `int` on the arguments. Just by doing addition with booleans, Python implicitly does the integer conversion. So we could also write...\n",
       "\n",
       "```python\n",
       "return (ketchup + mustard + onion) == 1\n",
       "```"
      ]
     },
     "metadata": {},
     "output_type": "display_data"
    }
   ],
   "source": [
    "def exactly_one_topping(ketchup, mustard, onion):\n",
    "    \"\"\"Return whether the customer wants exactly one of the three available toppings\n",
    "    on their hot dog.\n",
    "    \"\"\"\n",
    "    return (ketchup + mustard + onion) == 1\n",
    "    pass\n",
    "\n",
    "# Check your answer\n",
    "q6.check()"
   ]
  },
  {
   "cell_type": "code",
   "execution_count": 20,
   "id": "b88197e9",
   "metadata": {
    "execution": {
     "iopub.execute_input": "2023-04-06T18:22:50.419499Z",
     "iopub.status.busy": "2023-04-06T18:22:50.418814Z",
     "iopub.status.idle": "2023-04-06T18:22:50.422643Z",
     "shell.execute_reply": "2023-04-06T18:22:50.421739Z"
    },
    "papermill": {
     "duration": 0.01923,
     "end_time": "2023-04-06T18:22:50.424935",
     "exception": false,
     "start_time": "2023-04-06T18:22:50.405705",
     "status": "completed"
    },
    "tags": []
   },
   "outputs": [],
   "source": [
    "#q6.hint()\n",
    "#q6.solution()"
   ]
  },
  {
   "cell_type": "markdown",
   "id": "de7151e9",
   "metadata": {
    "papermill": {
     "duration": 0.012371,
     "end_time": "2023-04-06T18:22:50.449098",
     "exception": false,
     "start_time": "2023-04-06T18:22:50.436727",
     "status": "completed"
    },
    "tags": []
   },
   "source": [
    "# 7. <span title=\"A bit spicy\" style=\"color: darkgreen \">🌶️</span> (Optional)\n",
    "\n",
    "In this problem we'll be working with a simplified version of [blackjack](https://en.wikipedia.org/wiki/Blackjack) (aka twenty-one). In this version there is one player (who you'll control) and a dealer. Play proceeds as follows:\n",
    "\n",
    "- The player is dealt two face-up cards. The dealer is dealt one face-up card.\n",
    "- The player may ask to be dealt another card ('hit') as many times as they wish. If the sum of their cards exceeds 21, they lose the round immediately.\n",
    "- The dealer then deals additional cards to himself until either:\n",
    "    - the sum of the dealer's cards exceeds 21, in which case the player wins the round\n",
    "    - the sum of the dealer's cards is greater than or equal to 17. If the player's total is greater than the dealer's, the player wins. Otherwise, the dealer wins (even in case of a tie).\n",
    "    \n",
    "When calculating the sum of cards, Jack, Queen, and King count for 10. Aces can count as 1 or 11 (when referring to a player's \"total\" above, we mean the largest total that can be made without exceeding 21. So e.g. A+8 = 19, A+8+8 = 17)\n",
    "\n",
    "For this problem, you'll write a function representing the player's decision-making strategy in this game. We've provided a very unintelligent implementation below:"
   ]
  },
  {
   "cell_type": "code",
   "execution_count": 21,
   "id": "8a9ada19",
   "metadata": {
    "execution": {
     "iopub.execute_input": "2023-04-06T18:22:50.475153Z",
     "iopub.status.busy": "2023-04-06T18:22:50.474697Z",
     "iopub.status.idle": "2023-04-06T18:22:50.480205Z",
     "shell.execute_reply": "2023-04-06T18:22:50.479247Z"
    },
    "papermill": {
     "duration": 0.021478,
     "end_time": "2023-04-06T18:22:50.482364",
     "exception": false,
     "start_time": "2023-04-06T18:22:50.460886",
     "status": "completed"
    },
    "tags": []
   },
   "outputs": [],
   "source": [
    "def should_hit(dealer_total, player_total, player_low_aces, player_high_aces):\n",
    "    \"\"\"Return True if the player should hit (request another card) given the current game\n",
    "    state, or False if the player should stay.\n",
    "    When calculating a hand's total value, we count aces as \"high\" (with value 11) if doing so\n",
    "    doesn't bring the total above 21, otherwise we count them as low (with value 1). \n",
    "    For example, if the player's hand is {A, A, A, 7}, we will count it as 11 + 1 + 1 + 7,\n",
    "    and therefore set player_total=20, player_low_aces=2, player_high_aces=1.\n",
    "    \"\"\"\n",
    "    return False"
   ]
  },
  {
   "cell_type": "markdown",
   "id": "ae098a5c",
   "metadata": {
    "papermill": {
     "duration": 0.011309,
     "end_time": "2023-04-06T18:22:50.505446",
     "exception": false,
     "start_time": "2023-04-06T18:22:50.494137",
     "status": "completed"
    },
    "tags": []
   },
   "source": [
    "This very conservative agent *always* sticks with the hand of two cards that they're dealt.\n",
    "\n",
    "We'll be simulating games between your player agent and our own dealer agent by calling your function.\n",
    "\n",
    "Try running the function below to see an example of a simulated game:"
   ]
  },
  {
   "cell_type": "code",
   "execution_count": 22,
   "id": "734ac571",
   "metadata": {
    "execution": {
     "iopub.execute_input": "2023-04-06T18:22:50.531107Z",
     "iopub.status.busy": "2023-04-06T18:22:50.530664Z",
     "iopub.status.idle": "2023-04-06T18:22:50.536189Z",
     "shell.execute_reply": "2023-04-06T18:22:50.535013Z"
    },
    "papermill": {
     "duration": 0.022136,
     "end_time": "2023-04-06T18:22:50.539237",
     "exception": false,
     "start_time": "2023-04-06T18:22:50.517101",
     "status": "completed"
    },
    "tags": []
   },
   "outputs": [
    {
     "name": "stdout",
     "output_type": "stream",
     "text": [
      "Player starts with 9 and 5 (total = 14)\n",
      "Dealer starts with 10\n",
      "\n",
      "__Player's turn__\n",
      "Player stays\n",
      "\n",
      "__Dealer's turn__\n",
      "Dealer hits and receives 5. (total = 15)\n",
      "Dealer hits and receives A. (total = 16)\n",
      "Dealer hits and receives 9. (total = 25)\n",
      "Dealer busts! Player wins.\n"
     ]
    }
   ],
   "source": [
    "q7.simulate_one_game()"
   ]
  },
  {
   "cell_type": "markdown",
   "id": "a7a5c58d",
   "metadata": {
    "papermill": {
     "duration": 0.011394,
     "end_time": "2023-04-06T18:22:50.562378",
     "exception": false,
     "start_time": "2023-04-06T18:22:50.550984",
     "status": "completed"
    },
    "tags": []
   },
   "source": [
    "The real test of your agent's mettle is their average win rate over many games. Try calling the function below to simulate 50000 games of blackjack (it may take a couple seconds):"
   ]
  },
  {
   "cell_type": "code",
   "execution_count": 23,
   "id": "ca76d39e",
   "metadata": {
    "execution": {
     "iopub.execute_input": "2023-04-06T18:22:50.587800Z",
     "iopub.status.busy": "2023-04-06T18:22:50.587390Z",
     "iopub.status.idle": "2023-04-06T18:22:52.308878Z",
     "shell.execute_reply": "2023-04-06T18:22:52.307675Z"
    },
    "papermill": {
     "duration": 1.73776,
     "end_time": "2023-04-06T18:22:52.311902",
     "exception": false,
     "start_time": "2023-04-06T18:22:50.574142",
     "status": "completed"
    },
    "tags": []
   },
   "outputs": [
    {
     "name": "stdout",
     "output_type": "stream",
     "text": [
      "Player won 19091 out of 50000 games (win rate = 38.2%)\n"
     ]
    }
   ],
   "source": [
    "q7.simulate(n_games=50000)"
   ]
  },
  {
   "cell_type": "markdown",
   "id": "dde3aabf",
   "metadata": {
    "papermill": {
     "duration": 0.011738,
     "end_time": "2023-04-06T18:22:52.336012",
     "exception": false,
     "start_time": "2023-04-06T18:22:52.324274",
     "status": "completed"
    },
    "tags": []
   },
   "source": [
    "Our dumb agent that completely ignores the game state still manages to win shockingly often!\n",
    "\n",
    "Try adding some more smarts to the `should_hit` function and see how it affects the results."
   ]
  },
  {
   "cell_type": "code",
   "execution_count": 24,
   "id": "50b60a26",
   "metadata": {
    "execution": {
     "iopub.execute_input": "2023-04-06T18:22:52.361743Z",
     "iopub.status.busy": "2023-04-06T18:22:52.361334Z",
     "iopub.status.idle": "2023-04-06T18:22:54.060198Z",
     "shell.execute_reply": "2023-04-06T18:22:54.058155Z"
    },
    "papermill": {
     "duration": 1.715615,
     "end_time": "2023-04-06T18:22:54.063494",
     "exception": false,
     "start_time": "2023-04-06T18:22:52.347879",
     "status": "completed"
    },
    "tags": []
   },
   "outputs": [
    {
     "name": "stdout",
     "output_type": "stream",
     "text": [
      "Player won 18806 out of 50000 games (win rate = 37.6%)\n"
     ]
    }
   ],
   "source": [
    "def should_hit(dealer_total, player_total, player_low_aces, player_high_aces):\n",
    "    \"\"\"Return True if the player should hit (request another card) given the current game\n",
    "    state, or False if the player should stay.\n",
    "    When calculating a hand's total value, we count aces as \"high\" (with value 11) if doing so\n",
    "    doesn't bring the total above 21, otherwise we count them as low (with value 1). \n",
    "    For example, if the player's hand is {A, A, A, 7}, we will count it as 11 + 1 + 1 + 7,\n",
    "    and therefore set player_total=20, player_low_aces=2, player_high_aces=1.\n",
    "    \"\"\"\n",
    "    return False\n",
    "\n",
    "q7.simulate(n_games=50000)"
   ]
  },
  {
   "cell_type": "markdown",
   "id": "8f482538",
   "metadata": {
    "papermill": {
     "duration": 0.019319,
     "end_time": "2023-04-06T18:22:54.096147",
     "exception": false,
     "start_time": "2023-04-06T18:22:54.076828",
     "status": "completed"
    },
    "tags": []
   },
   "source": [
    "# Keep Going\n",
    "\n",
    "Learn about **[lists and tuples](https://www.kaggle.com/colinmorris/lists)** to handle multiple items of data in a systematic way."
   ]
  },
  {
   "cell_type": "markdown",
   "id": "dd0742d2",
   "metadata": {
    "papermill": {
     "duration": 0.012211,
     "end_time": "2023-04-06T18:22:54.127083",
     "exception": false,
     "start_time": "2023-04-06T18:22:54.114872",
     "status": "completed"
    },
    "tags": []
   },
   "source": [
    "---\n",
    "\n",
    "\n",
    "\n",
    "\n",
    "*Have questions or comments? Visit the [course discussion forum](https://www.kaggle.com/learn/python/discussion) to chat with other learners.*"
   ]
  }
 ],
 "metadata": {
  "kernelspec": {
   "display_name": "Python 3",
   "language": "python",
   "name": "python3"
  },
  "language_info": {
   "codemirror_mode": {
    "name": "ipython",
    "version": 3
   },
   "file_extension": ".py",
   "mimetype": "text/x-python",
   "name": "python",
   "nbconvert_exporter": "python",
   "pygments_lexer": "ipython3",
   "version": "3.7.12"
  },
  "papermill": {
   "default_parameters": {},
   "duration": 15.586,
   "end_time": "2023-04-06T18:22:54.865754",
   "environment_variables": {},
   "exception": null,
   "input_path": "__notebook__.ipynb",
   "output_path": "__notebook__.ipynb",
   "parameters": {},
   "start_time": "2023-04-06T18:22:39.279754",
   "version": "2.4.0"
  }
 },
 "nbformat": 4,
 "nbformat_minor": 5
}
