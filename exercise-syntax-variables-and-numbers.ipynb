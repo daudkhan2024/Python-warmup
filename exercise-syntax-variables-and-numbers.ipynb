{
 "cells": [
  {
   "cell_type": "markdown",
   "id": "566bef00",
   "metadata": {
    "papermill": {
     "duration": 0.008543,
     "end_time": "2023-04-05T20:04:59.136719",
     "exception": false,
     "start_time": "2023-04-05T20:04:59.128176",
     "status": "completed"
    },
    "tags": []
   },
   "source": [
    "**This notebook is an exercise in the [Python](https://www.kaggle.com/learn/python) course.  You can reference the tutorial at [this link](https://www.kaggle.com/colinmorris/hello-python).**\n",
    "\n",
    "---\n"
   ]
  },
  {
   "cell_type": "markdown",
   "id": "60c47e34",
   "metadata": {
    "papermill": {
     "duration": 0.006656,
     "end_time": "2023-04-05T20:04:59.150669",
     "exception": false,
     "start_time": "2023-04-05T20:04:59.144013",
     "status": "completed"
    },
    "tags": []
   },
   "source": [
    "Welcome to your first set of Python coding problems.  If this is your first time using Kaggle Notebooks, welcome! \n",
    "\n",
    "Notebooks are composed of blocks (called \"cells\") of text and code. Each of these is editable, though you'll mainly be editing the code cells to answer some questions.\n",
    "\n",
    "To get started, try running the code cell below (by pressing the ► button, or clicking on the cell and pressing ctrl+enter on your keyboard)."
   ]
  },
  {
   "cell_type": "code",
   "execution_count": 1,
   "id": "7b229ae3",
   "metadata": {
    "execution": {
     "iopub.execute_input": "2023-04-05T20:04:59.167835Z",
     "iopub.status.busy": "2023-04-05T20:04:59.167012Z",
     "iopub.status.idle": "2023-04-05T20:04:59.179223Z",
     "shell.execute_reply": "2023-04-05T20:04:59.177403Z"
    },
    "papermill": {
     "duration": 0.023537,
     "end_time": "2023-04-05T20:04:59.181896",
     "exception": false,
     "start_time": "2023-04-05T20:04:59.158359",
     "status": "completed"
    },
    "tags": []
   },
   "outputs": [
    {
     "name": "stdout",
     "output_type": "stream",
     "text": [
      "my name is khan\n"
     ]
    }
   ],
   "source": [
    "print(\"my name is khan\")"
   ]
  },
  {
   "cell_type": "code",
   "execution_count": 2,
   "id": "83f946fc",
   "metadata": {
    "execution": {
     "iopub.execute_input": "2023-04-05T20:04:59.198521Z",
     "iopub.status.busy": "2023-04-05T20:04:59.198074Z",
     "iopub.status.idle": "2023-04-05T20:04:59.203588Z",
     "shell.execute_reply": "2023-04-05T20:04:59.202088Z"
    },
    "papermill": {
     "duration": 0.017191,
     "end_time": "2023-04-05T20:04:59.206676",
     "exception": false,
     "start_time": "2023-04-05T20:04:59.189485",
     "status": "completed"
    },
    "tags": []
   },
   "outputs": [
    {
     "name": "stdout",
     "output_type": "stream",
     "text": [
      "You've successfully run some Python code\n",
      "Congratulations!\n"
     ]
    }
   ],
   "source": [
    "print(\"You've successfully run some Python code\")\n",
    "print(\"Congratulations!\")"
   ]
  },
  {
   "cell_type": "markdown",
   "id": "dbe2cc59",
   "metadata": {
    "papermill": {
     "duration": 0.006992,
     "end_time": "2023-04-05T20:04:59.221186",
     "exception": false,
     "start_time": "2023-04-05T20:04:59.214194",
     "status": "completed"
    },
    "tags": []
   },
   "source": [
    "Try adding another line of code in the cell above and re-running it. \n",
    "\n",
    "Now let's get a little fancier:  Add a new code cell by clicking on an existing code cell, hitting the escape key, and then hitting the `a` or `b` key.  The `a` key will add a cell above the current cell, and `b` adds a cell below.\n",
    "\n",
    "Great! Now you know how to use Notebooks.\n",
    "\n",
    "Each hands-on exercise starts by setting up our feedback and code checking mechanism. Run the code cell below to do that. Then you'll be ready to move on to question 0."
   ]
  },
  {
   "cell_type": "code",
   "execution_count": 3,
   "id": "e00f0cb3",
   "metadata": {
    "_kg_hide-input": true,
    "_kg_hide-output": true,
    "execution": {
     "iopub.execute_input": "2023-04-05T20:04:59.237183Z",
     "iopub.status.busy": "2023-04-05T20:04:59.236700Z",
     "iopub.status.idle": "2023-04-05T20:04:59.291587Z",
     "shell.execute_reply": "2023-04-05T20:04:59.290089Z"
    },
    "papermill": {
     "duration": 0.066421,
     "end_time": "2023-04-05T20:04:59.294644",
     "exception": false,
     "start_time": "2023-04-05T20:04:59.228223",
     "status": "completed"
    },
    "tags": []
   },
   "outputs": [
    {
     "name": "stdout",
     "output_type": "stream",
     "text": [
      "Setup complete! You're ready to start question 0.\n"
     ]
    }
   ],
   "source": [
    "from learntools.core import binder; binder.bind(globals())\n",
    "from learntools.python.ex1 import *\n",
    "print(\"Setup complete! You're ready to start question 0.\")"
   ]
  },
  {
   "cell_type": "markdown",
   "id": "83be8ad8",
   "metadata": {
    "papermill": {
     "duration": 0.007024,
     "end_time": "2023-04-05T20:04:59.308908",
     "exception": false,
     "start_time": "2023-04-05T20:04:59.301884",
     "status": "completed"
    },
    "tags": []
   },
   "source": [
    "# 0.\n",
    "\n",
    "*This is a silly question intended as an introduction to the format we use for hands-on exercises throughout all Kaggle courses.*\n",
    "\n",
    "**What is your favorite color? **\n",
    "\n",
    "To complete this question, create a variable called `color` in the cell below with an appropriate value. The function call `q0.check()` (which we've already provided in the cell below) will check your answer."
   ]
  },
  {
   "cell_type": "code",
   "execution_count": 4,
   "id": "5560ea94",
   "metadata": {
    "execution": {
     "iopub.execute_input": "2023-04-05T20:04:59.326077Z",
     "iopub.status.busy": "2023-04-05T20:04:59.325661Z",
     "iopub.status.idle": "2023-04-05T20:04:59.337228Z",
     "shell.execute_reply": "2023-04-05T20:04:59.335887Z"
    },
    "papermill": {
     "duration": 0.023268,
     "end_time": "2023-04-05T20:04:59.339738",
     "exception": false,
     "start_time": "2023-04-05T20:04:59.316470",
     "status": "completed"
    },
    "tags": []
   },
   "outputs": [
    {
     "data": {
      "application/javascript": [
       "parent.postMessage({\"jupyterEvent\": \"custom.exercise_interaction\", \"data\": {\"outcomeType\": 1, \"valueTowardsCompletion\": 0.25, \"interactionType\": 1, \"questionType\": 2, \"questionId\": \"0_ExerciseFormatTutorial\", \"learnToolsVersion\": \"0.3.4\", \"failureMessage\": \"\", \"exceptionClass\": \"\", \"trace\": \"\"}}, \"*\")"
      ],
      "text/plain": [
       "<IPython.core.display.Javascript object>"
      ]
     },
     "metadata": {},
     "output_type": "display_data"
    },
    {
     "data": {
      "text/markdown": [
       "<span style=\"color:#33cc33\">Correct:</span> What?! You got it right without needing a hint or anything? Drats. Well hey, you should still continue to the next step to get some practice asking for a hint and checking solutions. (Even though you obviously don't need any help here.)"
      ],
      "text/plain": [
       "Correct: What?! You got it right without needing a hint or anything? Drats. Well hey, you should still continue to the next step to get some practice asking for a hint and checking solutions. (Even though you obviously don't need any help here.)"
      ]
     },
     "metadata": {},
     "output_type": "display_data"
    }
   ],
   "source": [
    "# create a variable called color with an appropriate value on the line below\n",
    "# (Remember, strings in Python must be enclosed in 'single' or \"double\" quotes)\n",
    "color = \"blue\"\n",
    "\n",
    "# Check your answer\n",
    "q0.check()"
   ]
  },
  {
   "cell_type": "markdown",
   "id": "d4f3c633",
   "metadata": {
    "papermill": {
     "duration": 0.009904,
     "end_time": "2023-04-05T20:04:59.357246",
     "exception": false,
     "start_time": "2023-04-05T20:04:59.347342",
     "status": "completed"
    },
    "tags": []
   },
   "source": [
    "Didn't get the right answer? How do you not even know your own favorite color?!\n",
    "\n",
    "Delete the `#` in the line below to make one of the lines run. You can choose between getting a hint or the full answer by choosing which line to remove the `#` from. \n",
    "\n",
    "Removing the `#` is called uncommenting, because it changes that line from a \"comment\" which Python doesn't run to code, which Python does run."
   ]
  },
  {
   "cell_type": "code",
   "execution_count": 5,
   "id": "aef263bb",
   "metadata": {
    "execution": {
     "iopub.execute_input": "2023-04-05T20:04:59.375392Z",
     "iopub.status.busy": "2023-04-05T20:04:59.374904Z",
     "iopub.status.idle": "2023-04-05T20:04:59.379995Z",
     "shell.execute_reply": "2023-04-05T20:04:59.378569Z"
    },
    "papermill": {
     "duration": 0.017671,
     "end_time": "2023-04-05T20:04:59.382534",
     "exception": false,
     "start_time": "2023-04-05T20:04:59.364863",
     "status": "completed"
    },
    "tags": []
   },
   "outputs": [],
   "source": [
    "#q0.hint()\n",
    "#q0.solution()"
   ]
  },
  {
   "cell_type": "markdown",
   "id": "b640b2d8",
   "metadata": {
    "papermill": {
     "duration": 0.007448,
     "end_time": "2023-04-05T20:04:59.397702",
     "exception": false,
     "start_time": "2023-04-05T20:04:59.390254",
     "status": "completed"
    },
    "tags": []
   },
   "source": [
    "The upcoming questions work the same way. The only thing that will change are the question numbers. For the next question, you'll call `q1.check()`, `q1.hint()`, `q1.solution()`, for question 2, you'll call `q2.check()`, and so on."
   ]
  },
  {
   "cell_type": "markdown",
   "id": "69c93861",
   "metadata": {
    "papermill": {
     "duration": 0.007437,
     "end_time": "2023-04-05T20:04:59.412636",
     "exception": false,
     "start_time": "2023-04-05T20:04:59.405199",
     "status": "completed"
    },
    "tags": []
   },
   "source": [
    "<hr/>\n",
    "\n",
    "# 1.\n",
    "\n",
    "Complete the code below. In case it's helpful, here is the table of available arithmetic operations:\n",
    "\n",
    "\n",
    "\n",
    "| Operator     | Name           | Description                                            |\n",
    "|--------------|----------------|--------------------------------------------------------|\n",
    "| ``a + b``    | Addition       | Sum of ``a`` and ``b``                                 |\n",
    "| ``a - b``    | Subtraction    | Difference of ``a`` and ``b``                          |\n",
    "| ``a * b``    | Multiplication | Product of ``a`` and ``b``                             |\n",
    "| ``a / b``    | True division  | Quotient of ``a`` and ``b``                            |\n",
    "| ``a // b``   | Floor division | Quotient of ``a`` and ``b``, removing fractional parts |\n",
    "| ``a % b``    | Modulus        | Integer remainder after division of ``a`` by ``b``     |\n",
    "| ``a ** b``   | Exponentiation | ``a`` raised to the power of ``b``                     |\n",
    "| ``-a``       | Negation       | The negative of ``a``                                  |\n",
    "\n",
    "<span style=\"display:none\"></span>\n"
   ]
  },
  {
   "cell_type": "code",
   "execution_count": 6,
   "id": "bf364ee5",
   "metadata": {
    "execution": {
     "iopub.execute_input": "2023-04-05T20:04:59.430759Z",
     "iopub.status.busy": "2023-04-05T20:04:59.430365Z",
     "iopub.status.idle": "2023-04-05T20:04:59.441384Z",
     "shell.execute_reply": "2023-04-05T20:04:59.440042Z"
    },
    "papermill": {
     "duration": 0.023613,
     "end_time": "2023-04-05T20:04:59.444202",
     "exception": false,
     "start_time": "2023-04-05T20:04:59.420589",
     "status": "completed"
    },
    "tags": []
   },
   "outputs": [
    {
     "data": {
      "application/javascript": [
       "parent.postMessage({\"jupyterEvent\": \"custom.exercise_interaction\", \"data\": {\"outcomeType\": 1, \"valueTowardsCompletion\": 0.25, \"interactionType\": 1, \"questionType\": 1, \"questionId\": \"1_CircleArea\", \"learnToolsVersion\": \"0.3.4\", \"failureMessage\": \"\", \"exceptionClass\": \"\", \"trace\": \"\"}}, \"*\")"
      ],
      "text/plain": [
       "<IPython.core.display.Javascript object>"
      ]
     },
     "metadata": {},
     "output_type": "display_data"
    },
    {
     "data": {
      "text/markdown": [
       "<span style=\"color:#33cc33\">Correct</span>"
      ],
      "text/plain": [
       "Correct"
      ]
     },
     "metadata": {},
     "output_type": "display_data"
    }
   ],
   "source": [
    "pi = 3.14159 # approximate\n",
    "diameter = 3\n",
    "\n",
    "# Create a variable called 'radius' equal to half the diameter\n",
    "radius = diameter/2\n",
    "\n",
    "# Create a variable called 'area', using the formula for the area of a circle: pi times the radius squared\n",
    "area = pi * radius ** 2\n",
    "\n",
    "# Check your answer\n",
    "q1.check()"
   ]
  },
  {
   "cell_type": "code",
   "execution_count": 7,
   "id": "18c5c9cc",
   "metadata": {
    "execution": {
     "iopub.execute_input": "2023-04-05T20:04:59.462300Z",
     "iopub.status.busy": "2023-04-05T20:04:59.461896Z",
     "iopub.status.idle": "2023-04-05T20:04:59.466764Z",
     "shell.execute_reply": "2023-04-05T20:04:59.465296Z"
    },
    "papermill": {
     "duration": 0.017264,
     "end_time": "2023-04-05T20:04:59.469297",
     "exception": false,
     "start_time": "2023-04-05T20:04:59.452033",
     "status": "completed"
    },
    "tags": []
   },
   "outputs": [],
   "source": [
    "# Uncomment and run the lines below if you need help.\n",
    "#q1.hint()\n",
    "#q1.solution()"
   ]
  },
  {
   "cell_type": "markdown",
   "id": "3f13ae9b",
   "metadata": {
    "papermill": {
     "duration": 0.007647,
     "end_time": "2023-04-05T20:04:59.485522",
     "exception": false,
     "start_time": "2023-04-05T20:04:59.477875",
     "status": "completed"
    },
    "tags": []
   },
   "source": [
    "<hr/>\n",
    "\n",
    "# 2.\n",
    "\n",
    "Add code to the following cell to swap variables `a` and `b` (so that `a` refers to the object previously referred to by `b` and vice versa)."
   ]
  },
  {
   "cell_type": "code",
   "execution_count": 8,
   "id": "57343972",
   "metadata": {
    "execution": {
     "iopub.execute_input": "2023-04-05T20:04:59.503546Z",
     "iopub.status.busy": "2023-04-05T20:04:59.503111Z",
     "iopub.status.idle": "2023-04-05T20:04:59.514588Z",
     "shell.execute_reply": "2023-04-05T20:04:59.513304Z"
    },
    "papermill": {
     "duration": 0.024347,
     "end_time": "2023-04-05T20:04:59.518003",
     "exception": false,
     "start_time": "2023-04-05T20:04:59.493656",
     "status": "completed"
    },
    "tags": []
   },
   "outputs": [
    {
     "data": {
      "application/javascript": [
       "parent.postMessage({\"jupyterEvent\": \"custom.exercise_interaction\", \"data\": {\"outcomeType\": 1, \"valueTowardsCompletion\": 0.25, \"interactionType\": 1, \"questionType\": 2, \"questionId\": \"2_VariableSwap\", \"learnToolsVersion\": \"0.3.4\", \"failureMessage\": \"\", \"exceptionClass\": \"\", \"trace\": \"\"}}, \"*\")"
      ],
      "text/plain": [
       "<IPython.core.display.Javascript object>"
      ]
     },
     "metadata": {},
     "output_type": "display_data"
    },
    {
     "data": {
      "text/markdown": [
       "<span style=\"color:#33cc33\">Correct:</span> \n",
       "\n",
       "The most straightforward solution is to use a third variable to temporarily store one of the old values. e.g.:\n",
       "\n",
       "    tmp = a\n",
       "    a = b\n",
       "    b = tmp\n",
       "\n",
       "If you've read lots of Python code, you might have seen the following trick to swap two variables in one line:\n",
       "\n",
       "    a, b = b, a\n",
       "\n",
       "We'll demystify this bit of Python magic later when we talk about *tuples*."
      ],
      "text/plain": [
       "Correct: \n",
       "\n",
       "The most straightforward solution is to use a third variable to temporarily store one of the old values. e.g.:\n",
       "\n",
       "    tmp = a\n",
       "    a = b\n",
       "    b = tmp\n",
       "\n",
       "If you've read lots of Python code, you might have seen the following trick to swap two variables in one line:\n",
       "\n",
       "    a, b = b, a\n",
       "\n",
       "We'll demystify this bit of Python magic later when we talk about *tuples*."
      ]
     },
     "metadata": {},
     "output_type": "display_data"
    }
   ],
   "source": [
    "########### Setup code - don't touch this part ######################\n",
    "# If you're curious, these are examples of lists. We'll talk about \n",
    "# them in depth a few lessons from now. For now, just know that they're\n",
    "# yet another type of Python object, like int or float.\n",
    "a = [1, 2, 3]\n",
    "b = [3, 2, 1]\n",
    "q2.store_original_ids()\n",
    "######################################################################\n",
    "a , b = b , a\n",
    "# Your code goes here. Swap the values to which a and b refer.\n",
    "# If you get stuck, you can always uncomment one or both of the lines in\n",
    "# the next cell for a hint, or to peek at the solution.\n",
    "\n",
    "######################################################################\n",
    "\n",
    "# Check your answer\n",
    "q2.check()"
   ]
  },
  {
   "cell_type": "code",
   "execution_count": 9,
   "id": "f9fbaf8c",
   "metadata": {
    "execution": {
     "iopub.execute_input": "2023-04-05T20:04:59.537338Z",
     "iopub.status.busy": "2023-04-05T20:04:59.536907Z",
     "iopub.status.idle": "2023-04-05T20:04:59.546404Z",
     "shell.execute_reply": "2023-04-05T20:04:59.545160Z"
    },
    "papermill": {
     "duration": 0.022444,
     "end_time": "2023-04-05T20:04:59.549348",
     "exception": false,
     "start_time": "2023-04-05T20:04:59.526904",
     "status": "completed"
    },
    "tags": []
   },
   "outputs": [
    {
     "data": {
      "application/javascript": [
       "parent.postMessage({\"jupyterEvent\": \"custom.exercise_interaction\", \"data\": {\"interactionType\": 2, \"questionType\": 2, \"questionId\": \"2_VariableSwap\", \"learnToolsVersion\": \"0.3.4\", \"valueTowardsCompletion\": 0.0, \"failureMessage\": \"\", \"exceptionClass\": \"\", \"trace\": \"\", \"outcomeType\": 4}}, \"*\")"
      ],
      "text/plain": [
       "<IPython.core.display.Javascript object>"
      ]
     },
     "metadata": {},
     "output_type": "display_data"
    },
    {
     "data": {
      "text/markdown": [
       "<span style=\"color:#3366cc\">Hint:</span> Try using a third variable."
      ],
      "text/plain": [
       "Hint: Try using a third variable."
      ]
     },
     "metadata": {},
     "output_type": "display_data"
    }
   ],
   "source": [
    "q2.hint()"
   ]
  },
  {
   "cell_type": "code",
   "execution_count": 10,
   "id": "580d7b96",
   "metadata": {
    "execution": {
     "iopub.execute_input": "2023-04-05T20:04:59.568429Z",
     "iopub.status.busy": "2023-04-05T20:04:59.567999Z",
     "iopub.status.idle": "2023-04-05T20:04:59.573442Z",
     "shell.execute_reply": "2023-04-05T20:04:59.572047Z"
    },
    "papermill": {
     "duration": 0.018054,
     "end_time": "2023-04-05T20:04:59.576039",
     "exception": false,
     "start_time": "2023-04-05T20:04:59.557985",
     "status": "completed"
    },
    "tags": []
   },
   "outputs": [],
   "source": [
    "#q2.solution()"
   ]
  },
  {
   "cell_type": "markdown",
   "id": "6269600c",
   "metadata": {
    "papermill": {
     "duration": 0.00783,
     "end_time": "2023-04-05T20:04:59.592214",
     "exception": false,
     "start_time": "2023-04-05T20:04:59.584384",
     "status": "completed"
    },
    "tags": []
   },
   "source": [
    "<hr/>\n",
    "\n",
    "# 3a.\n",
    "\n",
    "Add parentheses to the following expression so that it evaluates to 1."
   ]
  },
  {
   "cell_type": "code",
   "execution_count": 11,
   "id": "bc4695ee",
   "metadata": {
    "execution": {
     "iopub.execute_input": "2023-04-05T20:04:59.612197Z",
     "iopub.status.busy": "2023-04-05T20:04:59.611743Z",
     "iopub.status.idle": "2023-04-05T20:04:59.619685Z",
     "shell.execute_reply": "2023-04-05T20:04:59.618007Z"
    },
    "papermill": {
     "duration": 0.021005,
     "end_time": "2023-04-05T20:04:59.622210",
     "exception": false,
     "start_time": "2023-04-05T20:04:59.601205",
     "status": "completed"
    },
    "tags": []
   },
   "outputs": [
    {
     "data": {
      "text/plain": [
       "1"
      ]
     },
     "execution_count": 11,
     "metadata": {},
     "output_type": "execute_result"
    }
   ],
   "source": [
    "(5 - 3) // 2"
   ]
  },
  {
   "cell_type": "code",
   "execution_count": 12,
   "id": "3204d337",
   "metadata": {
    "execution": {
     "iopub.execute_input": "2023-04-05T20:04:59.640952Z",
     "iopub.status.busy": "2023-04-05T20:04:59.640459Z",
     "iopub.status.idle": "2023-04-05T20:04:59.646637Z",
     "shell.execute_reply": "2023-04-05T20:04:59.644757Z"
    },
    "papermill": {
     "duration": 0.019042,
     "end_time": "2023-04-05T20:04:59.649614",
     "exception": false,
     "start_time": "2023-04-05T20:04:59.630572",
     "status": "completed"
    },
    "tags": []
   },
   "outputs": [],
   "source": [
    "#q3.a.hint()"
   ]
  },
  {
   "cell_type": "code",
   "execution_count": 13,
   "id": "e14067f7",
   "metadata": {
    "execution": {
     "iopub.execute_input": "2023-04-05T20:04:59.668445Z",
     "iopub.status.busy": "2023-04-05T20:04:59.668033Z",
     "iopub.status.idle": "2023-04-05T20:04:59.676137Z",
     "shell.execute_reply": "2023-04-05T20:04:59.675191Z"
    },
    "papermill": {
     "duration": 0.020065,
     "end_time": "2023-04-05T20:04:59.678402",
     "exception": false,
     "start_time": "2023-04-05T20:04:59.658337",
     "status": "completed"
    },
    "tags": []
   },
   "outputs": [
    {
     "data": {
      "application/javascript": [
       "parent.postMessage({\"jupyterEvent\": \"custom.exercise_interaction\", \"data\": {\"interactionType\": 3, \"questionType\": 4, \"questionId\": \"3.1_ArithmeticParensEasy\", \"learnToolsVersion\": \"0.3.4\", \"valueTowardsCompletion\": 0.0, \"failureMessage\": \"\", \"exceptionClass\": \"\", \"trace\": \"\", \"outcomeType\": 4}}, \"*\")"
      ],
      "text/plain": [
       "<IPython.core.display.Javascript object>"
      ]
     },
     "metadata": {},
     "output_type": "display_data"
    },
    {
     "data": {
      "text/markdown": [
       "<span style=\"color:#33cc99\">Solution:</span> \n",
       "```python\n",
       "(5 - 3) // 2\n",
       "```"
      ],
      "text/plain": [
       "Solution: \n",
       "```python\n",
       "(5 - 3) // 2\n",
       "```"
      ]
     },
     "metadata": {},
     "output_type": "display_data"
    }
   ],
   "source": [
    "# Check your answer (Run this code cell to receive credit!)\n",
    "q3.a.solution()"
   ]
  },
  {
   "cell_type": "markdown",
   "id": "ec767276",
   "metadata": {
    "papermill": {
     "duration": 0.008348,
     "end_time": "2023-04-05T20:04:59.695609",
     "exception": false,
     "start_time": "2023-04-05T20:04:59.687261",
     "status": "completed"
    },
    "tags": []
   },
   "source": [
    "# 3b.  <span title=\"A bit spicy\" style=\"color: darkgreen \">🌶️</span>\n",
    "\n",
    "<small>Questions, like this one, marked a spicy pepper are a bit harder.</small>\n",
    "\n",
    "Add parentheses to the following expression so that it evaluates to 0."
   ]
  },
  {
   "cell_type": "code",
   "execution_count": 14,
   "id": "f5d6b045",
   "metadata": {
    "execution": {
     "iopub.execute_input": "2023-04-05T20:04:59.716677Z",
     "iopub.status.busy": "2023-04-05T20:04:59.716213Z",
     "iopub.status.idle": "2023-04-05T20:04:59.723701Z",
     "shell.execute_reply": "2023-04-05T20:04:59.722510Z"
    },
    "papermill": {
     "duration": 0.020386,
     "end_time": "2023-04-05T20:04:59.726038",
     "exception": false,
     "start_time": "2023-04-05T20:04:59.705652",
     "status": "completed"
    },
    "tags": []
   },
   "outputs": [
    {
     "data": {
      "text/plain": [
       "0"
      ]
     },
     "execution_count": 14,
     "metadata": {},
     "output_type": "execute_result"
    }
   ],
   "source": [
    "(8 -3 )* (2 - (1 + 1))"
   ]
  },
  {
   "cell_type": "code",
   "execution_count": 15,
   "id": "62846fdc",
   "metadata": {
    "execution": {
     "iopub.execute_input": "2023-04-05T20:04:59.746862Z",
     "iopub.status.busy": "2023-04-05T20:04:59.745783Z",
     "iopub.status.idle": "2023-04-05T20:04:59.751883Z",
     "shell.execute_reply": "2023-04-05T20:04:59.750359Z"
    },
    "papermill": {
     "duration": 0.01986,
     "end_time": "2023-04-05T20:04:59.754597",
     "exception": false,
     "start_time": "2023-04-05T20:04:59.734737",
     "status": "completed"
    },
    "tags": []
   },
   "outputs": [],
   "source": [
    "#q3.b.hint()"
   ]
  },
  {
   "cell_type": "code",
   "execution_count": 16,
   "id": "82217d7b",
   "metadata": {
    "execution": {
     "iopub.execute_input": "2023-04-05T20:04:59.773908Z",
     "iopub.status.busy": "2023-04-05T20:04:59.773498Z",
     "iopub.status.idle": "2023-04-05T20:04:59.783489Z",
     "shell.execute_reply": "2023-04-05T20:04:59.782350Z"
    },
    "papermill": {
     "duration": 0.022347,
     "end_time": "2023-04-05T20:04:59.785833",
     "exception": false,
     "start_time": "2023-04-05T20:04:59.763486",
     "status": "completed"
    },
    "tags": []
   },
   "outputs": [
    {
     "data": {
      "application/javascript": [
       "parent.postMessage({\"jupyterEvent\": \"custom.exercise_interaction\", \"data\": {\"interactionType\": 3, \"questionType\": 4, \"questionId\": \"3.2_ArithmeticParensHard\", \"learnToolsVersion\": \"0.3.4\", \"valueTowardsCompletion\": 0.0, \"failureMessage\": \"\", \"exceptionClass\": \"\", \"trace\": \"\", \"outcomeType\": 4}}, \"*\")"
      ],
      "text/plain": [
       "<IPython.core.display.Javascript object>"
      ]
     },
     "metadata": {},
     "output_type": "display_data"
    },
    {
     "data": {
      "text/markdown": [
       "<span style=\"color:#33cc99\">Solution:</span> `(8 - 3) * (2 - (1 + 1))` is one solution. There may be others."
      ],
      "text/plain": [
       "Solution: `(8 - 3) * (2 - (1 + 1))` is one solution. There may be others."
      ]
     },
     "metadata": {},
     "output_type": "display_data"
    }
   ],
   "source": [
    "# Check your answer (Run this code cell to receive credit!)\n",
    "q3.b.solution()"
   ]
  },
  {
   "cell_type": "markdown",
   "id": "6c0f1c3a",
   "metadata": {
    "papermill": {
     "duration": 0.009238,
     "end_time": "2023-04-05T20:04:59.804028",
     "exception": false,
     "start_time": "2023-04-05T20:04:59.794790",
     "status": "completed"
    },
    "tags": []
   },
   "source": [
    "<hr/>\n",
    "\n",
    "# 4. \n",
    "Alice, Bob and Carol have agreed to pool their Halloween candy and split it evenly among themselves.\n",
    "For the sake of their friendship, any candies left over will be smashed. For example, if they collectively\n",
    "bring home 91 candies, they'll take 30 each and smash 1.\n",
    "\n",
    "Write an arithmetic expression below to calculate how many candies they must smash for a given haul."
   ]
  },
  {
   "cell_type": "code",
   "execution_count": 17,
   "id": "4636fab0",
   "metadata": {
    "execution": {
     "iopub.execute_input": "2023-04-05T20:04:59.824605Z",
     "iopub.status.busy": "2023-04-05T20:04:59.824192Z",
     "iopub.status.idle": "2023-04-05T20:04:59.833420Z",
     "shell.execute_reply": "2023-04-05T20:04:59.832528Z"
    },
    "papermill": {
     "duration": 0.022737,
     "end_time": "2023-04-05T20:04:59.835742",
     "exception": false,
     "start_time": "2023-04-05T20:04:59.813005",
     "status": "completed"
    },
    "tags": []
   },
   "outputs": [
    {
     "data": {
      "application/javascript": [
       "parent.postMessage({\"jupyterEvent\": \"custom.exercise_interaction\", \"data\": {\"outcomeType\": 1, \"valueTowardsCompletion\": 0.25, \"interactionType\": 1, \"questionType\": 1, \"questionId\": \"4_CandySplitting\", \"learnToolsVersion\": \"0.3.4\", \"failureMessage\": \"\", \"exceptionClass\": \"\", \"trace\": \"\"}}, \"*\")"
      ],
      "text/plain": [
       "<IPython.core.display.Javascript object>"
      ]
     },
     "metadata": {},
     "output_type": "display_data"
    },
    {
     "data": {
      "text/markdown": [
       "<span style=\"color:#33cc33\">Correct</span>"
      ],
      "text/plain": [
       "Correct"
      ]
     },
     "metadata": {},
     "output_type": "display_data"
    }
   ],
   "source": [
    "# Variables representing the number of candies collected by alice, bob, and carol\n",
    "alice_candies = 121\n",
    "bob_candies = 77\n",
    "carol_candies = 109\n",
    "\n",
    "# Your code goes here! Replace the right-hand side of this assignment with an expression\n",
    "# involving alice_candies, bob_candies, and carol_candies\n",
    "to_smash = -1\n",
    "to_smash = (alice_candies + bob_candies + carol_candies) % 3\n",
    "# Check your answer\n",
    "q4.check()"
   ]
  },
  {
   "cell_type": "code",
   "execution_count": 18,
   "id": "8a032f98",
   "metadata": {
    "execution": {
     "iopub.execute_input": "2023-04-05T20:04:59.856467Z",
     "iopub.status.busy": "2023-04-05T20:04:59.856034Z",
     "iopub.status.idle": "2023-04-05T20:04:59.860661Z",
     "shell.execute_reply": "2023-04-05T20:04:59.859640Z"
    },
    "papermill": {
     "duration": 0.018312,
     "end_time": "2023-04-05T20:04:59.863386",
     "exception": false,
     "start_time": "2023-04-05T20:04:59.845074",
     "status": "completed"
    },
    "tags": []
   },
   "outputs": [],
   "source": [
    "#q4.hint()\n",
    "#q4.solution()"
   ]
  },
  {
   "cell_type": "markdown",
   "id": "1f46a19a",
   "metadata": {
    "papermill": {
     "duration": 0.008899,
     "end_time": "2023-04-05T20:04:59.881514",
     "exception": false,
     "start_time": "2023-04-05T20:04:59.872615",
     "status": "completed"
    },
    "tags": []
   },
   "source": [
    "# Keep Going\n",
    "\n",
    "Next up, you'll **[learn to write new functions and understand functions others write](https://www.kaggle.com/colinmorris/functions-and-getting-help)**. This will make you at least 10 times more productive as a Python programmer. "
   ]
  },
  {
   "cell_type": "markdown",
   "id": "2f92a669",
   "metadata": {
    "papermill": {
     "duration": 0.009948,
     "end_time": "2023-04-05T20:04:59.901036",
     "exception": false,
     "start_time": "2023-04-05T20:04:59.891088",
     "status": "completed"
    },
    "tags": []
   },
   "source": [
    "---\n",
    "\n",
    "\n",
    "\n",
    "\n",
    "*Have questions or comments? Visit the [course discussion forum](https://www.kaggle.com/learn/python/discussion) to chat with other learners.*"
   ]
  }
 ],
 "metadata": {
  "kernelspec": {
   "display_name": "Python 3",
   "language": "python",
   "name": "python3"
  },
  "language_info": {
   "codemirror_mode": {
    "name": "ipython",
    "version": 3
   },
   "file_extension": ".py",
   "mimetype": "text/x-python",
   "name": "python",
   "nbconvert_exporter": "python",
   "pygments_lexer": "ipython3",
   "version": "3.7.12"
  },
  "papermill": {
   "default_parameters": {},
   "duration": 12.889236,
   "end_time": "2023-04-05T20:05:00.633650",
   "environment_variables": {},
   "exception": null,
   "input_path": "__notebook__.ipynb",
   "output_path": "__notebook__.ipynb",
   "parameters": {},
   "start_time": "2023-04-05T20:04:47.744414",
   "version": "2.4.0"
  }
 },
 "nbformat": 4,
 "nbformat_minor": 5
}
