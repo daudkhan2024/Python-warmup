{
 "cells": [
  {
   "cell_type": "markdown",
   "id": "9a4f54e8",
   "metadata": {
    "papermill": {
     "duration": 0.006258,
     "end_time": "2023-04-05T20:55:41.275034",
     "exception": false,
     "start_time": "2023-04-05T20:55:41.268776",
     "status": "completed"
    },
    "tags": []
   },
   "source": [
    "**This notebook is an exercise in the [Python](https://www.kaggle.com/learn/python) course.  You can reference the tutorial at [this link](https://www.kaggle.com/colinmorris/functions-and-getting-help).**\n",
    "\n",
    "---\n"
   ]
  },
  {
   "cell_type": "markdown",
   "id": "708689bf",
   "metadata": {
    "papermill": {
     "duration": 0.00454,
     "end_time": "2023-04-05T20:55:41.284767",
     "exception": false,
     "start_time": "2023-04-05T20:55:41.280227",
     "status": "completed"
    },
    "tags": []
   },
   "source": [
    "Functions are powerful. Try writing some yourself.\n",
    "\n",
    "As before, don't forget to run the setup code below before jumping into question 1."
   ]
  },
  {
   "cell_type": "code",
   "execution_count": 1,
   "id": "55d38a15",
   "metadata": {
    "_kg_hide-input": true,
    "_kg_hide-output": true,
    "execution": {
     "iopub.execute_input": "2023-04-05T20:55:41.297030Z",
     "iopub.status.busy": "2023-04-05T20:55:41.296356Z",
     "iopub.status.idle": "2023-04-05T20:55:41.347748Z",
     "shell.execute_reply": "2023-04-05T20:55:41.346600Z"
    },
    "papermill": {
     "duration": 0.060455,
     "end_time": "2023-04-05T20:55:41.350437",
     "exception": false,
     "start_time": "2023-04-05T20:55:41.289982",
     "status": "completed"
    },
    "tags": []
   },
   "outputs": [
    {
     "name": "stdout",
     "output_type": "stream",
     "text": [
      "Setup complete.\n"
     ]
    }
   ],
   "source": [
    "# SETUP. You don't need to worry for now about what this code does or how it works.\n",
    "from learntools.core import binder; binder.bind(globals())\n",
    "from learntools.python.ex2 import *\n",
    "print('Setup complete.')"
   ]
  },
  {
   "cell_type": "markdown",
   "id": "0657ae97",
   "metadata": {
    "papermill": {
     "duration": 0.005265,
     "end_time": "2023-04-05T20:55:41.361060",
     "exception": false,
     "start_time": "2023-04-05T20:55:41.355795",
     "status": "completed"
    },
    "tags": []
   },
   "source": [
    "# 1.\n",
    "\n",
    "Complete the body of the following function according to its docstring.\n",
    "\n",
    "HINT: Python has a built-in function `round`."
   ]
  },
  {
   "cell_type": "code",
   "execution_count": 2,
   "id": "1a4fa0d3",
   "metadata": {
    "execution": {
     "iopub.execute_input": "2023-04-05T20:55:41.373395Z",
     "iopub.status.busy": "2023-04-05T20:55:41.372948Z",
     "iopub.status.idle": "2023-04-05T20:55:41.383488Z",
     "shell.execute_reply": "2023-04-05T20:55:41.382495Z"
    },
    "papermill": {
     "duration": 0.019828,
     "end_time": "2023-04-05T20:55:41.385939",
     "exception": false,
     "start_time": "2023-04-05T20:55:41.366111",
     "status": "completed"
    },
    "tags": []
   },
   "outputs": [
    {
     "data": {
      "application/javascript": [
       "parent.postMessage({\"jupyterEvent\": \"custom.exercise_interaction\", \"data\": {\"outcomeType\": 1, \"valueTowardsCompletion\": 0.16666666666666666, \"interactionType\": 1, \"questionType\": 2, \"questionId\": \"1_RoundFunctionProblem\", \"learnToolsVersion\": \"0.3.4\", \"failureMessage\": \"\", \"exceptionClass\": \"\", \"trace\": \"\"}}, \"*\")"
      ],
      "text/plain": [
       "<IPython.core.display.Javascript object>"
      ]
     },
     "metadata": {},
     "output_type": "display_data"
    },
    {
     "data": {
      "text/markdown": [
       "<span style=\"color:#33cc33\">Correct</span>"
      ],
      "text/plain": [
       "Correct"
      ]
     },
     "metadata": {},
     "output_type": "display_data"
    }
   ],
   "source": [
    "def round_to_two_places(num):\n",
    "    \"\"\"Return the given number rounded to two decimal places. \n",
    "    \n",
    "    >>> round_to_two_places(3.14159)\n",
    "    3.14\n",
    "    \"\"\"\n",
    "    return round(num,2)\n",
    "    # Replace this body with your own code.\n",
    "    # (\"pass\" is a keyword that does literally nothing. We used it as a placeholder\n",
    "    # because after we begin a code block, Python requires at least one line of code)\n",
    "    pass\n",
    "\n",
    "# Check your answer\n",
    "q1.check()"
   ]
  },
  {
   "cell_type": "code",
   "execution_count": 3,
   "id": "27ede5ce",
   "metadata": {
    "execution": {
     "iopub.execute_input": "2023-04-05T20:55:41.399450Z",
     "iopub.status.busy": "2023-04-05T20:55:41.398739Z",
     "iopub.status.idle": "2023-04-05T20:55:41.403749Z",
     "shell.execute_reply": "2023-04-05T20:55:41.402277Z"
    },
    "papermill": {
     "duration": 0.014678,
     "end_time": "2023-04-05T20:55:41.406591",
     "exception": false,
     "start_time": "2023-04-05T20:55:41.391913",
     "status": "completed"
    },
    "tags": []
   },
   "outputs": [],
   "source": [
    "# Uncomment the following for a hint\n",
    "#q1.hint()\n",
    "# Or uncomment the following to peek at the solution\n",
    "#q1.solution()"
   ]
  },
  {
   "cell_type": "markdown",
   "id": "962dff66",
   "metadata": {
    "papermill": {
     "duration": 0.005039,
     "end_time": "2023-04-05T20:55:41.417075",
     "exception": false,
     "start_time": "2023-04-05T20:55:41.412036",
     "status": "completed"
    },
    "tags": []
   },
   "source": [
    "# 2.\n",
    "The help for `round` says that `ndigits` (the second argument) may be negative.\n",
    "What do you think will happen when it is? Try some examples in the following cell."
   ]
  },
  {
   "cell_type": "code",
   "execution_count": 4,
   "id": "27763591",
   "metadata": {
    "execution": {
     "iopub.execute_input": "2023-04-05T20:55:41.429708Z",
     "iopub.status.busy": "2023-04-05T20:55:41.429285Z",
     "iopub.status.idle": "2023-04-05T20:55:41.434953Z",
     "shell.execute_reply": "2023-04-05T20:55:41.433338Z"
    },
    "papermill": {
     "duration": 0.015278,
     "end_time": "2023-04-05T20:55:41.437622",
     "exception": false,
     "start_time": "2023-04-05T20:55:41.422344",
     "status": "completed"
    },
    "tags": []
   },
   "outputs": [],
   "source": [
    "ndigits=-1 # Put your test code here"
   ]
  },
  {
   "cell_type": "markdown",
   "id": "a51c48b1",
   "metadata": {
    "papermill": {
     "duration": 0.004945,
     "end_time": "2023-04-05T20:55:41.447865",
     "exception": false,
     "start_time": "2023-04-05T20:55:41.442920",
     "status": "completed"
    },
    "tags": []
   },
   "source": [
    "Can you think of a case where this would be useful?  Once you're ready, run the code cell below to see the answer and to receive credit for completing the problem."
   ]
  },
  {
   "cell_type": "code",
   "execution_count": 5,
   "id": "d2945c74",
   "metadata": {
    "execution": {
     "iopub.execute_input": "2023-04-05T20:55:41.460266Z",
     "iopub.status.busy": "2023-04-05T20:55:41.459861Z",
     "iopub.status.idle": "2023-04-05T20:55:41.464460Z",
     "shell.execute_reply": "2023-04-05T20:55:41.463148Z"
    },
    "papermill": {
     "duration": 0.01382,
     "end_time": "2023-04-05T20:55:41.466934",
     "exception": false,
     "start_time": "2023-04-05T20:55:41.453114",
     "status": "completed"
    },
    "tags": []
   },
   "outputs": [],
   "source": [
    "# Check your answer (Run this code cell to receive credit!)\n",
    "#q2.solution()"
   ]
  },
  {
   "cell_type": "markdown",
   "id": "89414259",
   "metadata": {
    "papermill": {
     "duration": 0.004861,
     "end_time": "2023-04-05T20:55:41.477121",
     "exception": false,
     "start_time": "2023-04-05T20:55:41.472260",
     "status": "completed"
    },
    "tags": []
   },
   "source": [
    "# 3.\n",
    "\n",
    "In the previous exercise, the candy-sharing friends Alice, Bob and Carol tried to split candies evenly. For the sake of their friendship, any candies left over would be smashed. For example, if they collectively bring home 91 candies, they'll take 30 each and smash 1.\n",
    "\n",
    "Below is a simple function that will calculate the number of candies to smash for *any* number of total candies.\n",
    "\n",
    "Modify it so that it optionally takes a second argument representing the number of friends the candies are being split between. If no second argument is provided, it should assume 3 friends, as before.\n",
    "\n",
    "Update the docstring to reflect this new behaviour."
   ]
  },
  {
   "cell_type": "code",
   "execution_count": 6,
   "id": "c701fdfc",
   "metadata": {
    "execution": {
     "iopub.execute_input": "2023-04-05T20:55:41.489328Z",
     "iopub.status.busy": "2023-04-05T20:55:41.488898Z",
     "iopub.status.idle": "2023-04-05T20:55:41.499078Z",
     "shell.execute_reply": "2023-04-05T20:55:41.498041Z"
    },
    "papermill": {
     "duration": 0.019225,
     "end_time": "2023-04-05T20:55:41.501473",
     "exception": false,
     "start_time": "2023-04-05T20:55:41.482248",
     "status": "completed"
    },
    "tags": []
   },
   "outputs": [
    {
     "data": {
      "application/javascript": [
       "parent.postMessage({\"jupyterEvent\": \"custom.exercise_interaction\", \"data\": {\"outcomeType\": 1, \"valueTowardsCompletion\": 0.16666666666666666, \"interactionType\": 1, \"questionType\": 2, \"questionId\": \"3_CandySmashingFunctionProblem\", \"learnToolsVersion\": \"0.3.4\", \"failureMessage\": \"\", \"exceptionClass\": \"\", \"trace\": \"\"}}, \"*\")"
      ],
      "text/plain": [
       "<IPython.core.display.Javascript object>"
      ]
     },
     "metadata": {},
     "output_type": "display_data"
    },
    {
     "data": {
      "text/markdown": [
       "<span style=\"color:#33cc33\">Correct</span>"
      ],
      "text/plain": [
       "Correct"
      ]
     },
     "metadata": {},
     "output_type": "display_data"
    }
   ],
   "source": [
    "def to_smash(total_candies ,n_friends = 3):\n",
    "    \"\"\"Return the number of leftover candies that must be smashed after distributing\n",
    "    the given number of candies evenly between 3 friends.\n",
    "    \n",
    "    >>> to_smash(91)\n",
    "    1\n",
    "    \"\"\"\n",
    "    \n",
    "    return total_candies % n_friends\n",
    "\n",
    "# Check your answer\n",
    "q3.check()"
   ]
  },
  {
   "cell_type": "code",
   "execution_count": 7,
   "id": "ce9e7794",
   "metadata": {
    "execution": {
     "iopub.execute_input": "2023-04-05T20:55:41.514343Z",
     "iopub.status.busy": "2023-04-05T20:55:41.513948Z",
     "iopub.status.idle": "2023-04-05T20:55:41.518838Z",
     "shell.execute_reply": "2023-04-05T20:55:41.517582Z"
    },
    "papermill": {
     "duration": 0.014291,
     "end_time": "2023-04-05T20:55:41.521171",
     "exception": false,
     "start_time": "2023-04-05T20:55:41.506880",
     "status": "completed"
    },
    "tags": []
   },
   "outputs": [],
   "source": [
    "#q3.hint()"
   ]
  },
  {
   "cell_type": "code",
   "execution_count": 8,
   "id": "9040207e",
   "metadata": {
    "execution": {
     "iopub.execute_input": "2023-04-05T20:55:41.533792Z",
     "iopub.status.busy": "2023-04-05T20:55:41.533406Z",
     "iopub.status.idle": "2023-04-05T20:55:41.538608Z",
     "shell.execute_reply": "2023-04-05T20:55:41.537232Z"
    },
    "papermill": {
     "duration": 0.014561,
     "end_time": "2023-04-05T20:55:41.541190",
     "exception": false,
     "start_time": "2023-04-05T20:55:41.526629",
     "status": "completed"
    },
    "tags": []
   },
   "outputs": [],
   "source": [
    "#q3.solution()"
   ]
  },
  {
   "cell_type": "markdown",
   "id": "231991f2",
   "metadata": {
    "papermill": {
     "duration": 0.005104,
     "end_time": "2023-04-05T20:55:41.552974",
     "exception": false,
     "start_time": "2023-04-05T20:55:41.547870",
     "status": "completed"
    },
    "tags": []
   },
   "source": [
    "# 4. (Optional)\n",
    "\n",
    "It may not be fun, but reading and understanding error messages will be an important part of your Python career.\n",
    "\n",
    "Each code cell below contains some commented buggy code. For each cell...\n",
    "\n",
    "1. Read the code and predict what you think will happen when it's run.\n",
    "2. Then uncomment the code and run it to see what happens. (**Tip**: In the kernel editor, you can highlight several lines and press `ctrl`+`/` to toggle commenting.)\n",
    "3. Fix the code (so that it accomplishes its intended purpose without throwing an exception)\n",
    "\n",
    "<!-- TODO: should this be autochecked? Delta is probably pretty small. -->"
   ]
  },
  {
   "cell_type": "code",
   "execution_count": 9,
   "id": "7571dccb",
   "metadata": {
    "execution": {
     "iopub.execute_input": "2023-04-05T20:55:41.566357Z",
     "iopub.status.busy": "2023-04-05T20:55:41.565134Z",
     "iopub.status.idle": "2023-04-05T20:55:41.573705Z",
     "shell.execute_reply": "2023-04-05T20:55:41.572302Z"
    },
    "papermill": {
     "duration": 0.017845,
     "end_time": "2023-04-05T20:55:41.576195",
     "exception": false,
     "start_time": "2023-04-05T20:55:41.558350",
     "status": "completed"
    },
    "tags": []
   },
   "outputs": [
    {
     "data": {
      "text/plain": [
       "10.0"
      ]
     },
     "execution_count": 9,
     "metadata": {},
     "output_type": "execute_result"
    }
   ],
   "source": [
    "  round_to_two_places(9.9999)\n",
    " \n",
    "     "
   ]
  },
  {
   "cell_type": "code",
   "execution_count": 10,
   "id": "7846a0a1",
   "metadata": {
    "execution": {
     "iopub.execute_input": "2023-04-05T20:55:41.589167Z",
     "iopub.status.busy": "2023-04-05T20:55:41.588735Z",
     "iopub.status.idle": "2023-04-05T20:55:41.594408Z",
     "shell.execute_reply": "2023-04-05T20:55:41.593255Z"
    },
    "papermill": {
     "duration": 0.015011,
     "end_time": "2023-04-05T20:55:41.596779",
     "exception": false,
     "start_time": "2023-04-05T20:55:41.581768",
     "status": "completed"
    },
    "tags": []
   },
   "outputs": [],
   "source": [
    "#def smallest_abs(x,y):\n",
    "def smallest_abs(a,b):\n",
    "    i1 = abs(a)\n",
    "    i2 = abs(b)\n",
    "    return min(i1,i2)\n",
    "# # Which of the two variables above has the smallest absolute value?\n"
   ]
  },
  {
   "cell_type": "code",
   "execution_count": 11,
   "id": "45340cf8",
   "metadata": {
    "execution": {
     "iopub.execute_input": "2023-04-05T20:55:41.609721Z",
     "iopub.status.busy": "2023-04-05T20:55:41.609333Z",
     "iopub.status.idle": "2023-04-05T20:55:41.616004Z",
     "shell.execute_reply": "2023-04-05T20:55:41.614327Z"
    },
    "papermill": {
     "duration": 0.015926,
     "end_time": "2023-04-05T20:55:41.618401",
     "exception": false,
     "start_time": "2023-04-05T20:55:41.602475",
     "status": "completed"
    },
    "tags": []
   },
   "outputs": [
    {
     "name": "stdout",
     "output_type": "stream",
     "text": [
      "5\n"
     ]
    }
   ],
   "source": [
    " def f(x):\n",
    "    y = abs(x)\n",
    "    return y\n",
    "\n",
    " print(f(5))"
   ]
  },
  {
   "cell_type": "markdown",
   "id": "c5883861",
   "metadata": {
    "papermill": {
     "duration": 0.005526,
     "end_time": "2023-04-05T20:55:41.629646",
     "exception": false,
     "start_time": "2023-04-05T20:55:41.624120",
     "status": "completed"
    },
    "tags": []
   },
   "source": [
    "# Keep Going\n",
    "\n",
    "Nice job with the code. Next up, you'll learn about *conditionals*, which you'll need to **[write interesting programs](https://www.kaggle.com/colinmorris/booleans-and-conditionals)**. "
   ]
  },
  {
   "cell_type": "markdown",
   "id": "1bc93d94",
   "metadata": {
    "papermill": {
     "duration": 0.00528,
     "end_time": "2023-04-05T20:55:41.640578",
     "exception": false,
     "start_time": "2023-04-05T20:55:41.635298",
     "status": "completed"
    },
    "tags": []
   },
   "source": [
    "---\n",
    "\n",
    "\n",
    "\n",
    "\n",
    "*Have questions or comments? Visit the [course discussion forum](https://www.kaggle.com/learn/python/discussion) to chat with other learners.*"
   ]
  }
 ],
 "metadata": {
  "kernelspec": {
   "display_name": "Python 3",
   "language": "python",
   "name": "python3"
  },
  "language_info": {
   "codemirror_mode": {
    "name": "ipython",
    "version": 3
   },
   "file_extension": ".py",
   "mimetype": "text/x-python",
   "name": "python",
   "nbconvert_exporter": "python",
   "pygments_lexer": "ipython3",
   "version": "3.7.12"
  },
  "papermill": {
   "default_parameters": {},
   "duration": 11.757176,
   "end_time": "2023-04-05T20:55:42.370137",
   "environment_variables": {},
   "exception": null,
   "input_path": "__notebook__.ipynb",
   "output_path": "__notebook__.ipynb",
   "parameters": {},
   "start_time": "2023-04-05T20:55:30.612961",
   "version": "2.4.0"
  }
 },
 "nbformat": 4,
 "nbformat_minor": 5
}
